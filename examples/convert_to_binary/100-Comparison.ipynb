{
 "cells": [
  {
   "cell_type": "markdown",
   "metadata": {
    "id": "psZRdVZsQIoJ"
   },
   "source": [
    "## METHODS COMPARISON USING CIFAR100 WITH 100 CLASSES - BINARY"
   ]
  },
  {
   "cell_type": "markdown",
   "metadata": {
    "id": "HQJCf_NuQIoL"
   },
   "source": [
    "On this file, the logistic regression proccess is done in order to compare it with the results of the Structure Predictions package. \\\n",
    "We find out that there are some considerable differences. "
   ]
  },
  {
   "cell_type": "markdown",
   "metadata": {
    "id": "PKUuPFyzQIoM"
   },
   "source": [
    "For this exercice we use the CIFAR100 dataset provided by Keras. This is a dataset of 50,000 32x32 color training images and 10,000 test images, labeled over 100 fine-grained classes that are grouped into 20 coarse-grained classes. "
   ]
  },
  {
   "cell_type": "code",
   "execution_count": 1,
   "metadata": {
    "id": "EUFbm0flQIoM"
   },
   "outputs": [],
   "source": [
    "from sklearn import metrics"
   ]
  },
  {
   "cell_type": "code",
   "execution_count": 2,
   "metadata": {
    "colab": {
     "base_uri": "https://localhost:8080/"
    },
    "id": "V_lE4u3WQIoN",
    "outputId": "b1651737-c783-42cd-86f3-7ab2afe895aa"
   },
   "outputs": [
    {
     "name": "stderr",
     "output_type": "stream",
     "text": [
      "2022-09-27 22:18:57.112707: I tensorflow/core/platform/cpu_feature_guard.cc:193] This TensorFlow binary is optimized with oneAPI Deep Neural Network Library (oneDNN) to use the following CPU instructions in performance-critical operations:  AVX2 FMA\n",
      "To enable them in other operations, rebuild TensorFlow with the appropriate compiler flags.\n"
     ]
    },
    {
     "name": "stdout",
     "output_type": "stream",
     "text": [
      "Downloading data from https://www.cs.toronto.edu/~kriz/cifar-100-python.tar.gz\n",
      "169001437/169001437 [==============================] - 7s 0us/step\n",
      "x_train shape: (50000, 32, 32, 3)\n",
      "x_test shape: (10000, 32, 32, 3)\n",
      "y_train shape: (50000, 1)\n",
      "y_test shape: (10000, 1)\n",
      "50000 train samples\n",
      "10000 test samples\n",
      "<class 'numpy.ndarray'>\n",
      "<class 'numpy.ndarray'>\n"
     ]
    }
   ],
   "source": [
    "from keras.datasets import cifar100\n",
    "import matplotlib.pyplot as plt\n",
    "import numpy as np\n",
    "\n",
    "import time\n",
    "\n",
    "\n",
    "# Download dataset of CIFAR-100 (Canadian Institute for Advanced Research)\n",
    "(X_train,Y_train),(X_test,Y_test) = cifar100.load_data()\n",
    " \n",
    "# Check the shape of the array\n",
    "print('x_train shape:', X_train.shape)\n",
    "print('x_test shape:', X_test.shape)\n",
    "print('y_train shape:', Y_train.shape)\n",
    "print('y_test shape:', Y_test.shape)\n",
    " \n",
    "# Number of data set samples \n",
    "print(X_train.shape[0], 'train samples')\n",
    "print(X_test.shape[0], 'test samples')\n",
    " \n",
    "# Data format confirmation\n",
    "print(type(X_test))\n",
    "print(type(Y_test[0]))"
   ]
  },
  {
   "cell_type": "markdown",
   "metadata": {
    "id": "PDWZvWVYQIoO"
   },
   "source": [
    "### Organizing data"
   ]
  },
  {
   "cell_type": "markdown",
   "metadata": {
    "id": "jf4f3pzWQIoO"
   },
   "source": [
    "We just want the first 10 categories of the dataset, so that's why we create a new train dataset and test dataset with those labels as below"
   ]
  },
  {
   "cell_type": "code",
   "execution_count": 3,
   "metadata": {
    "colab": {
     "base_uri": "https://localhost:8080/"
    },
    "id": "V3qya57zQIoP",
    "outputId": "e7e2e995-501b-455b-df6e-553ca5f4093b"
   },
   "outputs": [
    {
     "name": "stdout",
     "output_type": "stream",
     "text": [
      "Number of records for 10 classes X train (50000, 32, 32, 3)\n",
      "Number of records for 10 classes X test (10000, 32, 32, 3)\n",
      "Number of records for 10 classes Y train (50000, 1)\n",
      "Number of records for 10 classes Y test (10000, 1)\n"
     ]
    }
   ],
   "source": [
    "print('Number of records for 10 classes X train',X_train.shape)\n",
    "print('Number of records for 10 classes X test',X_test.shape)\n",
    "print('Number of records for 10 classes Y train',Y_train.shape)\n",
    "print('Number of records for 10 classes Y test',Y_test.shape)"
   ]
  },
  {
   "cell_type": "code",
   "execution_count": 5,
   "metadata": {},
   "outputs": [
    {
     "data": {
      "text/plain": [
       "(50000, 32, 32, 3)"
      ]
     },
     "execution_count": 5,
     "metadata": {},
     "output_type": "execute_result"
    }
   ],
   "source": [
    "X_train.shape"
   ]
  },
  {
   "cell_type": "code",
   "execution_count": null,
   "metadata": {},
   "outputs": [],
   "source": []
  },
  {
   "cell_type": "code",
   "execution_count": 6,
   "metadata": {},
   "outputs": [],
   "source": [
    "#!/usr/bin/python\n",
    "import numpy as np\n",
    "\n",
    "a=np.array([6,1,5,0,2,8,5,2,7,4])\n",
    "b=np.array(np.zeros((10)))\n",
    "\n",
    "for i in range(10):\n",
    "    #b[i]=bin(int(a[i])).zfill(6)\n",
    "    b[i]=bin(int(a[i]))[2:].zfill(8)"
   ]
  },
  {
   "cell_type": "code",
   "execution_count": 6,
   "metadata": {},
   "outputs": [
    {
     "data": {
      "text/plain": [
       "array([ 110.,    1.,  101.,    0.,   10., 1000.,  101.,   10.,  111.,\n",
       "        100.])"
      ]
     },
     "execution_count": 6,
     "metadata": {},
     "output_type": "execute_result"
    }
   ],
   "source": [
    "b"
   ]
  },
  {
   "cell_type": "markdown",
   "metadata": {},
   "source": [
    "## Converting to binary all the data"
   ]
  },
  {
   "cell_type": "markdown",
   "metadata": {},
   "source": [
    "#### Binary for X_train"
   ]
  },
  {
   "cell_type": "code",
   "execution_count": 7,
   "metadata": {},
   "outputs": [],
   "source": [
    "X_train_flat=np.array(np.zeros((50000, 3072)))"
   ]
  },
  {
   "cell_type": "code",
   "execution_count": 8,
   "metadata": {},
   "outputs": [],
   "source": [
    "for i in range(X_train.shape[0]):\n",
    "    #X_train_flat[i]= X_train[i]\n",
    "    X_train_flat[i]= X_train[i].flatten()"
   ]
  },
  {
   "cell_type": "code",
   "execution_count": 9,
   "metadata": {},
   "outputs": [
    {
     "data": {
      "text/plain": [
       "(50000, 3072)"
      ]
     },
     "execution_count": 9,
     "metadata": {},
     "output_type": "execute_result"
    }
   ],
   "source": [
    "X_train_flat.shape"
   ]
  },
  {
   "cell_type": "code",
   "execution_count": 10,
   "metadata": {},
   "outputs": [
    {
     "data": {
      "text/plain": [
       "3072"
      ]
     },
     "execution_count": 10,
     "metadata": {},
     "output_type": "execute_result"
    }
   ],
   "source": [
    "len(X_train_flat[1])"
   ]
  },
  {
   "cell_type": "code",
   "execution_count": 11,
   "metadata": {},
   "outputs": [
    {
     "ename": "KeyboardInterrupt",
     "evalue": "",
     "output_type": "error",
     "traceback": [
      "\u001b[0;31m---------------------------------------------------------------------------\u001b[0m",
      "\u001b[0;31mKeyboardInterrupt\u001b[0m                         Traceback (most recent call last)",
      "Input \u001b[0;32mIn [11]\u001b[0m, in \u001b[0;36m<cell line: 6>\u001b[0;34m()\u001b[0m\n\u001b[1;32m      6\u001b[0m \u001b[38;5;28;01mfor\u001b[39;00m k \u001b[38;5;129;01min\u001b[39;00m \u001b[38;5;28mrange\u001b[39m(\u001b[38;5;241m50000\u001b[39m):\n\u001b[1;32m      7\u001b[0m    \u001b[38;5;28;01mfor\u001b[39;00m i \u001b[38;5;129;01min\u001b[39;00m \u001b[38;5;28mrange\u001b[39m(\u001b[38;5;241m3072\u001b[39m):\n\u001b[0;32m----> 8\u001b[0m       X_train_bin[k][i]\u001b[38;5;241m=\u001b[39m\u001b[38;5;28mbin\u001b[39m(\u001b[38;5;28mint\u001b[39m(X_train_flat[k][i]))[\u001b[38;5;241m2\u001b[39m:]\u001b[38;5;241m.\u001b[39mzfill(\u001b[38;5;241m8\u001b[39m)\n",
      "\u001b[0;31mKeyboardInterrupt\u001b[0m: "
     ]
    }
   ],
   "source": [
    "bbin_X_train1= np.array(np.zeros((3072)))\n",
    "bin_X_train1=X_train_flat[1]\n",
    "\n",
    "X_train_bin= np.array(np.zeros((50000, 3072)))\n",
    "\n",
    "for k in range(50000):\n",
    "   for i in range(3072):\n",
    "      X_train_bin[k][i]=bin(int(X_train_flat[k][i]))[2:].zfill(8)"
   ]
  },
  {
   "cell_type": "code",
   "execution_count": 12,
   "metadata": {},
   "outputs": [
    {
     "name": "stdout",
     "output_type": "stream",
     "text": [
      "decimal:  [255. 255. 255. ... 255. 255. 255.]  binary:  [11111111. 11111111. 11111111. ... 11111111. 11111111. 11111111.]\n"
     ]
    }
   ],
   "source": [
    "print(\"decimal: \", X_train_flat[1] , \" binary: \" , X_train_bin[1])"
   ]
  },
  {
   "cell_type": "code",
   "execution_count": 13,
   "metadata": {},
   "outputs": [
    {
     "data": {
      "text/plain": [
       "11111101.0"
      ]
     },
     "execution_count": 13,
     "metadata": {},
     "output_type": "execute_result"
    }
   ],
   "source": [
    "X_train_bin[1][4]"
   ]
  },
  {
   "cell_type": "markdown",
   "metadata": {},
   "source": [
    "### Binary for X test"
   ]
  },
  {
   "cell_type": "code",
   "execution_count": 14,
   "metadata": {},
   "outputs": [],
   "source": [
    "X_test_flat=np.array(np.zeros((10000, 3072)))"
   ]
  },
  {
   "cell_type": "code",
   "execution_count": 15,
   "metadata": {},
   "outputs": [],
   "source": [
    "for i in range(X_test.shape[0]):\n",
    "    #X_train_flat[i]= X_train[i]\n",
    "    X_test_flat[i]= X_test[i].flatten()"
   ]
  },
  {
   "cell_type": "code",
   "execution_count": 16,
   "metadata": {},
   "outputs": [
    {
     "data": {
      "text/plain": [
       "(10000, 3072)"
      ]
     },
     "execution_count": 16,
     "metadata": {},
     "output_type": "execute_result"
    }
   ],
   "source": [
    "X_test_flat.shape"
   ]
  },
  {
   "cell_type": "code",
   "execution_count": 17,
   "metadata": {},
   "outputs": [
    {
     "data": {
      "text/plain": [
       "3072"
      ]
     },
     "execution_count": 17,
     "metadata": {},
     "output_type": "execute_result"
    }
   ],
   "source": [
    "len(X_test_flat[1])"
   ]
  },
  {
   "cell_type": "code",
   "execution_count": 18,
   "metadata": {},
   "outputs": [],
   "source": [
    "X_test_bin= np.array(np.zeros((10000, 3072)))\n",
    "\n",
    "for k in range(10000):\n",
    "   for i in range(3072):\n",
    "      X_test_bin[k][i]=bin(int(X_test_flat[k][i]))[2:].zfill(8)"
   ]
  },
  {
   "cell_type": "code",
   "execution_count": 19,
   "metadata": {},
   "outputs": [
    {
     "name": "stdout",
     "output_type": "stream",
     "text": [
      "decimal:  [113. 130.  98. ...  84.  92.  67.]  binary:  [ 1110001. 10000010.  1100010. ...  1010100.  1011100.  1000011.]\n"
     ]
    }
   ],
   "source": [
    "print(\"decimal: \", X_test_flat[1] , \" binary: \" , X_test_bin[1])"
   ]
  },
  {
   "cell_type": "code",
   "execution_count": 20,
   "metadata": {},
   "outputs": [
    {
     "data": {
      "text/plain": [
       "(10000, 3072)"
      ]
     },
     "execution_count": 20,
     "metadata": {},
     "output_type": "execute_result"
    }
   ],
   "source": [
    "X_test_bin.shape"
   ]
  },
  {
   "cell_type": "markdown",
   "metadata": {},
   "source": [
    "### Binary for Y train"
   ]
  },
  {
   "cell_type": "code",
   "execution_count": 21,
   "metadata": {},
   "outputs": [],
   "source": [
    "Y_train_bin= np.array(np.zeros((50000, 1)))\n",
    "\n",
    "for k in range(50000):\n",
    "   Y_train_bin[k]=bin(int(Y_train[k]))[2:].zfill(8)"
   ]
  },
  {
   "cell_type": "code",
   "execution_count": 22,
   "metadata": {},
   "outputs": [
    {
     "name": "stdout",
     "output_type": "stream",
     "text": [
      "decimal:  [29]  binary:  [11101.]\n"
     ]
    }
   ],
   "source": [
    "print(\"decimal: \", Y_train[1] , \" binary: \" , Y_train_bin[1])"
   ]
  },
  {
   "cell_type": "code",
   "execution_count": 23,
   "metadata": {},
   "outputs": [
    {
     "data": {
      "text/plain": [
       "(50000, 1)"
      ]
     },
     "execution_count": 23,
     "metadata": {},
     "output_type": "execute_result"
    }
   ],
   "source": [
    "Y_train_bin.shape"
   ]
  },
  {
   "cell_type": "markdown",
   "metadata": {},
   "source": [
    "### Binary for Y test"
   ]
  },
  {
   "cell_type": "code",
   "execution_count": 24,
   "metadata": {},
   "outputs": [],
   "source": [
    "Y_test_bin= np.array(np.zeros(Y_test.shape))\n",
    "\n",
    "for k in range(Y_test.shape[0]):\n",
    "   Y_test_bin[k]=bin(int(Y_test[k]))[2:].zfill(8)"
   ]
  },
  {
   "cell_type": "code",
   "execution_count": 25,
   "metadata": {},
   "outputs": [
    {
     "name": "stdout",
     "output_type": "stream",
     "text": [
      "decimal:  [33]  binary:  [100001.]\n"
     ]
    }
   ],
   "source": [
    "print(\"decimal: \", Y_test[1] , \" binary: \" , Y_test_bin[1])"
   ]
  },
  {
   "cell_type": "code",
   "execution_count": 26,
   "metadata": {},
   "outputs": [
    {
     "data": {
      "text/plain": [
       "(10000, 1)"
      ]
     },
     "execution_count": 26,
     "metadata": {},
     "output_type": "execute_result"
    }
   ],
   "source": [
    "Y_test_bin.shape"
   ]
  },
  {
   "cell_type": "code",
   "execution_count": 29,
   "metadata": {
    "colab": {
     "base_uri": "https://localhost:8080/"
    },
    "id": "6QjHfIUTQIoP",
    "outputId": "21bc43ec-e2ba-4dd9-d137-48943db46be4"
   },
   "outputs": [
    {
     "name": "stdout",
     "output_type": "stream",
     "text": [
      "First 5 entries of X_train [[[[255 255 255]\n",
      "   [255 255 255]\n",
      "   [255 255 255]\n",
      "   ...\n",
      "   [195 205 193]\n",
      "   [212 224 204]\n",
      "   [182 194 167]]\n",
      "\n",
      "  [[255 255 255]\n",
      "   [254 254 254]\n",
      "   [254 254 254]\n",
      "   ...\n",
      "   [170 176 150]\n",
      "   [161 168 130]\n",
      "   [146 154 113]]\n",
      "\n",
      "  [[255 255 255]\n",
      "   [254 254 254]\n",
      "   [255 255 255]\n",
      "   ...\n",
      "   [189 199 169]\n",
      "   [166 178 130]\n",
      "   [121 133  87]]\n",
      "\n",
      "  ...\n",
      "\n",
      "  [[148 185  79]\n",
      "   [142 182  57]\n",
      "   [140 179  60]\n",
      "   ...\n",
      "   [ 30  17   1]\n",
      "   [ 65  62  15]\n",
      "   [ 76  77  20]]\n",
      "\n",
      "  [[122 157  66]\n",
      "   [120 155  58]\n",
      "   [126 160  71]\n",
      "   ...\n",
      "   [ 22  16   3]\n",
      "   [ 97 112  56]\n",
      "   [141 161  87]]\n",
      "\n",
      "  [[ 87 122  41]\n",
      "   [ 88 122  39]\n",
      "   [101 134  56]\n",
      "   ...\n",
      "   [ 34  36  10]\n",
      "   [105 133  59]\n",
      "   [138 173  79]]]\n",
      "\n",
      "\n",
      " [[[255 255 255]\n",
      "   [253 253 253]\n",
      "   [253 253 253]\n",
      "   ...\n",
      "   [253 253 253]\n",
      "   [253 253 253]\n",
      "   [255 255 255]]\n",
      "\n",
      "  [[255 255 255]\n",
      "   [255 255 255]\n",
      "   [255 255 255]\n",
      "   ...\n",
      "   [255 255 255]\n",
      "   [255 255 255]\n",
      "   [255 255 255]]\n",
      "\n",
      "  [[255 255 255]\n",
      "   [255 255 255]\n",
      "   [255 255 255]\n",
      "   ...\n",
      "   [255 255 255]\n",
      "   [255 255 255]\n",
      "   [255 255 255]]\n",
      "\n",
      "  ...\n",
      "\n",
      "  [[255 255 255]\n",
      "   [255 255 255]\n",
      "   [255 255 255]\n",
      "   ...\n",
      "   [255 255 255]\n",
      "   [255 255 255]\n",
      "   [255 255 255]]\n",
      "\n",
      "  [[255 255 255]\n",
      "   [255 255 255]\n",
      "   [255 255 255]\n",
      "   ...\n",
      "   [255 255 255]\n",
      "   [255 255 255]\n",
      "   [255 255 255]]\n",
      "\n",
      "  [[255 255 255]\n",
      "   [253 253 253]\n",
      "   [253 253 253]\n",
      "   ...\n",
      "   [253 253 253]\n",
      "   [253 253 253]\n",
      "   [255 255 255]]]\n",
      "\n",
      "\n",
      " [[[250 250 248]\n",
      "   [248 249 243]\n",
      "   [247 248 239]\n",
      "   ...\n",
      "   [250 250 246]\n",
      "   [250 250 246]\n",
      "   [249 250 246]]\n",
      "\n",
      "  [[250 251 245]\n",
      "   [248 249 238]\n",
      "   [247 247 234]\n",
      "   ...\n",
      "   [251 251 242]\n",
      "   [251 252 243]\n",
      "   [250 251 243]]\n",
      "\n",
      "  [[251 251 244]\n",
      "   [250 248 237]\n",
      "   [250 245 233]\n",
      "   ...\n",
      "   [250 249 238]\n",
      "   [250 249 240]\n",
      "   [250 249 242]]\n",
      "\n",
      "  ...\n",
      "\n",
      "  [[221 213 191]\n",
      "   [221 206 176]\n",
      "   [225 207 181]\n",
      "   ...\n",
      "   [199 176 134]\n",
      "   [207 193 165]\n",
      "   [233 229 226]]\n",
      "\n",
      "  [[225 223 204]\n",
      "   [227 219 196]\n",
      "   [229 216 200]\n",
      "   ...\n",
      "   [204 185 151]\n",
      "   [212 201 180]\n",
      "   [234 232 228]]\n",
      "\n",
      "  [[233 233 226]\n",
      "   [234 232 224]\n",
      "   [235 230 225]\n",
      "   ...\n",
      "   [219 209 194]\n",
      "   [223 216 207]\n",
      "   [232 230 228]]]\n",
      "\n",
      "\n",
      " [[[124 194 221]\n",
      "   [131 202 228]\n",
      "   [135 206 228]\n",
      "   ...\n",
      "   [149 225 236]\n",
      "   [143 220 234]\n",
      "   [136 213 230]]\n",
      "\n",
      "  [[121 194 220]\n",
      "   [128 201 225]\n",
      "   [134 206 228]\n",
      "   ...\n",
      "   [151 224 234]\n",
      "   [146 222 234]\n",
      "   [142 217 232]]\n",
      "\n",
      "  [[122 197 223]\n",
      "   [129 204 228]\n",
      "   [136 208 229]\n",
      "   ...\n",
      "   [156 228 236]\n",
      "   [153 226 237]\n",
      "   [148 221 235]]\n",
      "\n",
      "  ...\n",
      "\n",
      "  [[129  42  59]\n",
      "   [147  17  38]\n",
      "   [151  16  30]\n",
      "   ...\n",
      "   [234 231 225]\n",
      "   [238 240 233]\n",
      "   [224 197 201]]\n",
      "\n",
      "  [[150  21  40]\n",
      "   [152  17  33]\n",
      "   [156  25  36]\n",
      "   ...\n",
      "   [227 225 221]\n",
      "   [231 241 233]\n",
      "   [231 236 230]]\n",
      "\n",
      "  [[147  12  25]\n",
      "   [146  11  23]\n",
      "   [156  15  29]\n",
      "   ...\n",
      "   [230 237 232]\n",
      "   [243 237 236]\n",
      "   [243 230 231]]]\n",
      "\n",
      "\n",
      " [[[ 43  49  46]\n",
      "   [ 32  40  34]\n",
      "   [ 87  89  47]\n",
      "   ...\n",
      "   [ 74  84  48]\n",
      "   [ 43  51  30]\n",
      "   [ 39  45  33]]\n",
      "\n",
      "  [[ 44  47  51]\n",
      "   [ 38  42  42]\n",
      "   [ 59  61  32]\n",
      "   ...\n",
      "   [ 66  74  47]\n",
      "   [ 40  47  31]\n",
      "   [ 40  46  34]]\n",
      "\n",
      "  [[ 45  45  50]\n",
      "   [ 43  43  44]\n",
      "   [ 44  47  30]\n",
      "   ...\n",
      "   [ 51  58  40]\n",
      "   [ 40  46  34]\n",
      "   [ 43  49  37]]\n",
      "\n",
      "  ...\n",
      "\n",
      "  [[ 51  50  31]\n",
      "   [ 56  51  33]\n",
      "   [ 72  64  45]\n",
      "   ...\n",
      "   [109  94  43]\n",
      "   [160 154  90]\n",
      "   [125 120  62]]\n",
      "\n",
      "  [[ 80  77  45]\n",
      "   [ 68  62  33]\n",
      "   [ 78  69  42]\n",
      "   ...\n",
      "   [101  92  54]\n",
      "   [ 82  79  36]\n",
      "   [ 75  76  32]]\n",
      "\n",
      "  [[109 102  57]\n",
      "   [ 92  84  47]\n",
      "   [108  99  67]\n",
      "   ...\n",
      "   [ 93  88  60]\n",
      "   [ 55  55  29]\n",
      "   [ 63  67  37]]]]\n",
      "First 5 entries of X_test [[[[199 215 249]\n",
      "   [196 211 244]\n",
      "   [195 210 243]\n",
      "   ...\n",
      "   [216 231 250]\n",
      "   [217 231 250]\n",
      "   [224 234 252]]\n",
      "\n",
      "  [[197 210 239]\n",
      "   [195 208 238]\n",
      "   [195 210 240]\n",
      "   ...\n",
      "   [231 243 250]\n",
      "   [233 243 250]\n",
      "   [241 245 253]]\n",
      "\n",
      "  [[222 226 246]\n",
      "   [213 220 242]\n",
      "   [209 219 243]\n",
      "   ...\n",
      "   [243 250 251]\n",
      "   [244 249 251]\n",
      "   [250 250 253]]\n",
      "\n",
      "  ...\n",
      "\n",
      "  [[ 72  73  99]\n",
      "   [ 71  74 102]\n",
      "   [ 74  78 108]\n",
      "   ...\n",
      "   [220 208 217]\n",
      "   [183 168 181]\n",
      "   [155 141 150]]\n",
      "\n",
      "  [[ 72  75 104]\n",
      "   [ 76  81 111]\n",
      "   [ 84  89 122]\n",
      "   ...\n",
      "   [222 212 220]\n",
      "   [187 174 192]\n",
      "   [145 132 149]]\n",
      "\n",
      "  [[ 80  85 118]\n",
      "   [ 84  90 123]\n",
      "   [ 85  92 127]\n",
      "   ...\n",
      "   [217 207 215]\n",
      "   [207 194 211]\n",
      "   [176 164 183]]]\n",
      "\n",
      "\n",
      " [[[113 130  98]\n",
      "   [ 88 105  73]\n",
      "   [ 72  89  58]\n",
      "   ...\n",
      "   [105 124  93]\n",
      "   [ 86 106  74]\n",
      "   [ 63  82  55]]\n",
      "\n",
      "  [[ 95 113  80]\n",
      "   [ 78  97  64]\n",
      "   [ 62  80  49]\n",
      "   ...\n",
      "   [103 122  84]\n",
      "   [ 89 109  70]\n",
      "   [ 65  83  49]]\n",
      "\n",
      "  [[ 79  97  62]\n",
      "   [ 65  82  49]\n",
      "   [ 52  67  37]\n",
      "   ...\n",
      "   [ 65  79  52]\n",
      "   [ 62  79  51]\n",
      "   [ 49  64  38]]\n",
      "\n",
      "  ...\n",
      "\n",
      "  [[121 102  86]\n",
      "   [127 108  96]\n",
      "   [139 121 111]\n",
      "   ...\n",
      "   [ 80 100  71]\n",
      "   [ 75  95  68]\n",
      "   [ 66  85  62]]\n",
      "\n",
      "  [[170 145 131]\n",
      "   [167 145 132]\n",
      "   [159 140 128]\n",
      "   ...\n",
      "   [100 113  84]\n",
      "   [ 89 103  77]\n",
      "   [ 73  87  64]]\n",
      "\n",
      "  [[168 150 135]\n",
      "   [170 152 137]\n",
      "   [173 156 141]\n",
      "   ...\n",
      "   [118 123  96]\n",
      "   [ 99 106  80]\n",
      "   [ 84  92  67]]]\n",
      "\n",
      "\n",
      " [[[ 61  90 120]\n",
      "   [ 61  89 119]\n",
      "   [ 67  96 125]\n",
      "   ...\n",
      "   [ 70  93 124]\n",
      "   [ 64  87 118]\n",
      "   [ 64  88 119]]\n",
      "\n",
      "  [[ 67  97 127]\n",
      "   [ 78 108 138]\n",
      "   [ 80 109 139]\n",
      "   ...\n",
      "   [ 95 113 142]\n",
      "   [ 83 101 129]\n",
      "   [ 83 102 130]]\n",
      "\n",
      "  [[ 64  93 123]\n",
      "   [ 66  95 125]\n",
      "   [ 61  90 120]\n",
      "   ...\n",
      "   [120 134 160]\n",
      "   [109 123 150]\n",
      "   [112 126 152]]\n",
      "\n",
      "  ...\n",
      "\n",
      "  [[ 84  87  87]\n",
      "   [ 67  59  38]\n",
      "   [ 84  78  33]\n",
      "   ...\n",
      "   [204 167 160]\n",
      "   [235 202 192]\n",
      "   [236 206 193]]\n",
      "\n",
      "  [[ 72  64  54]\n",
      "   [ 70  54  30]\n",
      "   [ 84  79  40]\n",
      "   ...\n",
      "   [199 157 152]\n",
      "   [190 150 142]\n",
      "   [196 161 149]]\n",
      "\n",
      "  [[ 72  61  47]\n",
      "   [ 76  64  35]\n",
      "   [ 77  74  37]\n",
      "   ...\n",
      "   [227 191 189]\n",
      "   [155 119 115]\n",
      "   [134  98  89]]]\n",
      "\n",
      "\n",
      " [[[ 93 109 109]\n",
      "   [ 88 106 109]\n",
      "   [104 119 122]\n",
      "   ...\n",
      "   [185 189 223]\n",
      "   [188 191 233]\n",
      "   [198 200 245]]\n",
      "\n",
      "  [[ 87  99 106]\n",
      "   [ 61  75  79]\n",
      "   [ 54  65  71]\n",
      "   ...\n",
      "   [134 136 163]\n",
      "   [148 148 185]\n",
      "   [181 181 224]]\n",
      "\n",
      "  [[ 60  63  62]\n",
      "   [ 58  64  57]\n",
      "   [ 53  56  51]\n",
      "   ...\n",
      "   [106 107 128]\n",
      "   [128 127 160]\n",
      "   [171 170 212]]\n",
      "\n",
      "  ...\n",
      "\n",
      "  [[110 103 126]\n",
      "   [ 94  87 110]\n",
      "   [ 84  76  99]\n",
      "   ...\n",
      "   [108 104 129]\n",
      "   [127 128 160]\n",
      "   [172 174 210]]\n",
      "\n",
      "  [[200 198 236]\n",
      "   [163 162 196]\n",
      "   [120 119 148]\n",
      "   ...\n",
      "   [107 107 135]\n",
      "   [129 128 163]\n",
      "   [175 174 213]]\n",
      "\n",
      "  [[203 202 248]\n",
      "   [178 178 219]\n",
      "   [149 150 187]\n",
      "   ...\n",
      "   [140 141 173]\n",
      "   [155 154 191]\n",
      "   [184 183 223]]]\n",
      "\n",
      "\n",
      " [[[ 80  78 110]\n",
      "   [ 80  81 112]\n",
      "   [ 82  85 116]\n",
      "   ...\n",
      "   [ 89  83 116]\n",
      "   [ 86  80 114]\n",
      "   [ 83  78 110]]\n",
      "\n",
      "  [[ 86  85 114]\n",
      "   [ 88  87 116]\n",
      "   [ 89  91 119]\n",
      "   ...\n",
      "   [ 98  85 118]\n",
      "   [ 95  82 116]\n",
      "   [ 91  80 112]]\n",
      "\n",
      "  [[ 92  87 113]\n",
      "   [ 95  90 116]\n",
      "   [ 97  93 119]\n",
      "   ...\n",
      "   [105  86 117]\n",
      "   [103  84 115]\n",
      "   [ 98  81 111]]\n",
      "\n",
      "  ...\n",
      "\n",
      "  [[ 30  25  36]\n",
      "   [ 30  24  36]\n",
      "   [ 34  26  39]\n",
      "   ...\n",
      "   [ 26  24  38]\n",
      "   [ 26  23  38]\n",
      "   [ 24  24  37]]\n",
      "\n",
      "  [[ 24  22  33]\n",
      "   [ 25  22  33]\n",
      "   [ 28  22  34]\n",
      "   ...\n",
      "   [ 23  21  34]\n",
      "   [ 21  19  32]\n",
      "   [ 18  18  30]]\n",
      "\n",
      "  [[ 21  22  32]\n",
      "   [ 24  23  34]\n",
      "   [ 26  24  35]\n",
      "   ...\n",
      "   [ 24  22  34]\n",
      "   [ 22  20  32]\n",
      "   [ 20  18  29]]]]\n",
      "First 5 entries of Y_train [[19]\n",
      " [29]\n",
      " [ 0]\n",
      " [11]\n",
      " [ 1]]\n",
      "First 5 entries of Y_test [[49]\n",
      " [33]\n",
      " [72]\n",
      " [51]\n",
      " [71]]\n"
     ]
    }
   ],
   "source": [
    "print(\"First 5 entries of X_train\",X_train[0:5])\n",
    "print(\"First 5 entries of X_test\",X_test[0:5])\n",
    "print(\"First 5 entries of Y_train\",Y_train[0:5])\n",
    "print(\"First 5 entries of Y_test\",Y_test[0:5])"
   ]
  },
  {
   "cell_type": "markdown",
   "metadata": {
    "id": "fXqz6xijQIoR"
   },
   "source": [
    "### Structure Predictions method"
   ]
  },
  {
   "cell_type": "markdown",
   "metadata": {
    "id": "jNsSBqkXQIoS"
   },
   "source": [
    "We procceed to create execute the Structure predictions method in order to identify differences and get some conclusions."
   ]
  },
  {
   "cell_type": "code",
   "execution_count": 30,
   "metadata": {
    "id": "s-hlhI_4QIoS"
   },
   "outputs": [],
   "source": [
    "from stpredictions.models.IOKR.model import IOKR\n"
   ]
  },
  {
   "cell_type": "markdown",
   "metadata": {},
   "source": [
    "Here we implement the class IOKR2 due to some issues:"
   ]
  },
  {
   "cell_type": "code",
   "execution_count": 31,
   "metadata": {},
   "outputs": [
    {
     "data": {
      "text/plain": [
       "numpy.float64"
      ]
     },
     "execution_count": 31,
     "metadata": {},
     "output_type": "execute_result"
    }
   ],
   "source": [
    "type(X_train_bin[0][0])"
   ]
  },
  {
   "cell_type": "code",
   "execution_count": 34,
   "metadata": {},
   "outputs": [
    {
     "name": "stdout",
     "output_type": "stream",
     "text": [
      "Fitting time: 0.11579060554504395 in s\n",
      "Decoding time: 17.80364155769348 in s\n",
      "Test f1 score: 0.017453556218021988\n"
     ]
    }
   ],
   "source": [
    "#from sklearn.model_selection import train_test_split\n",
    "from sklearn.metrics import f1_score\n",
    "\n",
    "from stpredictions.models.IOKR.model import IOKR\n",
    "\n",
    "#X, Y, _, _ = load_bibtex()\n",
    "\n",
    "#X_train, X_test, Y_train, Y_test = train_test_split(X, Y, test_size=0.33, random_state=42)\n",
    "\n",
    "clf = IOKR()\n",
    "clf.verbose = 1\n",
    "L = 1e-5\n",
    "clf.fit(X=X_train_bin[0:100], Y=Y_train_bin[0:100], L=L)\n",
    "Y_pred_test = clf.predict(X_test=X_test_bin, Y_candidates=Y_test_bin)\n",
    "f1_test = f1_score(Y_pred_test, Y_test_bin, average='weighted')\n",
    "print( \"Test f1 score:\", f1_test)"
   ]
  },
  {
   "cell_type": "code",
   "execution_count": 35,
   "metadata": {},
   "outputs": [
    {
     "data": {
      "text/plain": [
       "3072"
      ]
     },
     "execution_count": 35,
     "metadata": {},
     "output_type": "execute_result"
    }
   ],
   "source": [
    "X_train_flat.shape[1]"
   ]
  },
  {
   "cell_type": "markdown",
   "metadata": {},
   "source": [
    "Currently, we haven't found a good result. As it can be seen in the following table, the precision, recall and f1-score are usually 0.\n",
    "This problem is similar to the problems we had without the encoded dataset but using the original one. "
   ]
  },
  {
   "cell_type": "code",
   "execution_count": 37,
   "metadata": {},
   "outputs": [
    {
     "name": "stdout",
     "output_type": "stream",
     "text": [
      "              precision    recall  f1-score   support\n",
      "\n",
      "         0.0       0.25      0.01      0.02      2838\n",
      "         1.0       0.00      0.00      0.00         0\n",
      "        10.0       0.00      0.00      0.00         0\n",
      "        11.0       0.00      0.00      0.00         0\n",
      "       100.0       0.00      0.00      0.00         0\n",
      "       101.0       0.00      0.00      0.00         0\n",
      "       110.0       0.00      0.00      0.00         0\n",
      "       111.0       0.00      0.00      0.00         0\n",
      "      1000.0       0.00      0.00      0.00         0\n",
      "      1001.0       0.00      0.00      0.00         0\n",
      "      1010.0       0.00      0.00      0.00         0\n",
      "      1011.0       0.00      0.00      0.00         0\n",
      "      1100.0       0.00      0.00      0.00         0\n",
      "      1101.0       0.00      0.00      0.00         0\n",
      "      1110.0       0.00      0.00      0.00         0\n",
      "      1111.0       0.00      0.00      0.00         0\n",
      "     10000.0       0.00      0.00      0.00         0\n",
      "     10001.0       0.00      0.00      0.00         0\n",
      "     10010.0       0.00      0.00      0.00         0\n",
      "     10011.0       0.00      0.00      0.00         0\n",
      "     10100.0       0.00      0.00      0.00         0\n",
      "     10101.0       0.00      0.00      0.00         0\n",
      "     10110.0       0.00      0.00      0.00         0\n",
      "     10111.0       0.00      0.00      0.00         0\n",
      "     11000.0       0.00      0.00      0.00         0\n",
      "     11001.0       0.00      0.00      0.00         0\n",
      "     11010.0       0.00      0.00      0.00         0\n",
      "     11011.0       0.00      0.00      0.00         0\n",
      "     11100.0       0.00      0.00      0.00         0\n",
      "     11101.0       0.00      0.00      0.00         0\n",
      "     11110.0       0.00      0.00      0.00         0\n",
      "     11111.0       0.00      0.00      0.00         0\n",
      "    100000.0       0.00      0.00      0.00         0\n",
      "    100001.0       0.00      0.00      0.00         0\n",
      "    100010.0       0.00      0.00      0.00         0\n",
      "    100011.0       0.00      0.00      0.00         0\n",
      "    100100.0       0.00      0.00      0.00         0\n",
      "    100101.0       0.00      0.00      0.00         0\n",
      "    100110.0       0.00      0.00      0.00         0\n",
      "    100111.0       0.00      0.00      0.00         0\n",
      "    101000.0       0.00      0.00      0.00         0\n",
      "    101001.0       0.00      0.00      0.00         0\n",
      "    101010.0       0.00      0.00      0.00         0\n",
      "    101011.0       0.00      0.00      0.00         0\n",
      "    101100.0       0.00      0.00      0.00         0\n",
      "    101101.0       0.00      0.00      0.00         0\n",
      "    101110.0       0.00      0.00      0.00         0\n",
      "    101111.0       0.00      0.00      0.00         0\n",
      "    110000.0       0.00      0.00      0.00         0\n",
      "    110001.0       0.00      0.00      0.00         0\n",
      "    110010.0       0.00      0.00      0.00         0\n",
      "    110011.0       0.00      0.00      0.00         0\n",
      "    110100.0       0.00      0.00      0.00         0\n",
      "    110101.0       0.00      0.00      0.00         0\n",
      "    110110.0       0.00      0.00      0.00         0\n",
      "    110111.0       0.00      0.00      0.00         0\n",
      "    111000.0       0.00      0.00      0.00         0\n",
      "    111001.0       0.00      0.00      0.00         0\n",
      "    111010.0       0.00      0.00      0.00         0\n",
      "    111011.0       0.00      0.00      0.00         0\n",
      "    111100.0       0.00      0.00      0.00         0\n",
      "    111101.0       0.00      0.00      0.00         0\n",
      "    111110.0       0.00      0.00      0.00         0\n",
      "    111111.0       0.00      0.00      0.00         0\n",
      "   1000000.0       0.00      0.00      0.00         0\n",
      "   1000001.0       0.00      0.00      0.00         0\n",
      "   1000010.0       0.00      0.00      0.00         0\n",
      "   1000011.0       0.00      0.00      0.00         0\n",
      "   1000100.0       0.00      0.00      0.00         0\n",
      "   1000101.0       0.00      0.00      0.00         0\n",
      "   1000110.0       0.00      0.00      0.00         0\n",
      "   1000111.0       0.00      0.00      0.00         0\n",
      "   1001000.0       0.00      0.00      0.00         0\n",
      "   1001001.0       0.00      0.00      0.00         0\n",
      "   1001010.0       0.00      0.00      0.00         0\n",
      "   1001011.0       0.00      0.00      0.00         0\n",
      "   1001100.0       0.00      0.00      0.00         0\n",
      "   1001101.0       0.00      0.00      0.00         0\n",
      "   1001110.0       0.00      0.00      0.00         0\n",
      "   1001111.0       0.00      0.00      0.00         0\n",
      "   1010000.0       0.00      0.00      0.00         0\n",
      "   1010001.0       0.00      0.00      0.00         0\n",
      "   1010010.0       0.00      0.00      0.00         0\n",
      "   1010011.0       0.00      0.00      0.00         0\n",
      "   1010100.0       0.00      0.00      0.00         0\n",
      "   1010101.0       0.00      0.00      0.00         0\n",
      "   1010110.0       0.00      0.00      0.00         0\n",
      "   1010111.0       0.00      0.00      0.00         0\n",
      "   1011000.0       0.00      0.00      0.00         0\n",
      "   1011001.0       0.00      0.00      0.00         0\n",
      "   1011010.0       0.00      0.00      0.00         0\n",
      "   1011011.0       0.00      0.00      0.00         0\n",
      "   1011100.0       0.00      0.00      0.00         0\n",
      "   1011101.0       0.00      0.00      0.00         0\n",
      "   1011110.0       0.00      0.00      0.00         0\n",
      "   1011111.0       0.00      0.00      0.00         0\n",
      "   1100000.0       0.00      0.00      0.00         0\n",
      "   1100001.0       0.00      0.00      0.00         0\n",
      "   1100010.0       0.00      0.00      0.00         0\n",
      "   1100011.0       0.64      0.01      0.02      7162\n",
      "\n",
      "    accuracy                           0.01     10000\n",
      "   macro avg       0.01      0.00      0.00     10000\n",
      "weighted avg       0.53      0.01      0.02     10000\n",
      "\n"
     ]
    },
    {
     "name": "stderr",
     "output_type": "stream",
     "text": [
      "/home/daniel/anaconda3/lib/python3.9/site-packages/sklearn/metrics/_classification.py:1318: UndefinedMetricWarning: Recall and F-score are ill-defined and being set to 0.0 in labels with no true samples. Use `zero_division` parameter to control this behavior.\n",
      "  _warn_prf(average, modifier, msg_start, len(result))\n",
      "/home/daniel/anaconda3/lib/python3.9/site-packages/sklearn/metrics/_classification.py:1318: UndefinedMetricWarning: Recall and F-score are ill-defined and being set to 0.0 in labels with no true samples. Use `zero_division` parameter to control this behavior.\n",
      "  _warn_prf(average, modifier, msg_start, len(result))\n",
      "/home/daniel/anaconda3/lib/python3.9/site-packages/sklearn/metrics/_classification.py:1318: UndefinedMetricWarning: Recall and F-score are ill-defined and being set to 0.0 in labels with no true samples. Use `zero_division` parameter to control this behavior.\n",
      "  _warn_prf(average, modifier, msg_start, len(result))\n"
     ]
    }
   ],
   "source": [
    "from sklearn.metrics import classification_report\n",
    "print(classification_report(Y_pred_test,Y_test_bin))"
   ]
  },
  {
   "cell_type": "code",
   "execution_count": 44,
   "metadata": {},
   "outputs": [
    {
     "data": {
      "text/plain": [
       "array([[      0.],\n",
       "       [      0.],\n",
       "       [      0.],\n",
       "       ...,\n",
       "       [      0.],\n",
       "       [      0.],\n",
       "       [1100011.]])"
      ]
     },
     "execution_count": 44,
     "metadata": {},
     "output_type": "execute_result"
    }
   ],
   "source": [
    "Y_pred_test"
   ]
  },
  {
   "cell_type": "code",
   "execution_count": 39,
   "metadata": {
    "id": "kTQRbhPHo23E"
   },
   "outputs": [],
   "source": [
    "# Implementation\n",
    "import time\n",
    "# from sklearn.model_selection import KFold\n",
    "from sklearn.metrics.pairwise import linear_kernel, polynomial_kernel, rbf_kernel\n",
    "# from sklearn.metrics import f1_score\n",
    "import numpy as np\n",
    "# import pandas as pd\n",
    "# from stpredictions.datasets.load_data import load_bibtex\n",
    "# from sklearn.model_selection import train_test_split\n",
    "# import arff\n",
    "from numpy.linalg import inv\n",
    "# import os\n",
    "\n",
    "# from line_profiler import LineProfiler\n",
    "\n",
    "\"\"\"\n",
    "Created on December 12, 2021\n",
    "\"\"\"\n",
    "\n",
    "\n",
    "class IOKR2:\n",
    "    \"\"\"\n",
    "    Class used to apply Input and Output Kernel Regression\n",
    "    \"\"\"\n",
    "\n",
    "    \n",
    "    def __init__(self):\n",
    "        \"\"\"\n",
    "        Initialization of the below parameters.\n",
    "        Parameters\n",
    "        ----------\n",
    "        X_train :  sparse matrix - containing explanatory variables of the train set\n",
    "        Y_train: sparse matrix - containing target variable of the train set\n",
    "        Ky: output scalar kernel\n",
    "        M: gram matrix on training set\n",
    "        verbose: binary - display more parameters\n",
    "        linear:\n",
    "        \"\"\"\n",
    "        self.X_train = None\n",
    "        self.Y_train = None\n",
    "        self.Ky = None\n",
    "        self.M = None\n",
    "        self.verbose = 0\n",
    "        self.input_kernel = None\n",
    "        self.output_kernel = None\n",
    "\n",
    "  \n",
    "    def fit(self, X, Y, L, input_kernel='linear', input_kernel_param=None):\n",
    "        \"\"\"\n",
    "        Model Fitting\n",
    "        \"\"\"\n",
    "\n",
    "        # save input and output training data\n",
    "        self.X_train, self.Y_train = X, Y\n",
    "\n",
    "        # instantiate input kernel parameter when not given\n",
    "        if input_kernel_param is None:\n",
    "            if input_kernel == 'rbf':\n",
    "                input_kernel_param = 1.\n",
    "            elif input_kernel == 'polynomial':\n",
    "                input_kernel_param = [3, None, 1]\n",
    "\n",
    "        # define input kernel\n",
    "        if input_kernel == 'linear':\n",
    "            self.input_kernel = lambda A, B: linear_kernel(A, B)\n",
    "        elif input_kernel == 'polynomial':\n",
    "            self.input_kernel = lambda A, B: polynomial_kernel(A, B, degree=input_kernel_param[0],\n",
    "                                                               gamma=input_kernel_param[1], coef0=input_kernel_param[2])\n",
    "        elif input_kernel == 'rbf':\n",
    "            self.input_kernel = lambda A, B: rbf_kernel(A, B, gamma=input_kernel_param)\n",
    "        else:\n",
    "            self.input_kernel = input_kernel\n",
    "\n",
    "        # compute input gram matrix\n",
    "        Kx = self.input_kernel(X, X)\n",
    "\n",
    "        # kernel ridge regression training computation: n x n matrix inversion\n",
    "        t0 = time.time()\n",
    "        n = Kx.shape[0]\n",
    "        self.M = np.linalg.inv(Kx + n * L * np.eye(n))\n",
    "        if self.verbose > 0:\n",
    "            print(f'Fitting time: {time.time() - t0} in s')\n",
    "\n",
    "    def alpha(self, X_test):\n",
    "\n",
    "        Kx = self.input_kernel(self.X_train, X_test)\n",
    "        A = self.M.dot(Kx)\n",
    "\n",
    "        return A\n",
    "\n",
    "\n",
    "    def predict(self, X_test, Y_candidates, output_kernel='linear', output_kernel_param=None):\n",
    "\n",
    "        \"\"\"\n",
    "        Model Prediction\n",
    "        \"\"\"\n",
    "\n",
    "        # instantiate output kernel parameter when not given\n",
    "        if output_kernel_param is None:\n",
    "            if output_kernel == 'rbf':\n",
    "                output_kernel_param = 1.\n",
    "            elif output_kernel == 'polynomial':\n",
    "                output_kernel_param = [3, None, 1]\n",
    "\n",
    "        # define output kernel\n",
    "        if output_kernel == 'linear':\n",
    "            self.output_kernel = lambda A, B: linear_kernel(A, B)\n",
    "        elif output_kernel == 'polynomial':\n",
    "            self.output_kernel = lambda A, B: polynomial_kernel(A, B, degree=output_kernel_param[0],\n",
    "                                                                gamma=output_kernel_param[1],\n",
    "                                                                coef0=output_kernel_param[2])\n",
    "        elif output_kernel == 'rbf':\n",
    "            self.output_kernel = lambda A, B: rbf_kernel(A, B, gamma=output_kernel_param)\n",
    "        else:\n",
    "            self.output_kernel = output_kernel\n",
    "\n",
    "        # compute output gram matrix\n",
    "        Ky = self.output_kernel(self.Y_train, Y_candidates)\n",
    "\n",
    "        # compute prediction\n",
    "        t0 = time.time()\n",
    "        Alpha = self.alpha(X_test)\n",
    "        scores = Ky.transpose().dot(Alpha)\n",
    "        idx_pred = np.argmax(scores, axis=0)\n",
    "        Y_pred = Y_candidates[idx_pred]\n",
    "        if self.verbose > 0:\n",
    "            print(f'Decoding time: {time.time() - t0} in s')\n",
    "\n",
    "        return Ky,Alpha,scores,idx_pred,Y_pred\n",
    "\n",
    "\n"
   ]
  },
  {
   "cell_type": "markdown",
   "metadata": {},
   "source": [
    "If we change the Y_candidates paramter for the Identity matrix, we get the following problem:"
   ]
  },
  {
   "cell_type": "code",
   "execution_count": 41,
   "metadata": {
    "colab": {
     "base_uri": "https://localhost:8080/"
    },
    "id": "tQQREqnlQIoS",
    "outputId": "77f2058a-5485-42f6-afd3-2f9e489df5e8"
   },
   "outputs": [
    {
     "name": "stdout",
     "output_type": "stream",
     "text": [
      "Fitting time: 0.30271005630493164 in s\n"
     ]
    },
    {
     "ename": "ValueError",
     "evalue": "Incompatible dimension for X and Y matrices: X.shape[1] == 1 while Y.shape[1] == 100",
     "output_type": "error",
     "traceback": [
      "\u001b[0;31m---------------------------------------------------------------------------\u001b[0m",
      "\u001b[0;31mValueError\u001b[0m                                Traceback (most recent call last)",
      "\u001b[1;32m/home/daniel/Documents/AA_Télécom/HiParis/Project/PROJECT/structured-predictions/stpredictions/convert_to_binary/100-Comparison.ipynb Cell 53\u001b[0m in \u001b[0;36m<cell line: 6>\u001b[0;34m()\u001b[0m\n\u001b[1;32m      <a href='vscode-notebook-cell:/home/daniel/Documents/AA_T%C3%A9l%C3%A9com/HiParis/Project/PROJECT/structured-predictions/stpredictions/convert_to_binary/100-Comparison.ipynb#Y134sZmlsZQ%3D%3D?line=3'>4</a>\u001b[0m \u001b[39m#Just using a quantity of 100 due to a shape problem \u001b[39;00m\n\u001b[1;32m      <a href='vscode-notebook-cell:/home/daniel/Documents/AA_T%C3%A9l%C3%A9com/HiParis/Project/PROJECT/structured-predictions/stpredictions/convert_to_binary/100-Comparison.ipynb#Y134sZmlsZQ%3D%3D?line=4'>5</a>\u001b[0m clf\u001b[39m.\u001b[39mfit(X\u001b[39m=\u001b[39mX_train_bin[\u001b[39m0\u001b[39m:\u001b[39m100\u001b[39m], Y\u001b[39m=\u001b[39mY_train_bin[\u001b[39m0\u001b[39m:\u001b[39m100\u001b[39m], L\u001b[39m=\u001b[39mL, input_kernel\u001b[39m=\u001b[39m\u001b[39m'\u001b[39m\u001b[39mlinear\u001b[39m\u001b[39m'\u001b[39m)\n\u001b[0;32m----> <a href='vscode-notebook-cell:/home/daniel/Documents/AA_T%C3%A9l%C3%A9com/HiParis/Project/PROJECT/structured-predictions/stpredictions/convert_to_binary/100-Comparison.ipynb#Y134sZmlsZQ%3D%3D?line=5'>6</a>\u001b[0m Ky,Alpha,scores,idx_pred,Y_pred_test \u001b[39m=\u001b[39m clf\u001b[39m.\u001b[39;49mpredict(X_test\u001b[39m=\u001b[39;49mX_test_bin, Y_candidates\u001b[39m=\u001b[39;49mnp\u001b[39m.\u001b[39;49meye(\u001b[39m100\u001b[39;49m))\n\u001b[1;32m      <a href='vscode-notebook-cell:/home/daniel/Documents/AA_T%C3%A9l%C3%A9com/HiParis/Project/PROJECT/structured-predictions/stpredictions/convert_to_binary/100-Comparison.ipynb#Y134sZmlsZQ%3D%3D?line=6'>7</a>\u001b[0m \u001b[39m#f1_test_st = f1_score(Y_pred_test, Y_test, average='weighted')\u001b[39;00m\n\u001b[1;32m      <a href='vscode-notebook-cell:/home/daniel/Documents/AA_T%C3%A9l%C3%A9com/HiParis/Project/PROJECT/structured-predictions/stpredictions/convert_to_binary/100-Comparison.ipynb#Y134sZmlsZQ%3D%3D?line=7'>8</a>\u001b[0m \u001b[39m#print( \"Test f1 score:\", f1_test_st)\u001b[39;00m\n\u001b[1;32m      <a href='vscode-notebook-cell:/home/daniel/Documents/AA_T%C3%A9l%C3%A9com/HiParis/Project/PROJECT/structured-predictions/stpredictions/convert_to_binary/100-Comparison.ipynb#Y134sZmlsZQ%3D%3D?line=8'>9</a>\u001b[0m \u001b[39mprint\u001b[39m(Y_pred_test[\u001b[39m1\u001b[39m])\n",
      "\u001b[1;32m/home/daniel/Documents/AA_Télécom/HiParis/Project/PROJECT/structured-predictions/stpredictions/convert_to_binary/100-Comparison.ipynb Cell 53\u001b[0m in \u001b[0;36mIOKR2.predict\u001b[0;34m(self, X_test, Y_candidates, output_kernel, output_kernel_param)\u001b[0m\n\u001b[1;32m    <a href='vscode-notebook-cell:/home/daniel/Documents/AA_T%C3%A9l%C3%A9com/HiParis/Project/PROJECT/structured-predictions/stpredictions/convert_to_binary/100-Comparison.ipynb#Y134sZmlsZQ%3D%3D?line=114'>115</a>\u001b[0m     \u001b[39mself\u001b[39m\u001b[39m.\u001b[39moutput_kernel \u001b[39m=\u001b[39m output_kernel\n\u001b[1;32m    <a href='vscode-notebook-cell:/home/daniel/Documents/AA_T%C3%A9l%C3%A9com/HiParis/Project/PROJECT/structured-predictions/stpredictions/convert_to_binary/100-Comparison.ipynb#Y134sZmlsZQ%3D%3D?line=116'>117</a>\u001b[0m \u001b[39m# compute output gram matrix\u001b[39;00m\n\u001b[0;32m--> <a href='vscode-notebook-cell:/home/daniel/Documents/AA_T%C3%A9l%C3%A9com/HiParis/Project/PROJECT/structured-predictions/stpredictions/convert_to_binary/100-Comparison.ipynb#Y134sZmlsZQ%3D%3D?line=117'>118</a>\u001b[0m Ky \u001b[39m=\u001b[39m \u001b[39mself\u001b[39;49m\u001b[39m.\u001b[39;49moutput_kernel(\u001b[39mself\u001b[39;49m\u001b[39m.\u001b[39;49mY_train, Y_candidates)\n\u001b[1;32m    <a href='vscode-notebook-cell:/home/daniel/Documents/AA_T%C3%A9l%C3%A9com/HiParis/Project/PROJECT/structured-predictions/stpredictions/convert_to_binary/100-Comparison.ipynb#Y134sZmlsZQ%3D%3D?line=119'>120</a>\u001b[0m \u001b[39m# compute prediction\u001b[39;00m\n\u001b[1;32m    <a href='vscode-notebook-cell:/home/daniel/Documents/AA_T%C3%A9l%C3%A9com/HiParis/Project/PROJECT/structured-predictions/stpredictions/convert_to_binary/100-Comparison.ipynb#Y134sZmlsZQ%3D%3D?line=120'>121</a>\u001b[0m t0 \u001b[39m=\u001b[39m time\u001b[39m.\u001b[39mtime()\n",
      "\u001b[1;32m/home/daniel/Documents/AA_Télécom/HiParis/Project/PROJECT/structured-predictions/stpredictions/convert_to_binary/100-Comparison.ipynb Cell 53\u001b[0m in \u001b[0;36mIOKR2.predict.<locals>.<lambda>\u001b[0;34m(A, B)\u001b[0m\n\u001b[1;32m    <a href='vscode-notebook-cell:/home/daniel/Documents/AA_T%C3%A9l%C3%A9com/HiParis/Project/PROJECT/structured-predictions/stpredictions/convert_to_binary/100-Comparison.ipynb#Y134sZmlsZQ%3D%3D?line=104'>105</a>\u001b[0m \u001b[39m# define output kernel\u001b[39;00m\n\u001b[1;32m    <a href='vscode-notebook-cell:/home/daniel/Documents/AA_T%C3%A9l%C3%A9com/HiParis/Project/PROJECT/structured-predictions/stpredictions/convert_to_binary/100-Comparison.ipynb#Y134sZmlsZQ%3D%3D?line=105'>106</a>\u001b[0m \u001b[39mif\u001b[39;00m output_kernel \u001b[39m==\u001b[39m \u001b[39m'\u001b[39m\u001b[39mlinear\u001b[39m\u001b[39m'\u001b[39m:\n\u001b[0;32m--> <a href='vscode-notebook-cell:/home/daniel/Documents/AA_T%C3%A9l%C3%A9com/HiParis/Project/PROJECT/structured-predictions/stpredictions/convert_to_binary/100-Comparison.ipynb#Y134sZmlsZQ%3D%3D?line=106'>107</a>\u001b[0m     \u001b[39mself\u001b[39m\u001b[39m.\u001b[39moutput_kernel \u001b[39m=\u001b[39m \u001b[39mlambda\u001b[39;00m A, B: linear_kernel(A, B)\n\u001b[1;32m    <a href='vscode-notebook-cell:/home/daniel/Documents/AA_T%C3%A9l%C3%A9com/HiParis/Project/PROJECT/structured-predictions/stpredictions/convert_to_binary/100-Comparison.ipynb#Y134sZmlsZQ%3D%3D?line=107'>108</a>\u001b[0m \u001b[39melif\u001b[39;00m output_kernel \u001b[39m==\u001b[39m \u001b[39m'\u001b[39m\u001b[39mpolynomial\u001b[39m\u001b[39m'\u001b[39m:\n\u001b[1;32m    <a href='vscode-notebook-cell:/home/daniel/Documents/AA_T%C3%A9l%C3%A9com/HiParis/Project/PROJECT/structured-predictions/stpredictions/convert_to_binary/100-Comparison.ipynb#Y134sZmlsZQ%3D%3D?line=108'>109</a>\u001b[0m     \u001b[39mself\u001b[39m\u001b[39m.\u001b[39moutput_kernel \u001b[39m=\u001b[39m \u001b[39mlambda\u001b[39;00m A, B: polynomial_kernel(A, B, degree\u001b[39m=\u001b[39moutput_kernel_param[\u001b[39m0\u001b[39m],\n\u001b[1;32m    <a href='vscode-notebook-cell:/home/daniel/Documents/AA_T%C3%A9l%C3%A9com/HiParis/Project/PROJECT/structured-predictions/stpredictions/convert_to_binary/100-Comparison.ipynb#Y134sZmlsZQ%3D%3D?line=109'>110</a>\u001b[0m                                                         gamma\u001b[39m=\u001b[39moutput_kernel_param[\u001b[39m1\u001b[39m],\n\u001b[1;32m    <a href='vscode-notebook-cell:/home/daniel/Documents/AA_T%C3%A9l%C3%A9com/HiParis/Project/PROJECT/structured-predictions/stpredictions/convert_to_binary/100-Comparison.ipynb#Y134sZmlsZQ%3D%3D?line=110'>111</a>\u001b[0m                                                         coef0\u001b[39m=\u001b[39moutput_kernel_param[\u001b[39m2\u001b[39m])\n",
      "File \u001b[0;32m~/anaconda3/lib/python3.9/site-packages/sklearn/metrics/pairwise.py:1072\u001b[0m, in \u001b[0;36mlinear_kernel\u001b[0;34m(X, Y, dense_output)\u001b[0m\n\u001b[1;32m   1047\u001b[0m \u001b[39mdef\u001b[39;00m \u001b[39mlinear_kernel\u001b[39m(X, Y\u001b[39m=\u001b[39m\u001b[39mNone\u001b[39;00m, dense_output\u001b[39m=\u001b[39m\u001b[39mTrue\u001b[39;00m):\n\u001b[1;32m   1048\u001b[0m     \u001b[39m\"\"\"\u001b[39;00m\n\u001b[1;32m   1049\u001b[0m \u001b[39m    Compute the linear kernel between X and Y.\u001b[39;00m\n\u001b[1;32m   1050\u001b[0m \n\u001b[0;32m   (...)\u001b[0m\n\u001b[1;32m   1070\u001b[0m \u001b[39m        The Gram matrix of the linear kernel, i.e. `X @ Y.T`.\u001b[39;00m\n\u001b[1;32m   1071\u001b[0m \u001b[39m    \"\"\"\u001b[39;00m\n\u001b[0;32m-> 1072\u001b[0m     X, Y \u001b[39m=\u001b[39m check_pairwise_arrays(X, Y)\n\u001b[1;32m   1073\u001b[0m     \u001b[39mreturn\u001b[39;00m safe_sparse_dot(X, Y\u001b[39m.\u001b[39mT, dense_output\u001b[39m=\u001b[39mdense_output)\n",
      "File \u001b[0;32m~/anaconda3/lib/python3.9/site-packages/sklearn/metrics/pairwise.py:181\u001b[0m, in \u001b[0;36mcheck_pairwise_arrays\u001b[0;34m(X, Y, precomputed, dtype, accept_sparse, force_all_finite, copy)\u001b[0m\n\u001b[1;32m    175\u001b[0m         \u001b[39mraise\u001b[39;00m \u001b[39mValueError\u001b[39;00m(\n\u001b[1;32m    176\u001b[0m             \u001b[39m\"\u001b[39m\u001b[39mPrecomputed metric requires shape \u001b[39m\u001b[39m\"\u001b[39m\n\u001b[1;32m    177\u001b[0m             \u001b[39m\"\u001b[39m\u001b[39m(n_queries, n_indexed). Got (\u001b[39m\u001b[39m%d\u001b[39;00m\u001b[39m, \u001b[39m\u001b[39m%d\u001b[39;00m\u001b[39m) \u001b[39m\u001b[39m\"\u001b[39m\n\u001b[1;32m    178\u001b[0m             \u001b[39m\"\u001b[39m\u001b[39mfor \u001b[39m\u001b[39m%d\u001b[39;00m\u001b[39m indexed.\u001b[39m\u001b[39m\"\u001b[39m \u001b[39m%\u001b[39m (X\u001b[39m.\u001b[39mshape[\u001b[39m0\u001b[39m], X\u001b[39m.\u001b[39mshape[\u001b[39m1\u001b[39m], Y\u001b[39m.\u001b[39mshape[\u001b[39m0\u001b[39m])\n\u001b[1;32m    179\u001b[0m         )\n\u001b[1;32m    180\u001b[0m \u001b[39melif\u001b[39;00m X\u001b[39m.\u001b[39mshape[\u001b[39m1\u001b[39m] \u001b[39m!=\u001b[39m Y\u001b[39m.\u001b[39mshape[\u001b[39m1\u001b[39m]:\n\u001b[0;32m--> 181\u001b[0m     \u001b[39mraise\u001b[39;00m \u001b[39mValueError\u001b[39;00m(\n\u001b[1;32m    182\u001b[0m         \u001b[39m\"\u001b[39m\u001b[39mIncompatible dimension for X and Y matrices: \u001b[39m\u001b[39m\"\u001b[39m\n\u001b[1;32m    183\u001b[0m         \u001b[39m\"\u001b[39m\u001b[39mX.shape[1] == \u001b[39m\u001b[39m%d\u001b[39;00m\u001b[39m while Y.shape[1] == \u001b[39m\u001b[39m%d\u001b[39;00m\u001b[39m\"\u001b[39m \u001b[39m%\u001b[39m (X\u001b[39m.\u001b[39mshape[\u001b[39m1\u001b[39m], Y\u001b[39m.\u001b[39mshape[\u001b[39m1\u001b[39m])\n\u001b[1;32m    184\u001b[0m     )\n\u001b[1;32m    186\u001b[0m \u001b[39mreturn\u001b[39;00m X, Y\n",
      "\u001b[0;31mValueError\u001b[0m: Incompatible dimension for X and Y matrices: X.shape[1] == 1 while Y.shape[1] == 100"
     ]
    }
   ],
   "source": [
    "clf = IOKR2()\n",
    "clf.verbose = 1\n",
    "L =1e-6\n",
    "#Just using a quantity of 100 due to a shape problem \n",
    "clf.fit(X=X_train_bin[0:100], Y=Y_train_bin[0:100], L=L, input_kernel='linear')\n",
    "Ky,Alpha,scores,idx_pred,Y_pred_test = clf.predict(X_test=X_test_bin, Y_candidates=np.eye(100))\n",
    "#f1_test_st = f1_score(Y_pred_test, Y_test, average='weighted')\n",
    "#print( \"Test f1 score:\", f1_test_st)\n",
    "print(Y_pred_test[1])"
   ]
  }
 ],
 "metadata": {
  "colab": {
   "name": "10-Comparison.ipynb",
   "provenance": []
  },
  "kernelspec": {
   "display_name": "Python 3 (ipykernel)",
   "language": "python",
   "name": "python3"
  },
  "language_info": {
   "codemirror_mode": {
    "name": "ipython",
    "version": 3
   },
   "file_extension": ".py",
   "mimetype": "text/x-python",
   "name": "python",
   "nbconvert_exporter": "python",
   "pygments_lexer": "ipython3",
   "version": "3.9.12"
  },
  "toc": {
   "base_numbering": 1,
   "nav_menu": {},
   "number_sections": true,
   "sideBar": true,
   "skip_h1_title": false,
   "title_cell": "Table of Contents",
   "title_sidebar": "Contents",
   "toc_cell": false,
   "toc_position": {},
   "toc_section_display": true,
   "toc_window_display": false
  },
  "vscode": {
   "interpreter": {
    "hash": "0ad57050c77180dc9ed5ccc7774a474d285089782a3b5193155c6c81d567ba30"
   }
  }
 },
 "nbformat": 4,
 "nbformat_minor": 4
}
