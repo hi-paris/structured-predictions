{
 "cells": [
  {
   "cell_type": "code",
   "execution_count": 1,
   "metadata": {},
   "outputs": [
    {
     "name": "stdout",
     "output_type": "stream",
     "text": [
      "Fitting time: 2.653815269470215 in s\n",
      "Decoding time: 1.4480974674224854 in s\n",
      "Test f1 score: 0.305243514032123\n"
     ]
    }
   ],
   "source": [
    "from sklearn.model_selection import train_test_split\n",
    "from sklearn.metrics import f1_score\n",
    "\n",
    "from stpredictions.models.IOKR.model import IOKR\n",
    "from stpredictions.datasets import load_bibtex\n",
    "\n",
    "X, Y, _, _ = load_bibtex()\n",
    "\n",
    "X_train, X_test, Y_train, Y_test = train_test_split(X, Y, test_size=0.33, random_state=42)\n",
    "\n",
    "clf = IOKR()\n",
    "clf.verbose = 1\n",
    "L = 1e-5\n",
    "clf.fit(X=X_train, Y=Y_train, L=L)\n",
    "Y_pred_test = clf.predict(X_test=X_test, Y_candidates=Y_test)\n",
    "f1_test = f1_score(Y_pred_test, Y_test, average='samples')\n",
    "print( \"Test f1 score:\", f1_test)"
   ]
  }
 ],
 "metadata": {
  "kernelspec": {
   "display_name": "Python 3 (ipykernel)",
   "language": "python",
   "name": "python3"
  },
  "language_info": {
   "codemirror_mode": {
    "name": "ipython",
    "version": 3
   },
   "file_extension": ".py",
   "mimetype": "text/x-python",
   "name": "python",
   "nbconvert_exporter": "python",
   "pygments_lexer": "ipython3",
   "version": "3.9.12"
  }
 },
 "nbformat": 4,
 "nbformat_minor": 2
}
