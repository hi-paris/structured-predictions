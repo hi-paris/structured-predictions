{
 "cells": [
  {
   "cell_type": "markdown",
   "metadata": {},
   "source": [
    "On this file, the logistic regression proccess is done in order to compare it with the results of the Structure Predictions package. \\\n",
    "We find out that there are some considerable differences. "
   ]
  },
  {
   "cell_type": "markdown",
   "metadata": {},
   "source": [
    "For this exercice we use the CIFAR100 dataset provided by Keras. This is a dataset of 50,000 32x32 color training images and 10,000 test images, labeled over 100 fine-grained classes that are grouped into 20 coarse-grained classes. "
   ]
  },
  {
   "cell_type": "markdown",
   "metadata": {},
   "source": [
    "Initially we're going to work with the 'fine' label model of cifar-100 provided by keras which is the one with 100 classes."
   ]
  },
  {
   "cell_type": "code",
   "execution_count": 4,
   "metadata": {
    "scrolled": false
   },
   "outputs": [
    {
     "name": "stderr",
     "output_type": "stream",
     "text": [
      "2022-08-11 14:04:01.847737: I tensorflow/core/util/util.cc:169] oneDNN custom operations are on. You may see slightly different numerical results due to floating-point round-off errors from different computation orders. To turn them off, set the environment variable `TF_ENABLE_ONEDNN_OPTS=0`.\n",
      "2022-08-11 14:04:03.184709: W tensorflow/stream_executor/platform/default/dso_loader.cc:64] Could not load dynamic library 'libcudart.so.11.0'; dlerror: libcudart.so.11.0: cannot open shared object file: No such file or directory\n",
      "2022-08-11 14:04:03.184741: I tensorflow/stream_executor/cuda/cudart_stub.cc:29] Ignore above cudart dlerror if you do not have a GPU set up on your machine.\n"
     ]
    },
    {
     "name": "stdout",
     "output_type": "stream",
     "text": [
      "x_train shape: (50000, 32, 32, 3)\n",
      "x_test shape: (10000, 32, 32, 3)\n",
      "y_train shape: (50000, 1)\n",
      "y_test shape: (10000, 1)\n",
      "50000 train samples\n",
      "10000 test samples\n",
      "<class 'numpy.ndarray'>\n",
      "<class 'numpy.ndarray'>\n"
     ]
    }
   ],
   "source": [
    "from keras.datasets import cifar100\n",
    "import matplotlib.pyplot as plt\n",
    "import numpy as np\n",
    " \n",
    "# Download dataset of CIFAR-100 (Canadian Institute for Advanced Research)\n",
    "(X_train,Y_train),(X_test,Y_test) = cifar100.load_data()\n",
    " \n",
    "# Check the shape of the array\n",
    "print('x_train shape:', X_train.shape)\n",
    "print('x_test shape:', X_test.shape)\n",
    "print('y_train shape:', Y_train.shape)\n",
    "print('y_test shape:', Y_test.shape)\n",
    " \n",
    "# Number of data set samples \n",
    "print(X_train.shape[0], 'train samples')\n",
    "print(X_test.shape[0], 'test samples')\n",
    " \n",
    "# Data format confirmation\n",
    "print(type(X_test))\n",
    "print(type(Y_test[0]))"
   ]
  },
  {
   "cell_type": "code",
   "execution_count": 2,
   "metadata": {},
   "outputs": [],
   "source": [
    "from sklearn.model_selection import train_test_split"
   ]
  },
  {
   "cell_type": "code",
   "execution_count": 3,
   "metadata": {
    "scrolled": true
   },
   "outputs": [
    {
     "name": "stdout",
     "output_type": "stream",
     "text": [
      "Number of records for train (50000, 32, 32, 3)\n",
      "Number of records for test (10000, 32, 32, 3)\n",
      "Number of records for train (50000, 1)\n",
      "Number of records for test (10000, 1)\n"
     ]
    }
   ],
   "source": [
    "print('Number of records for train',X_train.shape)\n",
    "print('Number of records for test',X_test.shape)\n",
    "print('Number of records for train',Y_train.shape)\n",
    "print('Number of records for test',Y_test.shape)"
   ]
  },
  {
   "cell_type": "code",
   "execution_count": 4,
   "metadata": {},
   "outputs": [
    {
     "name": "stdout",
     "output_type": "stream",
     "text": [
      "First 5 entries of X_train [[[[255 255 255]\n",
      "   [255 255 255]\n",
      "   [255 255 255]\n",
      "   ...\n",
      "   [195 205 193]\n",
      "   [212 224 204]\n",
      "   [182 194 167]]\n",
      "\n",
      "  [[255 255 255]\n",
      "   [254 254 254]\n",
      "   [254 254 254]\n",
      "   ...\n",
      "   [170 176 150]\n",
      "   [161 168 130]\n",
      "   [146 154 113]]\n",
      "\n",
      "  [[255 255 255]\n",
      "   [254 254 254]\n",
      "   [255 255 255]\n",
      "   ...\n",
      "   [189 199 169]\n",
      "   [166 178 130]\n",
      "   [121 133  87]]\n",
      "\n",
      "  ...\n",
      "\n",
      "  [[148 185  79]\n",
      "   [142 182  57]\n",
      "   [140 179  60]\n",
      "   ...\n",
      "   [ 30  17   1]\n",
      "   [ 65  62  15]\n",
      "   [ 76  77  20]]\n",
      "\n",
      "  [[122 157  66]\n",
      "   [120 155  58]\n",
      "   [126 160  71]\n",
      "   ...\n",
      "   [ 22  16   3]\n",
      "   [ 97 112  56]\n",
      "   [141 161  87]]\n",
      "\n",
      "  [[ 87 122  41]\n",
      "   [ 88 122  39]\n",
      "   [101 134  56]\n",
      "   ...\n",
      "   [ 34  36  10]\n",
      "   [105 133  59]\n",
      "   [138 173  79]]]\n",
      "\n",
      "\n",
      " [[[255 255 255]\n",
      "   [253 253 253]\n",
      "   [253 253 253]\n",
      "   ...\n",
      "   [253 253 253]\n",
      "   [253 253 253]\n",
      "   [255 255 255]]\n",
      "\n",
      "  [[255 255 255]\n",
      "   [255 255 255]\n",
      "   [255 255 255]\n",
      "   ...\n",
      "   [255 255 255]\n",
      "   [255 255 255]\n",
      "   [255 255 255]]\n",
      "\n",
      "  [[255 255 255]\n",
      "   [255 255 255]\n",
      "   [255 255 255]\n",
      "   ...\n",
      "   [255 255 255]\n",
      "   [255 255 255]\n",
      "   [255 255 255]]\n",
      "\n",
      "  ...\n",
      "\n",
      "  [[255 255 255]\n",
      "   [255 255 255]\n",
      "   [255 255 255]\n",
      "   ...\n",
      "   [255 255 255]\n",
      "   [255 255 255]\n",
      "   [255 255 255]]\n",
      "\n",
      "  [[255 255 255]\n",
      "   [255 255 255]\n",
      "   [255 255 255]\n",
      "   ...\n",
      "   [255 255 255]\n",
      "   [255 255 255]\n",
      "   [255 255 255]]\n",
      "\n",
      "  [[255 255 255]\n",
      "   [253 253 253]\n",
      "   [253 253 253]\n",
      "   ...\n",
      "   [253 253 253]\n",
      "   [253 253 253]\n",
      "   [255 255 255]]]\n",
      "\n",
      "\n",
      " [[[250 250 248]\n",
      "   [248 249 243]\n",
      "   [247 248 239]\n",
      "   ...\n",
      "   [250 250 246]\n",
      "   [250 250 246]\n",
      "   [249 250 246]]\n",
      "\n",
      "  [[250 251 245]\n",
      "   [248 249 238]\n",
      "   [247 247 234]\n",
      "   ...\n",
      "   [251 251 242]\n",
      "   [251 252 243]\n",
      "   [250 251 243]]\n",
      "\n",
      "  [[251 251 244]\n",
      "   [250 248 237]\n",
      "   [250 245 233]\n",
      "   ...\n",
      "   [250 249 238]\n",
      "   [250 249 240]\n",
      "   [250 249 242]]\n",
      "\n",
      "  ...\n",
      "\n",
      "  [[221 213 191]\n",
      "   [221 206 176]\n",
      "   [225 207 181]\n",
      "   ...\n",
      "   [199 176 134]\n",
      "   [207 193 165]\n",
      "   [233 229 226]]\n",
      "\n",
      "  [[225 223 204]\n",
      "   [227 219 196]\n",
      "   [229 216 200]\n",
      "   ...\n",
      "   [204 185 151]\n",
      "   [212 201 180]\n",
      "   [234 232 228]]\n",
      "\n",
      "  [[233 233 226]\n",
      "   [234 232 224]\n",
      "   [235 230 225]\n",
      "   ...\n",
      "   [219 209 194]\n",
      "   [223 216 207]\n",
      "   [232 230 228]]]\n",
      "\n",
      "\n",
      " [[[124 194 221]\n",
      "   [131 202 228]\n",
      "   [135 206 228]\n",
      "   ...\n",
      "   [149 225 236]\n",
      "   [143 220 234]\n",
      "   [136 213 230]]\n",
      "\n",
      "  [[121 194 220]\n",
      "   [128 201 225]\n",
      "   [134 206 228]\n",
      "   ...\n",
      "   [151 224 234]\n",
      "   [146 222 234]\n",
      "   [142 217 232]]\n",
      "\n",
      "  [[122 197 223]\n",
      "   [129 204 228]\n",
      "   [136 208 229]\n",
      "   ...\n",
      "   [156 228 236]\n",
      "   [153 226 237]\n",
      "   [148 221 235]]\n",
      "\n",
      "  ...\n",
      "\n",
      "  [[129  42  59]\n",
      "   [147  17  38]\n",
      "   [151  16  30]\n",
      "   ...\n",
      "   [234 231 225]\n",
      "   [238 240 233]\n",
      "   [224 197 201]]\n",
      "\n",
      "  [[150  21  40]\n",
      "   [152  17  33]\n",
      "   [156  25  36]\n",
      "   ...\n",
      "   [227 225 221]\n",
      "   [231 241 233]\n",
      "   [231 236 230]]\n",
      "\n",
      "  [[147  12  25]\n",
      "   [146  11  23]\n",
      "   [156  15  29]\n",
      "   ...\n",
      "   [230 237 232]\n",
      "   [243 237 236]\n",
      "   [243 230 231]]]\n",
      "\n",
      "\n",
      " [[[ 43  49  46]\n",
      "   [ 32  40  34]\n",
      "   [ 87  89  47]\n",
      "   ...\n",
      "   [ 74  84  48]\n",
      "   [ 43  51  30]\n",
      "   [ 39  45  33]]\n",
      "\n",
      "  [[ 44  47  51]\n",
      "   [ 38  42  42]\n",
      "   [ 59  61  32]\n",
      "   ...\n",
      "   [ 66  74  47]\n",
      "   [ 40  47  31]\n",
      "   [ 40  46  34]]\n",
      "\n",
      "  [[ 45  45  50]\n",
      "   [ 43  43  44]\n",
      "   [ 44  47  30]\n",
      "   ...\n",
      "   [ 51  58  40]\n",
      "   [ 40  46  34]\n",
      "   [ 43  49  37]]\n",
      "\n",
      "  ...\n",
      "\n",
      "  [[ 51  50  31]\n",
      "   [ 56  51  33]\n",
      "   [ 72  64  45]\n",
      "   ...\n",
      "   [109  94  43]\n",
      "   [160 154  90]\n",
      "   [125 120  62]]\n",
      "\n",
      "  [[ 80  77  45]\n",
      "   [ 68  62  33]\n",
      "   [ 78  69  42]\n",
      "   ...\n",
      "   [101  92  54]\n",
      "   [ 82  79  36]\n",
      "   [ 75  76  32]]\n",
      "\n",
      "  [[109 102  57]\n",
      "   [ 92  84  47]\n",
      "   [108  99  67]\n",
      "   ...\n",
      "   [ 93  88  60]\n",
      "   [ 55  55  29]\n",
      "   [ 63  67  37]]]]\n",
      "First 5 entries of X_test [[[[199 215 249]\n",
      "   [196 211 244]\n",
      "   [195 210 243]\n",
      "   ...\n",
      "   [216 231 250]\n",
      "   [217 231 250]\n",
      "   [224 234 252]]\n",
      "\n",
      "  [[197 210 239]\n",
      "   [195 208 238]\n",
      "   [195 210 240]\n",
      "   ...\n",
      "   [231 243 250]\n",
      "   [233 243 250]\n",
      "   [241 245 253]]\n",
      "\n",
      "  [[222 226 246]\n",
      "   [213 220 242]\n",
      "   [209 219 243]\n",
      "   ...\n",
      "   [243 250 251]\n",
      "   [244 249 251]\n",
      "   [250 250 253]]\n",
      "\n",
      "  ...\n",
      "\n",
      "  [[ 72  73  99]\n",
      "   [ 71  74 102]\n",
      "   [ 74  78 108]\n",
      "   ...\n",
      "   [220 208 217]\n",
      "   [183 168 181]\n",
      "   [155 141 150]]\n",
      "\n",
      "  [[ 72  75 104]\n",
      "   [ 76  81 111]\n",
      "   [ 84  89 122]\n",
      "   ...\n",
      "   [222 212 220]\n",
      "   [187 174 192]\n",
      "   [145 132 149]]\n",
      "\n",
      "  [[ 80  85 118]\n",
      "   [ 84  90 123]\n",
      "   [ 85  92 127]\n",
      "   ...\n",
      "   [217 207 215]\n",
      "   [207 194 211]\n",
      "   [176 164 183]]]\n",
      "\n",
      "\n",
      " [[[113 130  98]\n",
      "   [ 88 105  73]\n",
      "   [ 72  89  58]\n",
      "   ...\n",
      "   [105 124  93]\n",
      "   [ 86 106  74]\n",
      "   [ 63  82  55]]\n",
      "\n",
      "  [[ 95 113  80]\n",
      "   [ 78  97  64]\n",
      "   [ 62  80  49]\n",
      "   ...\n",
      "   [103 122  84]\n",
      "   [ 89 109  70]\n",
      "   [ 65  83  49]]\n",
      "\n",
      "  [[ 79  97  62]\n",
      "   [ 65  82  49]\n",
      "   [ 52  67  37]\n",
      "   ...\n",
      "   [ 65  79  52]\n",
      "   [ 62  79  51]\n",
      "   [ 49  64  38]]\n",
      "\n",
      "  ...\n",
      "\n",
      "  [[121 102  86]\n",
      "   [127 108  96]\n",
      "   [139 121 111]\n",
      "   ...\n",
      "   [ 80 100  71]\n",
      "   [ 75  95  68]\n",
      "   [ 66  85  62]]\n",
      "\n",
      "  [[170 145 131]\n",
      "   [167 145 132]\n",
      "   [159 140 128]\n",
      "   ...\n",
      "   [100 113  84]\n",
      "   [ 89 103  77]\n",
      "   [ 73  87  64]]\n",
      "\n",
      "  [[168 150 135]\n",
      "   [170 152 137]\n",
      "   [173 156 141]\n",
      "   ...\n",
      "   [118 123  96]\n",
      "   [ 99 106  80]\n",
      "   [ 84  92  67]]]\n",
      "\n",
      "\n",
      " [[[ 61  90 120]\n",
      "   [ 61  89 119]\n",
      "   [ 67  96 125]\n",
      "   ...\n",
      "   [ 70  93 124]\n",
      "   [ 64  87 118]\n",
      "   [ 64  88 119]]\n",
      "\n",
      "  [[ 67  97 127]\n",
      "   [ 78 108 138]\n",
      "   [ 80 109 139]\n",
      "   ...\n",
      "   [ 95 113 142]\n",
      "   [ 83 101 129]\n",
      "   [ 83 102 130]]\n",
      "\n",
      "  [[ 64  93 123]\n",
      "   [ 66  95 125]\n",
      "   [ 61  90 120]\n",
      "   ...\n",
      "   [120 134 160]\n",
      "   [109 123 150]\n",
      "   [112 126 152]]\n",
      "\n",
      "  ...\n",
      "\n",
      "  [[ 84  87  87]\n",
      "   [ 67  59  38]\n",
      "   [ 84  78  33]\n",
      "   ...\n",
      "   [204 167 160]\n",
      "   [235 202 192]\n",
      "   [236 206 193]]\n",
      "\n",
      "  [[ 72  64  54]\n",
      "   [ 70  54  30]\n",
      "   [ 84  79  40]\n",
      "   ...\n",
      "   [199 157 152]\n",
      "   [190 150 142]\n",
      "   [196 161 149]]\n",
      "\n",
      "  [[ 72  61  47]\n",
      "   [ 76  64  35]\n",
      "   [ 77  74  37]\n",
      "   ...\n",
      "   [227 191 189]\n",
      "   [155 119 115]\n",
      "   [134  98  89]]]\n",
      "\n",
      "\n",
      " [[[ 93 109 109]\n",
      "   [ 88 106 109]\n",
      "   [104 119 122]\n",
      "   ...\n",
      "   [185 189 223]\n",
      "   [188 191 233]\n",
      "   [198 200 245]]\n",
      "\n",
      "  [[ 87  99 106]\n",
      "   [ 61  75  79]\n",
      "   [ 54  65  71]\n",
      "   ...\n",
      "   [134 136 163]\n",
      "   [148 148 185]\n",
      "   [181 181 224]]\n",
      "\n",
      "  [[ 60  63  62]\n",
      "   [ 58  64  57]\n",
      "   [ 53  56  51]\n",
      "   ...\n",
      "   [106 107 128]\n",
      "   [128 127 160]\n",
      "   [171 170 212]]\n",
      "\n",
      "  ...\n",
      "\n",
      "  [[110 103 126]\n",
      "   [ 94  87 110]\n",
      "   [ 84  76  99]\n",
      "   ...\n",
      "   [108 104 129]\n",
      "   [127 128 160]\n",
      "   [172 174 210]]\n",
      "\n",
      "  [[200 198 236]\n",
      "   [163 162 196]\n",
      "   [120 119 148]\n",
      "   ...\n",
      "   [107 107 135]\n",
      "   [129 128 163]\n",
      "   [175 174 213]]\n",
      "\n",
      "  [[203 202 248]\n",
      "   [178 178 219]\n",
      "   [149 150 187]\n",
      "   ...\n",
      "   [140 141 173]\n",
      "   [155 154 191]\n",
      "   [184 183 223]]]\n",
      "\n",
      "\n",
      " [[[ 80  78 110]\n",
      "   [ 80  81 112]\n",
      "   [ 82  85 116]\n",
      "   ...\n",
      "   [ 89  83 116]\n",
      "   [ 86  80 114]\n",
      "   [ 83  78 110]]\n",
      "\n",
      "  [[ 86  85 114]\n",
      "   [ 88  87 116]\n",
      "   [ 89  91 119]\n",
      "   ...\n",
      "   [ 98  85 118]\n",
      "   [ 95  82 116]\n",
      "   [ 91  80 112]]\n",
      "\n",
      "  [[ 92  87 113]\n",
      "   [ 95  90 116]\n",
      "   [ 97  93 119]\n",
      "   ...\n",
      "   [105  86 117]\n",
      "   [103  84 115]\n",
      "   [ 98  81 111]]\n",
      "\n",
      "  ...\n",
      "\n",
      "  [[ 30  25  36]\n",
      "   [ 30  24  36]\n",
      "   [ 34  26  39]\n",
      "   ...\n",
      "   [ 26  24  38]\n",
      "   [ 26  23  38]\n",
      "   [ 24  24  37]]\n",
      "\n",
      "  [[ 24  22  33]\n",
      "   [ 25  22  33]\n",
      "   [ 28  22  34]\n",
      "   ...\n",
      "   [ 23  21  34]\n",
      "   [ 21  19  32]\n",
      "   [ 18  18  30]]\n",
      "\n",
      "  [[ 21  22  32]\n",
      "   [ 24  23  34]\n",
      "   [ 26  24  35]\n",
      "   ...\n",
      "   [ 24  22  34]\n",
      "   [ 22  20  32]\n",
      "   [ 20  18  29]]]]\n",
      "First 5 entries of Y_train [[19]\n",
      " [29]\n",
      " [ 0]\n",
      " [11]\n",
      " [ 1]]\n",
      "First 5 entries of Y_test [[49]\n",
      " [33]\n",
      " [72]\n",
      " [51]\n",
      " [71]]\n"
     ]
    }
   ],
   "source": [
    "print(\"First 5 entries of X_train\",X_train[0:5])\n",
    "print(\"First 5 entries of X_test\",X_test[0:5])\n",
    "print(\"First 5 entries of Y_train\",Y_train[0:5])\n",
    "print(\"First 5 entries of Y_test\",Y_test[0:5])"
   ]
  },
  {
   "cell_type": "code",
   "execution_count": 5,
   "metadata": {},
   "outputs": [
    {
     "data": {
      "image/png": "[encoded data removed]",
      "text/plain": [
       "<Figure size 1080x360 with 5 Axes>"
      ]
     },
     "metadata": {
      "needs_background": "light"
     },
     "output_type": "display_data"
    }
   ],
   "source": [
    "plt.figure(figsize=(15,5))\n",
    "for i in range(1,6):\n",
    "  plt.subplot(1,5,i)\n",
    "  plt.imshow(X_train[i,:,:],cmap='gray')\n",
    "  plt.title('Sign language of {}'.format(Y_train[i]))\n",
    "  plt.axis('off')\n",
    "  plt.tight_layout()\n",
    "plt.show()"
   ]
  },
  {
   "cell_type": "markdown",
   "metadata": {},
   "source": [
    "Logistic Regression"
   ]
  },
  {
   "cell_type": "code",
   "execution_count": 6,
   "metadata": {},
   "outputs": [],
   "source": [
    "from sklearn.linear_model import LogisticRegression"
   ]
  },
  {
   "cell_type": "code",
   "execution_count": 5,
   "metadata": {},
   "outputs": [],
   "source": [
    "X_test_or=X_test\n",
    "X_train_or=X_train\n",
    "\n",
    "X_train=X_train.reshape(50000, 32*32*3) ## Reshaping data\n",
    "X_test=X_test.reshape(10000, 32*32*3)   ## Reshaping data  "
   ]
  },
  {
   "cell_type": "code",
   "execution_count": 8,
   "metadata": {},
   "outputs": [
    {
     "name": "stdout",
     "output_type": "stream",
     "text": [
      "[255 255 255 ... 138 173  79]\n"
     ]
    }
   ],
   "source": [
    "print(X_train[0])"
   ]
  },
  {
   "cell_type": "code",
   "execution_count": 9,
   "metadata": {},
   "outputs": [
    {
     "name": "stderr",
     "output_type": "stream",
     "text": [
      "/home/daniel/anaconda3/lib/python3.9/site-packages/sklearn/utils/validation.py:993: DataConversionWarning: A column-vector y was passed when a 1d array was expected. Please change the shape of y to (n_samples, ), for example using ravel().\n",
      "  y = column_or_1d(y, warn=True)\n",
      "/home/daniel/anaconda3/lib/python3.9/site-packages/sklearn/linear_model/_logistic.py:814: ConvergenceWarning: lbfgs failed to converge (status=1):\n",
      "STOP: TOTAL NO. of ITERATIONS REACHED LIMIT.\n",
      "\n",
      "Increase the number of iterations (max_iter) or scale the data as shown in:\n",
      "    https://scikit-learn.org/stable/modules/preprocessing.html\n",
      "Please also refer to the documentation for alternative solver options:\n",
      "    https://scikit-learn.org/stable/modules/linear_model.html#logistic-regression\n",
      "  n_iter_i = _check_optimize_result(\n"
     ]
    },
    {
     "data": {
      "text/plain": [
       "LogisticRegression()"
      ]
     },
     "execution_count": 9,
     "metadata": {},
     "output_type": "execute_result"
    }
   ],
   "source": [
    "logreg =  LogisticRegression()\n",
    "logreg.fit(X_train,Y_train) ## fitting the logistic regression model"
   ]
  },
  {
   "cell_type": "code",
   "execution_count": 10,
   "metadata": {},
   "outputs": [
    {
     "data": {
      "text/plain": [
       "array([49, 27, 15, ..., 18, 20, 92])"
      ]
     },
     "execution_count": 10,
     "metadata": {},
     "output_type": "execute_result"
    }
   ],
   "source": [
    "y_pred=logreg.predict(X_test)\n",
    "y_pred"
   ]
  },
  {
   "cell_type": "code",
   "execution_count": 11,
   "metadata": {},
   "outputs": [
    {
     "data": {
      "text/plain": [
       "10000"
      ]
     },
     "execution_count": 11,
     "metadata": {},
     "output_type": "execute_result"
    }
   ],
   "source": [
    "len(y_pred)"
   ]
  },
  {
   "cell_type": "code",
   "execution_count": 12,
   "metadata": {},
   "outputs": [
    {
     "data": {
      "text/plain": [
       "10000"
      ]
     },
     "execution_count": 12,
     "metadata": {},
     "output_type": "execute_result"
    }
   ],
   "source": [
    "len(X_test)"
   ]
  },
  {
   "cell_type": "code",
   "execution_count": 13,
   "metadata": {},
   "outputs": [
    {
     "data": {
      "text/plain": [
       "array([[ 95, 113,  80],\n",
       "       [ 78,  97,  64],\n",
       "       [ 62,  80,  49],\n",
       "       [ 62,  80,  50],\n",
       "       [ 73,  91,  54],\n",
       "       [ 98, 116,  74],\n",
       "       [129, 146,  99],\n",
       "       [147, 161, 118],\n",
       "       [134, 146, 115],\n",
       "       [148, 160, 132],\n",
       "       [140, 152, 115],\n",
       "       [127, 139,  99],\n",
       "       [105, 116,  82],\n",
       "       [ 57,  67,  44],\n",
       "       [ 98, 112,  83],\n",
       "       [117, 132, 101],\n",
       "       [102, 116,  89],\n",
       "       [ 81,  96,  74],\n",
       "       [135, 153, 127],\n",
       "       [151, 169, 141],\n",
       "       [109, 125,  98],\n",
       "       [ 84,  98,  72],\n",
       "       [106, 122,  95],\n",
       "       [144, 163, 134],\n",
       "       [136, 153, 126],\n",
       "       [ 86,  95,  75],\n",
       "       [ 39,  43,  27],\n",
       "       [ 32,  37,  19],\n",
       "       [ 83,  95,  69],\n",
       "       [103, 122,  84],\n",
       "       [ 89, 109,  70],\n",
       "       [ 65,  83,  49]], dtype=uint8)"
      ]
     },
     "execution_count": 13,
     "metadata": {},
     "output_type": "execute_result"
    }
   ],
   "source": [
    "X_test_or[1,1]"
   ]
  },
  {
   "cell_type": "code",
   "execution_count": 14,
   "metadata": {},
   "outputs": [
    {
     "data": {
      "image/png": "[encoded data removed]",
      "text/plain": [
       "<Figure size 1080x360 with 5 Axes>"
      ]
     },
     "metadata": {
      "needs_background": "light"
     },
     "output_type": "display_data"
    }
   ],
   "source": [
    "plt.figure(figsize=(15,5))\n",
    "for i in range(1,6):\n",
    "  plt.subplot(1,5,i)\n",
    "  plt.imshow(X_test_or[i,:,:],cmap='gray')\n",
    "  plt.title('Sign language of {}'.format(Y_train[i]))\n",
    "  plt.axis('off')\n",
    "  plt.tight_layout()\n",
    "plt.show()"
   ]
  },
  {
   "cell_type": "code",
   "execution_count": 15,
   "metadata": {},
   "outputs": [
    {
     "data": {
      "text/plain": [
       "array([[199, 215, 249, ..., 176, 164, 183],\n",
       "       [113, 130,  98, ...,  84,  92,  67],\n",
       "       [ 61,  90, 120, ..., 134,  98,  89],\n",
       "       ...,\n",
       "       [ 24,  38,  31, ...,  60,  94,  54],\n",
       "       [ 86,  90,  80, ..., 120, 117, 109],\n",
       "       [246, 246, 242, ..., 146, 182, 118]], dtype=uint8)"
      ]
     },
     "execution_count": 15,
     "metadata": {},
     "output_type": "execute_result"
    }
   ],
   "source": [
    "#plt.imshow(1,cmap='gray') ## Checking the sign for the first data\n",
    "X_test"
   ]
  },
  {
   "cell_type": "code",
   "execution_count": 12,
   "metadata": {},
   "outputs": [],
   "source": [
    "from sklearn.metrics import confusion_matrix,classification_report\n",
    "from sklearn.metrics import f1_score"
   ]
  },
  {
   "cell_type": "code",
   "execution_count": 17,
   "metadata": {},
   "outputs": [
    {
     "data": {
      "text/plain": [
       "0.1733"
      ]
     },
     "execution_count": 17,
     "metadata": {},
     "output_type": "execute_result"
    }
   ],
   "source": [
    "logreg.score(X_test,Y_test) ## Overall accuracy score of the logistic regression model"
   ]
  },
  {
   "cell_type": "code",
   "execution_count": 18,
   "metadata": {},
   "outputs": [],
   "source": [
    "cm=confusion_matrix(y_pred,Y_test) ## To obtain the confusion matrix"
   ]
  },
  {
   "cell_type": "code",
   "execution_count": 19,
   "metadata": {},
   "outputs": [
    {
     "name": "stdout",
     "output_type": "stream",
     "text": [
      "              precision    recall  f1-score   support\n",
      "\n",
      "           0       0.32      0.31      0.32       103\n",
      "           1       0.20      0.14      0.17       142\n",
      "           2       0.08      0.10      0.09        82\n",
      "           3       0.06      0.11      0.08        54\n",
      "           4       0.03      0.06      0.04        53\n",
      "           5       0.11      0.07      0.09       150\n",
      "           6       0.16      0.13      0.14       123\n",
      "           7       0.27      0.21      0.24       126\n",
      "           8       0.15      0.16      0.15        95\n",
      "           9       0.27      0.23      0.25       119\n",
      "          10       0.08      0.09      0.08        90\n",
      "          11       0.11      0.12      0.12        89\n",
      "          12       0.17      0.17      0.17        99\n",
      "          13       0.12      0.11      0.12       106\n",
      "          14       0.11      0.10      0.11       107\n",
      "          15       0.12      0.18      0.14        68\n",
      "          16       0.18      0.17      0.18       105\n",
      "          17       0.34      0.26      0.29       133\n",
      "          18       0.22      0.19      0.21       114\n",
      "          19       0.09      0.11      0.10        83\n",
      "          20       0.29      0.20      0.23       148\n",
      "          21       0.17      0.17      0.17       103\n",
      "          22       0.21      0.17      0.19       127\n",
      "          23       0.31      0.19      0.24       161\n",
      "          24       0.36      0.22      0.27       167\n",
      "          25       0.04      0.07      0.05        57\n",
      "          26       0.07      0.09      0.08        78\n",
      "          27       0.05      0.06      0.05        85\n",
      "          28       0.17      0.14      0.16       119\n",
      "          29       0.09      0.10      0.09        92\n",
      "          30       0.29      0.35      0.32        82\n",
      "          31       0.11      0.12      0.12        90\n",
      "          32       0.12      0.19      0.15        64\n",
      "          33       0.11      0.17      0.13        64\n",
      "          34       0.15      0.17      0.16        86\n",
      "          35       0.10      0.10      0.10       105\n",
      "          36       0.06      0.18      0.09        33\n",
      "          37       0.11      0.11      0.11        99\n",
      "          38       0.12      0.13      0.12        95\n",
      "          39       0.06      0.05      0.05       120\n",
      "          40       0.11      0.13      0.12        86\n",
      "          41       0.44      0.32      0.37       139\n",
      "          42       0.02      0.05      0.03        39\n",
      "          43       0.15      0.15      0.15        99\n",
      "          44       0.06      0.10      0.07        61\n",
      "          45       0.11      0.14      0.12        80\n",
      "          46       0.09      0.10      0.09        91\n",
      "          47       0.29      0.25      0.27       116\n",
      "          48       0.31      0.21      0.25       147\n",
      "          49       0.23      0.21      0.22       107\n",
      "          50       0.03      0.03      0.03        87\n",
      "          51       0.11      0.09      0.10       124\n",
      "          52       0.45      0.38      0.41       119\n",
      "          53       0.28      0.32      0.30        88\n",
      "          54       0.29      0.21      0.24       139\n",
      "          55       0.03      0.05      0.04        63\n",
      "          56       0.20      0.19      0.20       105\n",
      "          57       0.23      0.16      0.19       141\n",
      "          58       0.26      0.24      0.25       109\n",
      "          59       0.18      0.17      0.17       108\n",
      "          60       0.57      0.45      0.50       128\n",
      "          61       0.18      0.24      0.20        76\n",
      "          62       0.27      0.20      0.23       132\n",
      "          63       0.17      0.18      0.18        93\n",
      "          64       0.03      0.04      0.03        80\n",
      "          65       0.02      0.03      0.02        62\n",
      "          66       0.04      0.06      0.05        67\n",
      "          67       0.25      0.25      0.25        99\n",
      "          68       0.58      0.36      0.45       160\n",
      "          69       0.37      0.27      0.31       137\n",
      "          70       0.20      0.20      0.20        99\n",
      "          71       0.27      0.24      0.25       112\n",
      "          72       0.04      0.07      0.05        54\n",
      "          73       0.28      0.26      0.27       106\n",
      "          74       0.08      0.09      0.09        88\n",
      "          75       0.26      0.18      0.21       146\n",
      "          76       0.28      0.23      0.25       122\n",
      "          77       0.03      0.05      0.04        57\n",
      "          78       0.03      0.05      0.04        60\n",
      "          79       0.04      0.07      0.05        56\n",
      "          80       0.05      0.12      0.07        43\n",
      "          81       0.12      0.11      0.11       110\n",
      "          82       0.41      0.36      0.38       114\n",
      "          83       0.14      0.16      0.15        88\n",
      "          84       0.06      0.08      0.07        75\n",
      "          85       0.30      0.25      0.27       122\n",
      "          86       0.22      0.20      0.21       108\n",
      "          87       0.17      0.14      0.15       123\n",
      "          88       0.04      0.04      0.04       103\n",
      "          89       0.16      0.19      0.17        83\n",
      "          90       0.13      0.16      0.14        83\n",
      "          91       0.28      0.20      0.23       140\n",
      "          92       0.12      0.12      0.12        96\n",
      "          93       0.08      0.11      0.09        75\n",
      "          94       0.32      0.31      0.32       102\n",
      "          95       0.30      0.25      0.27       119\n",
      "          96       0.15      0.15      0.15       100\n",
      "          97       0.10      0.08      0.09       126\n",
      "          98       0.08      0.08      0.08        96\n",
      "          99       0.06      0.06      0.06        96\n",
      "\n",
      "    accuracy                           0.17     10000\n",
      "   macro avg       0.17      0.16      0.16     10000\n",
      "weighted avg       0.20      0.17      0.18     10000\n",
      "\n"
     ]
    }
   ],
   "source": [
    "print(classification_report(y_pred,Y_test))"
   ]
  },
  {
   "cell_type": "code",
   "execution_count": 20,
   "metadata": {
    "scrolled": true
   },
   "outputs": [
    {
     "name": "stdout",
     "output_type": "stream",
     "text": [
      "Test f1 score: 0.18212089754251432\n"
     ]
    }
   ],
   "source": [
    "f1_test = f1_score(y_pred, Y_test, average='weighted')\n",
    "print( \"Test f1 score:\", f1_test)"
   ]
  },
  {
   "cell_type": "markdown",
   "metadata": {},
   "source": [
    "Once we get the results for the Logistic Regression with 100 classes, we proceed to do the same thing with the Structure Predictions package"
   ]
  },
  {
   "cell_type": "code",
   "execution_count": 1,
   "metadata": {},
   "outputs": [],
   "source": [
    "import stpredictions"
   ]
  },
  {
   "cell_type": "code",
   "execution_count": 2,
   "metadata": {},
   "outputs": [],
   "source": [
    "from stpredictions.models.IOKR.model import IOKR\n",
    "from stpredictions.datasets import load_bibtex"
   ]
  },
  {
   "cell_type": "code",
   "execution_count": 7,
   "metadata": {},
   "outputs": [
    {
     "data": {
      "text/plain": [
       "(10000, 3072)"
      ]
     },
     "execution_count": 7,
     "metadata": {},
     "output_type": "execute_result"
    }
   ],
   "source": [
    "X_test.shape"
   ]
  },
  {
   "cell_type": "code",
   "execution_count": 10,
   "metadata": {
    "scrolled": false
   },
   "outputs": [
    {
     "name": "stdout",
     "output_type": "stream",
     "text": [
      "Fitting time: 0.4552767276763916 in s\n",
      "Decoding time: 0.005972385406494141 in s\n",
      "[99]\n"
     ]
    }
   ],
   "source": [
    "clf = IOKR()\n",
    "clf.verbose = 1\n",
    "L = 1e-5\n",
    "#Just using a quantity of 100 due to a shape problem \n",
    "clf.fit(X=X_train[0:100], Y=Y_train[0:100], L=L, input_kernel='linear')\n",
    "Y_pred_test = clf.predict(X_test=X_test[0:20], Y_candidates=Y_test)\n",
    "#f1_test_st = f1_score(Y_pred_test, Y_test, average='weighted')\n",
    "#print( \"Test f1 score:\", f1_test_st)\n",
    "print(Y_pred_test[1])"
   ]
  },
  {
   "cell_type": "code",
   "execution_count": 13,
   "metadata": {},
   "outputs": [
    {
     "ename": "ValueError",
     "evalue": "Found input variables with inconsistent numbers of samples: [20, 10000]",
     "output_type": "error",
     "traceback": [
      "\u001b[0;31m---------------------------------------------------------------------------\u001b[0m",
      "\u001b[0;31mValueError\u001b[0m                                Traceback (most recent call last)",
      "\u001b[1;32m/home/daniel/Documents/AA_Télécom/HiParis/Project/PROJECT/structured-predictions/ex1/100-Comparison.ipynb Cell 30\u001b[0m in \u001b[0;36m<cell line: 1>\u001b[0;34m()\u001b[0m\n\u001b[0;32m----> <a href='vscode-notebook-cell:/home/daniel/Documents/AA_T%C3%A9l%C3%A9com/HiParis/Project/PROJECT/structured-predictions/ex1/100-Comparison.ipynb#X50sZmlsZQ%3D%3D?line=0'>1</a>\u001b[0m \u001b[39mprint\u001b[39m(classification_report(Y_pred_test,Y_test))\n",
      "File \u001b[0;32m~/anaconda3/lib/python3.9/site-packages/sklearn/metrics/_classification.py:2110\u001b[0m, in \u001b[0;36mclassification_report\u001b[0;34m(y_true, y_pred, labels, target_names, sample_weight, digits, output_dict, zero_division)\u001b[0m\n\u001b[1;32m   1998\u001b[0m \u001b[39mdef\u001b[39;00m \u001b[39mclassification_report\u001b[39m(\n\u001b[1;32m   1999\u001b[0m     y_true,\n\u001b[1;32m   2000\u001b[0m     y_pred,\n\u001b[0;32m   (...)\u001b[0m\n\u001b[1;32m   2007\u001b[0m     zero_division\u001b[39m=\u001b[39m\u001b[39m\"\u001b[39m\u001b[39mwarn\u001b[39m\u001b[39m\"\u001b[39m,\n\u001b[1;32m   2008\u001b[0m ):\n\u001b[1;32m   2009\u001b[0m     \u001b[39m\"\"\"Build a text report showing the main classification metrics.\u001b[39;00m\n\u001b[1;32m   2010\u001b[0m \n\u001b[1;32m   2011\u001b[0m \u001b[39m    Read more in the :ref:`User Guide <classification_report>`.\u001b[39;00m\n\u001b[0;32m   (...)\u001b[0m\n\u001b[1;32m   2107\u001b[0m \u001b[39m    <BLANKLINE>\u001b[39;00m\n\u001b[1;32m   2108\u001b[0m \u001b[39m    \"\"\"\u001b[39;00m\n\u001b[0;32m-> 2110\u001b[0m     y_type, y_true, y_pred \u001b[39m=\u001b[39m _check_targets(y_true, y_pred)\n\u001b[1;32m   2112\u001b[0m     \u001b[39mif\u001b[39;00m labels \u001b[39mis\u001b[39;00m \u001b[39mNone\u001b[39;00m:\n\u001b[1;32m   2113\u001b[0m         labels \u001b[39m=\u001b[39m unique_labels(y_true, y_pred)\n",
      "File \u001b[0;32m~/anaconda3/lib/python3.9/site-packages/sklearn/metrics/_classification.py:84\u001b[0m, in \u001b[0;36m_check_targets\u001b[0;34m(y_true, y_pred)\u001b[0m\n\u001b[1;32m     57\u001b[0m \u001b[39mdef\u001b[39;00m \u001b[39m_check_targets\u001b[39m(y_true, y_pred):\n\u001b[1;32m     58\u001b[0m     \u001b[39m\"\"\"Check that y_true and y_pred belong to the same classification task.\u001b[39;00m\n\u001b[1;32m     59\u001b[0m \n\u001b[1;32m     60\u001b[0m \u001b[39m    This converts multiclass or binary types to a common shape, and raises a\u001b[39;00m\n\u001b[0;32m   (...)\u001b[0m\n\u001b[1;32m     82\u001b[0m \u001b[39m    y_pred : array or indicator matrix\u001b[39;00m\n\u001b[1;32m     83\u001b[0m \u001b[39m    \"\"\"\u001b[39;00m\n\u001b[0;32m---> 84\u001b[0m     check_consistent_length(y_true, y_pred)\n\u001b[1;32m     85\u001b[0m     type_true \u001b[39m=\u001b[39m type_of_target(y_true)\n\u001b[1;32m     86\u001b[0m     type_pred \u001b[39m=\u001b[39m type_of_target(y_pred)\n",
      "File \u001b[0;32m~/anaconda3/lib/python3.9/site-packages/sklearn/utils/validation.py:332\u001b[0m, in \u001b[0;36mcheck_consistent_length\u001b[0;34m(*arrays)\u001b[0m\n\u001b[1;32m    330\u001b[0m uniques \u001b[39m=\u001b[39m np\u001b[39m.\u001b[39munique(lengths)\n\u001b[1;32m    331\u001b[0m \u001b[39mif\u001b[39;00m \u001b[39mlen\u001b[39m(uniques) \u001b[39m>\u001b[39m \u001b[39m1\u001b[39m:\n\u001b[0;32m--> 332\u001b[0m     \u001b[39mraise\u001b[39;00m \u001b[39mValueError\u001b[39;00m(\n\u001b[1;32m    333\u001b[0m         \u001b[39m\"\u001b[39m\u001b[39mFound input variables with inconsistent numbers of samples: \u001b[39m\u001b[39m%r\u001b[39;00m\u001b[39m\"\u001b[39m\n\u001b[1;32m    334\u001b[0m         \u001b[39m%\u001b[39m [\u001b[39mint\u001b[39m(l) \u001b[39mfor\u001b[39;00m l \u001b[39min\u001b[39;00m lengths]\n\u001b[1;32m    335\u001b[0m     )\n",
      "\u001b[0;31mValueError\u001b[0m: Found input variables with inconsistent numbers of samples: [20, 10000]"
     ]
    }
   ],
   "source": [
    "print(classification_report(Y_pred_test,Y_test))"
   ]
  },
  {
   "cell_type": "code",
   "execution_count": 30,
   "metadata": {},
   "outputs": [
    {
     "data": {
      "text/plain": [
       "(50000, 3072)"
      ]
     },
     "execution_count": 30,
     "metadata": {},
     "output_type": "execute_result"
    }
   ],
   "source": [
    "X_train.shape"
   ]
  },
  {
   "cell_type": "code",
   "execution_count": 25,
   "metadata": {
    "scrolled": true
   },
   "outputs": [
    {
     "name": "stdout",
     "output_type": "stream",
     "text": [
      "x_train shape: (50000, 32, 32, 3)\n",
      "x_test shape: (10000, 32, 32, 3)\n",
      "y_train shape: (50000, 1)\n",
      "y_test shape: (10000, 1)\n",
      "50000 train samples\n",
      "10000 test samples\n",
      "<class 'numpy.ndarray'>\n",
      "<class 'numpy.ndarray'>\n"
     ]
    }
   ],
   "source": [
    "# Download dataset of CIFAR-100 (Canadian Institute for Advanced Research)\n",
    "(X_train1,Y_train1),(X_test1,Y_test1) = cifar100.load_data(label_mode='coarse')\n",
    " \n",
    "# Check the shape of the array\n",
    "print('x_train shape:', X_train1.shape)\n",
    "print('x_test shape:', X_test1.shape)\n",
    "print('y_train shape:', Y_train1.shape)\n",
    "print('y_test shape:', Y_test1.shape)\n",
    " \n",
    "# Number of data set samples \n",
    "print(X_train1.shape[0], 'train samples')\n",
    "print(X_test1.shape[0], 'test samples')\n",
    " \n",
    "# Data format confirmation\n",
    "print(type(X_test1))\n",
    "print(type(Y_test1[0]))"
   ]
  },
  {
   "cell_type": "code",
   "execution_count": 26,
   "metadata": {},
   "outputs": [
    {
     "data": {
      "text/plain": [
       "array([[11],\n",
       "       [15],\n",
       "       [ 4],\n",
       "       ...,\n",
       "       [ 8],\n",
       "       [ 7],\n",
       "       [ 1]])"
      ]
     },
     "execution_count": 26,
     "metadata": {},
     "output_type": "execute_result"
    }
   ],
   "source": [
    "Y_train1"
   ]
  },
  {
   "cell_type": "code",
   "execution_count": 27,
   "metadata": {},
   "outputs": [
    {
     "data": {
      "text/plain": [
       "array([[10],\n",
       "       [10],\n",
       "       [ 0],\n",
       "       ...,\n",
       "       [ 4],\n",
       "       [ 8],\n",
       "       [ 2]])"
      ]
     },
     "execution_count": 27,
     "metadata": {},
     "output_type": "execute_result"
    }
   ],
   "source": [
    "Y_test1"
   ]
  },
  {
   "cell_type": "code",
   "execution_count": 32,
   "metadata": {},
   "outputs": [
    {
     "data": {
      "text/plain": [
       "array([19, 29,  0, ...,  7,  3,  7])"
      ]
     },
     "execution_count": 32,
     "metadata": {},
     "output_type": "execute_result"
    }
   ],
   "source": [
    "Y_train = Y_train[Y_train < 50]\n",
    "Y_train"
   ]
  },
  {
   "cell_type": "code",
   "execution_count": 29,
   "metadata": {},
   "outputs": [
    {
     "data": {
      "text/plain": [
       "array([[49],\n",
       "       [33],\n",
       "       [72],\n",
       "       ...,\n",
       "       [51],\n",
       "       [42],\n",
       "       [70]])"
      ]
     },
     "execution_count": 29,
     "metadata": {},
     "output_type": "execute_result"
    }
   ],
   "source": [
    "Y_test"
   ]
  }
 ],
 "metadata": {
  "kernelspec": {
   "display_name": "Python 3.8.10 64-bit",
   "language": "python",
   "name": "python3"
  },
  "language_info": {
   "codemirror_mode": {
    "name": "ipython",
    "version": 3
   },
   "file_extension": ".py",
   "mimetype": "text/x-python",
   "name": "python",
   "nbconvert_exporter": "python",
   "pygments_lexer": "ipython3",
   "version": "3.8.10"
  },
  "vscode": {
   "interpreter": {
    "hash": "916dbcbb3f70747c44a77c7bcd40155683ae19c65e1c03b4aa3499c5328201f1"
   }
  }
 },
 "nbformat": 4,
 "nbformat_minor": 2
}
