{
 "cells": [
  {
   "cell_type": "code",
   "execution_count": 1,
   "metadata": {},
   "outputs": [
    {
     "name": "stdout",
     "output_type": "stream",
     "text": [
      "\n",
      "**Image classification using RandomForest: An example in Python using CIFAR10 Dataset***\n"
     ]
    },
    {
     "name": "stderr",
     "output_type": "stream",
     "text": [
      "2022-08-11 11:39:03.420941: I tensorflow/core/util/util.cc:169] oneDNN custom operations are on. You may see slightly different numerical results due to floating-point round-off errors from different computation orders. To turn them off, set the environment variable `TF_ENABLE_ONEDNN_OPTS=0`.\n",
      "2022-08-11 11:39:06.317831: W tensorflow/stream_executor/platform/default/dso_loader.cc:64] Could not load dynamic library 'libcudart.so.11.0'; dlerror: libcudart.so.11.0: cannot open shared object file: No such file or directory\n",
      "2022-08-11 11:39:06.317865: I tensorflow/stream_executor/cuda/cudart_stub.cc:29] Ignore above cudart dlerror if you do not have a GPU set up on your machine.\n"
     ]
    },
    {
     "name": "stdout",
     "output_type": "stream",
     "text": [
      "Downloading data from https://www.cs.toronto.edu/~kriz/cifar-10-python.tar.gz\n",
      "170498071/170498071 [==============================] - 13s 0us/step\n",
      "50000 train samples\n",
      "10000 test samples\n"
     ]
    },
    {
     "name": "stderr",
     "output_type": "stream",
     "text": [
      "[Parallel(n_jobs=-1)]: Using backend LokyBackend with 8 concurrent workers.\n",
      "[Parallel(n_jobs=-1)]: Done   2 out of   2 | elapsed:   30.4s remaining:    0.0s\n",
      "[Parallel(n_jobs=-1)]: Done   2 out of   2 | elapsed:   30.4s finished\n"
     ]
    },
    {
     "name": "stdout",
     "output_type": "stream",
     "text": [
      "\n",
      "[0.33668 0.33568]\n",
      "\n",
      "RandomForestClassifier(n_estimators=10)\n",
      "\n",
      "              precision    recall  f1-score   support\n",
      "\n",
      "           0       0.38      0.53      0.44      1000\n",
      "           1       0.36      0.44      0.39      1000\n",
      "           2       0.25      0.32      0.28      1000\n",
      "           3       0.23      0.22      0.22      1000\n",
      "           4       0.30      0.30      0.30      1000\n",
      "           5       0.30      0.26      0.28      1000\n",
      "           6       0.40      0.33      0.36      1000\n",
      "           7       0.43      0.30      0.35      1000\n",
      "           8       0.54      0.48      0.51      1000\n",
      "           9       0.42      0.34      0.38      1000\n",
      "\n",
      "    accuracy                           0.35     10000\n",
      "   macro avg       0.36      0.35      0.35     10000\n",
      "weighted avg       0.36      0.35      0.35     10000\n",
      "\n",
      "\n",
      "[[529  67  84  34  25  14  20  33 142  52]\n",
      " [ 95 436  46  60  34  44  41  34  70 140]\n",
      " [125  58 319  96 152  67  96  47  17  23]\n",
      " [ 97  83 122 223 103 159  79  65  24  45]\n",
      " [ 88  39 200  84 300  75 105  61  24  24]\n",
      " [ 69  65 151 179  95 260  71  53  32  25]\n",
      " [ 36  75 164 140 118  80 325  33   6  23]\n",
      " [ 79  74 120  80 124  88  40 301  21  73]\n",
      " [181  99  47  38  21  33   8  20 485  68]\n",
      " [109 225  40  51  34  33  26  57  81 344]]\n",
      "\n",
      "Execution Time 72.48699975013733 seconds: \n"
     ]
    }
   ],
   "source": [
    "## Image classification using RandomForest: An example in Python using CIFAR10 Dataset\n",
    "\n",
    "def Snippet_349(): \n",
    "\n",
    "    print()\n",
    "    print(format('Image classification using RandomForest: An example in Python using CIFAR10 Dataset','*^88'))\n",
    "\n",
    "    import warnings\n",
    "    warnings.filterwarnings(\"ignore\")    \n",
    "    \n",
    "    # load libraries\n",
    "    from keras.datasets import cifar10\n",
    "    from sklearn import metrics\n",
    "    from sklearn.ensemble import RandomForestClassifier\n",
    "    from sklearn.model_selection import cross_val_score    \n",
    "\n",
    "    import time\n",
    "    start_time = time.time()\n",
    "\n",
    "    # data: shuffled and split between train and test sets\n",
    "    (X_train, y_train), (X_test, y_test) = cifar10.load_data()\n",
    "\n",
    "    # X_train is 50000 rows of 3x32x32 values --> reshaped in 50000 x 3072\n",
    "    RESHAPED = 3072\n",
    "\n",
    "    X_train = X_train.reshape(50000, RESHAPED)\n",
    "    X_test = X_test.reshape(10000, RESHAPED)\n",
    "    X_train = X_train.astype('float32')\n",
    "    X_test = X_test.astype('float32')\n",
    "\n",
    "    y_train = y_train.flatten()\n",
    "    y_test = y_test.flatten()\n",
    "\n",
    "    # normalize the datasets\n",
    "    X_train /= 255.\n",
    "    X_test /= 255.\n",
    "\n",
    "    print(X_train.shape[0], 'train samples')\n",
    "    print(X_test.shape[0], 'test samples')\n",
    "    \n",
    "    # fit a RandomForest model to the data\n",
    "    model = RandomForestClassifier(n_estimators = 10)\n",
    "\n",
    "    cv_results = cross_val_score(model, X_train, y_train, \n",
    "                   cv = 2, scoring='accuracy', n_jobs = -1, verbose = 1)    \n",
    "\n",
    "    model.fit(X_train, y_train)\n",
    "    \n",
    "    print(); print(cv_results)    \n",
    "    print(); print(model)\n",
    "\n",
    "    # make predictions\n",
    "    expected_y  = y_test\n",
    "    predicted_y = model.predict(X_test)\n",
    "\n",
    "    # summarize the fit of the model\n",
    "    print(); print(metrics.classification_report(expected_y, predicted_y))\n",
    "    print(); print(metrics.confusion_matrix(expected_y, predicted_y))\n",
    "\n",
    "    print()\n",
    "    print(\"Execution Time %s seconds: \" % (time.time() - start_time))    \n",
    "\n",
    "Snippet_349()"
   ]
  }
 ],
 "metadata": {
  "kernelspec": {
   "display_name": "Python 3.9.12 ('base')",
   "language": "python",
   "name": "python3"
  },
  "language_info": {
   "codemirror_mode": {
    "name": "ipython",
    "version": 3
   },
   "file_extension": ".py",
   "mimetype": "text/x-python",
   "name": "python",
   "nbconvert_exporter": "python",
   "pygments_lexer": "ipython3",
   "version": "3.9.12"
  },
  "orig_nbformat": 4,
  "vscode": {
   "interpreter": {
    "hash": "0ad57050c77180dc9ed5ccc7774a474d285089782a3b5193155c6c81d567ba30"
   }
  }
 },
 "nbformat": 4,
 "nbformat_minor": 2
}
