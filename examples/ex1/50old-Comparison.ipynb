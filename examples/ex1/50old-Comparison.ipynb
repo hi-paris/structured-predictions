{
 "cells": [
  {
   "cell_type": "markdown",
   "metadata": {},
   "source": [
    "## METHODS COMPARISON USING CIFAR100 WITH 50 CLASSES"
   ]
  },
  {
   "cell_type": "markdown",
   "metadata": {},
   "source": [
    "On this file, the logistic regression proccess is done in order to compare it with the results of the Structure Predictions package. \\\n",
    "We find out that there are some considerable differences. "
   ]
  },
  {
   "cell_type": "markdown",
   "metadata": {},
   "source": [
    "For this exercice we use the CIFAR100 dataset provided by Keras. This is a dataset of 50,000 32x32 color training images and 10,000 test images, labeled over 100 fine-grained classes that are grouped into 20 coarse-grained classes. "
   ]
  },
  {
   "cell_type": "markdown",
   "metadata": {},
   "source": [
    "In this file we do a subset of the dataset in order to have less categories. For this case, we implement a 50 categories subset as following."
   ]
  },
  {
   "cell_type": "code",
   "execution_count": 1,
   "metadata": {},
   "outputs": [],
   "source": [
    "from sklearn import metrics"
   ]
  },
  {
   "cell_type": "code",
   "execution_count": 2,
   "metadata": {},
   "outputs": [
    {
     "name": "stderr",
     "output_type": "stream",
     "text": [
      "2022-08-11 15:13:29.115553: I tensorflow/core/util/util.cc:169] oneDNN custom operations are on. You may see slightly different numerical results due to floating-point round-off errors from different computation orders. To turn them off, set the environment variable `TF_ENABLE_ONEDNN_OPTS=0`.\n",
      "2022-08-11 15:13:29.120724: W tensorflow/stream_executor/platform/default/dso_loader.cc:64] Could not load dynamic library 'libcudart.so.11.0'; dlerror: libcudart.so.11.0: cannot open shared object file: No such file or directory\n",
      "2022-08-11 15:13:29.120742: I tensorflow/stream_executor/cuda/cudart_stub.cc:29] Ignore above cudart dlerror if you do not have a GPU set up on your machine.\n"
     ]
    },
    {
     "name": "stdout",
     "output_type": "stream",
     "text": [
      "x_train shape: (50000, 32, 32, 3)\n",
      "x_test shape: (10000, 32, 32, 3)\n",
      "y_train shape: (50000, 1)\n",
      "y_test shape: (10000, 1)\n",
      "50000 train samples\n",
      "10000 test samples\n",
      "<class 'numpy.ndarray'>\n",
      "<class 'numpy.ndarray'>\n"
     ]
    }
   ],
   "source": [
    "from keras.datasets import cifar100\n",
    "import matplotlib.pyplot as plt\n",
    "import numpy as np\n",
    "\n",
    "import time\n",
    "\n",
    "\n",
    "# Download dataset of CIFAR-100 (Canadian Institute for Advanced Research)\n",
    "(X_train,Y_train),(X_test,Y_test) = cifar100.load_data()\n",
    " \n",
    "# Check the shape of the array\n",
    "print('x_train shape:', X_train.shape)\n",
    "print('x_test shape:', X_test.shape)\n",
    "print('y_train shape:', Y_train.shape)\n",
    "print('y_test shape:', Y_test.shape)\n",
    " \n",
    "# Number of data set samples \n",
    "print(X_train.shape[0], 'train samples')\n",
    "print(X_test.shape[0], 'test samples')\n",
    " \n",
    "# Data format confirmation\n",
    "print(type(X_test))\n",
    "print(type(Y_test[0]))"
   ]
  },
  {
   "cell_type": "markdown",
   "metadata": {},
   "source": [
    "### Organizing data"
   ]
  },
  {
   "cell_type": "markdown",
   "metadata": {},
   "source": [
    "We just want the first 10 categories of the dataset, so that's why we create a new train dataset and test dataset with those labels as below"
   ]
  },
  {
   "cell_type": "code",
   "execution_count": 3,
   "metadata": {},
   "outputs": [],
   "source": [
    "#   Subset for the CIFAR100 in order to have just 10 categories\n",
    "#Training Dataset\n",
    "sub_X_train = X_train[np.isin(Y_train, [0,1,2,3,4,5,6,7,8,9,10,11,12,13,15,16,\n",
    "                                        17,18,19,20,21,22,23,24,25,26,27,28,29,\n",
    "                                        30,31,32,33,34,35,36,37,38,39,40,\n",
    "                                        41,42,43,44,45,46,47,48,49]).flatten()]\n",
    "sub_Y_train = Y_train[np.isin(Y_train, [0,1,2,3,4,5,6,7,8,9,10,11,12,13,15,16,\n",
    "                                        17,18,19,20,21,22,23,24,25,26,27,28,29,\n",
    "                                        30,31,32,33,34,35,36,37,38,39,40,\n",
    "                                        41,42,43,44,45,46,47,48,49]).flatten()]\n",
    "\n",
    "#Test Dataset\n",
    "sub_X_test = X_test[np.isin(Y_test, [0,1,2,3,4,5,6,7,8,9,10,11,12,13,15,16,\n",
    "                                        17,18,19,20,21,22,23,24,25,26,27,28,29,\n",
    "                                        30,31,32,33,34,35,36,37,38,39,40,\n",
    "                                        41,42,43,44,45,46,47,48,49]).flatten()]\n",
    "sub_Y_test = Y_test[np.isin(Y_test, [0,1,2,3,4,5,6,7,8,9,10,11,12,13,15,16,\n",
    "                                        17,18,19,20,21,22,23,24,25,26,27,28,29,\n",
    "                                        30,31,32,33,34,35,36,37,38,39,40,\n",
    "                                        41,42,43,44,45,46,47,48,49]).flatten()]"
   ]
  },
  {
   "cell_type": "code",
   "execution_count": 10,
   "metadata": {},
   "outputs": [
    {
     "name": "stdout",
     "output_type": "stream",
     "text": [
      "Number of records for 50 classes X train (24500, 32, 32, 3)\n",
      "Number of records for 50 classes X test (4900, 32, 32, 3)\n",
      "Number of records for 50 classes Y train (24500, 1)\n",
      "Number of records for 50 classes Y test (4900, 1)\n"
     ]
    }
   ],
   "source": [
    "print('Number of records for 50 classes X train',sub_X_train.shape)\n",
    "print('Number of records for 50 classes X test',sub_X_test.shape)\n",
    "print('Number of records for 50 classes Y train',sub_Y_train.shape)\n",
    "print('Number of records for 50 classes Y test',sub_Y_test.shape)"
   ]
  },
  {
   "cell_type": "code",
   "execution_count": 6,
   "metadata": {},
   "outputs": [
    {
     "name": "stdout",
     "output_type": "stream",
     "text": [
      "First 5 entries of X_train [[[[255 255 255]\n",
      "   [255 255 255]\n",
      "   [255 255 255]\n",
      "   ...\n",
      "   [195 205 193]\n",
      "   [212 224 204]\n",
      "   [182 194 167]]\n",
      "\n",
      "  [[255 255 255]\n",
      "   [254 254 254]\n",
      "   [254 254 254]\n",
      "   ...\n",
      "   [170 176 150]\n",
      "   [161 168 130]\n",
      "   [146 154 113]]\n",
      "\n",
      "  [[255 255 255]\n",
      "   [254 254 254]\n",
      "   [255 255 255]\n",
      "   ...\n",
      "   [189 199 169]\n",
      "   [166 178 130]\n",
      "   [121 133  87]]\n",
      "\n",
      "  ...\n",
      "\n",
      "  [[148 185  79]\n",
      "   [142 182  57]\n",
      "   [140 179  60]\n",
      "   ...\n",
      "   [ 30  17   1]\n",
      "   [ 65  62  15]\n",
      "   [ 76  77  20]]\n",
      "\n",
      "  [[122 157  66]\n",
      "   [120 155  58]\n",
      "   [126 160  71]\n",
      "   ...\n",
      "   [ 22  16   3]\n",
      "   [ 97 112  56]\n",
      "   [141 161  87]]\n",
      "\n",
      "  [[ 87 122  41]\n",
      "   [ 88 122  39]\n",
      "   [101 134  56]\n",
      "   ...\n",
      "   [ 34  36  10]\n",
      "   [105 133  59]\n",
      "   [138 173  79]]]\n",
      "\n",
      "\n",
      " [[[255 255 255]\n",
      "   [253 253 253]\n",
      "   [253 253 253]\n",
      "   ...\n",
      "   [253 253 253]\n",
      "   [253 253 253]\n",
      "   [255 255 255]]\n",
      "\n",
      "  [[255 255 255]\n",
      "   [255 255 255]\n",
      "   [255 255 255]\n",
      "   ...\n",
      "   [255 255 255]\n",
      "   [255 255 255]\n",
      "   [255 255 255]]\n",
      "\n",
      "  [[255 255 255]\n",
      "   [255 255 255]\n",
      "   [255 255 255]\n",
      "   ...\n",
      "   [255 255 255]\n",
      "   [255 255 255]\n",
      "   [255 255 255]]\n",
      "\n",
      "  ...\n",
      "\n",
      "  [[255 255 255]\n",
      "   [255 255 255]\n",
      "   [255 255 255]\n",
      "   ...\n",
      "   [255 255 255]\n",
      "   [255 255 255]\n",
      "   [255 255 255]]\n",
      "\n",
      "  [[255 255 255]\n",
      "   [255 255 255]\n",
      "   [255 255 255]\n",
      "   ...\n",
      "   [255 255 255]\n",
      "   [255 255 255]\n",
      "   [255 255 255]]\n",
      "\n",
      "  [[255 255 255]\n",
      "   [253 253 253]\n",
      "   [253 253 253]\n",
      "   ...\n",
      "   [253 253 253]\n",
      "   [253 253 253]\n",
      "   [255 255 255]]]\n",
      "\n",
      "\n",
      " [[[250 250 248]\n",
      "   [248 249 243]\n",
      "   [247 248 239]\n",
      "   ...\n",
      "   [250 250 246]\n",
      "   [250 250 246]\n",
      "   [249 250 246]]\n",
      "\n",
      "  [[250 251 245]\n",
      "   [248 249 238]\n",
      "   [247 247 234]\n",
      "   ...\n",
      "   [251 251 242]\n",
      "   [251 252 243]\n",
      "   [250 251 243]]\n",
      "\n",
      "  [[251 251 244]\n",
      "   [250 248 237]\n",
      "   [250 245 233]\n",
      "   ...\n",
      "   [250 249 238]\n",
      "   [250 249 240]\n",
      "   [250 249 242]]\n",
      "\n",
      "  ...\n",
      "\n",
      "  [[221 213 191]\n",
      "   [221 206 176]\n",
      "   [225 207 181]\n",
      "   ...\n",
      "   [199 176 134]\n",
      "   [207 193 165]\n",
      "   [233 229 226]]\n",
      "\n",
      "  [[225 223 204]\n",
      "   [227 219 196]\n",
      "   [229 216 200]\n",
      "   ...\n",
      "   [204 185 151]\n",
      "   [212 201 180]\n",
      "   [234 232 228]]\n",
      "\n",
      "  [[233 233 226]\n",
      "   [234 232 224]\n",
      "   [235 230 225]\n",
      "   ...\n",
      "   [219 209 194]\n",
      "   [223 216 207]\n",
      "   [232 230 228]]]\n",
      "\n",
      "\n",
      " [[[124 194 221]\n",
      "   [131 202 228]\n",
      "   [135 206 228]\n",
      "   ...\n",
      "   [149 225 236]\n",
      "   [143 220 234]\n",
      "   [136 213 230]]\n",
      "\n",
      "  [[121 194 220]\n",
      "   [128 201 225]\n",
      "   [134 206 228]\n",
      "   ...\n",
      "   [151 224 234]\n",
      "   [146 222 234]\n",
      "   [142 217 232]]\n",
      "\n",
      "  [[122 197 223]\n",
      "   [129 204 228]\n",
      "   [136 208 229]\n",
      "   ...\n",
      "   [156 228 236]\n",
      "   [153 226 237]\n",
      "   [148 221 235]]\n",
      "\n",
      "  ...\n",
      "\n",
      "  [[129  42  59]\n",
      "   [147  17  38]\n",
      "   [151  16  30]\n",
      "   ...\n",
      "   [234 231 225]\n",
      "   [238 240 233]\n",
      "   [224 197 201]]\n",
      "\n",
      "  [[150  21  40]\n",
      "   [152  17  33]\n",
      "   [156  25  36]\n",
      "   ...\n",
      "   [227 225 221]\n",
      "   [231 241 233]\n",
      "   [231 236 230]]\n",
      "\n",
      "  [[147  12  25]\n",
      "   [146  11  23]\n",
      "   [156  15  29]\n",
      "   ...\n",
      "   [230 237 232]\n",
      "   [243 237 236]\n",
      "   [243 230 231]]]\n",
      "\n",
      "\n",
      " [[[ 43  49  46]\n",
      "   [ 32  40  34]\n",
      "   [ 87  89  47]\n",
      "   ...\n",
      "   [ 74  84  48]\n",
      "   [ 43  51  30]\n",
      "   [ 39  45  33]]\n",
      "\n",
      "  [[ 44  47  51]\n",
      "   [ 38  42  42]\n",
      "   [ 59  61  32]\n",
      "   ...\n",
      "   [ 66  74  47]\n",
      "   [ 40  47  31]\n",
      "   [ 40  46  34]]\n",
      "\n",
      "  [[ 45  45  50]\n",
      "   [ 43  43  44]\n",
      "   [ 44  47  30]\n",
      "   ...\n",
      "   [ 51  58  40]\n",
      "   [ 40  46  34]\n",
      "   [ 43  49  37]]\n",
      "\n",
      "  ...\n",
      "\n",
      "  [[ 51  50  31]\n",
      "   [ 56  51  33]\n",
      "   [ 72  64  45]\n",
      "   ...\n",
      "   [109  94  43]\n",
      "   [160 154  90]\n",
      "   [125 120  62]]\n",
      "\n",
      "  [[ 80  77  45]\n",
      "   [ 68  62  33]\n",
      "   [ 78  69  42]\n",
      "   ...\n",
      "   [101  92  54]\n",
      "   [ 82  79  36]\n",
      "   [ 75  76  32]]\n",
      "\n",
      "  [[109 102  57]\n",
      "   [ 92  84  47]\n",
      "   [108  99  67]\n",
      "   ...\n",
      "   [ 93  88  60]\n",
      "   [ 55  55  29]\n",
      "   [ 63  67  37]]]]\n",
      "First 5 entries of X_test [[[[199 215 249]\n",
      "   [196 211 244]\n",
      "   [195 210 243]\n",
      "   ...\n",
      "   [216 231 250]\n",
      "   [217 231 250]\n",
      "   [224 234 252]]\n",
      "\n",
      "  [[197 210 239]\n",
      "   [195 208 238]\n",
      "   [195 210 240]\n",
      "   ...\n",
      "   [231 243 250]\n",
      "   [233 243 250]\n",
      "   [241 245 253]]\n",
      "\n",
      "  [[222 226 246]\n",
      "   [213 220 242]\n",
      "   [209 219 243]\n",
      "   ...\n",
      "   [243 250 251]\n",
      "   [244 249 251]\n",
      "   [250 250 253]]\n",
      "\n",
      "  ...\n",
      "\n",
      "  [[ 72  73  99]\n",
      "   [ 71  74 102]\n",
      "   [ 74  78 108]\n",
      "   ...\n",
      "   [220 208 217]\n",
      "   [183 168 181]\n",
      "   [155 141 150]]\n",
      "\n",
      "  [[ 72  75 104]\n",
      "   [ 76  81 111]\n",
      "   [ 84  89 122]\n",
      "   ...\n",
      "   [222 212 220]\n",
      "   [187 174 192]\n",
      "   [145 132 149]]\n",
      "\n",
      "  [[ 80  85 118]\n",
      "   [ 84  90 123]\n",
      "   [ 85  92 127]\n",
      "   ...\n",
      "   [217 207 215]\n",
      "   [207 194 211]\n",
      "   [176 164 183]]]\n",
      "\n",
      "\n",
      " [[[113 130  98]\n",
      "   [ 88 105  73]\n",
      "   [ 72  89  58]\n",
      "   ...\n",
      "   [105 124  93]\n",
      "   [ 86 106  74]\n",
      "   [ 63  82  55]]\n",
      "\n",
      "  [[ 95 113  80]\n",
      "   [ 78  97  64]\n",
      "   [ 62  80  49]\n",
      "   ...\n",
      "   [103 122  84]\n",
      "   [ 89 109  70]\n",
      "   [ 65  83  49]]\n",
      "\n",
      "  [[ 79  97  62]\n",
      "   [ 65  82  49]\n",
      "   [ 52  67  37]\n",
      "   ...\n",
      "   [ 65  79  52]\n",
      "   [ 62  79  51]\n",
      "   [ 49  64  38]]\n",
      "\n",
      "  ...\n",
      "\n",
      "  [[121 102  86]\n",
      "   [127 108  96]\n",
      "   [139 121 111]\n",
      "   ...\n",
      "   [ 80 100  71]\n",
      "   [ 75  95  68]\n",
      "   [ 66  85  62]]\n",
      "\n",
      "  [[170 145 131]\n",
      "   [167 145 132]\n",
      "   [159 140 128]\n",
      "   ...\n",
      "   [100 113  84]\n",
      "   [ 89 103  77]\n",
      "   [ 73  87  64]]\n",
      "\n",
      "  [[168 150 135]\n",
      "   [170 152 137]\n",
      "   [173 156 141]\n",
      "   ...\n",
      "   [118 123  96]\n",
      "   [ 99 106  80]\n",
      "   [ 84  92  67]]]\n",
      "\n",
      "\n",
      " [[[ 37  48  31]\n",
      "   [ 40  57  32]\n",
      "   [ 32  41  27]\n",
      "   ...\n",
      "   [ 59  70  32]\n",
      "   [ 65  78  34]\n",
      "   [ 58  72  37]]\n",
      "\n",
      "  [[ 53  74  37]\n",
      "   [ 48  71  35]\n",
      "   [ 45  54  32]\n",
      "   ...\n",
      "   [ 54  65  33]\n",
      "   [ 61  72  33]\n",
      "   [ 54  66  36]]\n",
      "\n",
      "  [[ 54  77  52]\n",
      "   [ 49  72  50]\n",
      "   [ 56  72  53]\n",
      "   ...\n",
      "   [ 68  82  58]\n",
      "   [ 66  79  50]\n",
      "   [ 53  67  46]]\n",
      "\n",
      "  ...\n",
      "\n",
      "  [[191 153 123]\n",
      "   [195 156 124]\n",
      "   [186 151 119]\n",
      "   ...\n",
      "   [ 76  62  50]\n",
      "   [ 66  55  46]\n",
      "   [ 92  75  63]]\n",
      "\n",
      "  [[199 159 127]\n",
      "   [187 149 118]\n",
      "   [197 160 125]\n",
      "   ...\n",
      "   [ 92  76  63]\n",
      "   [ 95  79  68]\n",
      "   [112  94  82]]\n",
      "\n",
      "  [[185 151 121]\n",
      "   [153 127 106]\n",
      "   [140 120 103]\n",
      "   ...\n",
      "   [122 102  85]\n",
      "   [112  94  84]\n",
      "   [107  95  86]]]\n",
      "\n",
      "\n",
      " [[[233 234 209]\n",
      "   [231 232 208]\n",
      "   [232 233 209]\n",
      "   ...\n",
      "   [105 151 170]\n",
      "   [100 144 166]\n",
      "   [ 95 139 164]]\n",
      "\n",
      "  [[236 236 209]\n",
      "   [234 234 207]\n",
      "   [235 235 208]\n",
      "   ...\n",
      "   [111 157 174]\n",
      "   [105 150 170]\n",
      "   [ 97 142 165]]\n",
      "\n",
      "  [[238 235 207]\n",
      "   [234 231 204]\n",
      "   [235 232 205]\n",
      "   ...\n",
      "   [118 164 180]\n",
      "   [111 156 174]\n",
      "   [103 148 169]]\n",
      "\n",
      "  ...\n",
      "\n",
      "  [[ 18   9  10]\n",
      "   [ 19  10  11]\n",
      "   [ 19  10  12]\n",
      "   ...\n",
      "   [ 19  10  12]\n",
      "   [ 18  10  11]\n",
      "   [ 17   8  10]]\n",
      "\n",
      "  [[ 15  10  15]\n",
      "   [ 16  11  15]\n",
      "   [ 17  11  13]\n",
      "   ...\n",
      "   [ 17  11  15]\n",
      "   [ 17  11  15]\n",
      "   [ 17  11  15]]\n",
      "\n",
      "  [[ 14  10  12]\n",
      "   [ 16  11  13]\n",
      "   [ 17  11  12]\n",
      "   ...\n",
      "   [ 16   9  13]\n",
      "   [ 15   8  12]\n",
      "   [ 19  13  17]]]\n",
      "\n",
      "\n",
      " [[[182 178 189]\n",
      "   [178 173 192]\n",
      "   [182 177 195]\n",
      "   ...\n",
      "   [160 156 177]\n",
      "   [179 176 191]\n",
      "   [181 180 184]]\n",
      "\n",
      "  [[168 161 194]\n",
      "   [150 139 197]\n",
      "   [125 115 169]\n",
      "   ...\n",
      "   [ 86  76 135]\n",
      "   [126 119 163]\n",
      "   [189 186 202]]\n",
      "\n",
      "  [[137 127 179]\n",
      "   [102  88 169]\n",
      "   [ 78  64 140]\n",
      "   ...\n",
      "   [ 73  60 143]\n",
      "   [ 81  70 137]\n",
      "   [163 158 187]]\n",
      "\n",
      "  ...\n",
      "\n",
      "  [[142 135 179]\n",
      "   [124 113 181]\n",
      "   [125 114 179]\n",
      "   ...\n",
      "   [115 103 175]\n",
      "   [116 105 172]\n",
      "   [179 172 205]]\n",
      "\n",
      "  [[164 160 182]\n",
      "   [151 144 188]\n",
      "   [145 136 189]\n",
      "   ...\n",
      "   [134 126 179]\n",
      "   [160 153 194]\n",
      "   [196 192 210]]\n",
      "\n",
      "  [[189 188 190]\n",
      "   [172 169 185]\n",
      "   [178 174 196]\n",
      "   ...\n",
      "   [177 173 193]\n",
      "   [182 180 191]\n",
      "   [184 184 184]]]]\n",
      "First 5 entries of Y_train [[19]\n",
      " [29]\n",
      " [ 0]\n",
      " [11]\n",
      " [ 1]]\n",
      "First 5 entries of Y_test [[49]\n",
      " [33]\n",
      " [15]\n",
      " [23]\n",
      " [ 0]]\n"
     ]
    }
   ],
   "source": [
    "print(\"First 5 entries of X_train\",sub_X_train[0:5])\n",
    "print(\"First 5 entries of X_test\",sub_X_test[0:5])\n",
    "print(\"First 5 entries of Y_train\",sub_Y_train[0:5])\n",
    "print(\"First 5 entries of Y_test\",sub_Y_test[0:5])"
   ]
  },
  {
   "cell_type": "code",
   "execution_count": 7,
   "metadata": {},
   "outputs": [
    {
     "data": {
      "image/png": "[encoded data removed]",
      "text/plain": [
       "<Figure size 1080x360 with 5 Axes>"
      ]
     },
     "metadata": {
      "needs_background": "light"
     },
     "output_type": "display_data"
    }
   ],
   "source": [
    "plt.figure(figsize=(15,5))\n",
    "for i in range(1,6):\n",
    "  plt.subplot(1,5,i)\n",
    "  plt.imshow(sub_X_train[i,:,:],cmap='gray')\n",
    "  plt.title('Sign language of {}'.format(sub_Y_train[i]))\n",
    "  plt.axis('off')\n",
    "  plt.tight_layout()\n",
    "plt.show()"
   ]
  },
  {
   "cell_type": "markdown",
   "metadata": {},
   "source": [
    "### Logistic Regression method"
   ]
  },
  {
   "cell_type": "code",
   "execution_count": 8,
   "metadata": {},
   "outputs": [],
   "source": [
    "from sklearn.linear_model import LogisticRegression"
   ]
  },
  {
   "cell_type": "markdown",
   "metadata": {},
   "source": [
    "For the Logistic Regression implementation, it's needed an X array with dimension <= 2. In this case, we have a dimension of 4, that's why we have to do a reshape as below"
   ]
  },
  {
   "cell_type": "code",
   "execution_count": 11,
   "metadata": {},
   "outputs": [],
   "source": [
    "sub_X_test_or=sub_X_test\n",
    "sub_X_train_or=sub_X_train\n",
    "\n",
    "sub_X_train_rshp=sub_X_train.reshape(24500, 32*32*3) ## Reshaping data\n",
    "sub_X_test_rshp=sub_X_test.reshape(4900, 32*32*3)   ## Reshaping data  "
   ]
  },
  {
   "cell_type": "code",
   "execution_count": 12,
   "metadata": {},
   "outputs": [
    {
     "name": "stdout",
     "output_type": "stream",
     "text": [
      "[255 255 255 ... 138 173  79]\n"
     ]
    }
   ],
   "source": [
    "print(sub_X_train_rshp[0])"
   ]
  },
  {
   "cell_type": "code",
   "execution_count": 13,
   "metadata": {},
   "outputs": [],
   "source": [
    "lr_start_time=time.time()"
   ]
  },
  {
   "cell_type": "code",
   "execution_count": 14,
   "metadata": {},
   "outputs": [
    {
     "name": "stderr",
     "output_type": "stream",
     "text": [
      "/home/daniel/anaconda3/lib/python3.9/site-packages/sklearn/utils/validation.py:993: DataConversionWarning: A column-vector y was passed when a 1d array was expected. Please change the shape of y to (n_samples, ), for example using ravel().\n",
      "  y = column_or_1d(y, warn=True)\n",
      "/home/daniel/anaconda3/lib/python3.9/site-packages/sklearn/linear_model/_logistic.py:814: ConvergenceWarning: lbfgs failed to converge (status=1):\n",
      "STOP: TOTAL NO. of ITERATIONS REACHED LIMIT.\n",
      "\n",
      "Increase the number of iterations (max_iter) or scale the data as shown in:\n",
      "    https://scikit-learn.org/stable/modules/preprocessing.html\n",
      "Please also refer to the documentation for alternative solver options:\n",
      "    https://scikit-learn.org/stable/modules/linear_model.html#logistic-regression\n",
      "  n_iter_i = _check_optimize_result(\n"
     ]
    },
    {
     "data": {
      "text/plain": [
       "LogisticRegression()"
      ]
     },
     "execution_count": 14,
     "metadata": {},
     "output_type": "execute_result"
    }
   ],
   "source": [
    "logreg =  LogisticRegression()\n",
    "logreg.fit(sub_X_train_rshp,sub_Y_train) ## fitting the logistic regression model"
   ]
  },
  {
   "cell_type": "code",
   "execution_count": 27,
   "metadata": {},
   "outputs": [],
   "source": [
    "y_pred=logreg.predict(sub_X_test_rshp)"
   ]
  },
  {
   "cell_type": "code",
   "execution_count": 18,
   "metadata": {},
   "outputs": [
    {
     "data": {
      "text/plain": [
       "4900"
      ]
     },
     "execution_count": 18,
     "metadata": {},
     "output_type": "execute_result"
    }
   ],
   "source": [
    "len(y_pred)"
   ]
  },
  {
   "cell_type": "code",
   "execution_count": 19,
   "metadata": {},
   "outputs": [
    {
     "data": {
      "text/plain": [
       "4900"
      ]
     },
     "execution_count": 19,
     "metadata": {},
     "output_type": "execute_result"
    }
   ],
   "source": [
    "len(sub_X_test)"
   ]
  },
  {
   "cell_type": "code",
   "execution_count": 20,
   "metadata": {},
   "outputs": [
    {
     "data": {
      "image/png": "[encoded data removed]",
      "text/plain": [
       "<Figure size 1080x360 with 5 Axes>"
      ]
     },
     "metadata": {
      "needs_background": "light"
     },
     "output_type": "display_data"
    }
   ],
   "source": [
    "plt.figure(figsize=(15,5))\n",
    "for i in range(1,6):\n",
    "  plt.subplot(1,5,i)\n",
    "  plt.imshow(sub_X_test[i,:,:],cmap='gray')\n",
    "  plt.title('Sign language of {}'.format(Y_train[i]))\n",
    "  plt.axis('off')\n",
    "  plt.tight_layout()\n",
    "plt.show()"
   ]
  },
  {
   "cell_type": "markdown",
   "metadata": {},
   "source": [
    "#### Table for confusion"
   ]
  },
  {
   "cell_type": "code",
   "execution_count": 21,
   "metadata": {},
   "outputs": [],
   "source": [
    "from sklearn.metrics import confusion_matrix,classification_report\n",
    "from sklearn.metrics import f1_score"
   ]
  },
  {
   "cell_type": "code",
   "execution_count": 22,
   "metadata": {},
   "outputs": [
    {
     "data": {
      "text/plain": [
       "0.2279591836734694"
      ]
     },
     "execution_count": 22,
     "metadata": {},
     "output_type": "execute_result"
    }
   ],
   "source": [
    "logreg.score(sub_X_test_rshp,sub_Y_test) ## Overall accuracy score of the logistic regression model"
   ]
  },
  {
   "cell_type": "code",
   "execution_count": 23,
   "metadata": {},
   "outputs": [
    {
     "name": "stdout",
     "output_type": "stream",
     "text": [
      "              precision    recall  f1-score   support\n",
      "\n",
      "           0       0.48      0.37      0.42       131\n",
      "           1       0.31      0.24      0.27       127\n",
      "           2       0.08      0.09      0.09        88\n",
      "           3       0.09      0.14      0.11        63\n",
      "           4       0.05      0.08      0.06        65\n",
      "           5       0.17      0.14      0.15       120\n",
      "           6       0.19      0.17      0.18       110\n",
      "           7       0.32      0.28      0.30       114\n",
      "           8       0.17      0.22      0.19        76\n",
      "           9       0.32      0.26      0.28       125\n",
      "          10       0.09      0.10      0.10        86\n",
      "          11       0.14      0.14      0.14        99\n",
      "          12       0.26      0.26      0.26       101\n",
      "          13       0.22      0.18      0.20       123\n",
      "          15       0.13      0.17      0.15        75\n",
      "          16       0.18      0.26      0.21        70\n",
      "          17       0.43      0.30      0.36       142\n",
      "          18       0.33      0.31      0.32       106\n",
      "          19       0.10      0.14      0.12        71\n",
      "          20       0.36      0.25      0.30       144\n",
      "          21       0.25      0.30      0.27        84\n",
      "          22       0.23      0.21      0.22       107\n",
      "          23       0.50      0.29      0.37       173\n",
      "          24       0.47      0.28      0.35       169\n",
      "          25       0.09      0.11      0.10        83\n",
      "          26       0.10      0.14      0.12        69\n",
      "          27       0.14      0.18      0.16        76\n",
      "          28       0.21      0.24      0.22        88\n",
      "          29       0.10      0.15      0.12        68\n",
      "          30       0.57      0.52      0.55       109\n",
      "          31       0.16      0.20      0.18        82\n",
      "          32       0.14      0.19      0.16        75\n",
      "          33       0.20      0.23      0.22        86\n",
      "          34       0.25      0.25      0.25       102\n",
      "          35       0.11      0.11      0.11       100\n",
      "          36       0.16      0.13      0.14       124\n",
      "          37       0.20      0.16      0.18       123\n",
      "          38       0.15      0.16      0.16        91\n",
      "          39       0.15      0.13      0.14       112\n",
      "          40       0.15      0.14      0.14       111\n",
      "          41       0.51      0.44      0.47       115\n",
      "          42       0.04      0.11      0.06        37\n",
      "          43       0.21      0.23      0.22        90\n",
      "          44       0.10      0.11      0.11        90\n",
      "          45       0.13      0.17      0.15        77\n",
      "          46       0.10      0.14      0.12        69\n",
      "          47       0.56      0.50      0.53       113\n",
      "          48       0.33      0.28      0.30       120\n",
      "          49       0.44      0.36      0.40       121\n",
      "\n",
      "    accuracy                           0.23      4900\n",
      "   macro avg       0.23      0.22      0.22      4900\n",
      "weighted avg       0.26      0.23      0.24      4900\n",
      "\n",
      "\n",
      "Execution Time 178.2057044506073 seconds: \n"
     ]
    }
   ],
   "source": [
    "lr_cm=confusion_matrix(y_pred,sub_Y_test) ## To obtain the confusion matrix\n",
    "print(classification_report(y_pred,sub_Y_test))\n",
    "\n",
    "print()\n",
    "print(\"Execution Time %s seconds: \" % (time.time() - lr_start_time))"
   ]
  },
  {
   "cell_type": "code",
   "execution_count": 24,
   "metadata": {},
   "outputs": [
    {
     "data": {
      "text/plain": [
       "array([[48,  2,  7, ...,  4,  0,  0],\n",
       "       [ 7, 31,  3, ...,  2,  3,  0],\n",
       "       [ 3,  3,  8, ...,  0,  0,  0],\n",
       "       ...,\n",
       "       [ 1,  1,  1, ..., 56,  1,  0],\n",
       "       [ 0,  3,  1, ...,  0, 33,  0],\n",
       "       [ 0,  2,  0, ...,  0,  1, 44]])"
      ]
     },
     "execution_count": 24,
     "metadata": {},
     "output_type": "execute_result"
    }
   ],
   "source": [
    "lr_cm"
   ]
  },
  {
   "cell_type": "code",
   "execution_count": 25,
   "metadata": {},
   "outputs": [
    {
     "name": "stdout",
     "output_type": "stream",
     "text": [
      "Test f1 score: 0.23771743796819145\n"
     ]
    }
   ],
   "source": [
    "f1_test = f1_score(y_pred, sub_Y_test, average='weighted')\n",
    "print( \"Test f1 score:\", f1_test)"
   ]
  },
  {
   "cell_type": "code",
   "execution_count": 28,
   "metadata": {},
   "outputs": [
    {
     "data": {
      "text/plain": [
       "array([12,  2, 40, ..., 35, 30, 20])"
      ]
     },
     "execution_count": 28,
     "metadata": {},
     "output_type": "execute_result"
    }
   ],
   "source": [
    "y_pred"
   ]
  },
  {
   "cell_type": "markdown",
   "metadata": {},
   "source": [
    "### Structure Predictions method"
   ]
  },
  {
   "cell_type": "markdown",
   "metadata": {},
   "source": [
    "We procceed to create execute the Structure predictions method in order to identify differences and get some conclusions."
   ]
  },
  {
   "cell_type": "code",
   "execution_count": 29,
   "metadata": {},
   "outputs": [],
   "source": [
    "from stpredictions.models.IOKR.model import IOKR"
   ]
  },
  {
   "cell_type": "code",
   "execution_count": 30,
   "metadata": {},
   "outputs": [
    {
     "data": {
      "text/plain": [
       "(4900, 3072)"
      ]
     },
     "execution_count": 30,
     "metadata": {},
     "output_type": "execute_result"
    }
   ],
   "source": [
    "sub_X_test_rshp.shape"
   ]
  },
  {
   "cell_type": "code",
   "execution_count": 31,
   "metadata": {},
   "outputs": [],
   "source": [
    "sp_start_time= time.time()"
   ]
  },
  {
   "cell_type": "code",
   "execution_count": 34,
   "metadata": {},
   "outputs": [
    {
     "name": "stdout",
     "output_type": "stream",
     "text": [
      "Fitting time: 0.1670691967010498 in s\n",
      "Decoding time: 0.3664553165435791 in s\n",
      "[0]\n"
     ]
    }
   ],
   "source": [
    "clf = IOKR()\n",
    "clf.verbose = 1\n",
    "L = 1e-5\n",
    "#Just using a quantity of 100 due to a shape problem \n",
    "clf.fit(X=sub_X_train_rshp[0:100], Y=sub_Y_train[0:100], L=L, input_kernel='linear')\n",
    "Y_pred_test = clf.predict(X_test=sub_X_test_rshp[0:10000], Y_candidates=sub_Y_test)\n",
    "#f1_test_st = f1_score(Y_pred_test, Y_test, average='weighted')\n",
    "#print( \"Test f1 score:\", f1_test_st)\n",
    "print(Y_pred_test[1])"
   ]
  },
  {
   "cell_type": "code",
   "execution_count": 35,
   "metadata": {},
   "outputs": [
    {
     "name": "stdout",
     "output_type": "stream",
     "text": [
      "              precision    recall  f1-score   support\n",
      "\n",
      "           0       0.09      0.02      0.04       397\n",
      "           1       0.00      0.00      0.00         0\n",
      "           2       0.00      0.00      0.00         0\n",
      "           3       0.00      0.00      0.00         0\n",
      "           4       0.00      0.00      0.00         0\n",
      "           5       0.00      0.00      0.00         0\n",
      "           6       0.00      0.00      0.00         0\n",
      "           7       0.00      0.00      0.00         0\n",
      "           8       0.00      0.00      0.00         0\n",
      "           9       0.00      0.00      0.00         0\n",
      "          10       0.00      0.00      0.00         0\n",
      "          11       0.00      0.00      0.00         0\n",
      "          12       0.00      0.00      0.00         0\n",
      "          13       0.00      0.00      0.00         0\n",
      "          15       0.00      0.00      0.00         0\n",
      "          16       0.00      0.00      0.00         0\n",
      "          17       0.00      0.00      0.00         0\n",
      "          18       0.00      0.00      0.00         0\n",
      "          19       0.00      0.00      0.00         0\n",
      "          20       0.00      0.00      0.00         0\n",
      "          21       0.00      0.00      0.00         0\n",
      "          22       0.00      0.00      0.00         0\n",
      "          23       0.00      0.00      0.00         0\n",
      "          24       0.00      0.00      0.00         0\n",
      "          25       0.00      0.00      0.00         0\n",
      "          26       0.00      0.00      0.00         0\n",
      "          27       0.00      0.00      0.00         0\n",
      "          28       0.00      0.00      0.00         0\n",
      "          29       0.00      0.00      0.00         0\n",
      "          30       0.00      0.00      0.00         0\n",
      "          31       0.00      0.00      0.00         0\n",
      "          32       0.00      0.00      0.00         0\n",
      "          33       0.00      0.00      0.00         0\n",
      "          34       0.00      0.00      0.00         0\n",
      "          35       0.00      0.00      0.00         0\n",
      "          36       0.00      0.00      0.00         0\n",
      "          37       0.00      0.00      0.00         0\n",
      "          38       0.00      0.00      0.00         0\n",
      "          39       0.00      0.00      0.00         0\n",
      "          40       0.00      0.00      0.00         0\n",
      "          41       0.00      0.00      0.00         0\n",
      "          42       0.00      0.00      0.00         0\n",
      "          43       0.00      0.00      0.00         0\n",
      "          44       0.00      0.00      0.00         0\n",
      "          45       0.00      0.00      0.00         0\n",
      "          46       0.00      0.00      0.00         0\n",
      "          47       0.00      0.00      0.00         0\n",
      "          48       0.00      0.00      0.00         0\n",
      "          49       0.99      0.02      0.04      4503\n",
      "\n",
      "    accuracy                           0.02      4900\n",
      "   macro avg       0.02      0.00      0.00      4900\n",
      "weighted avg       0.92      0.02      0.04      4900\n",
      "\n",
      "\n",
      "Execution Time 38.1595356464386 seconds: \n"
     ]
    },
    {
     "name": "stderr",
     "output_type": "stream",
     "text": [
      "/home/daniel/anaconda3/lib/python3.9/site-packages/sklearn/metrics/_classification.py:1318: UndefinedMetricWarning: Recall and F-score are ill-defined and being set to 0.0 in labels with no true samples. Use `zero_division` parameter to control this behavior.\n",
      "  _warn_prf(average, modifier, msg_start, len(result))\n",
      "/home/daniel/anaconda3/lib/python3.9/site-packages/sklearn/metrics/_classification.py:1318: UndefinedMetricWarning: Recall and F-score are ill-defined and being set to 0.0 in labels with no true samples. Use `zero_division` parameter to control this behavior.\n",
      "  _warn_prf(average, modifier, msg_start, len(result))\n",
      "/home/daniel/anaconda3/lib/python3.9/site-packages/sklearn/metrics/_classification.py:1318: UndefinedMetricWarning: Recall and F-score are ill-defined and being set to 0.0 in labels with no true samples. Use `zero_division` parameter to control this behavior.\n",
      "  _warn_prf(average, modifier, msg_start, len(result))\n"
     ]
    }
   ],
   "source": [
    "sp_cm=confusion_matrix(Y_pred_test,sub_Y_test) ## To obtain the confusion matrix\n",
    "print(classification_report(Y_pred_test,sub_Y_test))\n",
    "\n",
    "print()\n",
    "print(\"Execution Time %s seconds: \" % (time.time() - sp_start_time))"
   ]
  },
  {
   "cell_type": "code",
   "execution_count": 36,
   "metadata": {},
   "outputs": [
    {
     "data": {
      "text/plain": [
       "array([[49],\n",
       "       [ 0],\n",
       "       [49],\n",
       "       ...,\n",
       "       [49],\n",
       "       [49],\n",
       "       [ 0]])"
      ]
     },
     "execution_count": 36,
     "metadata": {},
     "output_type": "execute_result"
    }
   ],
   "source": [
    "Y_pred_test"
   ]
  },
  {
   "cell_type": "code",
   "execution_count": 37,
   "metadata": {},
   "outputs": [
    {
     "data": {
      "text/plain": [
       "array([[49],\n",
       "       [33],\n",
       "       [15],\n",
       "       ...,\n",
       "       [16],\n",
       "       [30],\n",
       "       [42]])"
      ]
     },
     "execution_count": 37,
     "metadata": {},
     "output_type": "execute_result"
    }
   ],
   "source": [
    "sub_Y_test"
   ]
  },
  {
   "cell_type": "markdown",
   "metadata": {},
   "source": [
    "### Random Forest method"
   ]
  },
  {
   "cell_type": "code",
   "execution_count": 38,
   "metadata": {},
   "outputs": [],
   "source": [
    "from sklearn.ensemble import RandomForestClassifier\n",
    "from sklearn.model_selection import cross_val_score\n",
    "\n",
    "rf_start_time = time.time()"
   ]
  },
  {
   "cell_type": "code",
   "execution_count": 39,
   "metadata": {},
   "outputs": [],
   "source": [
    "sub_X_train = X_train.astype('float32')\n",
    "sub_X_test = X_test.astype('float32')"
   ]
  },
  {
   "cell_type": "code",
   "execution_count": 40,
   "metadata": {},
   "outputs": [
    {
     "name": "stdout",
     "output_type": "stream",
     "text": [
      "50000 train samples\n",
      "10000 test samples\n"
     ]
    }
   ],
   "source": [
    "print(sub_X_train.shape[0], 'train samples')\n",
    "print(sub_X_test.shape[0], 'test samples')"
   ]
  },
  {
   "cell_type": "code",
   "execution_count": 41,
   "metadata": {},
   "outputs": [],
   "source": [
    "# fit a RandomForest model to the data\n",
    "model = RandomForestClassifier(n_estimators = 10)"
   ]
  },
  {
   "cell_type": "code",
   "execution_count": 42,
   "metadata": {},
   "outputs": [],
   "source": [
    "sub_Y_train = sub_Y_train.flatten()\n",
    "sub_Y_test = sub_Y_test.flatten()\n",
    "\n",
    "# normalize the datasets\n",
    "sub_X_train /= 255.\n",
    "sub_X_test /= 255."
   ]
  },
  {
   "cell_type": "code",
   "execution_count": 43,
   "metadata": {},
   "outputs": [
    {
     "name": "stdout",
     "output_type": "stream",
     "text": [
      "RandomForestClassifier(n_estimators=10)\n"
     ]
    }
   ],
   "source": [
    "model.fit(sub_X_train_rshp, sub_Y_train)\n",
    "print(model)"
   ]
  },
  {
   "cell_type": "code",
   "execution_count": 44,
   "metadata": {},
   "outputs": [
    {
     "name": "stderr",
     "output_type": "stream",
     "text": [
      "[Parallel(n_jobs=-1)]: Using backend LokyBackend with 8 concurrent workers.\n",
      "[Parallel(n_jobs=-1)]: Done   2 out of   2 | elapsed:   35.5s remaining:    0.0s\n",
      "[Parallel(n_jobs=-1)]: Done   2 out of   2 | elapsed:   36.4s finished\n"
     ]
    },
    {
     "name": "stdout",
     "output_type": "stream",
     "text": [
      "\n",
      "[0.16261224 0.15828571]\n"
     ]
    }
   ],
   "source": [
    "cv_results = cross_val_score(model, sub_X_train_rshp, sub_Y_train,\n",
    "                cv = 2, scoring='accuracy', n_jobs = -1, verbose = 1)\n",
    "\n",
    "#model.fit(sub_X_train, sub_Y_train)\n",
    "\n",
    "print(); print(cv_results)\n",
    "#print(); print(model)"
   ]
  },
  {
   "cell_type": "code",
   "execution_count": 45,
   "metadata": {},
   "outputs": [],
   "source": [
    "# make predictions\n",
    "expected_y  = sub_Y_test\n",
    "predicted_y = model.predict(sub_X_test_rshp)"
   ]
  },
  {
   "cell_type": "code",
   "execution_count": 47,
   "metadata": {},
   "outputs": [
    {
     "name": "stdout",
     "output_type": "stream",
     "text": [
      "\n",
      "              precision    recall  f1-score   support\n",
      "\n",
      "           0       0.22      0.57      0.31       100\n",
      "           1       0.17      0.45      0.24       100\n",
      "           2       0.07      0.17      0.10       100\n",
      "           3       0.08      0.16      0.11       100\n",
      "           4       0.12      0.19      0.14       100\n",
      "           5       0.07      0.12      0.09       100\n",
      "           6       0.17      0.25      0.21       100\n",
      "           7       0.15      0.21      0.18       100\n",
      "           8       0.11      0.11      0.11       100\n",
      "           9       0.24      0.27      0.25       100\n",
      "          10       0.07      0.06      0.06       100\n",
      "          11       0.12      0.11      0.12       100\n",
      "          12       0.11      0.13      0.12       100\n",
      "          13       0.13      0.10      0.11       100\n",
      "          15       0.07      0.06      0.06       100\n",
      "          16       0.25      0.23      0.24       100\n",
      "          17       0.31      0.45      0.36       100\n",
      "          18       0.14      0.10      0.12       100\n",
      "          19       0.05      0.04      0.04       100\n",
      "          20       0.39      0.50      0.44       100\n",
      "          21       0.20      0.17      0.18       100\n",
      "          22       0.28      0.21      0.24       100\n",
      "          23       0.37      0.45      0.41       100\n",
      "          24       0.45      0.51      0.48       100\n",
      "          25       0.08      0.05      0.06       100\n",
      "          26       0.11      0.07      0.08       100\n",
      "          27       0.06      0.05      0.05       100\n",
      "          28       0.28      0.21      0.24       100\n",
      "          29       0.23      0.15      0.18       100\n",
      "          30       0.42      0.52      0.47       100\n",
      "          31       0.14      0.12      0.13       100\n",
      "          32       0.10      0.05      0.07       100\n",
      "          33       0.14      0.15      0.14       100\n",
      "          34       0.12      0.09      0.10       100\n",
      "          35       0.08      0.06      0.07       100\n",
      "          36       0.21      0.13      0.16       100\n",
      "          37       0.17      0.11      0.13       100\n",
      "          38       0.10      0.07      0.08       100\n",
      "          39       0.24      0.14      0.18       100\n",
      "          40       0.15      0.08      0.10       100\n",
      "          41       0.59      0.43      0.50       100\n",
      "          42       0.11      0.07      0.08       100\n",
      "          43       0.10      0.07      0.08       100\n",
      "          44       0.07      0.04      0.05       100\n",
      "          45       0.09      0.04      0.06       100\n",
      "          46       0.16      0.06      0.09       100\n",
      "          47       0.42      0.39      0.40       100\n",
      "          48       0.35      0.15      0.21       100\n",
      "          49       0.34      0.30      0.32       100\n",
      "\n",
      "    accuracy                           0.19      4900\n",
      "   macro avg       0.19      0.19      0.18      4900\n",
      "weighted avg       0.19      0.19      0.18      4900\n",
      "\n",
      "\n",
      "Execution Time 151.15758228302002 seconds: \n"
     ]
    }
   ],
   "source": [
    "# summarize the fit of the model\n",
    "print(); print(classification_report(expected_y, predicted_y))\n",
    "#print(); print(metrics.confusion_matrix(expected_y, predicted_y))\n",
    "\n",
    "print()\n",
    "print(\"Execution Time %s seconds: \" % (time.time() - rf_start_time))   "
   ]
  },
  {
   "cell_type": "code",
   "execution_count": 48,
   "metadata": {},
   "outputs": [
    {
     "data": {
      "text/plain": [
       "array([[57,  6,  8, ...,  3,  5,  1],\n",
       "       [ 5, 45,  5, ...,  2,  5,  2],\n",
       "       [ 2,  3, 17, ...,  2,  3,  1],\n",
       "       ...,\n",
       "       [ 0,  0,  0, ..., 39,  0,  1],\n",
       "       [ 0,  1,  1, ...,  0, 15,  0],\n",
       "       [ 0,  0,  1, ...,  0,  1, 30]])"
      ]
     },
     "execution_count": 48,
     "metadata": {},
     "output_type": "execute_result"
    }
   ],
   "source": [
    "rf_cm=confusion_matrix(predicted_y,sub_Y_test) ## To obtain the confusion matrix\n",
    "rf_cm"
   ]
  },
  {
   "cell_type": "code",
   "execution_count": 49,
   "metadata": {},
   "outputs": [
    {
     "data": {
      "text/plain": [
       "array([17, 23, 10, ..., 22, 30,  2])"
      ]
     },
     "execution_count": 49,
     "metadata": {},
     "output_type": "execute_result"
    }
   ],
   "source": [
    "predicted_y"
   ]
  }
 ],
 "metadata": {
  "kernelspec": {
   "display_name": "Python 3 (ipykernel)",
   "language": "python",
   "name": "python3"
  },
  "language_info": {
   "codemirror_mode": {
    "name": "ipython",
    "version": 3
   },
   "file_extension": ".py",
   "mimetype": "text/x-python",
   "name": "python",
   "nbconvert_exporter": "python",
   "pygments_lexer": "ipython3",
   "version": "3.9.12"
  },
  "vscode": {
   "interpreter": {
    "hash": "0ad57050c77180dc9ed5ccc7774a474d285089782a3b5193155c6c81d567ba30"
   }
  }
 },
 "nbformat": 4,
 "nbformat_minor": 4
}
