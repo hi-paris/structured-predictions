{
 "cells": [
  {
   "cell_type": "markdown",
   "metadata": {
    "id": "psZRdVZsQIoJ"
   },
   "source": [
    "## METHODS COMPARISON USING CIFAR100 WITH 10 CLASSES"
   ]
  },
  {
   "cell_type": "markdown",
   "metadata": {
    "id": "HQJCf_NuQIoL"
   },
   "source": [
    "On this file, the logistic regression proccess is done in order to compare it with the results of the Structure Predictions package. \\\n",
    "We find out that there are some considerable differences. "
   ]
  },
  {
   "cell_type": "markdown",
   "metadata": {
    "id": "PKUuPFyzQIoM"
   },
   "source": [
    "For this exercice we use the CIFAR100 dataset provided by Keras. This is a dataset of 50,000 32x32 color training images and 10,000 test images, labeled over 100 fine-grained classes that are grouped into 20 coarse-grained classes. "
   ]
  },
  {
   "cell_type": "markdown",
   "metadata": {
    "id": "fGYYnBVrQIoM"
   },
   "source": [
    "In this file we do a subset of the dataset in order to have less categories. For this case, we implement a 10 categories subset as following."
   ]
  },
  {
   "cell_type": "code",
   "execution_count": 1,
   "metadata": {
    "id": "EUFbm0flQIoM"
   },
   "outputs": [],
   "source": [
    "from sklearn import metrics"
   ]
  },
  {
   "cell_type": "code",
   "execution_count": 2,
   "metadata": {
    "colab": {
     "base_uri": "https://localhost:8080/"
    },
    "id": "V_lE4u3WQIoN",
    "outputId": "b1651737-c783-42cd-86f3-7ab2afe895aa"
   },
   "outputs": [
    {
     "name": "stderr",
     "output_type": "stream",
     "text": [
      "2022-08-13 13:26:06.901949: I tensorflow/core/util/util.cc:169] oneDNN custom operations are on. You may see slightly different numerical results due to floating-point round-off errors from different computation orders. To turn them off, set the environment variable `TF_ENABLE_ONEDNN_OPTS=0`.\n",
      "2022-08-13 13:26:06.905906: W tensorflow/stream_executor/platform/default/dso_loader.cc:64] Could not load dynamic library 'libcudart.so.11.0'; dlerror: libcudart.so.11.0: cannot open shared object file: No such file or directory\n",
      "2022-08-13 13:26:06.905919: I tensorflow/stream_executor/cuda/cudart_stub.cc:29] Ignore above cudart dlerror if you do not have a GPU set up on your machine.\n"
     ]
    },
    {
     "name": "stdout",
     "output_type": "stream",
     "text": [
      "x_train shape: (50000, 32, 32, 3)\n",
      "x_test shape: (10000, 32, 32, 3)\n",
      "y_train shape: (50000, 1)\n",
      "y_test shape: (10000, 1)\n",
      "50000 train samples\n",
      "10000 test samples\n",
      "<class 'numpy.ndarray'>\n",
      "<class 'numpy.ndarray'>\n"
     ]
    }
   ],
   "source": [
    "from keras.datasets import cifar100\n",
    "import matplotlib.pyplot as plt\n",
    "import numpy as np\n",
    "\n",
    "import time\n",
    "\n",
    "\n",
    "# Download dataset of CIFAR-100 (Canadian Institute for Advanced Research)\n",
    "(X_train,Y_train),(X_test,Y_test) = cifar100.load_data()\n",
    " \n",
    "# Check the shape of the array\n",
    "print('x_train shape:', X_train.shape)\n",
    "print('x_test shape:', X_test.shape)\n",
    "print('y_train shape:', Y_train.shape)\n",
    "print('y_test shape:', Y_test.shape)\n",
    " \n",
    "# Number of data set samples \n",
    "print(X_train.shape[0], 'train samples')\n",
    "print(X_test.shape[0], 'test samples')\n",
    " \n",
    "# Data format confirmation\n",
    "print(type(X_test))\n",
    "print(type(Y_test[0]))"
   ]
  },
  {
   "cell_type": "markdown",
   "metadata": {
    "id": "PDWZvWVYQIoO"
   },
   "source": [
    "### Organizing data"
   ]
  },
  {
   "cell_type": "markdown",
   "metadata": {
    "id": "jf4f3pzWQIoO"
   },
   "source": [
    "We just want the first 10 categories of the dataset, so that's why we create a new train dataset and test dataset with those labels as below"
   ]
  },
  {
   "cell_type": "code",
   "execution_count": 3,
   "metadata": {
    "id": "NHepe0ATQIoO"
   },
   "outputs": [],
   "source": [
    "#   Subset for the CIFAR100 in order to have just 10 categories\n",
    "#Training Dataset\n",
    "sub_X_train = X_train[np.isin(Y_train, [0,1,2,3,4,5,6,7,8,9]).flatten()]\n",
    "sub_Y_train = Y_train[np.isin(Y_train, [0,1,2,3,4,5,6,7,8,9]).flatten()]\n",
    "\n",
    "#Test Dataset\n",
    "sub_X_test = X_test[np.isin(Y_test, [0,1,2,3,4,5,6,7,8,9]).flatten()]\n",
    "sub_Y_test = Y_test[np.isin(Y_test, [0,1,2,3,4,5,6,7,8,9]).flatten()]"
   ]
  },
  {
   "cell_type": "code",
   "execution_count": 4,
   "metadata": {
    "colab": {
     "base_uri": "https://localhost:8080/"
    },
    "id": "V3qya57zQIoP",
    "outputId": "e7e2e995-501b-455b-df6e-553ca5f4093b"
   },
   "outputs": [
    {
     "name": "stdout",
     "output_type": "stream",
     "text": [
      "Number of records for 10 classes X train (5000, 32, 32, 3)\n",
      "Number of records for 10 classes X test (1000, 32, 32, 3)\n",
      "Number of records for 10 classes Y train (5000, 1)\n",
      "Number of records for 10 classes Y test (1000, 1)\n"
     ]
    }
   ],
   "source": [
    "print('Number of records for 10 classes X train',sub_X_train.shape)\n",
    "print('Number of records for 10 classes X test',sub_X_test.shape)\n",
    "print('Number of records for 10 classes Y train',sub_Y_train.shape)\n",
    "print('Number of records for 10 classes Y test',sub_Y_test.shape)"
   ]
  },
  {
   "cell_type": "code",
   "execution_count": 5,
   "metadata": {
    "colab": {
     "base_uri": "https://localhost:8080/"
    },
    "id": "6QjHfIUTQIoP",
    "outputId": "21bc43ec-e2ba-4dd9-d137-48943db46be4"
   },
   "outputs": [
    {
     "name": "stdout",
     "output_type": "stream",
     "text": [
      "First 5 entries of X_train [[[[250 250 248]\n",
      "   [248 249 243]\n",
      "   [247 248 239]\n",
      "   ...\n",
      "   [250 250 246]\n",
      "   [250 250 246]\n",
      "   [249 250 246]]\n",
      "\n",
      "  [[250 251 245]\n",
      "   [248 249 238]\n",
      "   [247 247 234]\n",
      "   ...\n",
      "   [251 251 242]\n",
      "   [251 252 243]\n",
      "   [250 251 243]]\n",
      "\n",
      "  [[251 251 244]\n",
      "   [250 248 237]\n",
      "   [250 245 233]\n",
      "   ...\n",
      "   [250 249 238]\n",
      "   [250 249 240]\n",
      "   [250 249 242]]\n",
      "\n",
      "  ...\n",
      "\n",
      "  [[221 213 191]\n",
      "   [221 206 176]\n",
      "   [225 207 181]\n",
      "   ...\n",
      "   [199 176 134]\n",
      "   [207 193 165]\n",
      "   [233 229 226]]\n",
      "\n",
      "  [[225 223 204]\n",
      "   [227 219 196]\n",
      "   [229 216 200]\n",
      "   ...\n",
      "   [204 185 151]\n",
      "   [212 201 180]\n",
      "   [234 232 228]]\n",
      "\n",
      "  [[233 233 226]\n",
      "   [234 232 224]\n",
      "   [235 230 225]\n",
      "   ...\n",
      "   [219 209 194]\n",
      "   [223 216 207]\n",
      "   [232 230 228]]]\n",
      "\n",
      "\n",
      " [[[ 43  49  46]\n",
      "   [ 32  40  34]\n",
      "   [ 87  89  47]\n",
      "   ...\n",
      "   [ 74  84  48]\n",
      "   [ 43  51  30]\n",
      "   [ 39  45  33]]\n",
      "\n",
      "  [[ 44  47  51]\n",
      "   [ 38  42  42]\n",
      "   [ 59  61  32]\n",
      "   ...\n",
      "   [ 66  74  47]\n",
      "   [ 40  47  31]\n",
      "   [ 40  46  34]]\n",
      "\n",
      "  [[ 45  45  50]\n",
      "   [ 43  43  44]\n",
      "   [ 44  47  30]\n",
      "   ...\n",
      "   [ 51  58  40]\n",
      "   [ 40  46  34]\n",
      "   [ 43  49  37]]\n",
      "\n",
      "  ...\n",
      "\n",
      "  [[ 51  50  31]\n",
      "   [ 56  51  33]\n",
      "   [ 72  64  45]\n",
      "   ...\n",
      "   [109  94  43]\n",
      "   [160 154  90]\n",
      "   [125 120  62]]\n",
      "\n",
      "  [[ 80  77  45]\n",
      "   [ 68  62  33]\n",
      "   [ 78  69  42]\n",
      "   ...\n",
      "   [101  92  54]\n",
      "   [ 82  79  36]\n",
      "   [ 75  76  32]]\n",
      "\n",
      "  [[109 102  57]\n",
      "   [ 92  84  47]\n",
      "   [108  99  67]\n",
      "   ...\n",
      "   [ 93  88  60]\n",
      "   [ 55  55  29]\n",
      "   [ 63  67  37]]]\n",
      "\n",
      "\n",
      " [[[ 35  38  32]\n",
      "   [ 27  29  24]\n",
      "   [ 31  33  28]\n",
      "   ...\n",
      "   [104 123  84]\n",
      "   [102 125  76]\n",
      "   [111 127  83]]\n",
      "\n",
      "  [[ 29  32  26]\n",
      "   [ 21  23  18]\n",
      "   [ 25  27  22]\n",
      "   ...\n",
      "   [111 132 137]\n",
      "   [ 77  99  91]\n",
      "   [102 117  93]]\n",
      "\n",
      "  [[ 28  31  25]\n",
      "   [ 21  24  18]\n",
      "   [ 27  29  24]\n",
      "   ...\n",
      "   [ 88 108  76]\n",
      "   [ 80  99  77]\n",
      "   [110 122  91]]\n",
      "\n",
      "  ...\n",
      "\n",
      "  [[195 213 133]\n",
      "   [190 203 131]\n",
      "   [202 211 149]\n",
      "   ...\n",
      "   [190 209 140]\n",
      "   [204 221 158]\n",
      "   [198 216 145]]\n",
      "\n",
      "  [[193 206 136]\n",
      "   [192 203 140]\n",
      "   [188 199 130]\n",
      "   ...\n",
      "   [182 204 122]\n",
      "   [187 204 134]\n",
      "   [184 199 130]]\n",
      "\n",
      "  [[203 214 145]\n",
      "   [209 219 154]\n",
      "   [190 201 131]\n",
      "   ...\n",
      "   [205 224 150]\n",
      "   [190 208 132]\n",
      "   [181 198 118]]]\n",
      "\n",
      "\n",
      " [[[ 88  40  32]\n",
      "   [104  38  32]\n",
      "   [112  42  31]\n",
      "   ...\n",
      "   [ 57  64  39]\n",
      "   [ 66  76  56]\n",
      "   [125 138 133]]\n",
      "\n",
      "  [[ 75  65  54]\n",
      "   [ 79  70  55]\n",
      "   [ 81  72  59]\n",
      "   ...\n",
      "   [ 69  68  50]\n",
      "   [ 68  69  53]\n",
      "   [ 96 101  94]]\n",
      "\n",
      "  [[ 81  49  27]\n",
      "   [ 88  53  28]\n",
      "   [ 92  55  32]\n",
      "   ...\n",
      "   [103 100  92]\n",
      "   [102  98  89]\n",
      "   [ 98  97  89]]\n",
      "\n",
      "  ...\n",
      "\n",
      "  [[117 114 109]\n",
      "   [117 114 107]\n",
      "   [119 115 107]\n",
      "   ...\n",
      "   [121 118 108]\n",
      "   [118 115 106]\n",
      "   [106  99  94]]\n",
      "\n",
      "  [[110 107 101]\n",
      "   [115 112 103]\n",
      "   [121 118 109]\n",
      "   ...\n",
      "   [118 115 112]\n",
      "   [119 117 114]\n",
      "   [108 107 102]]\n",
      "\n",
      "  [[106 103  95]\n",
      "   [114 111 101]\n",
      "   [117 113 103]\n",
      "   ...\n",
      "   [ 50  49  49]\n",
      "   [ 55  54  53]\n",
      "   [ 61  56  47]]]\n",
      "\n",
      "\n",
      " [[[208 193 221]\n",
      "   [210 195 224]\n",
      "   [209 195 223]\n",
      "   ...\n",
      "   [211 195 218]\n",
      "   [209 195 217]\n",
      "   [210 197 217]]\n",
      "\n",
      "  [[203 189 213]\n",
      "   [203 189 214]\n",
      "   [202 188 213]\n",
      "   ...\n",
      "   [206 191 213]\n",
      "   [205 192 211]\n",
      "   [205 192 209]]\n",
      "\n",
      "  [[201 188 205]\n",
      "   [203 190 207]\n",
      "   [203 190 206]\n",
      "   ...\n",
      "   [207 194 204]\n",
      "   [206 193 203]\n",
      "   [204 193 202]]\n",
      "\n",
      "  ...\n",
      "\n",
      "  [[191 186 202]\n",
      "   [193 188 204]\n",
      "   [192 187 203]\n",
      "   ...\n",
      "   [190 183 196]\n",
      "   [190 184 196]\n",
      "   [190 185 196]]\n",
      "\n",
      "  [[195 183 205]\n",
      "   [197 185 207]\n",
      "   [196 184 206]\n",
      "   ...\n",
      "   [192 184 195]\n",
      "   [191 185 197]\n",
      "   [192 186 200]]\n",
      "\n",
      "  [[192 182 199]\n",
      "   [194 183 201]\n",
      "   [194 183 201]\n",
      "   ...\n",
      "   [193 185 191]\n",
      "   [191 185 193]\n",
      "   [190 184 195]]]]\n",
      "First 5 entries of X_test [[[[182 178 189]\n",
      "   [178 173 192]\n",
      "   [182 177 195]\n",
      "   ...\n",
      "   [160 156 177]\n",
      "   [179 176 191]\n",
      "   [181 180 184]]\n",
      "\n",
      "  [[168 161 194]\n",
      "   [150 139 197]\n",
      "   [125 115 169]\n",
      "   ...\n",
      "   [ 86  76 135]\n",
      "   [126 119 163]\n",
      "   [189 186 202]]\n",
      "\n",
      "  [[137 127 179]\n",
      "   [102  88 169]\n",
      "   [ 78  64 140]\n",
      "   ...\n",
      "   [ 73  60 143]\n",
      "   [ 81  70 137]\n",
      "   [163 158 187]]\n",
      "\n",
      "  ...\n",
      "\n",
      "  [[142 135 179]\n",
      "   [124 113 181]\n",
      "   [125 114 179]\n",
      "   ...\n",
      "   [115 103 175]\n",
      "   [116 105 172]\n",
      "   [179 172 205]]\n",
      "\n",
      "  [[164 160 182]\n",
      "   [151 144 188]\n",
      "   [145 136 189]\n",
      "   ...\n",
      "   [134 126 179]\n",
      "   [160 153 194]\n",
      "   [196 192 210]]\n",
      "\n",
      "  [[189 188 190]\n",
      "   [172 169 185]\n",
      "   [178 174 196]\n",
      "   ...\n",
      "   [177 173 193]\n",
      "   [182 180 191]\n",
      "   [184 184 184]]]\n",
      "\n",
      "\n",
      " [[[ 22  50  20]\n",
      "   [ 34  61  31]\n",
      "   [ 38  62  32]\n",
      "   ...\n",
      "   [115 120  61]\n",
      "   [ 90 102  50]\n",
      "   [ 71  93  33]]\n",
      "\n",
      "  [[ 14  30  13]\n",
      "   [ 30  49  26]\n",
      "   [ 67  90  60]\n",
      "   ...\n",
      "   [130 143  67]\n",
      "   [124 139  73]\n",
      "   [122 140  75]]\n",
      "\n",
      "  [[ 17  25  27]\n",
      "   [  4  14   8]\n",
      "   [ 16  33  19]\n",
      "   ...\n",
      "   [178 193 131]\n",
      "   [182 195 143]\n",
      "   [180 193 146]]\n",
      "\n",
      "  ...\n",
      "\n",
      "  [[216 216 216]\n",
      "   [214 214 214]\n",
      "   [216 216 216]\n",
      "   ...\n",
      "   [205 211 203]\n",
      "   [200 195 188]\n",
      "   [121  90  89]]\n",
      "\n",
      "  [[219 218 220]\n",
      "   [211 210 212]\n",
      "   [216 215 217]\n",
      "   ...\n",
      "   [202 193 187]\n",
      "   [136 116 110]\n",
      "   [148 125 123]]\n",
      "\n",
      "  [[221 219 222]\n",
      "   [212 210 213]\n",
      "   [216 214 217]\n",
      "   ...\n",
      "   [122 104 100]\n",
      "   [140 117 112]\n",
      "   [216 202 198]]]\n",
      "\n",
      "\n",
      " [[[216 226 235]\n",
      "   [217 228 235]\n",
      "   [215 225 231]\n",
      "   ...\n",
      "   [ 37  33  19]\n",
      "   [ 50  38  25]\n",
      "   [ 55  53  38]]\n",
      "\n",
      "  [[219 229 239]\n",
      "   [221 231 242]\n",
      "   [219 229 239]\n",
      "   ...\n",
      "   [ 58  57  44]\n",
      "   [ 58  53  42]\n",
      "   [ 56  55  41]]\n",
      "\n",
      "  [[237 241 242]\n",
      "   [239 243 244]\n",
      "   [237 240 242]\n",
      "   ...\n",
      "   [ 59  57  45]\n",
      "   [ 60  57  45]\n",
      "   [ 58  56  43]]\n",
      "\n",
      "  ...\n",
      "\n",
      "  [[175 156 125]\n",
      "   [167 148 115]\n",
      "   [165 147 115]\n",
      "   ...\n",
      "   [100  60   6]\n",
      "   [ 94  57   7]\n",
      "   [ 91  54   5]]\n",
      "\n",
      "  [[154 135 103]\n",
      "   [166 148 113]\n",
      "   [170 152 118]\n",
      "   ...\n",
      "   [ 92  58   7]\n",
      "   [ 88  54   5]\n",
      "   [ 92  56   5]]\n",
      "\n",
      "  [[166 148 113]\n",
      "   [156 134  96]\n",
      "   [115  86  44]\n",
      "   ...\n",
      "   [ 90  56   6]\n",
      "   [ 92  55   5]\n",
      "   [ 92  52   5]]]\n",
      "\n",
      "\n",
      " [[[121 105 123]\n",
      "   [122 112 132]\n",
      "   [118 109 133]\n",
      "   ...\n",
      "   [150 103  57]\n",
      "   [129  92  40]\n",
      "   [121  86  47]]\n",
      "\n",
      "  [[125 119 147]\n",
      "   [129 123 148]\n",
      "   [126 118 141]\n",
      "   ...\n",
      "   [142  92  44]\n",
      "   [124  85  36]\n",
      "   [121  85  49]]\n",
      "\n",
      "  [[123 127 164]\n",
      "   [127 125 155]\n",
      "   [126 119 141]\n",
      "   ...\n",
      "   [133  82  34]\n",
      "   [123  83  37]\n",
      "   [119  82  47]]\n",
      "\n",
      "  ...\n",
      "\n",
      "  [[ 79  97 155]\n",
      "   [ 77  99 156]\n",
      "   [ 67  79 122]\n",
      "   ...\n",
      "   [ 74  89 136]\n",
      "   [ 75  83 121]\n",
      "   [ 79  79 112]]\n",
      "\n",
      "  [[ 81  99 159]\n",
      "   [ 77 100 160]\n",
      "   [ 71  84 132]\n",
      "   ...\n",
      "   [ 71  85 126]\n",
      "   [ 76  84 121]\n",
      "   [ 79  82 116]]\n",
      "\n",
      "  [[ 85 102 164]\n",
      "   [ 79 102 164]\n",
      "   [ 76  90 143]\n",
      "   ...\n",
      "   [ 73  82 124]\n",
      "   [ 72  78 121]\n",
      "   [ 76  82 123]]]\n",
      "\n",
      "\n",
      " [[[122 172 198]\n",
      "   [121 170 195]\n",
      "   [122 171 198]\n",
      "   ...\n",
      "   [122 170 197]\n",
      "   [121 170 197]\n",
      "   [121 171 197]]\n",
      "\n",
      "  [[124 174 201]\n",
      "   [123 172 198]\n",
      "   [124 173 200]\n",
      "   ...\n",
      "   [124 172 200]\n",
      "   [125 173 200]\n",
      "   [124 173 201]]\n",
      "\n",
      "  [[124 173 200]\n",
      "   [123 171 198]\n",
      "   [124 172 200]\n",
      "   ...\n",
      "   [124 173 200]\n",
      "   [124 173 201]\n",
      "   [125 171 200]]\n",
      "\n",
      "  ...\n",
      "\n",
      "  [[126 174 201]\n",
      "   [125 172 199]\n",
      "   [124 173 199]\n",
      "   ...\n",
      "   [115  90  88]\n",
      "   [118 148 170]\n",
      "   [126 175 202]]\n",
      "\n",
      "  [[127 174 202]\n",
      "   [126 172 200]\n",
      "   [124 174 199]\n",
      "   ...\n",
      "   [111 103 105]\n",
      "   [129 166 186]\n",
      "   [125 174 200]]\n",
      "\n",
      "  [[125 171 199]\n",
      "   [124 170 198]\n",
      "   [122 171 197]\n",
      "   ...\n",
      "   [118  97  95]\n",
      "   [131 152 170]\n",
      "   [126 171 199]]]]\n",
      "First 5 entries of Y_train [[0]\n",
      " [1]\n",
      " [8]\n",
      " [8]\n",
      " [9]]\n",
      "First 5 entries of Y_test [[0]\n",
      " [8]\n",
      " [8]\n",
      " [4]\n",
      " [6]]\n"
     ]
    }
   ],
   "source": [
    "print(\"First 5 entries of X_train\",sub_X_train[0:5])\n",
    "print(\"First 5 entries of X_test\",sub_X_test[0:5])\n",
    "print(\"First 5 entries of Y_train\",sub_Y_train[0:5])\n",
    "print(\"First 5 entries of Y_test\",sub_Y_test[0:5])"
   ]
  },
  {
   "cell_type": "code",
   "execution_count": 6,
   "metadata": {
    "colab": {
     "base_uri": "https://localhost:8080/",
     "height": 250
    },
    "id": "m1wRcoVjQIoP",
    "outputId": "83831b8a-94a7-4610-9231-abff4bcf6da6"
   },
   "outputs": [
    {
     "data": {
      "image/png": "[encoded data removed]",
      "text/plain": [
       "<Figure size 1080x360 with 5 Axes>"
      ]
     },
     "metadata": {
      "needs_background": "light"
     },
     "output_type": "display_data"
    }
   ],
   "source": [
    "plt.figure(figsize=(15,5))\n",
    "for i in range(1,6):\n",
    "  plt.subplot(1,5,i)\n",
    "  plt.imshow(sub_X_train[i,:,:],cmap='gray')\n",
    "  plt.title('Sign language of {}'.format(sub_Y_train[i]))\n",
    "  plt.axis('off')\n",
    "  plt.tight_layout()\n",
    "plt.show()"
   ]
  },
  {
   "cell_type": "code",
   "execution_count": 7,
   "metadata": {
    "id": "x_mQGOqSQIoP"
   },
   "outputs": [],
   "source": [
    "from sklearn.linear_model import LogisticRegression\n"
   ]
  },
  {
   "cell_type": "markdown",
   "metadata": {
    "id": "EiqxueIMQIoP"
   },
   "source": [
    "For the Logistic Regression implementation, it's needed an X array with dimension <= 2. In this case, we have a dimension of 4, that's why we have to do a reshape as below"
   ]
  },
  {
   "cell_type": "markdown",
   "metadata": {},
   "source": [
    "The same process has to be done for the other methods "
   ]
  },
  {
   "cell_type": "code",
   "execution_count": 8,
   "metadata": {
    "id": "dk0AhRcTQIoQ"
   },
   "outputs": [],
   "source": [
    "sub_X_test_or=sub_X_test\n",
    "sub_X_train_or=sub_X_train\n",
    "\n",
    "sub_X_train_rshp=sub_X_train.reshape(5000, 32*32*3) ## Reshaping data\n",
    "sub_X_test_rshp=sub_X_test.reshape(1000, 32*32*3)   ## Reshaping data  "
   ]
  },
  {
   "cell_type": "code",
   "execution_count": 9,
   "metadata": {
    "colab": {
     "base_uri": "https://localhost:8080/"
    },
    "id": "cRijErVCQIoQ",
    "outputId": "1bead46b-84a7-4061-cbca-2a740fef7481"
   },
   "outputs": [
    {
     "name": "stdout",
     "output_type": "stream",
     "text": [
      "[250 250 248 ... 232 230 228]\n"
     ]
    }
   ],
   "source": [
    "print(sub_X_train_rshp[0])"
   ]
  },
  {
   "cell_type": "markdown",
   "metadata": {
    "id": "_kdZgW4-QIoP"
   },
   "source": [
    "### Logistic Regression method"
   ]
  },
  {
   "cell_type": "code",
   "execution_count": 10,
   "metadata": {
    "id": "p0lctqPgQIoQ"
   },
   "outputs": [],
   "source": [
    "lr_start_time=time.time()"
   ]
  },
  {
   "cell_type": "code",
   "execution_count": 11,
   "metadata": {
    "colab": {
     "base_uri": "https://localhost:8080/"
    },
    "id": "PLy4q4IhQIoQ",
    "outputId": "459d0504-16c4-45e1-fdb5-3d13f87a46a8"
   },
   "outputs": [
    {
     "name": "stderr",
     "output_type": "stream",
     "text": [
      "/home/daniel/anaconda3/lib/python3.9/site-packages/sklearn/utils/validation.py:993: DataConversionWarning: A column-vector y was passed when a 1d array was expected. Please change the shape of y to (n_samples, ), for example using ravel().\n",
      "  y = column_or_1d(y, warn=True)\n",
      "/home/daniel/anaconda3/lib/python3.9/site-packages/sklearn/linear_model/_logistic.py:814: ConvergenceWarning: lbfgs failed to converge (status=1):\n",
      "STOP: TOTAL NO. of ITERATIONS REACHED LIMIT.\n",
      "\n",
      "Increase the number of iterations (max_iter) or scale the data as shown in:\n",
      "    https://scikit-learn.org/stable/modules/preprocessing.html\n",
      "Please also refer to the documentation for alternative solver options:\n",
      "    https://scikit-learn.org/stable/modules/linear_model.html#logistic-regression\n",
      "  n_iter_i = _check_optimize_result(\n"
     ]
    },
    {
     "data": {
      "text/plain": [
       "LogisticRegression()"
      ]
     },
     "execution_count": 11,
     "metadata": {},
     "output_type": "execute_result"
    }
   ],
   "source": [
    "logreg =  LogisticRegression()\n",
    "logreg.fit(sub_X_train_rshp,sub_Y_train) ## fitting the logistic regression model"
   ]
  },
  {
   "cell_type": "code",
   "execution_count": 12,
   "metadata": {
    "colab": {
     "base_uri": "https://localhost:8080/"
    },
    "id": "IjWh7d0AQIoQ",
    "outputId": "c3b0c611-f4aa-4e48-a8c3-ab6701399be4"
   },
   "outputs": [
    {
     "data": {
      "text/plain": [
       "array([0, 6, 2, 0, 3, 9, 0, 6, 6, 0, 9, 5, 0, 6, 2, 5, 9, 9, 6, 6, 2, 0,\n",
       "       0, 2, 4, 4, 1, 6, 6, 8, 0, 7, 1, 9, 6, 7, 0, 2, 0, 6, 3, 1, 9, 2,\n",
       "       5, 8, 3, 5, 5, 6, 3, 6, 2, 0, 8, 5, 5, 1, 0, 2, 5, 4, 8, 1, 9, 6,\n",
       "       1, 0, 1, 1, 5, 9, 3, 1, 5, 1, 2, 1, 1, 7, 1, 7, 1, 6, 7, 7, 9, 6,\n",
       "       1, 2, 0, 1, 7, 9, 5, 1, 2, 8, 4, 7, 2, 1, 0, 1, 2, 1, 5, 1, 0, 7,\n",
       "       8, 9, 8, 2, 3, 7, 7, 1, 1, 5, 7, 1, 9, 5, 0, 8, 2, 2, 3, 4, 5, 3,\n",
       "       6, 5, 1, 2, 3, 0, 0, 7, 1, 5, 7, 0, 5, 5, 6, 0, 8, 5, 2, 8, 8, 8,\n",
       "       1, 9, 5, 5, 9, 8, 9, 9, 5, 3, 9, 2, 2, 9, 8, 9, 4, 7, 1, 8, 4, 8,\n",
       "       6, 3, 7, 2, 6, 0, 7, 5, 1, 5, 1, 9, 6, 1, 1, 7, 0, 5, 7, 6, 7, 6,\n",
       "       1, 0, 9, 1, 5, 0, 5, 9, 1, 9, 1, 3, 2, 9, 9, 1, 5, 6, 6, 8, 0, 6,\n",
       "       4, 3, 2, 3, 4, 8, 0, 0, 6, 7, 8, 3, 0, 7, 5, 3, 2, 1, 6, 4, 0, 5,\n",
       "       8, 5, 7, 3, 4, 8, 1, 3, 6, 7, 0, 8, 9, 1, 0, 5, 8, 6, 4, 1, 7, 8,\n",
       "       2, 4, 0, 0, 2, 7, 2, 9, 7, 2, 5, 8, 2, 2, 4, 2, 5, 4, 1, 8, 6, 9,\n",
       "       1, 0, 3, 4, 0, 1, 9, 0, 2, 6, 6, 5, 8, 8, 5, 6, 0, 2, 7, 0, 6, 2,\n",
       "       0, 1, 2, 3, 1, 2, 6, 5, 7, 0, 5, 6, 7, 6, 4, 0, 2, 4, 9, 1, 4, 1,\n",
       "       9, 9, 1, 7, 0, 2, 6, 2, 6, 3, 3, 1, 3, 0, 7, 1, 8, 8, 8, 0, 6, 1,\n",
       "       9, 1, 7, 4, 8, 2, 5, 0, 1, 0, 4, 3, 5, 0, 0, 8, 9, 2, 8, 9, 5, 4,\n",
       "       4, 8, 6, 8, 4, 8, 1, 5, 0, 1, 0, 8, 0, 0, 5, 0, 5, 1, 6, 5, 5, 7,\n",
       "       5, 1, 8, 2, 5, 7, 0, 4, 5, 1, 8, 7, 9, 7, 8, 6, 8, 9, 8, 9, 5, 2,\n",
       "       3, 2, 9, 0, 3, 8, 2, 8, 0, 1, 8, 5, 7, 8, 5, 5, 5, 2, 0, 4, 1, 1,\n",
       "       1, 2, 9, 9, 0, 5, 7, 6, 1, 2, 2, 6, 3, 5, 2, 0, 7, 7, 1, 1, 7, 4,\n",
       "       4, 7, 5, 2, 8, 5, 7, 7, 7, 3, 3, 0, 1, 2, 1, 6, 4, 9, 7, 7, 2, 3,\n",
       "       1, 6, 1, 0, 8, 4, 1, 4, 6, 4, 2, 6, 9, 5, 4, 6, 3, 7, 5, 7, 0, 5,\n",
       "       7, 7, 9, 5, 0, 3, 8, 8, 9, 6, 4, 8, 9, 1, 2, 9, 5, 3, 4, 4, 4, 1,\n",
       "       8, 0, 5, 3, 6, 4, 9, 3, 6, 9, 0, 9, 4, 0, 7, 6, 3, 4, 1, 0, 9, 0,\n",
       "       6, 8, 7, 6, 4, 0, 7, 6, 7, 9, 3, 0, 4, 2, 9, 3, 5, 8, 0, 0, 9, 1,\n",
       "       2, 9, 4, 0, 7, 1, 0, 1, 2, 4, 8, 0, 9, 1, 6, 4, 8, 9, 2, 0, 3, 7,\n",
       "       7, 0, 1, 7, 1, 2, 6, 5, 5, 2, 8, 2, 3, 3, 5, 7, 9, 2, 6, 3, 4, 2,\n",
       "       2, 7, 4, 6, 4, 5, 0, 2, 3, 6, 0, 9, 8, 9, 9, 0, 1, 6, 0, 1, 1, 2,\n",
       "       3, 6, 2, 6, 5, 8, 0, 1, 2, 2, 2, 9, 4, 9, 9, 2, 5, 9, 6, 7, 6, 5,\n",
       "       8, 7, 9, 4, 8, 1, 2, 0, 2, 5, 2, 4, 7, 3, 2, 7, 5, 2, 5, 5, 2, 2,\n",
       "       0, 7, 6, 9, 1, 4, 3, 2, 9, 6, 2, 2, 0, 7, 9, 9, 0, 9, 7, 7, 9, 5,\n",
       "       9, 0, 6, 2, 2, 6, 9, 5, 4, 1, 5, 9, 5, 8, 7, 2, 5, 1, 8, 7, 3, 8,\n",
       "       2, 2, 4, 2, 6, 8, 7, 0, 1, 0, 7, 8, 7, 3, 6, 6, 9, 6, 5, 6, 6, 4,\n",
       "       2, 4, 7, 7, 7, 4, 1, 2, 5, 7, 0, 7, 5, 7, 6, 2, 9, 8, 8, 6, 7, 7,\n",
       "       2, 7, 5, 4, 3, 9, 5, 2, 0, 7, 6, 5, 1, 9, 2, 8, 5, 3, 5, 4, 7, 5,\n",
       "       4, 1, 2, 5, 1, 5, 1, 7, 8, 6, 0, 8, 3, 3, 4, 0, 8, 8, 2, 8, 1, 5,\n",
       "       0, 3, 0, 1, 8, 5, 8, 1, 0, 0, 3, 1, 1, 3, 3, 1, 6, 2, 0, 9, 0, 8,\n",
       "       3, 0, 6, 1, 1, 1, 6, 0, 0, 5, 5, 6, 8, 8, 8, 3, 8, 9, 1, 1, 1, 0,\n",
       "       7, 1, 0, 6, 1, 5, 0, 3, 6, 7, 5, 1, 0, 8, 7, 1, 1, 7, 7, 8, 5, 0,\n",
       "       1, 2, 7, 5, 8, 1, 1, 0, 2, 2, 7, 0, 4, 1, 9, 7, 3, 7, 2, 6, 9, 9,\n",
       "       9, 7, 6, 0, 1, 0, 0, 9, 7, 3, 9, 4, 1, 2, 3, 0, 5, 0, 2, 4, 7, 8,\n",
       "       7, 6, 2, 0, 3, 9, 0, 1, 2, 9, 3, 6, 1, 7, 4, 8, 4, 8, 2, 8, 6, 8,\n",
       "       7, 1, 4, 2, 1, 5, 1, 2, 4, 6, 9, 2, 2, 6, 2, 2, 0, 5, 2, 8, 4, 0,\n",
       "       4, 3, 0, 7, 9, 1, 9, 4, 5, 9, 5, 1, 3, 2, 0, 5, 1, 0, 0, 6, 0, 2,\n",
       "       0, 8, 5, 7, 8, 6, 2, 5, 4, 3])"
      ]
     },
     "execution_count": 12,
     "metadata": {},
     "output_type": "execute_result"
    }
   ],
   "source": [
    "y_pred=logreg.predict(sub_X_test_rshp)\n",
    "y_pred"
   ]
  },
  {
   "cell_type": "code",
   "execution_count": 13,
   "metadata": {
    "colab": {
     "base_uri": "https://localhost:8080/"
    },
    "id": "xPH3FzbzQIoQ",
    "outputId": "f94f8c32-213a-40d7-9d58-f42aebae8363"
   },
   "outputs": [
    {
     "data": {
      "text/plain": [
       "1000"
      ]
     },
     "execution_count": 13,
     "metadata": {},
     "output_type": "execute_result"
    }
   ],
   "source": [
    "len(y_pred)"
   ]
  },
  {
   "cell_type": "code",
   "execution_count": 14,
   "metadata": {
    "colab": {
     "base_uri": "https://localhost:8080/"
    },
    "id": "R0Xc8VdbQIoQ",
    "outputId": "478662de-35e2-44f4-ec43-80aaf27683b8"
   },
   "outputs": [
    {
     "data": {
      "text/plain": [
       "1000"
      ]
     },
     "execution_count": 14,
     "metadata": {},
     "output_type": "execute_result"
    }
   ],
   "source": [
    "len(sub_X_test)"
   ]
  },
  {
   "cell_type": "code",
   "execution_count": 15,
   "metadata": {
    "colab": {
     "base_uri": "https://localhost:8080/",
     "height": 250
    },
    "id": "otTxHX3tQIoR",
    "outputId": "ca98686b-3909-4be9-86d6-4c036cacd206"
   },
   "outputs": [
    {
     "data": {
      "image/png": "[encoded data removed]",
      "text/plain": [
       "<Figure size 1080x360 with 5 Axes>"
      ]
     },
     "metadata": {
      "needs_background": "light"
     },
     "output_type": "display_data"
    }
   ],
   "source": [
    "plt.figure(figsize=(15,5))\n",
    "for i in range(1,6):\n",
    "  plt.subplot(1,5,i)\n",
    "  plt.imshow(sub_X_test[i,:,:],cmap='gray')\n",
    "  plt.title('Sign language of {}'.format(Y_train[i]))\n",
    "  plt.axis('off')\n",
    "  plt.tight_layout()\n",
    "plt.show()"
   ]
  },
  {
   "cell_type": "markdown",
   "metadata": {
    "id": "rqXbemGfQIoR"
   },
   "source": [
    "#### Table for classification report and confusion"
   ]
  },
  {
   "cell_type": "code",
   "execution_count": 16,
   "metadata": {
    "id": "gUPt1O1CQIoR"
   },
   "outputs": [],
   "source": [
    "from sklearn.metrics import confusion_matrix,classification_report\n",
    "from sklearn.metrics import f1_score"
   ]
  },
  {
   "cell_type": "code",
   "execution_count": 17,
   "metadata": {
    "colab": {
     "base_uri": "https://localhost:8080/"
    },
    "id": "9qhmOYF_QIoR",
    "outputId": "189fee6a-022a-4c66-dc51-79fb6730ed62"
   },
   "outputs": [
    {
     "data": {
      "text/plain": [
       "0.407"
      ]
     },
     "execution_count": 17,
     "metadata": {},
     "output_type": "execute_result"
    }
   ],
   "source": [
    "logreg.score(sub_X_test_rshp,sub_Y_test) ## Overall accuracy score of the logistic regression model"
   ]
  },
  {
   "cell_type": "code",
   "execution_count": 18,
   "metadata": {
    "colab": {
     "base_uri": "https://localhost:8080/"
    },
    "id": "-uB7RULuQIoR",
    "outputId": "37efbcad-830e-428f-c84a-577aff362bd1"
   },
   "outputs": [
    {
     "name": "stdout",
     "output_type": "stream",
     "text": [
      "              precision    recall  f1-score   support\n",
      "\n",
      "           0       0.67      0.54      0.60       125\n",
      "           1       0.66      0.53      0.59       125\n",
      "           2       0.44      0.38      0.41       116\n",
      "           3       0.20      0.30      0.24        67\n",
      "           4       0.17      0.24      0.20        72\n",
      "           5       0.31      0.28      0.30       109\n",
      "           6       0.39      0.41      0.40        96\n",
      "           7       0.38      0.37      0.37       104\n",
      "           8       0.36      0.39      0.37        93\n",
      "           9       0.49      0.53      0.51        93\n",
      "\n",
      "    accuracy                           0.41      1000\n",
      "   macro avg       0.41      0.39      0.40      1000\n",
      "weighted avg       0.43      0.41      0.42      1000\n",
      "\n",
      "\n",
      "Execution Time 8.180548429489136 seconds: \n"
     ]
    }
   ],
   "source": [
    "lr_cm=confusion_matrix(y_pred,sub_Y_test) ## To obtain the confusion matrix\n",
    "print(classification_report(y_pred,sub_Y_test))\n",
    "\n",
    "print()\n",
    "print(\"Execution Time %s seconds: \" % (time.time() - lr_start_time))"
   ]
  },
  {
   "cell_type": "code",
   "execution_count": 19,
   "metadata": {
    "colab": {
     "base_uri": "https://localhost:8080/"
    },
    "id": "D2qakHNYQIoR",
    "outputId": "6c7e3782-910f-4c37-cce4-8a912acd4871"
   },
   "outputs": [
    {
     "data": {
      "text/plain": [
       "array([[67,  8, 13,  3, 10,  8,  7,  3,  2,  4],\n",
       "       [11, 66, 10,  4,  5, 12,  4,  6,  2,  5],\n",
       "       [ 6, 10, 44,  5, 10, 11, 10,  2, 11,  7],\n",
       "       [ 2,  0,  2, 20, 12,  4,  8,  8,  6,  5],\n",
       "       [ 5,  0,  5, 14, 17,  8,  9,  9,  5,  0],\n",
       "       [ 2,  7, 11,  8,  9, 31,  4,  5, 22, 10],\n",
       "       [ 3,  3,  4,  7,  4,  7, 39, 18,  4,  7],\n",
       "       [ 2,  3,  0, 23, 16,  2, 12, 38,  5,  3],\n",
       "       [ 0,  3,  6, 12, 11, 12,  2,  1, 36, 10],\n",
       "       [ 2,  0,  5,  4,  6,  5,  5, 10,  7, 49]])"
      ]
     },
     "execution_count": 19,
     "metadata": {},
     "output_type": "execute_result"
    }
   ],
   "source": [
    "lr_cm"
   ]
  },
  {
   "cell_type": "code",
   "execution_count": 20,
   "metadata": {
    "colab": {
     "base_uri": "https://localhost:8080/"
    },
    "id": "VSbXuDlZQIoR",
    "outputId": "c2553bdd-746f-4b75-815b-c6f9a4bf59b8"
   },
   "outputs": [
    {
     "name": "stdout",
     "output_type": "stream",
     "text": [
      "Test f1 score: 0.4165187057153184\n"
     ]
    }
   ],
   "source": [
    "f1_test = f1_score(y_pred, sub_Y_test, average='weighted')\n",
    "print( \"Test f1 score:\", f1_test)"
   ]
  },
  {
   "cell_type": "code",
   "execution_count": 21,
   "metadata": {
    "colab": {
     "base_uri": "https://localhost:8080/"
    },
    "id": "G1shMVO7QIoR",
    "outputId": "4bdea35a-fcc1-4cb0-e2e9-a2b530a4e43a"
   },
   "outputs": [
    {
     "data": {
      "text/plain": [
       "array([0, 6, 2, 0, 3, 9, 0, 6, 6, 0, 9, 5, 0, 6, 2, 5, 9, 9, 6, 6, 2, 0,\n",
       "       0, 2, 4, 4, 1, 6, 6, 8, 0, 7, 1, 9, 6, 7, 0, 2, 0, 6, 3, 1, 9, 2,\n",
       "       5, 8, 3, 5, 5, 6, 3, 6, 2, 0, 8, 5, 5, 1, 0, 2, 5, 4, 8, 1, 9, 6,\n",
       "       1, 0, 1, 1, 5, 9, 3, 1, 5, 1, 2, 1, 1, 7, 1, 7, 1, 6, 7, 7, 9, 6,\n",
       "       1, 2, 0, 1, 7, 9, 5, 1, 2, 8, 4, 7, 2, 1, 0, 1, 2, 1, 5, 1, 0, 7,\n",
       "       8, 9, 8, 2, 3, 7, 7, 1, 1, 5, 7, 1, 9, 5, 0, 8, 2, 2, 3, 4, 5, 3,\n",
       "       6, 5, 1, 2, 3, 0, 0, 7, 1, 5, 7, 0, 5, 5, 6, 0, 8, 5, 2, 8, 8, 8,\n",
       "       1, 9, 5, 5, 9, 8, 9, 9, 5, 3, 9, 2, 2, 9, 8, 9, 4, 7, 1, 8, 4, 8,\n",
       "       6, 3, 7, 2, 6, 0, 7, 5, 1, 5, 1, 9, 6, 1, 1, 7, 0, 5, 7, 6, 7, 6,\n",
       "       1, 0, 9, 1, 5, 0, 5, 9, 1, 9, 1, 3, 2, 9, 9, 1, 5, 6, 6, 8, 0, 6,\n",
       "       4, 3, 2, 3, 4, 8, 0, 0, 6, 7, 8, 3, 0, 7, 5, 3, 2, 1, 6, 4, 0, 5,\n",
       "       8, 5, 7, 3, 4, 8, 1, 3, 6, 7, 0, 8, 9, 1, 0, 5, 8, 6, 4, 1, 7, 8,\n",
       "       2, 4, 0, 0, 2, 7, 2, 9, 7, 2, 5, 8, 2, 2, 4, 2, 5, 4, 1, 8, 6, 9,\n",
       "       1, 0, 3, 4, 0, 1, 9, 0, 2, 6, 6, 5, 8, 8, 5, 6, 0, 2, 7, 0, 6, 2,\n",
       "       0, 1, 2, 3, 1, 2, 6, 5, 7, 0, 5, 6, 7, 6, 4, 0, 2, 4, 9, 1, 4, 1,\n",
       "       9, 9, 1, 7, 0, 2, 6, 2, 6, 3, 3, 1, 3, 0, 7, 1, 8, 8, 8, 0, 6, 1,\n",
       "       9, 1, 7, 4, 8, 2, 5, 0, 1, 0, 4, 3, 5, 0, 0, 8, 9, 2, 8, 9, 5, 4,\n",
       "       4, 8, 6, 8, 4, 8, 1, 5, 0, 1, 0, 8, 0, 0, 5, 0, 5, 1, 6, 5, 5, 7,\n",
       "       5, 1, 8, 2, 5, 7, 0, 4, 5, 1, 8, 7, 9, 7, 8, 6, 8, 9, 8, 9, 5, 2,\n",
       "       3, 2, 9, 0, 3, 8, 2, 8, 0, 1, 8, 5, 7, 8, 5, 5, 5, 2, 0, 4, 1, 1,\n",
       "       1, 2, 9, 9, 0, 5, 7, 6, 1, 2, 2, 6, 3, 5, 2, 0, 7, 7, 1, 1, 7, 4,\n",
       "       4, 7, 5, 2, 8, 5, 7, 7, 7, 3, 3, 0, 1, 2, 1, 6, 4, 9, 7, 7, 2, 3,\n",
       "       1, 6, 1, 0, 8, 4, 1, 4, 6, 4, 2, 6, 9, 5, 4, 6, 3, 7, 5, 7, 0, 5,\n",
       "       7, 7, 9, 5, 0, 3, 8, 8, 9, 6, 4, 8, 9, 1, 2, 9, 5, 3, 4, 4, 4, 1,\n",
       "       8, 0, 5, 3, 6, 4, 9, 3, 6, 9, 0, 9, 4, 0, 7, 6, 3, 4, 1, 0, 9, 0,\n",
       "       6, 8, 7, 6, 4, 0, 7, 6, 7, 9, 3, 0, 4, 2, 9, 3, 5, 8, 0, 0, 9, 1,\n",
       "       2, 9, 4, 0, 7, 1, 0, 1, 2, 4, 8, 0, 9, 1, 6, 4, 8, 9, 2, 0, 3, 7,\n",
       "       7, 0, 1, 7, 1, 2, 6, 5, 5, 2, 8, 2, 3, 3, 5, 7, 9, 2, 6, 3, 4, 2,\n",
       "       2, 7, 4, 6, 4, 5, 0, 2, 3, 6, 0, 9, 8, 9, 9, 0, 1, 6, 0, 1, 1, 2,\n",
       "       3, 6, 2, 6, 5, 8, 0, 1, 2, 2, 2, 9, 4, 9, 9, 2, 5, 9, 6, 7, 6, 5,\n",
       "       8, 7, 9, 4, 8, 1, 2, 0, 2, 5, 2, 4, 7, 3, 2, 7, 5, 2, 5, 5, 2, 2,\n",
       "       0, 7, 6, 9, 1, 4, 3, 2, 9, 6, 2, 2, 0, 7, 9, 9, 0, 9, 7, 7, 9, 5,\n",
       "       9, 0, 6, 2, 2, 6, 9, 5, 4, 1, 5, 9, 5, 8, 7, 2, 5, 1, 8, 7, 3, 8,\n",
       "       2, 2, 4, 2, 6, 8, 7, 0, 1, 0, 7, 8, 7, 3, 6, 6, 9, 6, 5, 6, 6, 4,\n",
       "       2, 4, 7, 7, 7, 4, 1, 2, 5, 7, 0, 7, 5, 7, 6, 2, 9, 8, 8, 6, 7, 7,\n",
       "       2, 7, 5, 4, 3, 9, 5, 2, 0, 7, 6, 5, 1, 9, 2, 8, 5, 3, 5, 4, 7, 5,\n",
       "       4, 1, 2, 5, 1, 5, 1, 7, 8, 6, 0, 8, 3, 3, 4, 0, 8, 8, 2, 8, 1, 5,\n",
       "       0, 3, 0, 1, 8, 5, 8, 1, 0, 0, 3, 1, 1, 3, 3, 1, 6, 2, 0, 9, 0, 8,\n",
       "       3, 0, 6, 1, 1, 1, 6, 0, 0, 5, 5, 6, 8, 8, 8, 3, 8, 9, 1, 1, 1, 0,\n",
       "       7, 1, 0, 6, 1, 5, 0, 3, 6, 7, 5, 1, 0, 8, 7, 1, 1, 7, 7, 8, 5, 0,\n",
       "       1, 2, 7, 5, 8, 1, 1, 0, 2, 2, 7, 0, 4, 1, 9, 7, 3, 7, 2, 6, 9, 9,\n",
       "       9, 7, 6, 0, 1, 0, 0, 9, 7, 3, 9, 4, 1, 2, 3, 0, 5, 0, 2, 4, 7, 8,\n",
       "       7, 6, 2, 0, 3, 9, 0, 1, 2, 9, 3, 6, 1, 7, 4, 8, 4, 8, 2, 8, 6, 8,\n",
       "       7, 1, 4, 2, 1, 5, 1, 2, 4, 6, 9, 2, 2, 6, 2, 2, 0, 5, 2, 8, 4, 0,\n",
       "       4, 3, 0, 7, 9, 1, 9, 4, 5, 9, 5, 1, 3, 2, 0, 5, 1, 0, 0, 6, 0, 2,\n",
       "       0, 8, 5, 7, 8, 6, 2, 5, 4, 3])"
      ]
     },
     "execution_count": 21,
     "metadata": {},
     "output_type": "execute_result"
    }
   ],
   "source": [
    "y_pred"
   ]
  },
  {
   "cell_type": "code",
   "execution_count": 22,
   "metadata": {},
   "outputs": [
    {
     "data": {
      "text/plain": [
       "array([[[[250, 250, 248],\n",
       "         [248, 249, 243],\n",
       "         [247, 248, 239],\n",
       "         ...,\n",
       "         [250, 250, 246],\n",
       "         [250, 250, 246],\n",
       "         [249, 250, 246]],\n",
       "\n",
       "        [[250, 251, 245],\n",
       "         [248, 249, 238],\n",
       "         [247, 247, 234],\n",
       "         ...,\n",
       "         [251, 251, 242],\n",
       "         [251, 252, 243],\n",
       "         [250, 251, 243]],\n",
       "\n",
       "        [[251, 251, 244],\n",
       "         [250, 248, 237],\n",
       "         [250, 245, 233],\n",
       "         ...,\n",
       "         [250, 249, 238],\n",
       "         [250, 249, 240],\n",
       "         [250, 249, 242]],\n",
       "\n",
       "        ...,\n",
       "\n",
       "        [[221, 213, 191],\n",
       "         [221, 206, 176],\n",
       "         [225, 207, 181],\n",
       "         ...,\n",
       "         [199, 176, 134],\n",
       "         [207, 193, 165],\n",
       "         [233, 229, 226]],\n",
       "\n",
       "        [[225, 223, 204],\n",
       "         [227, 219, 196],\n",
       "         [229, 216, 200],\n",
       "         ...,\n",
       "         [204, 185, 151],\n",
       "         [212, 201, 180],\n",
       "         [234, 232, 228]],\n",
       "\n",
       "        [[233, 233, 226],\n",
       "         [234, 232, 224],\n",
       "         [235, 230, 225],\n",
       "         ...,\n",
       "         [219, 209, 194],\n",
       "         [223, 216, 207],\n",
       "         [232, 230, 228]]],\n",
       "\n",
       "\n",
       "       [[[ 43,  49,  46],\n",
       "         [ 32,  40,  34],\n",
       "         [ 87,  89,  47],\n",
       "         ...,\n",
       "         [ 74,  84,  48],\n",
       "         [ 43,  51,  30],\n",
       "         [ 39,  45,  33]],\n",
       "\n",
       "        [[ 44,  47,  51],\n",
       "         [ 38,  42,  42],\n",
       "         [ 59,  61,  32],\n",
       "         ...,\n",
       "         [ 66,  74,  47],\n",
       "         [ 40,  47,  31],\n",
       "         [ 40,  46,  34]],\n",
       "\n",
       "        [[ 45,  45,  50],\n",
       "         [ 43,  43,  44],\n",
       "         [ 44,  47,  30],\n",
       "         ...,\n",
       "         [ 51,  58,  40],\n",
       "         [ 40,  46,  34],\n",
       "         [ 43,  49,  37]],\n",
       "\n",
       "        ...,\n",
       "\n",
       "        [[ 51,  50,  31],\n",
       "         [ 56,  51,  33],\n",
       "         [ 72,  64,  45],\n",
       "         ...,\n",
       "         [109,  94,  43],\n",
       "         [160, 154,  90],\n",
       "         [125, 120,  62]],\n",
       "\n",
       "        [[ 80,  77,  45],\n",
       "         [ 68,  62,  33],\n",
       "         [ 78,  69,  42],\n",
       "         ...,\n",
       "         [101,  92,  54],\n",
       "         [ 82,  79,  36],\n",
       "         [ 75,  76,  32]],\n",
       "\n",
       "        [[109, 102,  57],\n",
       "         [ 92,  84,  47],\n",
       "         [108,  99,  67],\n",
       "         ...,\n",
       "         [ 93,  88,  60],\n",
       "         [ 55,  55,  29],\n",
       "         [ 63,  67,  37]]],\n",
       "\n",
       "\n",
       "       [[[ 35,  38,  32],\n",
       "         [ 27,  29,  24],\n",
       "         [ 31,  33,  28],\n",
       "         ...,\n",
       "         [104, 123,  84],\n",
       "         [102, 125,  76],\n",
       "         [111, 127,  83]],\n",
       "\n",
       "        [[ 29,  32,  26],\n",
       "         [ 21,  23,  18],\n",
       "         [ 25,  27,  22],\n",
       "         ...,\n",
       "         [111, 132, 137],\n",
       "         [ 77,  99,  91],\n",
       "         [102, 117,  93]],\n",
       "\n",
       "        [[ 28,  31,  25],\n",
       "         [ 21,  24,  18],\n",
       "         [ 27,  29,  24],\n",
       "         ...,\n",
       "         [ 88, 108,  76],\n",
       "         [ 80,  99,  77],\n",
       "         [110, 122,  91]],\n",
       "\n",
       "        ...,\n",
       "\n",
       "        [[195, 213, 133],\n",
       "         [190, 203, 131],\n",
       "         [202, 211, 149],\n",
       "         ...,\n",
       "         [190, 209, 140],\n",
       "         [204, 221, 158],\n",
       "         [198, 216, 145]],\n",
       "\n",
       "        [[193, 206, 136],\n",
       "         [192, 203, 140],\n",
       "         [188, 199, 130],\n",
       "         ...,\n",
       "         [182, 204, 122],\n",
       "         [187, 204, 134],\n",
       "         [184, 199, 130]],\n",
       "\n",
       "        [[203, 214, 145],\n",
       "         [209, 219, 154],\n",
       "         [190, 201, 131],\n",
       "         ...,\n",
       "         [205, 224, 150],\n",
       "         [190, 208, 132],\n",
       "         [181, 198, 118]]],\n",
       "\n",
       "\n",
       "       ...,\n",
       "\n",
       "\n",
       "       [[[167, 157, 140],\n",
       "         [199, 198, 182],\n",
       "         [193, 193, 166],\n",
       "         ...,\n",
       "         [217, 211, 191],\n",
       "         [200, 189, 162],\n",
       "         [194, 181, 148]],\n",
       "\n",
       "        [[171, 164, 138],\n",
       "         [205, 202, 180],\n",
       "         [189, 188, 159],\n",
       "         ...,\n",
       "         [202, 196, 177],\n",
       "         [196, 186, 161],\n",
       "         [199, 189, 160]],\n",
       "\n",
       "        [[165, 155, 121],\n",
       "         [165, 155, 126],\n",
       "         [169, 162, 133],\n",
       "         ...,\n",
       "         [196, 178, 151],\n",
       "         [206, 185, 153],\n",
       "         [217, 198, 165]],\n",
       "\n",
       "        ...,\n",
       "\n",
       "        [[151, 131, 113],\n",
       "         [184, 159, 143],\n",
       "         [161, 132, 111],\n",
       "         ...,\n",
       "         [115,  92,  83],\n",
       "         [ 94,  74,  64],\n",
       "         [147, 130, 114]],\n",
       "\n",
       "        [[124, 104,  89],\n",
       "         [151, 127, 119],\n",
       "         [171, 146, 135],\n",
       "         ...,\n",
       "         [ 99,  72,  44],\n",
       "         [104,  83,  58],\n",
       "         [143, 124, 100]],\n",
       "\n",
       "        [[107,  86,  78],\n",
       "         [107,  86,  82],\n",
       "         [132, 111, 102],\n",
       "         ...,\n",
       "         [140, 118,  83],\n",
       "         [172, 156, 129],\n",
       "         [146, 126,  99]]],\n",
       "\n",
       "\n",
       "       [[[248, 244, 242],\n",
       "         [240, 232, 223],\n",
       "         [236, 232, 223],\n",
       "         ...,\n",
       "         [233, 229, 222],\n",
       "         [230, 228, 222],\n",
       "         [238, 237, 233]],\n",
       "\n",
       "        [[225, 213, 204],\n",
       "         [186, 167, 149],\n",
       "         [175, 159, 140],\n",
       "         ...,\n",
       "         [163, 148, 134],\n",
       "         [156, 144, 133],\n",
       "         [192, 184, 176]],\n",
       "\n",
       "        [[209, 194, 179],\n",
       "         [144, 120,  95],\n",
       "         [139, 115,  87],\n",
       "         ...,\n",
       "         [109,  86,  67],\n",
       "         [109,  90,  76],\n",
       "         [157, 145, 135]],\n",
       "\n",
       "        ...,\n",
       "\n",
       "        [[161, 159, 153],\n",
       "         [ 39,  34,  28],\n",
       "         [ 28,  20,  14],\n",
       "         ...,\n",
       "         [ 93,  72,  53],\n",
       "         [ 85,  67,  50],\n",
       "         [136, 126, 115]],\n",
       "\n",
       "        [[181, 179, 172],\n",
       "         [ 86,  83,  77],\n",
       "         [ 71,  68,  62],\n",
       "         ...,\n",
       "         [122, 103,  89],\n",
       "         [105,  92,  82],\n",
       "         [151, 145, 141]],\n",
       "\n",
       "        [[224, 223, 218],\n",
       "         [180, 180, 175],\n",
       "         [173, 172, 167],\n",
       "         ...,\n",
       "         [196, 187, 180],\n",
       "         [183, 178, 174],\n",
       "         [204, 205, 205]]],\n",
       "\n",
       "\n",
       "       [[[156, 154, 137],\n",
       "         [151, 146, 123],\n",
       "         [151, 144, 125],\n",
       "         ...,\n",
       "         [155, 150, 129],\n",
       "         [152, 148, 125],\n",
       "         [186, 184, 163]],\n",
       "\n",
       "        [[110, 106,  77],\n",
       "         [116, 108,  62],\n",
       "         [114, 101,  57],\n",
       "         ...,\n",
       "         [116, 106,  61],\n",
       "         [111, 103,  56],\n",
       "         [134, 129,  92]],\n",
       "\n",
       "        [[116, 112,  82],\n",
       "         [124, 118,  66],\n",
       "         [128, 118,  67],\n",
       "         ...,\n",
       "         [ 99,  84,  43],\n",
       "         [101,  87,  43],\n",
       "         [129, 118,  86]],\n",
       "\n",
       "        ...,\n",
       "\n",
       "        [[109, 101,  74],\n",
       "         [112, 100,  54],\n",
       "         [118, 105,  62],\n",
       "         ...,\n",
       "         [126, 113,  65],\n",
       "         [126, 111,  61],\n",
       "         [138, 124,  89]],\n",
       "\n",
       "        [[ 98,  92,  63],\n",
       "         [ 93,  82,  35],\n",
       "         [ 96,  83,  38],\n",
       "         ...,\n",
       "         [112,  96,  47],\n",
       "         [109,  92,  45],\n",
       "         [127, 113,  80]],\n",
       "\n",
       "        [[170, 167, 145],\n",
       "         [160, 153, 118],\n",
       "         [163, 152, 119],\n",
       "         ...,\n",
       "         [161, 151, 114],\n",
       "         [156, 144, 107],\n",
       "         [163, 154, 126]]]], dtype=uint8)"
      ]
     },
     "execution_count": 22,
     "metadata": {},
     "output_type": "execute_result"
    }
   ],
   "source": [
    "sub_X_train"
   ]
  },
  {
   "cell_type": "markdown",
   "metadata": {
    "id": "fXqz6xijQIoR"
   },
   "source": [
    "### Structure Predictions method"
   ]
  },
  {
   "cell_type": "markdown",
   "metadata": {
    "id": "jNsSBqkXQIoS"
   },
   "source": [
    "We procceed to create execute the Structure predictions method in order to identify differences and get some conclusions."
   ]
  },
  {
   "cell_type": "markdown",
   "metadata": {},
   "source": [
    "Here we implement the class IOKR2 due to some issues:"
   ]
  },
  {
   "cell_type": "code",
   "execution_count": 23,
   "metadata": {},
   "outputs": [],
   "source": [
    "# Implementation\n",
    "import time\n",
    "# from sklearn.model_selection import KFold\n",
    "from sklearn.metrics.pairwise import linear_kernel, polynomial_kernel, rbf_kernel\n",
    "# from sklearn.metrics import f1_score\n",
    "import numpy as np\n",
    "# import pandas as pd\n",
    "# from stpredictions.datasets.load_data import load_bibtex\n",
    "# from sklearn.model_selection import train_test_split\n",
    "# import arff\n",
    "from numpy.linalg import inv\n",
    "# import os\n",
    "\n",
    "# from line_profiler import LineProfiler\n",
    "\n",
    "\"\"\"\n",
    "Created on December 12, 2021\n",
    "\"\"\"\n",
    "\n",
    "\n",
    "class IOKR2:\n",
    "    \"\"\"\n",
    "    Class used to apply Input and Output Kernel Regression\n",
    "    \"\"\"\n",
    "\n",
    "    \n",
    "    def __init__(self):\n",
    "        \"\"\"\n",
    "        Initialization of the below parameters.\n",
    "        Parameters\n",
    "        ----------\n",
    "        X_train :  sparse matrix - containing explanatory variables of the train set\n",
    "        Y_train: sparse matrix - containing target variable of the train set\n",
    "        Ky: output scalar kernel\n",
    "        M: gram matrix on training set\n",
    "        verbose: binary - display more parameters\n",
    "        linear:\n",
    "        \"\"\"\n",
    "        self.X_train = None\n",
    "        self.Y_train = None\n",
    "        self.Ky = None\n",
    "        self.M = None\n",
    "        self.verbose = 0\n",
    "        self.input_kernel = None\n",
    "        self.output_kernel = None\n",
    "\n",
    "  \n",
    "    def fit(self, X, Y, L, input_kernel='linear', input_kernel_param=None):\n",
    "        \"\"\"\n",
    "        Model Fitting\n",
    "        \"\"\"\n",
    "\n",
    "        # save input and output training data\n",
    "        self.X_train, self.Y_train = X, Y\n",
    "\n",
    "        # instantiate input kernel parameter when not given\n",
    "        if input_kernel_param is None:\n",
    "            if input_kernel == 'rbf':\n",
    "                input_kernel_param = 1.\n",
    "            elif input_kernel == 'polynomial':\n",
    "                input_kernel_param = [3, None, 1]\n",
    "\n",
    "        # define input kernel\n",
    "        if input_kernel == 'linear':\n",
    "            self.input_kernel = lambda A, B: linear_kernel(A, B)\n",
    "        elif input_kernel == 'polynomial':\n",
    "            self.input_kernel = lambda A, B: polynomial_kernel(A, B, degree=input_kernel_param[0],\n",
    "                                                               gamma=input_kernel_param[1], coef0=input_kernel_param[2])\n",
    "        elif input_kernel == 'rbf':\n",
    "            self.input_kernel = lambda A, B: rbf_kernel(A, B, gamma=input_kernel_param)\n",
    "        else:\n",
    "            self.input_kernel = input_kernel\n",
    "\n",
    "        # compute input gram matrix\n",
    "        Kx = self.input_kernel(X, X)\n",
    "\n",
    "        # kernel ridge regression training computation: n x n matrix inversion\n",
    "        t0 = time.time()\n",
    "        n = Kx.shape[0]\n",
    "        self.M = np.linalg.inv(Kx + n * L * np.eye(n))\n",
    "        if self.verbose > 0:\n",
    "            print(f'Fitting time: {time.time() - t0} in s')\n",
    "\n",
    "    def alpha(self, X_test):\n",
    "\n",
    "        Kx = self.input_kernel(self.X_train, X_test)\n",
    "        A = self.M.dot(Kx)\n",
    "\n",
    "        return A\n",
    "\n",
    "\n",
    "    def predict(self, X_test, Y_candidates, output_kernel='linear', output_kernel_param=None):\n",
    "\n",
    "        \"\"\"\n",
    "        Model Prediction\n",
    "        \"\"\"\n",
    "\n",
    "        # instantiate output kernel parameter when not given\n",
    "        if output_kernel_param is None:\n",
    "            if output_kernel == 'rbf':\n",
    "                output_kernel_param = 1.\n",
    "            elif output_kernel == 'polynomial':\n",
    "                output_kernel_param = [3, None, 1]\n",
    "\n",
    "        # define output kernel\n",
    "        if output_kernel == 'linear':\n",
    "            self.output_kernel = lambda A, B: linear_kernel(A, B)\n",
    "        elif output_kernel == 'polynomial':\n",
    "            self.output_kernel = lambda A, B: polynomial_kernel(A, B, degree=output_kernel_param[0],\n",
    "                                                                gamma=output_kernel_param[1],\n",
    "                                                                coef0=output_kernel_param[2])\n",
    "        elif output_kernel == 'rbf':\n",
    "            self.output_kernel = lambda A, B: rbf_kernel(A, B, gamma=output_kernel_param)\n",
    "        else:\n",
    "            self.output_kernel = output_kernel\n",
    "\n",
    "        # compute output gram matrix\n",
    "        Ky = self.output_kernel(self.Y_train, Y_candidates)\n",
    "\n",
    "        # compute prediction\n",
    "        t0 = time.time()\n",
    "        Alpha = self.alpha(X_test)\n",
    "        scores = Ky.transpose().dot(Alpha)\n",
    "        idx_pred = np.argmax(scores, axis=0)\n",
    "        Y_pred = Y_candidates[idx_pred]\n",
    "        if self.verbose > 0:\n",
    "            print(f'Decoding time: {time.time() - t0} in s')\n",
    "\n",
    "        return Ky,Alpha,scores,idx_pred,Y_pred\n"
   ]
  },
  {
   "cell_type": "code",
   "execution_count": 24,
   "metadata": {
    "id": "s-hlhI_4QIoS"
   },
   "outputs": [],
   "source": [
    "from stpredictions.models.IOKR.model import IOKR\n"
   ]
  },
  {
   "cell_type": "code",
   "execution_count": 25,
   "metadata": {
    "id": "fwbTG1P7H_r1"
   },
   "outputs": [],
   "source": [
    "nb_class=10"
   ]
  },
  {
   "cell_type": "code",
   "execution_count": 26,
   "metadata": {
    "id": "f9sGKI98QIoS"
   },
   "outputs": [],
   "source": [
    "sp_start_time= time.time()"
   ]
  },
  {
   "cell_type": "code",
   "execution_count": 27,
   "metadata": {
    "colab": {
     "base_uri": "https://localhost:8080/"
    },
    "id": "_IIIQniUfvC-",
    "outputId": "4a648a55-5586-4f76-ad1d-8ca73f73ba93"
   },
   "outputs": [
    {
     "name": "stdout",
     "output_type": "stream",
     "text": [
      "(5000, 3072)\n",
      "(1000, 3072)\n",
      "(5000, 1)\n",
      "(1000, 1)\n"
     ]
    }
   ],
   "source": [
    "print(sub_X_train_rshp.shape)\n",
    "print(sub_X_test_rshp.shape)\n",
    "print(sub_Y_train.shape)\n",
    "print(sub_Y_test.shape)"
   ]
  },
  {
   "cell_type": "code",
   "execution_count": 28,
   "metadata": {
    "id": "qGwFASlOIEbr"
   },
   "outputs": [],
   "source": [
    "Y_tra=np.zeros([len(sub_Y_train),nb_class])\n",
    "Y_tes=np.zeros([len(sub_Y_test),nb_class])\n",
    "for t in range(len(sub_Y_train)):\n",
    "  Y_tra[t][sub_Y_train[t][0]]=1\n",
    "for t in range(len(sub_Y_test)):\n",
    "  Y_tes[t][sub_Y_test[t][0]]=1"
   ]
  },
  {
   "cell_type": "code",
   "execution_count": 29,
   "metadata": {
    "colab": {
     "base_uri": "https://localhost:8080/"
    },
    "id": "tQQREqnlQIoS",
    "outputId": "77f2058a-5485-42f6-afd3-2f9e489df5e8"
   },
   "outputs": [
    {
     "name": "stdout",
     "output_type": "stream",
     "text": [
      "Fitting time: 3.1754708290100098 in s\n",
      "Decoding time: 0.6515512466430664 in s\n",
      "[0. 0. 0. 0. 0. 0. 0. 1. 0. 0.]\n"
     ]
    }
   ],
   "source": [
    "clf = IOKR2()\n",
    "clf.verbose = 1\n",
    "L =1e-6\n",
    "clf.fit(X=sub_X_train_rshp, Y=Y_tra, L=L, input_kernel='linear')\n",
    "Ky,Alpha,scores,idx_pred,Y_pred_test = clf.predict(X_test=sub_X_test_rshp, Y_candidates=np.eye(10))\n",
    "#f1_test_st = f1_score(Y_pred_test, Y_test, average='weighted')\n",
    "#print( \"Test f1 score:\", f1_test_st)\n",
    "print(Y_pred_test[1])"
   ]
  },
  {
   "cell_type": "code",
   "execution_count": 30,
   "metadata": {},
   "outputs": [
    {
     "data": {
      "text/plain": [
       "array([[1., 0., 0., ..., 0., 0., 0.],\n",
       "       [0., 0., 0., ..., 1., 0., 0.],\n",
       "       [1., 0., 0., ..., 0., 0., 0.],\n",
       "       ...,\n",
       "       [0., 0., 0., ..., 0., 0., 0.],\n",
       "       [0., 0., 0., ..., 0., 0., 0.],\n",
       "       [0., 0., 0., ..., 0., 1., 0.]])"
      ]
     },
     "execution_count": 30,
     "metadata": {},
     "output_type": "execute_result"
    }
   ],
   "source": [
    "Y_pred_test"
   ]
  },
  {
   "cell_type": "code",
   "execution_count": 31,
   "metadata": {
    "id": "jIKtM_VQLme_"
   },
   "outputs": [],
   "source": [
    "y_res_fin=np.argmax(Y_tes,axis=1)"
   ]
  },
  {
   "cell_type": "code",
   "execution_count": 32,
   "metadata": {
    "id": "7apeKdynLq3f"
   },
   "outputs": [],
   "source": [
    "y_test_fin=np.argmax(Y_pred_test,axis=1)"
   ]
  },
  {
   "cell_type": "code",
   "execution_count": 33,
   "metadata": {},
   "outputs": [
    {
     "data": {
      "text/plain": [
       "array([[[[250, 250, 248],\n",
       "         [248, 249, 243],\n",
       "         [247, 248, 239],\n",
       "         ...,\n",
       "         [250, 250, 246],\n",
       "         [250, 250, 246],\n",
       "         [249, 250, 246]],\n",
       "\n",
       "        [[250, 251, 245],\n",
       "         [248, 249, 238],\n",
       "         [247, 247, 234],\n",
       "         ...,\n",
       "         [251, 251, 242],\n",
       "         [251, 252, 243],\n",
       "         [250, 251, 243]],\n",
       "\n",
       "        [[251, 251, 244],\n",
       "         [250, 248, 237],\n",
       "         [250, 245, 233],\n",
       "         ...,\n",
       "         [250, 249, 238],\n",
       "         [250, 249, 240],\n",
       "         [250, 249, 242]],\n",
       "\n",
       "        ...,\n",
       "\n",
       "        [[221, 213, 191],\n",
       "         [221, 206, 176],\n",
       "         [225, 207, 181],\n",
       "         ...,\n",
       "         [199, 176, 134],\n",
       "         [207, 193, 165],\n",
       "         [233, 229, 226]],\n",
       "\n",
       "        [[225, 223, 204],\n",
       "         [227, 219, 196],\n",
       "         [229, 216, 200],\n",
       "         ...,\n",
       "         [204, 185, 151],\n",
       "         [212, 201, 180],\n",
       "         [234, 232, 228]],\n",
       "\n",
       "        [[233, 233, 226],\n",
       "         [234, 232, 224],\n",
       "         [235, 230, 225],\n",
       "         ...,\n",
       "         [219, 209, 194],\n",
       "         [223, 216, 207],\n",
       "         [232, 230, 228]]],\n",
       "\n",
       "\n",
       "       [[[ 43,  49,  46],\n",
       "         [ 32,  40,  34],\n",
       "         [ 87,  89,  47],\n",
       "         ...,\n",
       "         [ 74,  84,  48],\n",
       "         [ 43,  51,  30],\n",
       "         [ 39,  45,  33]],\n",
       "\n",
       "        [[ 44,  47,  51],\n",
       "         [ 38,  42,  42],\n",
       "         [ 59,  61,  32],\n",
       "         ...,\n",
       "         [ 66,  74,  47],\n",
       "         [ 40,  47,  31],\n",
       "         [ 40,  46,  34]],\n",
       "\n",
       "        [[ 45,  45,  50],\n",
       "         [ 43,  43,  44],\n",
       "         [ 44,  47,  30],\n",
       "         ...,\n",
       "         [ 51,  58,  40],\n",
       "         [ 40,  46,  34],\n",
       "         [ 43,  49,  37]],\n",
       "\n",
       "        ...,\n",
       "\n",
       "        [[ 51,  50,  31],\n",
       "         [ 56,  51,  33],\n",
       "         [ 72,  64,  45],\n",
       "         ...,\n",
       "         [109,  94,  43],\n",
       "         [160, 154,  90],\n",
       "         [125, 120,  62]],\n",
       "\n",
       "        [[ 80,  77,  45],\n",
       "         [ 68,  62,  33],\n",
       "         [ 78,  69,  42],\n",
       "         ...,\n",
       "         [101,  92,  54],\n",
       "         [ 82,  79,  36],\n",
       "         [ 75,  76,  32]],\n",
       "\n",
       "        [[109, 102,  57],\n",
       "         [ 92,  84,  47],\n",
       "         [108,  99,  67],\n",
       "         ...,\n",
       "         [ 93,  88,  60],\n",
       "         [ 55,  55,  29],\n",
       "         [ 63,  67,  37]]],\n",
       "\n",
       "\n",
       "       [[[ 35,  38,  32],\n",
       "         [ 27,  29,  24],\n",
       "         [ 31,  33,  28],\n",
       "         ...,\n",
       "         [104, 123,  84],\n",
       "         [102, 125,  76],\n",
       "         [111, 127,  83]],\n",
       "\n",
       "        [[ 29,  32,  26],\n",
       "         [ 21,  23,  18],\n",
       "         [ 25,  27,  22],\n",
       "         ...,\n",
       "         [111, 132, 137],\n",
       "         [ 77,  99,  91],\n",
       "         [102, 117,  93]],\n",
       "\n",
       "        [[ 28,  31,  25],\n",
       "         [ 21,  24,  18],\n",
       "         [ 27,  29,  24],\n",
       "         ...,\n",
       "         [ 88, 108,  76],\n",
       "         [ 80,  99,  77],\n",
       "         [110, 122,  91]],\n",
       "\n",
       "        ...,\n",
       "\n",
       "        [[195, 213, 133],\n",
       "         [190, 203, 131],\n",
       "         [202, 211, 149],\n",
       "         ...,\n",
       "         [190, 209, 140],\n",
       "         [204, 221, 158],\n",
       "         [198, 216, 145]],\n",
       "\n",
       "        [[193, 206, 136],\n",
       "         [192, 203, 140],\n",
       "         [188, 199, 130],\n",
       "         ...,\n",
       "         [182, 204, 122],\n",
       "         [187, 204, 134],\n",
       "         [184, 199, 130]],\n",
       "\n",
       "        [[203, 214, 145],\n",
       "         [209, 219, 154],\n",
       "         [190, 201, 131],\n",
       "         ...,\n",
       "         [205, 224, 150],\n",
       "         [190, 208, 132],\n",
       "         [181, 198, 118]]],\n",
       "\n",
       "\n",
       "       ...,\n",
       "\n",
       "\n",
       "       [[[167, 157, 140],\n",
       "         [199, 198, 182],\n",
       "         [193, 193, 166],\n",
       "         ...,\n",
       "         [217, 211, 191],\n",
       "         [200, 189, 162],\n",
       "         [194, 181, 148]],\n",
       "\n",
       "        [[171, 164, 138],\n",
       "         [205, 202, 180],\n",
       "         [189, 188, 159],\n",
       "         ...,\n",
       "         [202, 196, 177],\n",
       "         [196, 186, 161],\n",
       "         [199, 189, 160]],\n",
       "\n",
       "        [[165, 155, 121],\n",
       "         [165, 155, 126],\n",
       "         [169, 162, 133],\n",
       "         ...,\n",
       "         [196, 178, 151],\n",
       "         [206, 185, 153],\n",
       "         [217, 198, 165]],\n",
       "\n",
       "        ...,\n",
       "\n",
       "        [[151, 131, 113],\n",
       "         [184, 159, 143],\n",
       "         [161, 132, 111],\n",
       "         ...,\n",
       "         [115,  92,  83],\n",
       "         [ 94,  74,  64],\n",
       "         [147, 130, 114]],\n",
       "\n",
       "        [[124, 104,  89],\n",
       "         [151, 127, 119],\n",
       "         [171, 146, 135],\n",
       "         ...,\n",
       "         [ 99,  72,  44],\n",
       "         [104,  83,  58],\n",
       "         [143, 124, 100]],\n",
       "\n",
       "        [[107,  86,  78],\n",
       "         [107,  86,  82],\n",
       "         [132, 111, 102],\n",
       "         ...,\n",
       "         [140, 118,  83],\n",
       "         [172, 156, 129],\n",
       "         [146, 126,  99]]],\n",
       "\n",
       "\n",
       "       [[[248, 244, 242],\n",
       "         [240, 232, 223],\n",
       "         [236, 232, 223],\n",
       "         ...,\n",
       "         [233, 229, 222],\n",
       "         [230, 228, 222],\n",
       "         [238, 237, 233]],\n",
       "\n",
       "        [[225, 213, 204],\n",
       "         [186, 167, 149],\n",
       "         [175, 159, 140],\n",
       "         ...,\n",
       "         [163, 148, 134],\n",
       "         [156, 144, 133],\n",
       "         [192, 184, 176]],\n",
       "\n",
       "        [[209, 194, 179],\n",
       "         [144, 120,  95],\n",
       "         [139, 115,  87],\n",
       "         ...,\n",
       "         [109,  86,  67],\n",
       "         [109,  90,  76],\n",
       "         [157, 145, 135]],\n",
       "\n",
       "        ...,\n",
       "\n",
       "        [[161, 159, 153],\n",
       "         [ 39,  34,  28],\n",
       "         [ 28,  20,  14],\n",
       "         ...,\n",
       "         [ 93,  72,  53],\n",
       "         [ 85,  67,  50],\n",
       "         [136, 126, 115]],\n",
       "\n",
       "        [[181, 179, 172],\n",
       "         [ 86,  83,  77],\n",
       "         [ 71,  68,  62],\n",
       "         ...,\n",
       "         [122, 103,  89],\n",
       "         [105,  92,  82],\n",
       "         [151, 145, 141]],\n",
       "\n",
       "        [[224, 223, 218],\n",
       "         [180, 180, 175],\n",
       "         [173, 172, 167],\n",
       "         ...,\n",
       "         [196, 187, 180],\n",
       "         [183, 178, 174],\n",
       "         [204, 205, 205]]],\n",
       "\n",
       "\n",
       "       [[[156, 154, 137],\n",
       "         [151, 146, 123],\n",
       "         [151, 144, 125],\n",
       "         ...,\n",
       "         [155, 150, 129],\n",
       "         [152, 148, 125],\n",
       "         [186, 184, 163]],\n",
       "\n",
       "        [[110, 106,  77],\n",
       "         [116, 108,  62],\n",
       "         [114, 101,  57],\n",
       "         ...,\n",
       "         [116, 106,  61],\n",
       "         [111, 103,  56],\n",
       "         [134, 129,  92]],\n",
       "\n",
       "        [[116, 112,  82],\n",
       "         [124, 118,  66],\n",
       "         [128, 118,  67],\n",
       "         ...,\n",
       "         [ 99,  84,  43],\n",
       "         [101,  87,  43],\n",
       "         [129, 118,  86]],\n",
       "\n",
       "        ...,\n",
       "\n",
       "        [[109, 101,  74],\n",
       "         [112, 100,  54],\n",
       "         [118, 105,  62],\n",
       "         ...,\n",
       "         [126, 113,  65],\n",
       "         [126, 111,  61],\n",
       "         [138, 124,  89]],\n",
       "\n",
       "        [[ 98,  92,  63],\n",
       "         [ 93,  82,  35],\n",
       "         [ 96,  83,  38],\n",
       "         ...,\n",
       "         [112,  96,  47],\n",
       "         [109,  92,  45],\n",
       "         [127, 113,  80]],\n",
       "\n",
       "        [[170, 167, 145],\n",
       "         [160, 153, 118],\n",
       "         [163, 152, 119],\n",
       "         ...,\n",
       "         [161, 151, 114],\n",
       "         [156, 144, 107],\n",
       "         [163, 154, 126]]]], dtype=uint8)"
      ]
     },
     "execution_count": 33,
     "metadata": {},
     "output_type": "execute_result"
    }
   ],
   "source": [
    "sub_X_train"
   ]
  },
  {
   "cell_type": "code",
   "execution_count": 34,
   "metadata": {},
   "outputs": [
    {
     "data": {
      "text/plain": [
       "array([0, 7, 0, 9, 7, 7, 2, 6, 7, 4, 9, 1, 6, 0, 2, 2, 9, 6, 4, 0, 3, 2,\n",
       "       0, 2, 3, 0, 1, 5, 3, 3, 2, 7, 5, 9, 3, 8, 0, 8, 4, 1, 8, 4, 8, 2,\n",
       "       0, 9, 4, 2, 5, 6, 3, 6, 1, 0, 7, 8, 5, 3, 9, 6, 5, 8, 3, 4, 4, 4,\n",
       "       4, 4, 5, 1, 5, 7, 4, 4, 5, 9, 9, 6, 1, 5, 1, 2, 8, 4, 5, 4, 9, 7,\n",
       "       4, 2, 7, 9, 2, 0, 5, 6, 8, 2, 3, 7, 4, 1, 5, 5, 1, 1, 5, 0, 1, 4,\n",
       "       8, 5, 5, 5, 4, 7, 9, 1, 8, 5, 6, 1, 4, 7, 3, 4, 1, 2, 3, 9, 3, 7,\n",
       "       4, 7, 2, 7, 3, 3, 3, 3, 8, 8, 3, 3, 9, 5, 5, 9, 4, 9, 5, 8, 6, 2,\n",
       "       1, 9, 2, 2, 3, 4, 3, 7, 7, 4, 9, 9, 0, 9, 8, 5, 1, 6, 3, 1, 6, 3,\n",
       "       7, 6, 6, 2, 7, 7, 2, 8, 9, 7, 1, 9, 4, 2, 5, 4, 6, 2, 4, 7, 3, 6,\n",
       "       1, 3, 9, 7, 6, 8, 5, 4, 4, 9, 1, 4, 7, 5, 9, 7, 8, 7, 3, 8, 2, 2,\n",
       "       2, 4, 7, 6, 5, 2, 6, 6, 7, 4, 4, 2, 0, 5, 3, 7, 3, 1, 6, 3, 0, 8,\n",
       "       6, 5, 3, 4, 7, 4, 0, 3, 7, 5, 0, 4, 9, 5, 5, 4, 6, 0, 3, 1, 4, 2,\n",
       "       6, 4, 1, 0, 0, 2, 3, 9, 7, 3, 9, 8, 0, 2, 8, 7, 5, 7, 8, 4, 4, 9,\n",
       "       1, 3, 8, 2, 9, 6, 8, 3, 2, 3, 6, 9, 3, 8, 5, 2, 9, 9, 9, 2, 6, 2,\n",
       "       0, 7, 4, 8, 0, 6, 8, 5, 6, 0, 1, 8, 4, 7, 7, 1, 2, 7, 8, 2, 9, 8,\n",
       "       2, 0, 8, 7, 0, 6, 8, 9, 6, 3, 4, 0, 2, 4, 1, 7, 6, 2, 8, 0, 0, 0,\n",
       "       5, 4, 9, 7, 4, 1, 9, 4, 1, 0, 2, 3, 3, 1, 7, 4, 6, 4, 8, 2, 9, 6,\n",
       "       4, 4, 1, 9, 5, 4, 7, 2, 0, 0, 0, 8, 8, 0, 5, 4, 5, 1, 7, 7, 7, 9,\n",
       "       2, 8, 5, 6, 7, 7, 2, 3, 0, 1, 6, 5, 3, 3, 1, 4, 6, 4, 5, 4, 4, 3,\n",
       "       5, 8, 9, 0, 7, 5, 1, 8, 0, 9, 5, 5, 2, 1, 2, 6, 4, 7, 0, 1, 5, 5,\n",
       "       5, 1, 9, 3, 0, 1, 7, 4, 3, 7, 5, 7, 8, 5, 9, 4, 2, 8, 1, 8, 9, 7,\n",
       "       9, 2, 8, 7, 0, 4, 3, 4, 6, 1, 3, 0, 7, 4, 3, 0, 8, 9, 2, 4, 2, 3,\n",
       "       1, 7, 8, 9, 9, 2, 1, 4, 7, 3, 2, 8, 9, 8, 7, 5, 8, 9, 0, 3, 1, 5,\n",
       "       7, 8, 0, 0, 4, 3, 6, 8, 9, 8, 7, 3, 7, 5, 2, 7, 2, 3, 4, 1, 6, 1,\n",
       "       8, 5, 5, 3, 8, 3, 6, 9, 4, 8, 3, 6, 0, 0, 4, 7, 0, 3, 1, 3, 9, 0,\n",
       "       7, 8, 9, 7, 8, 7, 7, 7, 9, 2, 1, 0, 5, 2, 4, 4, 5, 8, 0, 0, 9, 1,\n",
       "       4, 6, 3, 0, 7, 2, 5, 1, 2, 1, 9, 0, 8, 7, 7, 4, 8, 9, 5, 0, 9, 3,\n",
       "       9, 0, 1, 7, 5, 2, 4, 8, 4, 9, 9, 5, 8, 9, 4, 8, 9, 1, 3, 5, 7, 2,\n",
       "       6, 3, 2, 1, 8, 5, 3, 6, 7, 6, 3, 9, 7, 9, 2, 9, 4, 4, 1, 5, 1, 4,\n",
       "       6, 5, 9, 7, 5, 3, 7, 1, 7, 2, 4, 6, 4, 8, 6, 1, 8, 4, 1, 6, 4, 9,\n",
       "       3, 8, 8, 0, 9, 8, 2, 6, 2, 7, 8, 1, 7, 7, 4, 3, 8, 6, 4, 6, 7, 2,\n",
       "       0, 4, 5, 0, 6, 2, 8, 0, 9, 6, 4, 8, 5, 4, 9, 9, 0, 3, 7, 5, 2, 5,\n",
       "       4, 8, 9, 5, 2, 1, 8, 5, 7, 1, 5, 5, 6, 3, 7, 1, 8, 2, 8, 3, 8, 6,\n",
       "       2, 3, 1, 6, 7, 4, 6, 0, 1, 9, 9, 7, 7, 4, 7, 8, 9, 9, 9, 4, 6, 0,\n",
       "       2, 3, 5, 5, 9, 9, 4, 4, 3, 9, 0, 7, 2, 9, 1, 3, 9, 8, 8, 4, 8, 7,\n",
       "       5, 7, 3, 9, 3, 5, 8, 3, 9, 2, 4, 0, 1, 0, 5, 4, 4, 2, 4, 4, 4, 6,\n",
       "       8, 2, 9, 8, 1, 5, 4, 7, 4, 9, 0, 0, 5, 3, 0, 3, 8, 9, 2, 8, 1, 4,\n",
       "       0, 6, 5, 4, 5, 8, 9, 9, 2, 0, 9, 8, 8, 9, 2, 3, 4, 7, 3, 9, 0, 9,\n",
       "       8, 0, 7, 5, 1, 1, 1, 3, 0, 9, 1, 9, 4, 4, 9, 9, 2, 8, 7, 1, 5, 3,\n",
       "       2, 1, 4, 7, 8, 1, 0, 9, 2, 0, 4, 3, 2, 8, 9, 4, 3, 0, 7, 7, 8, 0,\n",
       "       9, 8, 9, 1, 8, 5, 1, 9, 8, 2, 3, 9, 5, 8, 6, 4, 5, 6, 1, 4, 6, 9,\n",
       "       9, 3, 2, 2, 4, 0, 7, 9, 9, 7, 2, 0, 9, 5, 9, 0, 1, 2, 2, 3, 7, 8,\n",
       "       9, 5, 6, 3, 1, 8, 0, 3, 8, 9, 3, 7, 4, 3, 6, 5, 4, 1, 8, 8, 6, 4,\n",
       "       7, 1, 5, 2, 1, 0, 1, 7, 3, 9, 5, 4, 2, 6, 9, 2, 0, 4, 0, 2, 4, 1,\n",
       "       4, 5, 8, 8, 9, 9, 2, 3, 1, 9, 4, 5, 7, 7, 6, 7, 9, 3, 4, 4, 6, 2,\n",
       "       0, 8, 4, 9, 8, 0, 3, 4, 6, 8])"
      ]
     },
     "execution_count": 34,
     "metadata": {},
     "output_type": "execute_result"
    }
   ],
   "source": [
    "idx_pred"
   ]
  },
  {
   "cell_type": "markdown",
   "metadata": {},
   "source": [
    "#### Table for classification report and confusion"
   ]
  },
  {
   "cell_type": "code",
   "execution_count": 35,
   "metadata": {
    "colab": {
     "base_uri": "https://localhost:8080/"
    },
    "id": "syeVCARcQIoS",
    "outputId": "49634a4a-0ba7-4956-9f07-c8454d7a472f"
   },
   "outputs": [
    {
     "name": "stdout",
     "output_type": "stream",
     "text": [
      "              precision    recall  f1-score   support\n",
      "\n",
      "           0       0.42      0.48      0.45        87\n",
      "           1       0.34      0.39      0.36        87\n",
      "           2       0.27      0.28      0.28        95\n",
      "           3       0.13      0.13      0.13        98\n",
      "           4       0.17      0.13      0.15       127\n",
      "           5       0.26      0.27      0.27        95\n",
      "           6       0.12      0.16      0.14        73\n",
      "           7       0.20      0.18      0.19       109\n",
      "           8       0.18      0.17      0.17       108\n",
      "           9       0.37      0.31      0.33       121\n",
      "\n",
      "    accuracy                           0.25      1000\n",
      "   macro avg       0.25      0.25      0.25      1000\n",
      "weighted avg       0.25      0.25      0.24      1000\n",
      "\n",
      "\n",
      "Execution Time 6.541472434997559 seconds: \n"
     ]
    }
   ],
   "source": [
    "sp_cm=confusion_matrix(idx_pred,y_res_fin) ## To obtain the confusion matrix\n",
    "print(classification_report(idx_pred,y_res_fin))\n",
    "\n",
    "print()\n",
    "print(\"Execution Time %s seconds: \" % (time.time() - sp_start_time))"
   ]
  },
  {
   "cell_type": "markdown",
   "metadata": {
    "id": "39Og-GN1QIoS"
   },
   "source": [
    "### Random Forest method"
   ]
  },
  {
   "cell_type": "code",
   "execution_count": 36,
   "metadata": {
    "id": "t3kCns5rQIoS"
   },
   "outputs": [],
   "source": [
    "from sklearn.ensemble import RandomForestClassifier\n",
    "from sklearn.model_selection import cross_val_score\n",
    "\n",
    "rf_start_time = time.time()"
   ]
  },
  {
   "cell_type": "code",
   "execution_count": 37,
   "metadata": {
    "id": "4b3jpDzHQIoS"
   },
   "outputs": [],
   "source": [
    "sub_X_train = sub_X_train.astype('float32')\n",
    "sub_X_test = sub_X_test.astype('float32')"
   ]
  },
  {
   "cell_type": "code",
   "execution_count": 38,
   "metadata": {},
   "outputs": [
    {
     "data": {
      "text/plain": [
       "array([[[[250., 250., 248.],\n",
       "         [248., 249., 243.],\n",
       "         [247., 248., 239.],\n",
       "         ...,\n",
       "         [250., 250., 246.],\n",
       "         [250., 250., 246.],\n",
       "         [249., 250., 246.]],\n",
       "\n",
       "        [[250., 251., 245.],\n",
       "         [248., 249., 238.],\n",
       "         [247., 247., 234.],\n",
       "         ...,\n",
       "         [251., 251., 242.],\n",
       "         [251., 252., 243.],\n",
       "         [250., 251., 243.]],\n",
       "\n",
       "        [[251., 251., 244.],\n",
       "         [250., 248., 237.],\n",
       "         [250., 245., 233.],\n",
       "         ...,\n",
       "         [250., 249., 238.],\n",
       "         [250., 249., 240.],\n",
       "         [250., 249., 242.]],\n",
       "\n",
       "        ...,\n",
       "\n",
       "        [[221., 213., 191.],\n",
       "         [221., 206., 176.],\n",
       "         [225., 207., 181.],\n",
       "         ...,\n",
       "         [199., 176., 134.],\n",
       "         [207., 193., 165.],\n",
       "         [233., 229., 226.]],\n",
       "\n",
       "        [[225., 223., 204.],\n",
       "         [227., 219., 196.],\n",
       "         [229., 216., 200.],\n",
       "         ...,\n",
       "         [204., 185., 151.],\n",
       "         [212., 201., 180.],\n",
       "         [234., 232., 228.]],\n",
       "\n",
       "        [[233., 233., 226.],\n",
       "         [234., 232., 224.],\n",
       "         [235., 230., 225.],\n",
       "         ...,\n",
       "         [219., 209., 194.],\n",
       "         [223., 216., 207.],\n",
       "         [232., 230., 228.]]],\n",
       "\n",
       "\n",
       "       [[[ 43.,  49.,  46.],\n",
       "         [ 32.,  40.,  34.],\n",
       "         [ 87.,  89.,  47.],\n",
       "         ...,\n",
       "         [ 74.,  84.,  48.],\n",
       "         [ 43.,  51.,  30.],\n",
       "         [ 39.,  45.,  33.]],\n",
       "\n",
       "        [[ 44.,  47.,  51.],\n",
       "         [ 38.,  42.,  42.],\n",
       "         [ 59.,  61.,  32.],\n",
       "         ...,\n",
       "         [ 66.,  74.,  47.],\n",
       "         [ 40.,  47.,  31.],\n",
       "         [ 40.,  46.,  34.]],\n",
       "\n",
       "        [[ 45.,  45.,  50.],\n",
       "         [ 43.,  43.,  44.],\n",
       "         [ 44.,  47.,  30.],\n",
       "         ...,\n",
       "         [ 51.,  58.,  40.],\n",
       "         [ 40.,  46.,  34.],\n",
       "         [ 43.,  49.,  37.]],\n",
       "\n",
       "        ...,\n",
       "\n",
       "        [[ 51.,  50.,  31.],\n",
       "         [ 56.,  51.,  33.],\n",
       "         [ 72.,  64.,  45.],\n",
       "         ...,\n",
       "         [109.,  94.,  43.],\n",
       "         [160., 154.,  90.],\n",
       "         [125., 120.,  62.]],\n",
       "\n",
       "        [[ 80.,  77.,  45.],\n",
       "         [ 68.,  62.,  33.],\n",
       "         [ 78.,  69.,  42.],\n",
       "         ...,\n",
       "         [101.,  92.,  54.],\n",
       "         [ 82.,  79.,  36.],\n",
       "         [ 75.,  76.,  32.]],\n",
       "\n",
       "        [[109., 102.,  57.],\n",
       "         [ 92.,  84.,  47.],\n",
       "         [108.,  99.,  67.],\n",
       "         ...,\n",
       "         [ 93.,  88.,  60.],\n",
       "         [ 55.,  55.,  29.],\n",
       "         [ 63.,  67.,  37.]]],\n",
       "\n",
       "\n",
       "       [[[ 35.,  38.,  32.],\n",
       "         [ 27.,  29.,  24.],\n",
       "         [ 31.,  33.,  28.],\n",
       "         ...,\n",
       "         [104., 123.,  84.],\n",
       "         [102., 125.,  76.],\n",
       "         [111., 127.,  83.]],\n",
       "\n",
       "        [[ 29.,  32.,  26.],\n",
       "         [ 21.,  23.,  18.],\n",
       "         [ 25.,  27.,  22.],\n",
       "         ...,\n",
       "         [111., 132., 137.],\n",
       "         [ 77.,  99.,  91.],\n",
       "         [102., 117.,  93.]],\n",
       "\n",
       "        [[ 28.,  31.,  25.],\n",
       "         [ 21.,  24.,  18.],\n",
       "         [ 27.,  29.,  24.],\n",
       "         ...,\n",
       "         [ 88., 108.,  76.],\n",
       "         [ 80.,  99.,  77.],\n",
       "         [110., 122.,  91.]],\n",
       "\n",
       "        ...,\n",
       "\n",
       "        [[195., 213., 133.],\n",
       "         [190., 203., 131.],\n",
       "         [202., 211., 149.],\n",
       "         ...,\n",
       "         [190., 209., 140.],\n",
       "         [204., 221., 158.],\n",
       "         [198., 216., 145.]],\n",
       "\n",
       "        [[193., 206., 136.],\n",
       "         [192., 203., 140.],\n",
       "         [188., 199., 130.],\n",
       "         ...,\n",
       "         [182., 204., 122.],\n",
       "         [187., 204., 134.],\n",
       "         [184., 199., 130.]],\n",
       "\n",
       "        [[203., 214., 145.],\n",
       "         [209., 219., 154.],\n",
       "         [190., 201., 131.],\n",
       "         ...,\n",
       "         [205., 224., 150.],\n",
       "         [190., 208., 132.],\n",
       "         [181., 198., 118.]]],\n",
       "\n",
       "\n",
       "       ...,\n",
       "\n",
       "\n",
       "       [[[167., 157., 140.],\n",
       "         [199., 198., 182.],\n",
       "         [193., 193., 166.],\n",
       "         ...,\n",
       "         [217., 211., 191.],\n",
       "         [200., 189., 162.],\n",
       "         [194., 181., 148.]],\n",
       "\n",
       "        [[171., 164., 138.],\n",
       "         [205., 202., 180.],\n",
       "         [189., 188., 159.],\n",
       "         ...,\n",
       "         [202., 196., 177.],\n",
       "         [196., 186., 161.],\n",
       "         [199., 189., 160.]],\n",
       "\n",
       "        [[165., 155., 121.],\n",
       "         [165., 155., 126.],\n",
       "         [169., 162., 133.],\n",
       "         ...,\n",
       "         [196., 178., 151.],\n",
       "         [206., 185., 153.],\n",
       "         [217., 198., 165.]],\n",
       "\n",
       "        ...,\n",
       "\n",
       "        [[151., 131., 113.],\n",
       "         [184., 159., 143.],\n",
       "         [161., 132., 111.],\n",
       "         ...,\n",
       "         [115.,  92.,  83.],\n",
       "         [ 94.,  74.,  64.],\n",
       "         [147., 130., 114.]],\n",
       "\n",
       "        [[124., 104.,  89.],\n",
       "         [151., 127., 119.],\n",
       "         [171., 146., 135.],\n",
       "         ...,\n",
       "         [ 99.,  72.,  44.],\n",
       "         [104.,  83.,  58.],\n",
       "         [143., 124., 100.]],\n",
       "\n",
       "        [[107.,  86.,  78.],\n",
       "         [107.,  86.,  82.],\n",
       "         [132., 111., 102.],\n",
       "         ...,\n",
       "         [140., 118.,  83.],\n",
       "         [172., 156., 129.],\n",
       "         [146., 126.,  99.]]],\n",
       "\n",
       "\n",
       "       [[[248., 244., 242.],\n",
       "         [240., 232., 223.],\n",
       "         [236., 232., 223.],\n",
       "         ...,\n",
       "         [233., 229., 222.],\n",
       "         [230., 228., 222.],\n",
       "         [238., 237., 233.]],\n",
       "\n",
       "        [[225., 213., 204.],\n",
       "         [186., 167., 149.],\n",
       "         [175., 159., 140.],\n",
       "         ...,\n",
       "         [163., 148., 134.],\n",
       "         [156., 144., 133.],\n",
       "         [192., 184., 176.]],\n",
       "\n",
       "        [[209., 194., 179.],\n",
       "         [144., 120.,  95.],\n",
       "         [139., 115.,  87.],\n",
       "         ...,\n",
       "         [109.,  86.,  67.],\n",
       "         [109.,  90.,  76.],\n",
       "         [157., 145., 135.]],\n",
       "\n",
       "        ...,\n",
       "\n",
       "        [[161., 159., 153.],\n",
       "         [ 39.,  34.,  28.],\n",
       "         [ 28.,  20.,  14.],\n",
       "         ...,\n",
       "         [ 93.,  72.,  53.],\n",
       "         [ 85.,  67.,  50.],\n",
       "         [136., 126., 115.]],\n",
       "\n",
       "        [[181., 179., 172.],\n",
       "         [ 86.,  83.,  77.],\n",
       "         [ 71.,  68.,  62.],\n",
       "         ...,\n",
       "         [122., 103.,  89.],\n",
       "         [105.,  92.,  82.],\n",
       "         [151., 145., 141.]],\n",
       "\n",
       "        [[224., 223., 218.],\n",
       "         [180., 180., 175.],\n",
       "         [173., 172., 167.],\n",
       "         ...,\n",
       "         [196., 187., 180.],\n",
       "         [183., 178., 174.],\n",
       "         [204., 205., 205.]]],\n",
       "\n",
       "\n",
       "       [[[156., 154., 137.],\n",
       "         [151., 146., 123.],\n",
       "         [151., 144., 125.],\n",
       "         ...,\n",
       "         [155., 150., 129.],\n",
       "         [152., 148., 125.],\n",
       "         [186., 184., 163.]],\n",
       "\n",
       "        [[110., 106.,  77.],\n",
       "         [116., 108.,  62.],\n",
       "         [114., 101.,  57.],\n",
       "         ...,\n",
       "         [116., 106.,  61.],\n",
       "         [111., 103.,  56.],\n",
       "         [134., 129.,  92.]],\n",
       "\n",
       "        [[116., 112.,  82.],\n",
       "         [124., 118.,  66.],\n",
       "         [128., 118.,  67.],\n",
       "         ...,\n",
       "         [ 99.,  84.,  43.],\n",
       "         [101.,  87.,  43.],\n",
       "         [129., 118.,  86.]],\n",
       "\n",
       "        ...,\n",
       "\n",
       "        [[109., 101.,  74.],\n",
       "         [112., 100.,  54.],\n",
       "         [118., 105.,  62.],\n",
       "         ...,\n",
       "         [126., 113.,  65.],\n",
       "         [126., 111.,  61.],\n",
       "         [138., 124.,  89.]],\n",
       "\n",
       "        [[ 98.,  92.,  63.],\n",
       "         [ 93.,  82.,  35.],\n",
       "         [ 96.,  83.,  38.],\n",
       "         ...,\n",
       "         [112.,  96.,  47.],\n",
       "         [109.,  92.,  45.],\n",
       "         [127., 113.,  80.]],\n",
       "\n",
       "        [[170., 167., 145.],\n",
       "         [160., 153., 118.],\n",
       "         [163., 152., 119.],\n",
       "         ...,\n",
       "         [161., 151., 114.],\n",
       "         [156., 144., 107.],\n",
       "         [163., 154., 126.]]]], dtype=float32)"
      ]
     },
     "execution_count": 38,
     "metadata": {},
     "output_type": "execute_result"
    }
   ],
   "source": [
    "sub_X_train"
   ]
  },
  {
   "cell_type": "code",
   "execution_count": 39,
   "metadata": {
    "colab": {
     "base_uri": "https://localhost:8080/"
    },
    "id": "UzMMB0HBQIoT",
    "outputId": "6f031e75-5863-4952-fbdd-effc19ca4f9a"
   },
   "outputs": [
    {
     "name": "stdout",
     "output_type": "stream",
     "text": [
      "5000 train samples\n",
      "1000 test samples\n"
     ]
    }
   ],
   "source": [
    "print(sub_X_train.shape[0], 'train samples')\n",
    "print(sub_X_test.shape[0], 'test samples')"
   ]
  },
  {
   "cell_type": "code",
   "execution_count": 40,
   "metadata": {
    "id": "I9Xd6zqgQIoT"
   },
   "outputs": [],
   "source": [
    "# fit a RandomForest model to the data\n",
    "model = RandomForestClassifier(n_estimators = 10)"
   ]
  },
  {
   "cell_type": "code",
   "execution_count": 41,
   "metadata": {
    "colab": {
     "base_uri": "https://localhost:8080/"
    },
    "id": "BWjsuYW2QIoT",
    "outputId": "fc6f4d40-9809-46cb-d8eb-d7545357ac24"
   },
   "outputs": [
    {
     "name": "stderr",
     "output_type": "stream",
     "text": [
      "/tmp/ipykernel_24927/736908470.py:1: DataConversionWarning: A column-vector y was passed when a 1d array was expected. Please change the shape of y to (n_samples,), for example using ravel().\n",
      "  model.fit(sub_X_train_rshp, sub_Y_train)\n"
     ]
    },
    {
     "name": "stdout",
     "output_type": "stream",
     "text": [
      "RandomForestClassifier(n_estimators=10)\n"
     ]
    }
   ],
   "source": [
    "model.fit(sub_X_train_rshp, sub_Y_train)\n",
    "print(model)"
   ]
  },
  {
   "cell_type": "code",
   "execution_count": 42,
   "metadata": {
    "colab": {
     "base_uri": "https://localhost:8080/"
    },
    "id": "x03DF0gkQIoT",
    "outputId": "03d57b0c-dc84-462f-bb36-9fe8eac166b8"
   },
   "outputs": [
    {
     "name": "stderr",
     "output_type": "stream",
     "text": [
      "[Parallel(n_jobs=-1)]: Using backend LokyBackend with 8 concurrent workers.\n",
      "/home/daniel/anaconda3/lib/python3.9/site-packages/sklearn/model_selection/_validation.py:680: DataConversionWarning: A column-vector y was passed when a 1d array was expected. Please change the shape of y to (n_samples,), for example using ravel().\n",
      "  estimator.fit(X_train, y_train, **fit_params)\n",
      "/home/daniel/anaconda3/lib/python3.9/site-packages/sklearn/model_selection/_validation.py:680: DataConversionWarning: A column-vector y was passed when a 1d array was expected. Please change the shape of y to (n_samples,), for example using ravel().\n",
      "  estimator.fit(X_train, y_train, **fit_params)\n"
     ]
    },
    {
     "name": "stdout",
     "output_type": "stream",
     "text": [
      "\n",
      "[0.3724 0.3944]\n"
     ]
    },
    {
     "name": "stderr",
     "output_type": "stream",
     "text": [
      "[Parallel(n_jobs=-1)]: Done   2 out of   2 | elapsed:    1.9s remaining:    0.0s\n",
      "[Parallel(n_jobs=-1)]: Done   2 out of   2 | elapsed:    1.9s finished\n"
     ]
    }
   ],
   "source": [
    "cv_results = cross_val_score(model, sub_X_train_rshp, sub_Y_train,\n",
    "                cv = 2, scoring='accuracy', n_jobs = -1, verbose = 1)\n",
    "\n",
    "#model.fit(sub_X_train, sub_Y_train)\n",
    "\n",
    "print(); print(cv_results)\n",
    "#print(); print(model)"
   ]
  },
  {
   "cell_type": "code",
   "execution_count": 43,
   "metadata": {
    "id": "jdDGmspnQIoT"
   },
   "outputs": [],
   "source": [
    "# make predictions\n",
    "expected_y  = sub_Y_test\n",
    "predicted_y = model.predict(sub_X_test_rshp)"
   ]
  },
  {
   "cell_type": "code",
   "execution_count": 44,
   "metadata": {},
   "outputs": [
    {
     "data": {
      "text/plain": [
       "array([[182, 178, 189, ..., 184, 184, 184],\n",
       "       [ 22,  50,  20, ..., 216, 202, 198],\n",
       "       [216, 226, 235, ...,  92,  52,   5],\n",
       "       ...,\n",
       "       [ 75,  91,  47, ...,  69,  97, 144],\n",
       "       [138, 156, 121, ..., 164, 149, 147],\n",
       "       [183, 184, 178, ...,  99,  98,  86]], dtype=uint8)"
      ]
     },
     "execution_count": 44,
     "metadata": {},
     "output_type": "execute_result"
    }
   ],
   "source": [
    "sub_X_test_rshp"
   ]
  },
  {
   "cell_type": "code",
   "execution_count": 45,
   "metadata": {},
   "outputs": [
    {
     "data": {
      "text/plain": [
       "(1000, 3072)"
      ]
     },
     "execution_count": 45,
     "metadata": {},
     "output_type": "execute_result"
    }
   ],
   "source": [
    "sub_X_test_rshp.shape"
   ]
  },
  {
   "cell_type": "code",
   "execution_count": 46,
   "metadata": {
    "colab": {
     "base_uri": "https://localhost:8080/"
    },
    "id": "KoY8EhXtQIoT",
    "outputId": "a203eb8f-c269-46b1-a489-d49b57490ba3"
   },
   "outputs": [
    {
     "name": "stdout",
     "output_type": "stream",
     "text": [
      "[5 8 0]\n"
     ]
    }
   ],
   "source": [
    "print(predicted_y[0:3])"
   ]
  },
  {
   "cell_type": "markdown",
   "metadata": {},
   "source": [
    "#### Table for classification report and confusion"
   ]
  },
  {
   "cell_type": "code",
   "execution_count": 47,
   "metadata": {
    "colab": {
     "base_uri": "https://localhost:8080/"
    },
    "id": "CNrKwEfVQIoT",
    "outputId": "86ff2b51-0a0b-4f38-b1df-b5540ca590c4"
   },
   "outputs": [
    {
     "name": "stdout",
     "output_type": "stream",
     "text": [
      "\n",
      "              precision    recall  f1-score   support\n",
      "\n",
      "           0       0.54      0.69      0.61       100\n",
      "           1       0.51      0.71      0.60       100\n",
      "           2       0.32      0.33      0.32       100\n",
      "           3       0.30      0.37      0.33       100\n",
      "           4       0.35      0.37      0.36       100\n",
      "           5       0.41      0.39      0.40       100\n",
      "           6       0.43      0.32      0.37       100\n",
      "           7       0.45      0.37      0.40       100\n",
      "           8       0.44      0.36      0.40       100\n",
      "           9       0.60      0.41      0.49       100\n",
      "\n",
      "    accuracy                           0.43      1000\n",
      "   macro avg       0.44      0.43      0.43      1000\n",
      "weighted avg       0.44      0.43      0.43      1000\n",
      "\n",
      "\n",
      "Execution Time 6.23112678527832 seconds: \n"
     ]
    }
   ],
   "source": [
    "# summarize the fit of the model\n",
    "print(); print(classification_report(expected_y, predicted_y))\n",
    "#print(); print(metrics.confusion_matrix(expected_y, predicted_y))\n",
    "\n",
    "print()\n",
    "print(\"Execution Time %s seconds: \" % (time.time() - rf_start_time))   "
   ]
  },
  {
   "cell_type": "code",
   "execution_count": 48,
   "metadata": {
    "colab": {
     "base_uri": "https://localhost:8080/"
    },
    "id": "9-qCrHEKQIoT",
    "outputId": "ffce2ed9-efa7-4485-de4a-17524398651b"
   },
   "outputs": [
    {
     "data": {
      "text/plain": [
       "array([[69,  7, 10,  0,  3, 16,  7,  5,  1,  9],\n",
       "       [13, 71, 14,  8,  6,  5,  6,  4,  4,  7],\n",
       "       [ 7,  3, 33,  5,  4, 10, 12,  8, 16,  6],\n",
       "       [ 1,  6,  4, 37, 21,  9,  7, 16, 13,  9],\n",
       "       [ 4,  5,  3, 22, 37,  4,  7,  7, 13,  5],\n",
       "       [ 2,  0, 17,  6,  8, 39,  6,  2, 10,  5],\n",
       "       [ 1,  4,  7,  5,  4,  1, 32, 11,  2,  7],\n",
       "       [ 3,  1,  3,  7, 10,  2, 13, 37,  4,  3],\n",
       "       [ 0,  2,  5,  6,  4, 10,  6,  4, 36,  8],\n",
       "       [ 0,  1,  4,  4,  3,  4,  4,  6,  1, 41]])"
      ]
     },
     "execution_count": 48,
     "metadata": {},
     "output_type": "execute_result"
    }
   ],
   "source": [
    "rf_cm=confusion_matrix(predicted_y,sub_Y_test) ## To obtain the confusion matrix\n",
    "rf_cm"
   ]
  },
  {
   "cell_type": "code",
   "execution_count": 49,
   "metadata": {
    "colab": {
     "base_uri": "https://localhost:8080/"
    },
    "id": "WVMHRMgwQIoT",
    "outputId": "f580fd5e-89be-4b9d-c343-e277d0adea49"
   },
   "outputs": [
    {
     "data": {
      "text/plain": [
       "array([5, 8, 0, 7, 2, 7, 5, 0, 3, 0, 0, 8, 3, 4, 3, 4, 3, 6, 4, 6, 1, 2,\n",
       "       0, 1, 1, 2, 1, 5, 0, 8, 0, 4, 2, 2, 7, 7, 0, 6, 7, 2, 9, 3, 4, 1,\n",
       "       1, 9, 7, 5, 5, 6, 0, 2, 2, 3, 3, 5, 2, 2, 2, 3, 9, 5, 5, 1, 5, 4,\n",
       "       1, 4, 0, 2, 5, 3, 3, 2, 1, 1, 4, 1, 1, 6, 1, 0, 1, 6, 4, 4, 9, 7,\n",
       "       1, 3, 1, 1, 6, 6, 3, 1, 2, 5, 2, 7, 4, 1, 0, 8, 2, 2, 5, 1, 0, 3,\n",
       "       1, 6, 2, 5, 7, 7, 3, 1, 8, 4, 6, 1, 6, 9, 0, 5, 2, 2, 3, 3, 5, 3,\n",
       "       9, 8, 5, 2, 3, 0, 0, 3, 5, 9, 7, 1, 7, 5, 6, 0, 4, 4, 2, 7, 5, 1,\n",
       "       1, 9, 4, 7, 4, 6, 7, 9, 3, 2, 9, 1, 2, 9, 3, 5, 3, 6, 9, 9, 3, 8,\n",
       "       7, 9, 4, 1, 0, 0, 3, 4, 1, 8, 1, 0, 3, 1, 3, 4, 2, 7, 6, 6, 6, 3,\n",
       "       2, 0, 9, 5, 6, 5, 2, 8, 8, 9, 1, 3, 5, 5, 9, 5, 4, 7, 7, 3, 7, 3,\n",
       "       4, 4, 2, 7, 7, 5, 6, 2, 0, 7, 0, 3, 2, 4, 4, 9, 4, 1, 5, 2, 0, 5,\n",
       "       8, 3, 3, 3, 7, 6, 1, 7, 7, 6, 0, 5, 9, 0, 8, 5, 8, 8, 7, 5, 3, 2,\n",
       "       8, 9, 0, 3, 1, 1, 5, 7, 6, 6, 0, 9, 5, 2, 0, 0, 3, 5, 1, 4, 3, 9,\n",
       "       1, 1, 5, 1, 1, 1, 4, 4, 4, 2, 4, 5, 5, 5, 5, 5, 0, 0, 3, 7, 2, 2,\n",
       "       0, 1, 0, 3, 3, 5, 6, 8, 7, 0, 1, 6, 3, 6, 3, 3, 4, 3, 3, 2, 4, 1,\n",
       "       9, 8, 8, 3, 0, 6, 3, 9, 2, 4, 7, 1, 3, 0, 9, 8, 2, 1, 8, 0, 6, 3,\n",
       "       9, 0, 5, 4, 4, 2, 4, 0, 1, 1, 7, 2, 8, 0, 5, 8, 0, 8, 2, 8, 3, 7,\n",
       "       6, 7, 5, 1, 0, 3, 1, 6, 0, 1, 0, 4, 0, 0, 5, 1, 0, 1, 6, 5, 3, 3,\n",
       "       4, 1, 2, 8, 7, 7, 9, 3, 5, 1, 8, 7, 4, 3, 3, 6, 1, 8, 8, 9, 5, 2,\n",
       "       0, 5, 5, 0, 3, 8, 9, 4, 0, 1, 8, 9, 7, 5, 8, 8, 4, 0, 0, 3, 1, 8,\n",
       "       1, 5, 9, 9, 0, 5, 2, 6, 1, 3, 6, 9, 3, 5, 2, 7, 4, 3, 1, 1, 7, 0,\n",
       "       7, 4, 5, 1, 8, 7, 4, 7, 6, 3, 6, 4, 1, 2, 3, 0, 4, 9, 2, 7, 5, 3,\n",
       "       1, 6, 1, 0, 2, 9, 1, 4, 8, 4, 5, 6, 9, 5, 6, 0, 3, 7, 6, 7, 0, 5,\n",
       "       7, 7, 6, 0, 0, 3, 4, 2, 9, 7, 3, 4, 3, 1, 2, 3, 9, 7, 5, 6, 4, 1,\n",
       "       8, 4, 5, 2, 2, 8, 9, 0, 6, 9, 1, 1, 3, 0, 3, 6, 4, 7, 1, 3, 9, 0,\n",
       "       6, 5, 7, 6, 4, 0, 7, 7, 7, 1, 4, 1, 7, 1, 4, 9, 5, 7, 0, 0, 9, 1,\n",
       "       2, 2, 4, 0, 7, 1, 4, 1, 5, 2, 8, 0, 3, 1, 2, 8, 8, 4, 2, 0, 3, 0,\n",
       "       7, 0, 1, 6, 1, 5, 4, 0, 5, 1, 9, 1, 9, 3, 2, 7, 9, 1, 4, 8, 3, 1,\n",
       "       1, 6, 0, 6, 4, 3, 2, 1, 2, 0, 4, 9, 8, 0, 6, 0, 1, 7, 2, 0, 1, 0,\n",
       "       5, 8, 2, 8, 6, 2, 6, 8, 2, 3, 1, 6, 6, 8, 2, 1, 5, 9, 1, 4, 6, 8,\n",
       "       5, 7, 4, 0, 4, 1, 2, 1, 2, 5, 4, 0, 7, 1, 1, 1, 8, 6, 5, 4, 2, 2,\n",
       "       0, 7, 4, 0, 2, 2, 3, 8, 2, 7, 3, 1, 2, 5, 9, 9, 2, 2, 3, 3, 8, 1,\n",
       "       9, 0, 1, 2, 6, 4, 5, 2, 7, 1, 5, 9, 5, 3, 9, 0, 0, 0, 8, 5, 0, 8,\n",
       "       3, 8, 9, 2, 8, 4, 9, 0, 5, 0, 5, 8, 7, 5, 6, 9, 9, 1, 8, 3, 7, 7,\n",
       "       1, 3, 2, 7, 7, 4, 5, 0, 8, 4, 0, 4, 5, 7, 7, 0, 5, 5, 8, 1, 6, 4,\n",
       "       5, 7, 8, 4, 5, 9, 5, 0, 0, 7, 3, 3, 1, 8, 5, 8, 3, 2, 4, 4, 5, 1,\n",
       "       0, 1, 3, 3, 0, 1, 1, 6, 1, 6, 0, 8, 8, 3, 3, 0, 8, 2, 2, 5, 1, 7,\n",
       "       0, 3, 2, 2, 6, 3, 3, 9, 4, 2, 3, 1, 0, 3, 2, 1, 3, 0, 0, 8, 0, 3,\n",
       "       8, 0, 1, 1, 1, 2, 6, 4, 7, 4, 4, 6, 4, 8, 2, 4, 2, 9, 6, 6, 1, 0,\n",
       "       4, 1, 0, 6, 0, 5, 0, 4, 9, 7, 5, 1, 1, 2, 3, 5, 1, 3, 7, 1, 8, 1,\n",
       "       0, 2, 2, 1, 4, 1, 5, 3, 8, 6, 2, 0, 3, 2, 5, 3, 4, 3, 8, 3, 3, 0,\n",
       "       9, 3, 6, 4, 1, 0, 8, 9, 7, 4, 1, 1, 1, 4, 4, 0, 3, 0, 2, 8, 3, 8,\n",
       "       2, 6, 1, 2, 1, 7, 1, 4, 0, 9, 3, 6, 3, 6, 3, 2, 4, 4, 2, 4, 9, 3,\n",
       "       4, 0, 0, 8, 0, 8, 1, 1, 2, 8, 0, 3, 1, 0, 2, 2, 4, 8, 8, 8, 4, 0,\n",
       "       3, 4, 4, 4, 9, 1, 3, 3, 2, 9, 3, 3, 4, 0, 0, 4, 9, 0, 0, 6, 6, 7,\n",
       "       0, 8, 4, 1, 8, 5, 4, 4, 3, 7])"
      ]
     },
     "execution_count": 49,
     "metadata": {},
     "output_type": "execute_result"
    }
   ],
   "source": [
    "predicted_y"
   ]
  }
 ],
 "metadata": {
  "colab": {
   "name": "10-Comparison.ipynb",
   "provenance": []
  },
  "kernelspec": {
   "display_name": "Python 3 (ipykernel)",
   "language": "python",
   "name": "python3"
  },
  "language_info": {
   "codemirror_mode": {
    "name": "ipython",
    "version": 3
   },
   "file_extension": ".py",
   "mimetype": "text/x-python",
   "name": "python",
   "nbconvert_exporter": "python",
   "pygments_lexer": "ipython3",
   "version": "3.9.12"
  },
  "toc": {
   "base_numbering": 1,
   "nav_menu": {},
   "number_sections": true,
   "sideBar": true,
   "skip_h1_title": false,
   "title_cell": "Table of Contents",
   "title_sidebar": "Contents",
   "toc_cell": false,
   "toc_position": {},
   "toc_section_display": true,
   "toc_window_display": false
  },
  "vscode": {
   "interpreter": {
    "hash": "0ad57050c77180dc9ed5ccc7774a474d285089782a3b5193155c6c81d567ba30"
   }
  }
 },
 "nbformat": 4,
 "nbformat_minor": 1
}
