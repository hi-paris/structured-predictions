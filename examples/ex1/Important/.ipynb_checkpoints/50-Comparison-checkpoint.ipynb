{
 "cells": [
  {
   "cell_type": "markdown",
   "metadata": {},
   "source": [
    "## METHODS COMPARISON USING CIFAR100 WITH 50 CLASSES"
   ]
  },
  {
   "cell_type": "markdown",
   "metadata": {
    "id": "HQJCf_NuQIoL"
   },
   "source": [
    "On this file, the logistic regression proccess is done in order to compare it with the results of the Structure Predictions package. \\\n",
    "We find out that there are some considerable differences. "
   ]
  },
  {
   "cell_type": "markdown",
   "metadata": {
    "id": "PKUuPFyzQIoM"
   },
   "source": [
    "For this exercice we use the CIFAR100 dataset provided by Keras. This is a dataset of 50,000 32x32 color training images and 10,000 test images, labeled over 100 fine-grained classes that are grouped into 20 coarse-grained classes. "
   ]
  },
  {
   "cell_type": "markdown",
   "metadata": {},
   "source": [
    "In this file we do a subset of the dataset in order to have less categories. For this case, we implement a 50 categories subset as following."
   ]
  },
  {
   "cell_type": "markdown",
   "metadata": {},
   "source": [
    "## I - Import Libraries"
   ]
  },
  {
   "cell_type": "code",
   "execution_count": 12,
   "metadata": {
    "colab": {
     "base_uri": "https://localhost:8080/"
    },
    "id": "V_lE4u3WQIoN",
    "outputId": "b1651737-c783-42cd-86f3-7ab2afe895aa"
   },
   "outputs": [],
   "source": [
    "from keras.datasets import cifar100\n",
    "\n",
    "import time\n",
    "import numpy as np\n",
    "import matplotlib.pyplot as plt\n",
    "\n",
    "from sklearn import metrics\n",
    "from sklearn.linear_model import LogisticRegression\n",
    "from sklearn.metrics import confusion_matrix,classification_report\n",
    "from sklearn.metrics import f1_score\n"
   ]
  },
  {
   "cell_type": "markdown",
   "metadata": {},
   "source": [
    "## II - Import Dataset"
   ]
  },
  {
   "cell_type": "code",
   "execution_count": 3,
   "metadata": {},
   "outputs": [
    {
     "name": "stdout",
     "output_type": "stream",
     "text": [
      "x_train shape: (50000, 32, 32, 3)\n",
      "x_test shape: (10000, 32, 32, 3)\n",
      "y_train shape: (50000, 1)\n",
      "y_test shape: (10000, 1)\n",
      "50000 train samples\n",
      "10000 test samples\n"
     ]
    }
   ],
   "source": [
    "# Download dataset of CIFAR-100 (Canadian Institute for Advanced Research)\n",
    "(X_train,Y_train),(X_test,Y_test) = cifar100.load_data()\n",
    " \n",
    "# Check the shape of the array\n",
    "print('x_train shape:', X_train.shape)\n",
    "print('x_test shape:', X_test.shape)\n",
    "print('y_train shape:', Y_train.shape)\n",
    "print('y_test shape:', Y_test.shape)\n",
    " \n",
    "# Number of data set samples \n",
    "print(X_train.shape[0], 'train samples')\n",
    "print(X_test.shape[0], 'test samples')"
   ]
  },
  {
   "cell_type": "markdown",
   "metadata": {
    "id": "PDWZvWVYQIoO"
   },
   "source": [
    "## III - Split Train Test Data"
   ]
  },
  {
   "cell_type": "markdown",
   "metadata": {
    "id": "jf4f3pzWQIoO"
   },
   "source": [
    "We just want the first 50 categories of the dataset, so that's why we create a new train dataset and test dataset with those labels as below"
   ]
  },
  {
   "cell_type": "code",
   "execution_count": 4,
   "metadata": {},
   "outputs": [],
   "source": [
    "#   Subset for the CIFAR100 in order to have just 10 categories\n",
    "#Training Dataset\n",
    "sub_X_train = X_train[np.isin(Y_train, [0,1,2,3,4,5,6,7,8,9,10,11,12,13,15,16,\n",
    "                                        17,18,19,20,21,22,23,24,25,26,27,28,29,\n",
    "                                        30,31,32,33,34,35,36,37,38,39,40,\n",
    "                                        41,42,43,44,45,46,47,48,49]).flatten()]\n",
    "sub_Y_train = Y_train[np.isin(Y_train, [0,1,2,3,4,5,6,7,8,9,10,11,12,13,15,16,\n",
    "                                        17,18,19,20,21,22,23,24,25,26,27,28,29,\n",
    "                                        30,31,32,33,34,35,36,37,38,39,40,\n",
    "                                        41,42,43,44,45,46,47,48,49]).flatten()]\n",
    "\n",
    "#Test Dataset\n",
    "sub_X_test = X_test[np.isin(Y_test, [0,1,2,3,4,5,6,7,8,9,10,11,12,13,15,16,\n",
    "                                        17,18,19,20,21,22,23,24,25,26,27,28,29,\n",
    "                                        30,31,32,33,34,35,36,37,38,39,40,\n",
    "                                        41,42,43,44,45,46,47,48,49]).flatten()]\n",
    "sub_Y_test = Y_test[np.isin(Y_test, [0,1,2,3,4,5,6,7,8,9,10,11,12,13,15,16,\n",
    "                                        17,18,19,20,21,22,23,24,25,26,27,28,29,\n",
    "                                        30,31,32,33,34,35,36,37,38,39,40,\n",
    "                                        41,42,43,44,45,46,47,48,49]).flatten()]"
   ]
  },
  {
   "cell_type": "code",
   "execution_count": 6,
   "metadata": {
    "colab": {
     "base_uri": "https://localhost:8080/"
    },
    "id": "V3qya57zQIoP",
    "outputId": "e7e2e995-501b-455b-df6e-553ca5f4093b"
   },
   "outputs": [
    {
     "name": "stdout",
     "output_type": "stream",
     "text": [
      "Number of records for 50 classes X train (24500, 32, 32, 3)\n",
      "Number of records for 50 classes X test (4900, 32, 32, 3)\n",
      "Number of records for 50 classes Y train (24500, 1)\n",
      "Number of records for 50 classes Y test (4900, 1)\n"
     ]
    }
   ],
   "source": [
    "print('Number of records for 50 classes X train',sub_X_train.shape)\n",
    "print('Number of records for 50 classes X test',sub_X_test.shape)\n",
    "print('Number of records for 50 classes Y train',sub_Y_train.shape)\n",
    "print('Number of records for 50 classes Y test',sub_Y_test.shape)"
   ]
  },
  {
   "cell_type": "code",
   "execution_count": 10,
   "metadata": {
    "colab": {
     "base_uri": "https://localhost:8080/"
    },
    "id": "6QjHfIUTQIoP",
    "outputId": "21bc43ec-e2ba-4dd9-d137-48943db46be4"
   },
   "outputs": [
    {
     "name": "stdout",
     "output_type": "stream",
     "text": [
      "First entry of X_train [[[[255 255 255]\n",
      "   [255 255 255]\n",
      "   [255 255 255]\n",
      "   ...\n",
      "   [195 205 193]\n",
      "   [212 224 204]\n",
      "   [182 194 167]]\n",
      "\n",
      "  [[255 255 255]\n",
      "   [254 254 254]\n",
      "   [254 254 254]\n",
      "   ...\n",
      "   [170 176 150]\n",
      "   [161 168 130]\n",
      "   [146 154 113]]\n",
      "\n",
      "  [[255 255 255]\n",
      "   [254 254 254]\n",
      "   [255 255 255]\n",
      "   ...\n",
      "   [189 199 169]\n",
      "   [166 178 130]\n",
      "   [121 133  87]]\n",
      "\n",
      "  ...\n",
      "\n",
      "  [[148 185  79]\n",
      "   [142 182  57]\n",
      "   [140 179  60]\n",
      "   ...\n",
      "   [ 30  17   1]\n",
      "   [ 65  62  15]\n",
      "   [ 76  77  20]]\n",
      "\n",
      "  [[122 157  66]\n",
      "   [120 155  58]\n",
      "   [126 160  71]\n",
      "   ...\n",
      "   [ 22  16   3]\n",
      "   [ 97 112  56]\n",
      "   [141 161  87]]\n",
      "\n",
      "  [[ 87 122  41]\n",
      "   [ 88 122  39]\n",
      "   [101 134  56]\n",
      "   ...\n",
      "   [ 34  36  10]\n",
      "   [105 133  59]\n",
      "   [138 173  79]]]]\n",
      "First entry of X_test [[[[199 215 249]\n",
      "   [196 211 244]\n",
      "   [195 210 243]\n",
      "   ...\n",
      "   [216 231 250]\n",
      "   [217 231 250]\n",
      "   [224 234 252]]\n",
      "\n",
      "  [[197 210 239]\n",
      "   [195 208 238]\n",
      "   [195 210 240]\n",
      "   ...\n",
      "   [231 243 250]\n",
      "   [233 243 250]\n",
      "   [241 245 253]]\n",
      "\n",
      "  [[222 226 246]\n",
      "   [213 220 242]\n",
      "   [209 219 243]\n",
      "   ...\n",
      "   [243 250 251]\n",
      "   [244 249 251]\n",
      "   [250 250 253]]\n",
      "\n",
      "  ...\n",
      "\n",
      "  [[ 72  73  99]\n",
      "   [ 71  74 102]\n",
      "   [ 74  78 108]\n",
      "   ...\n",
      "   [220 208 217]\n",
      "   [183 168 181]\n",
      "   [155 141 150]]\n",
      "\n",
      "  [[ 72  75 104]\n",
      "   [ 76  81 111]\n",
      "   [ 84  89 122]\n",
      "   ...\n",
      "   [222 212 220]\n",
      "   [187 174 192]\n",
      "   [145 132 149]]\n",
      "\n",
      "  [[ 80  85 118]\n",
      "   [ 84  90 123]\n",
      "   [ 85  92 127]\n",
      "   ...\n",
      "   [217 207 215]\n",
      "   [207 194 211]\n",
      "   [176 164 183]]]]\n",
      "First entry of Y_train [[19]]\n",
      "First entry of Y_test [[49]]\n"
     ]
    }
   ],
   "source": [
    "print(\"First entry of X_train\",sub_X_train[0:1])\n",
    "print(\"First entry of X_test\",sub_X_test[0:1])\n",
    "print(\"First entry of Y_train\",sub_Y_train[0:1])\n",
    "print(\"First entry of Y_test\",sub_Y_test[0:1])"
   ]
  },
  {
   "cell_type": "code",
   "execution_count": 11,
   "metadata": {
    "colab": {
     "base_uri": "https://localhost:8080/",
     "height": 250
    },
    "id": "m1wRcoVjQIoP",
    "outputId": "83831b8a-94a7-4610-9231-abff4bcf6da6"
   },
   "outputs": [
    {
     "data": {
      "image/png": "[encoded data removed]",
      "text/plain": [
       "<Figure size 1080x360 with 5 Axes>"
      ]
     },
     "metadata": {
      "needs_background": "light"
     },
     "output_type": "display_data"
    }
   ],
   "source": [
    "plt.figure(figsize=(15,5))\n",
    "for i in range(1,6):\n",
    "  plt.subplot(1,5,i)\n",
    "  plt.imshow(sub_X_train[i,:,:],cmap='gray')\n",
    "  plt.title('Sign language of {}'.format(sub_Y_train[i]))\n",
    "  plt.axis('off')\n",
    "  plt.tight_layout()\n",
    "plt.show()"
   ]
  },
  {
   "cell_type": "markdown",
   "metadata": {},
   "source": [
    "## IV - Models"
   ]
  },
  {
   "cell_type": "markdown",
   "metadata": {},
   "source": [
    "### i - Model 1 - Logistic Regression"
   ]
  },
  {
   "cell_type": "markdown",
   "metadata": {
    "id": "EiqxueIMQIoP"
   },
   "source": [
    "For the Logistic Regression implementation, it's needed an X array with dimension <= 2. In this case, we have a dimension of 4, that's why we have to do a reshape as below"
   ]
  },
  {
   "cell_type": "markdown",
   "metadata": {},
   "source": [
    "The same process has to be done for the other methods "
   ]
  },
  {
   "cell_type": "code",
   "execution_count": 15,
   "metadata": {
    "id": "dk0AhRcTQIoQ"
   },
   "outputs": [],
   "source": [
    "sub_X_test_or=sub_X_test\n",
    "sub_X_train_or=sub_X_train\n",
    "\n",
    "sub_X_train_rshp=sub_X_train.reshape(24500, 32*32*3) ## Reshaping data\n",
    "sub_X_test_rshp=sub_X_test.reshape(4900, 32*32*3)   ## Reshaping data  "
   ]
  },
  {
   "cell_type": "code",
   "execution_count": 37,
   "metadata": {
    "colab": {
     "base_uri": "https://localhost:8080/"
    },
    "id": "PLy4q4IhQIoQ",
    "outputId": "459d0504-16c4-45e1-fdb5-3d13f87a46a8"
   },
   "outputs": [
    {
     "name": "stderr",
     "output_type": "stream",
     "text": [
      "/Users/gaetanbrison/opt/anaconda3/lib/python3.9/site-packages/sklearn/utils/validation.py:993: DataConversionWarning: A column-vector y was passed when a 1d array was expected. Please change the shape of y to (n_samples, ), for example using ravel().\n",
      "  y = column_or_1d(y, warn=True)\n"
     ]
    },
    {
     "name": "stdout",
     "output_type": "stream",
     "text": [
      "Logistic Regression - Accuracy:  0.228\n",
      "Logistic Regression Test f1 score: 0.23771743796819145\n",
      "              precision    recall  f1-score   support\n",
      "\n",
      "           0       0.48      0.37      0.42       131\n",
      "           1       0.31      0.24      0.27       127\n",
      "           2       0.08      0.09      0.09        88\n",
      "           3       0.09      0.14      0.11        63\n",
      "           4       0.05      0.08      0.06        65\n",
      "           5       0.17      0.14      0.15       120\n",
      "           6       0.19      0.17      0.18       110\n",
      "           7       0.32      0.28      0.30       114\n",
      "           8       0.17      0.22      0.19        76\n",
      "           9       0.32      0.26      0.28       125\n",
      "          10       0.09      0.10      0.10        86\n",
      "          11       0.14      0.14      0.14        99\n",
      "          12       0.26      0.26      0.26       101\n",
      "          13       0.22      0.18      0.20       123\n",
      "          15       0.13      0.17      0.15        75\n",
      "          16       0.18      0.26      0.21        70\n",
      "          17       0.43      0.30      0.36       142\n",
      "          18       0.33      0.31      0.32       106\n",
      "          19       0.10      0.14      0.12        71\n",
      "          20       0.36      0.25      0.30       144\n",
      "          21       0.25      0.30      0.27        84\n",
      "          22       0.23      0.21      0.22       107\n",
      "          23       0.50      0.29      0.37       173\n",
      "          24       0.47      0.28      0.35       169\n",
      "          25       0.09      0.11      0.10        83\n",
      "          26       0.10      0.14      0.12        69\n",
      "          27       0.14      0.18      0.16        76\n",
      "          28       0.21      0.24      0.22        88\n",
      "          29       0.10      0.15      0.12        68\n",
      "          30       0.57      0.52      0.55       109\n",
      "          31       0.16      0.20      0.18        82\n",
      "          32       0.14      0.19      0.16        75\n",
      "          33       0.20      0.23      0.22        86\n",
      "          34       0.25      0.25      0.25       102\n",
      "          35       0.11      0.11      0.11       100\n",
      "          36       0.16      0.13      0.14       124\n",
      "          37       0.20      0.16      0.18       123\n",
      "          38       0.15      0.16      0.16        91\n",
      "          39       0.15      0.13      0.14       112\n",
      "          40       0.15      0.14      0.14       111\n",
      "          41       0.51      0.44      0.47       115\n",
      "          42       0.04      0.11      0.06        37\n",
      "          43       0.21      0.23      0.22        90\n",
      "          44       0.10      0.11      0.11        90\n",
      "          45       0.13      0.17      0.15        77\n",
      "          46       0.10      0.14      0.12        69\n",
      "          47       0.56      0.50      0.53       113\n",
      "          48       0.33      0.28      0.30       120\n",
      "          49       0.44      0.36      0.40       121\n",
      "\n",
      "    accuracy                           0.23      4900\n",
      "   macro avg       0.23      0.22      0.22      4900\n",
      "weighted avg       0.26      0.23      0.24      4900\n",
      "\n",
      "\n",
      "Execution Time 22.15084171295166 seconds: \n"
     ]
    },
    {
     "name": "stderr",
     "output_type": "stream",
     "text": [
      "/Users/gaetanbrison/opt/anaconda3/lib/python3.9/site-packages/sklearn/linear_model/_logistic.py:814: ConvergenceWarning: lbfgs failed to converge (status=1):\n",
      "STOP: TOTAL NO. of ITERATIONS REACHED LIMIT.\n",
      "\n",
      "Increase the number of iterations (max_iter) or scale the data as shown in:\n",
      "    https://scikit-learn.org/stable/modules/preprocessing.html\n",
      "Please also refer to the documentation for alternative solver options:\n",
      "    https://scikit-learn.org/stable/modules/linear_model.html#logistic-regression\n",
      "  n_iter_i = _check_optimize_result(\n"
     ]
    }
   ],
   "source": [
    "lr_start_time = time.time()\n",
    "\n",
    "logreg =  LogisticRegression()\n",
    "logreg.fit(sub_X_train_rshp,sub_Y_train) ## fitting the logistic regression model\n",
    "y_pred=logreg.predict(sub_X_test_rshp)\n",
    "\n",
    "## Accuracy\n",
    "print(\"Logistic Regression - Accuracy: \",round(logreg.score(sub_X_test_rshp,sub_Y_test),3))\n",
    "\n",
    "## F1 Score\n",
    "f1_test = f1_score(y_pred, sub_Y_test, average='weighted')\n",
    "print(\"Logistic Regression Test f1 score:\", f1_test)\n",
    "\n",
    "lr_cm=confusion_matrix(y_pred,sub_Y_test) ## To obtain the confusion matrix\n",
    "print(classification_report(y_pred,sub_Y_test))\n",
    "\n",
    "print()\n",
    "print(\"Execution Time %s seconds: \" % (time.time() - lr_start_time))"
   ]
  },
  {
   "cell_type": "markdown",
   "metadata": {
    "id": "fXqz6xijQIoR"
   },
   "source": [
    "### Structure Predictions method"
   ]
  },
  {
   "cell_type": "markdown",
   "metadata": {
    "id": "jNsSBqkXQIoS"
   },
   "source": [
    "We procceed to create execute the Structure predictions method in order to identify differences and get some conclusions."
   ]
  },
  {
   "cell_type": "code",
   "execution_count": 42,
   "metadata": {
    "id": "s-hlhI_4QIoS"
   },
   "outputs": [
    {
     "ename": "ImportError",
     "evalue": "attempted relative import with no known parent package",
     "output_type": "error",
     "traceback": [
      "\u001b[0;31m---------------------------------------------------------------------------\u001b[0m",
      "\u001b[0;31mImportError\u001b[0m                               Traceback (most recent call last)",
      "Input \u001b[0;32mIn [42]\u001b[0m, in \u001b[0;36m<cell line: 1>\u001b[0;34m()\u001b[0m\n\u001b[0;32m----> 1\u001b[0m \u001b[38;5;28;01mfrom\u001b[39;00m \u001b[38;5;21;01m.\u001b[39;00m\u001b[38;5;21;01mstpredictions\u001b[39;00m\u001b[38;5;21;01m.\u001b[39;00m\u001b[38;5;21;01mmodels\u001b[39;00m\u001b[38;5;21;01m.\u001b[39;00m\u001b[38;5;21;01mIOKR\u001b[39;00m\u001b[38;5;21;01m.\u001b[39;00m\u001b[38;5;21;01mmodel\u001b[39;00m \u001b[38;5;28;01mimport\u001b[39;00m IOKR\n",
      "\u001b[0;31mImportError\u001b[0m: attempted relative import with no known parent package"
     ]
    }
   ],
   "source": [
    "from .stpredictions.models.IOKR.model import IOKR\n"
   ]
  },
  {
   "cell_type": "markdown",
   "metadata": {},
   "source": [
    "Here we implement the class IOKR2 due to some issues:"
   ]
  },
  {
   "cell_type": "code",
   "execution_count": 46,
   "metadata": {
    "id": "kTQRbhPHo23E"
   },
   "outputs": [],
   "source": [
    "# Implementation\n",
    "import time\n",
    "# from sklearn.model_selection import KFold\n",
    "from sklearn.metrics.pairwise import linear_kernel, polynomial_kernel, rbf_kernel\n",
    "# from sklearn.metrics import f1_score\n",
    "import numpy as np\n",
    "# import pandas as pd\n",
    "# from stpredictions.datasets.load_data import load_bibtex\n",
    "# from sklearn.model_selection import train_test_split\n",
    "# import arff\n",
    "from numpy.linalg import inv\n",
    "# import os\n",
    "\n",
    "# from line_profiler import LineProfiler\n",
    "\n",
    "\"\"\"\n",
    "Created on December 12, 2021\n",
    "\"\"\"\n",
    "\n",
    "\n",
    "class IOKR2:\n",
    "    \"\"\"\n",
    "    Class used to apply Input and Output Kernel Regression\n",
    "    \"\"\"\n",
    "\n",
    "    \n",
    "    def __init__(self):\n",
    "        \"\"\"\n",
    "        Initialization of the below parameters.\n",
    "        Parameters\n",
    "        ----------\n",
    "        X_train :  sparse matrix - containing explanatory variables of the train set\n",
    "        Y_train: sparse matrix - containing target variable of the train set\n",
    "        Ky: output scalar kernel\n",
    "        M: gram matrix on training set\n",
    "        verbose: binary - display more parameters\n",
    "        linear:\n",
    "        \"\"\"\n",
    "        self.X_train = None\n",
    "        self.Y_train = None\n",
    "        self.Ky = None\n",
    "        self.M = None\n",
    "        self.verbose = 0\n",
    "        self.input_kernel = None\n",
    "        self.output_kernel = None\n",
    "\n",
    "  \n",
    "    def fit(self, X, Y, L, input_kernel='linear', input_kernel_param=None):\n",
    "        \"\"\"\n",
    "        Model Fitting\n",
    "        \"\"\"\n",
    "\n",
    "        # save input and output training data\n",
    "        self.X_train, self.Y_train = X, Y\n",
    "\n",
    "        # instantiate input kernel parameter when not given\n",
    "        if input_kernel_param is None:\n",
    "            if input_kernel == 'rbf':\n",
    "                input_kernel_param = 1.\n",
    "            elif input_kernel == 'polynomial':\n",
    "                input_kernel_param = [3, None, 1]\n",
    "\n",
    "        # define input kernel\n",
    "        if input_kernel == 'linear':\n",
    "            self.input_kernel = lambda A, B: linear_kernel(A, B)\n",
    "        elif input_kernel == 'polynomial':\n",
    "            self.input_kernel = lambda A, B: polynomial_kernel(A, B, degree=input_kernel_param[0],\n",
    "                                                               gamma=input_kernel_param[1], coef0=input_kernel_param[2])\n",
    "        elif input_kernel == 'rbf':\n",
    "            self.input_kernel = lambda A, B: rbf_kernel(A, B, gamma=input_kernel_param)\n",
    "        else:\n",
    "            self.input_kernel = input_kernel\n",
    "\n",
    "        # compute input gram matrix\n",
    "        Kx = self.input_kernel(X, X)\n",
    "\n",
    "        # kernel ridge regression training computation: n x n matrix inversion\n",
    "        t0 = time.time()\n",
    "        n = Kx.shape[0]\n",
    "        self.M = np.linalg.inv(Kx + n * L * np.eye(n))\n",
    "        if self.verbose > 0:\n",
    "            print(f'Fitting time: {time.time() - t0} in s')\n",
    "\n",
    "    def alpha(self, X_test):\n",
    "\n",
    "        Kx = self.input_kernel(self.X_train, X_test)\n",
    "        A = self.M.dot(Kx)\n",
    "\n",
    "        return A\n",
    "\n",
    "\n",
    "    def predict(self, X_test, Y_candidates, output_kernel='linear', output_kernel_param=None):\n",
    "\n",
    "        \"\"\"\n",
    "        Model Prediction\n",
    "        \"\"\"\n",
    "\n",
    "        # instantiate output kernel parameter when not given\n",
    "        if output_kernel_param is None:\n",
    "            if output_kernel == 'rbf':\n",
    "                output_kernel_param = 1.\n",
    "            elif output_kernel == 'polynomial':\n",
    "                output_kernel_param = [3, None, 1]\n",
    "\n",
    "        # define output kernel\n",
    "        if output_kernel == 'linear':\n",
    "            self.output_kernel = lambda A, B: linear_kernel(A, B)\n",
    "        elif output_kernel == 'polynomial':\n",
    "            self.output_kernel = lambda A, B: polynomial_kernel(A, B, degree=output_kernel_param[0],\n",
    "                                                                gamma=output_kernel_param[1],\n",
    "                                                                coef0=output_kernel_param[2])\n",
    "        elif output_kernel == 'rbf':\n",
    "            self.output_kernel = lambda A, B: rbf_kernel(A, B, gamma=output_kernel_param)\n",
    "        else:\n",
    "            self.output_kernel = output_kernel\n",
    "\n",
    "        # compute output gram matrix\n",
    "        Ky = self.output_kernel(self.Y_train, Y_candidates)\n",
    "\n",
    "        # compute prediction\n",
    "        t0 = time.time()\n",
    "        Alpha = self.alpha(X_test)\n",
    "        scores = Ky.transpose().dot(Alpha)\n",
    "        idx_pred = np.argmax(scores, axis=0)\n",
    "        Y_pred = Y_candidates[idx_pred]\n",
    "        if self.verbose > 0:\n",
    "            print(f'Decoding time: {time.time() - t0} in s')\n",
    "\n",
    "        return Ky,Alpha,scores,idx_pred,Y_pred\n",
    "\n",
    "\n"
   ]
  },
  {
   "cell_type": "code",
   "execution_count": 47,
   "metadata": {
    "id": "fwbTG1P7H_r1"
   },
   "outputs": [],
   "source": [
    "nb_class=50"
   ]
  },
  {
   "cell_type": "code",
   "execution_count": 48,
   "metadata": {
    "id": "f9sGKI98QIoS"
   },
   "outputs": [],
   "source": [
    "sp_start_time= time.time()"
   ]
  },
  {
   "cell_type": "code",
   "execution_count": 49,
   "metadata": {
    "colab": {
     "base_uri": "https://localhost:8080/"
    },
    "id": "_IIIQniUfvC-",
    "outputId": "4a648a55-5586-4f76-ad1d-8ca73f73ba93"
   },
   "outputs": [
    {
     "name": "stdout",
     "output_type": "stream",
     "text": [
      "(24500, 3072)\n",
      "(4900, 3072)\n",
      "(24500, 1)\n",
      "(4900, 1)\n"
     ]
    }
   ],
   "source": [
    "print(sub_X_train_rshp.shape)\n",
    "print(sub_X_test_rshp.shape)\n",
    "print(sub_Y_train.shape)\n",
    "print(sub_Y_test.shape)"
   ]
  },
  {
   "cell_type": "code",
   "execution_count": 50,
   "metadata": {
    "id": "qGwFASlOIEbr"
   },
   "outputs": [],
   "source": [
    "Y_tra=np.zeros([len(sub_Y_train),nb_class])\n",
    "Y_tes=np.zeros([len(sub_Y_test),nb_class])\n",
    "for t in range(len(sub_Y_train)):\n",
    "  Y_tra[t][sub_Y_train[t][0]]=1\n",
    "for t in range(len(sub_Y_test)):\n",
    "  Y_tes[t][sub_Y_test[t][0]]=1"
   ]
  },
  {
   "cell_type": "code",
   "execution_count": 109,
   "metadata": {
    "colab": {
     "base_uri": "https://localhost:8080/"
    },
    "id": "tQQREqnlQIoS",
    "outputId": "77f2058a-5485-42f6-afd3-2f9e489df5e8"
   },
   "outputs": [
    {
     "name": "stdout",
     "output_type": "stream",
     "text": [
      "Fitting time: 1659.394152879715 in s\n",
      "Decoding time: 1228.086574792862 in s\n"
     ]
    }
   ],
   "source": [
    "clf = IOKR2()\n",
    "clf.verbose = 1\n",
    "L =1e-6\n",
    "#Just using a quantity of 100 due to a shape problem \n",
    "clf.fit(X=sub_X_train_rshp[0:20000], Y=Y_tra[0:20000], L=L, input_kernel='linear')\n",
    "Ky,Alpha,scores,idx_pred,Y_pred_test = clf.predict(X_test=sub_X_test_rshp, Y_candidates=np.eye(50))\n",
    "#f1_test_st = f1_score(Y_pred_test, Y_test, average='weighted')\n",
    "#print( \"Test f1 score:\", f1_test_st)\n",
    "#print(Y_pred_test[1])"
   ]
  },
  {
   "cell_type": "code",
   "execution_count": 105,
   "metadata": {
    "id": "jIKtM_VQLme_"
   },
   "outputs": [],
   "source": [
    "y_res_fin=np.argmax(Y_tes,axis=1)"
   ]
  },
  {
   "cell_type": "code",
   "execution_count": 106,
   "metadata": {
    "id": "7apeKdynLq3f"
   },
   "outputs": [],
   "source": [
    "y_test_fin=np.argmax(Y_pred_test,axis=1)"
   ]
  },
  {
   "cell_type": "code",
   "execution_count": 107,
   "metadata": {},
   "outputs": [
    {
     "name": "stdout",
     "output_type": "stream",
     "text": [
      "Logistic Regression Test f1 score: 0.11555300252557558\n"
     ]
    }
   ],
   "source": [
    "## Accuracy\n",
    "#print(\"Logistic Regression - Accuracy: \",round(logreg.score(sub_X_test_rshp,sub_Y_test),3))\n",
    "\n",
    "## F1 Score\n",
    "f1_test = f1_score(y_test_fin, y_res_fin, average='weighted')\n",
    "print(\"Logistic Regression Test f1 score:\", f1_test)\n"
   ]
  },
  {
   "cell_type": "markdown",
   "metadata": {},
   "source": [
    "#### Table for classification report and confusion"
   ]
  },
  {
   "cell_type": "code",
   "execution_count": 108,
   "metadata": {
    "colab": {
     "base_uri": "https://localhost:8080/"
    },
    "id": "syeVCARcQIoS",
    "outputId": "49634a4a-0ba7-4956-9f07-c8454d7a472f"
   },
   "outputs": [
    {
     "name": "stdout",
     "output_type": "stream",
     "text": [
      "              precision    recall  f1-score   support\n",
      "\n",
      "           0       0.42      0.31      0.36       134\n",
      "           1       0.12      0.16      0.14        73\n",
      "           2       0.05      0.08      0.06        66\n",
      "           3       0.04      0.12      0.06        33\n",
      "           4       0.02      0.02      0.02       104\n",
      "           5       0.02      0.04      0.03        52\n",
      "           6       0.02      0.04      0.03        54\n",
      "           7       0.03      0.10      0.05        30\n",
      "           8       0.11      0.08      0.10       130\n",
      "           9       0.29      0.18      0.22       160\n",
      "          10       0.02      0.05      0.03        41\n",
      "          11       0.14      0.11      0.13       123\n",
      "          12       0.06      0.07      0.07        83\n",
      "          13       0.07      0.09      0.08        76\n",
      "          15       0.07      0.11      0.09        64\n",
      "          16       0.04      0.07      0.05        57\n",
      "          17       0.05      0.15      0.08        33\n",
      "          18       0.10      0.07      0.08       146\n",
      "          19       0.08      0.04      0.06       180\n",
      "          20       0.18      0.18      0.18        99\n",
      "          21       0.17      0.12      0.14       138\n",
      "          22       0.07      0.04      0.05       180\n",
      "          23       0.18      0.24      0.20        76\n",
      "          24       0.22      0.22      0.22       101\n",
      "          25       0.06      0.05      0.05       131\n",
      "          26       0.01      0.02      0.01        57\n",
      "          27       0.00      0.00      0.00        41\n",
      "          28       0.07      0.14      0.09        51\n",
      "          29       0.08      0.06      0.07       132\n",
      "          30       0.26      0.30      0.28        88\n",
      "          31       0.03      0.04      0.04        68\n",
      "          32       0.07      0.10      0.08        69\n",
      "          33       0.08      0.09      0.09        85\n",
      "          34       0.04      0.06      0.05        68\n",
      "          35       0.10      0.09      0.09       111\n",
      "          36       0.06      0.09      0.07        69\n",
      "          37       0.05      0.08      0.06        60\n",
      "          38       0.10      0.08      0.09       121\n",
      "          39       0.09      0.07      0.08       121\n",
      "          40       0.04      0.07      0.05        58\n",
      "          41       0.32      0.20      0.24       162\n",
      "          42       0.07      0.06      0.06       125\n",
      "          43       0.16      0.10      0.12       160\n",
      "          44       0.00      0.00      0.00        29\n",
      "          45       0.02      0.02      0.02       104\n",
      "          46       0.12      0.08      0.10       143\n",
      "          47       0.21      0.15      0.18       139\n",
      "          48       0.13      0.12      0.13       106\n",
      "          49       0.47      0.13      0.20       369\n",
      "\n",
      "    accuracy                           0.11      4900\n",
      "   macro avg       0.11      0.10      0.10      4900\n",
      "weighted avg       0.15      0.11      0.12      4900\n",
      "\n",
      "\n",
      "Execution Time 773.1054468154907 seconds: \n"
     ]
    }
   ],
   "source": [
    "sp_cm=confusion_matrix(idx_pred,y_res_fin) ## To obtain the confusion matrix\n",
    "print(classification_report(idx_pred,y_res_fin))\n",
    "\n",
    "print()\n",
    "print(\"Execution Time %s seconds: \" % (time.time() - sp_start_time))"
   ]
  },
  {
   "cell_type": "markdown",
   "metadata": {
    "id": "39Og-GN1QIoS"
   },
   "source": [
    "### Random Forest method"
   ]
  },
  {
   "cell_type": "code",
   "execution_count": 36,
   "metadata": {
    "id": "t3kCns5rQIoS"
   },
   "outputs": [],
   "source": [
    "from sklearn.ensemble import RandomForestClassifier\n",
    "from sklearn.model_selection import cross_val_score\n",
    "\n",
    "rf_start_time = time.time()"
   ]
  },
  {
   "cell_type": "code",
   "execution_count": 37,
   "metadata": {
    "id": "4b3jpDzHQIoS"
   },
   "outputs": [],
   "source": [
    "sub_X_train = sub_X_train.astype('float32')\n",
    "sub_X_test = sub_X_test.astype('float32')"
   ]
  },
  {
   "cell_type": "code",
   "execution_count": 38,
   "metadata": {},
   "outputs": [
    {
     "data": {
      "text/plain": [
       "array([[[[255., 255., 255.],\n",
       "         [255., 255., 255.],\n",
       "         [255., 255., 255.],\n",
       "         ...,\n",
       "         [195., 205., 193.],\n",
       "         [212., 224., 204.],\n",
       "         [182., 194., 167.]],\n",
       "\n",
       "        [[255., 255., 255.],\n",
       "         [254., 254., 254.],\n",
       "         [254., 254., 254.],\n",
       "         ...,\n",
       "         [170., 176., 150.],\n",
       "         [161., 168., 130.],\n",
       "         [146., 154., 113.]],\n",
       "\n",
       "        [[255., 255., 255.],\n",
       "         [254., 254., 254.],\n",
       "         [255., 255., 255.],\n",
       "         ...,\n",
       "         [189., 199., 169.],\n",
       "         [166., 178., 130.],\n",
       "         [121., 133.,  87.]],\n",
       "\n",
       "        ...,\n",
       "\n",
       "        [[148., 185.,  79.],\n",
       "         [142., 182.,  57.],\n",
       "         [140., 179.,  60.],\n",
       "         ...,\n",
       "         [ 30.,  17.,   1.],\n",
       "         [ 65.,  62.,  15.],\n",
       "         [ 76.,  77.,  20.]],\n",
       "\n",
       "        [[122., 157.,  66.],\n",
       "         [120., 155.,  58.],\n",
       "         [126., 160.,  71.],\n",
       "         ...,\n",
       "         [ 22.,  16.,   3.],\n",
       "         [ 97., 112.,  56.],\n",
       "         [141., 161.,  87.]],\n",
       "\n",
       "        [[ 87., 122.,  41.],\n",
       "         [ 88., 122.,  39.],\n",
       "         [101., 134.,  56.],\n",
       "         ...,\n",
       "         [ 34.,  36.,  10.],\n",
       "         [105., 133.,  59.],\n",
       "         [138., 173.,  79.]]],\n",
       "\n",
       "\n",
       "       [[[255., 255., 255.],\n",
       "         [253., 253., 253.],\n",
       "         [253., 253., 253.],\n",
       "         ...,\n",
       "         [253., 253., 253.],\n",
       "         [253., 253., 253.],\n",
       "         [255., 255., 255.]],\n",
       "\n",
       "        [[255., 255., 255.],\n",
       "         [255., 255., 255.],\n",
       "         [255., 255., 255.],\n",
       "         ...,\n",
       "         [255., 255., 255.],\n",
       "         [255., 255., 255.],\n",
       "         [255., 255., 255.]],\n",
       "\n",
       "        [[255., 255., 255.],\n",
       "         [255., 255., 255.],\n",
       "         [255., 255., 255.],\n",
       "         ...,\n",
       "         [255., 255., 255.],\n",
       "         [255., 255., 255.],\n",
       "         [255., 255., 255.]],\n",
       "\n",
       "        ...,\n",
       "\n",
       "        [[255., 255., 255.],\n",
       "         [255., 255., 255.],\n",
       "         [255., 255., 255.],\n",
       "         ...,\n",
       "         [255., 255., 255.],\n",
       "         [255., 255., 255.],\n",
       "         [255., 255., 255.]],\n",
       "\n",
       "        [[255., 255., 255.],\n",
       "         [255., 255., 255.],\n",
       "         [255., 255., 255.],\n",
       "         ...,\n",
       "         [255., 255., 255.],\n",
       "         [255., 255., 255.],\n",
       "         [255., 255., 255.]],\n",
       "\n",
       "        [[255., 255., 255.],\n",
       "         [253., 253., 253.],\n",
       "         [253., 253., 253.],\n",
       "         ...,\n",
       "         [253., 253., 253.],\n",
       "         [253., 253., 253.],\n",
       "         [255., 255., 255.]]],\n",
       "\n",
       "\n",
       "       [[[250., 250., 248.],\n",
       "         [248., 249., 243.],\n",
       "         [247., 248., 239.],\n",
       "         ...,\n",
       "         [250., 250., 246.],\n",
       "         [250., 250., 246.],\n",
       "         [249., 250., 246.]],\n",
       "\n",
       "        [[250., 251., 245.],\n",
       "         [248., 249., 238.],\n",
       "         [247., 247., 234.],\n",
       "         ...,\n",
       "         [251., 251., 242.],\n",
       "         [251., 252., 243.],\n",
       "         [250., 251., 243.]],\n",
       "\n",
       "        [[251., 251., 244.],\n",
       "         [250., 248., 237.],\n",
       "         [250., 245., 233.],\n",
       "         ...,\n",
       "         [250., 249., 238.],\n",
       "         [250., 249., 240.],\n",
       "         [250., 249., 242.]],\n",
       "\n",
       "        ...,\n",
       "\n",
       "        [[221., 213., 191.],\n",
       "         [221., 206., 176.],\n",
       "         [225., 207., 181.],\n",
       "         ...,\n",
       "         [199., 176., 134.],\n",
       "         [207., 193., 165.],\n",
       "         [233., 229., 226.]],\n",
       "\n",
       "        [[225., 223., 204.],\n",
       "         [227., 219., 196.],\n",
       "         [229., 216., 200.],\n",
       "         ...,\n",
       "         [204., 185., 151.],\n",
       "         [212., 201., 180.],\n",
       "         [234., 232., 228.]],\n",
       "\n",
       "        [[233., 233., 226.],\n",
       "         [234., 232., 224.],\n",
       "         [235., 230., 225.],\n",
       "         ...,\n",
       "         [219., 209., 194.],\n",
       "         [223., 216., 207.],\n",
       "         [232., 230., 228.]]],\n",
       "\n",
       "\n",
       "       ...,\n",
       "\n",
       "\n",
       "       [[[167., 157., 140.],\n",
       "         [199., 198., 182.],\n",
       "         [193., 193., 166.],\n",
       "         ...,\n",
       "         [217., 211., 191.],\n",
       "         [200., 189., 162.],\n",
       "         [194., 181., 148.]],\n",
       "\n",
       "        [[171., 164., 138.],\n",
       "         [205., 202., 180.],\n",
       "         [189., 188., 159.],\n",
       "         ...,\n",
       "         [202., 196., 177.],\n",
       "         [196., 186., 161.],\n",
       "         [199., 189., 160.]],\n",
       "\n",
       "        [[165., 155., 121.],\n",
       "         [165., 155., 126.],\n",
       "         [169., 162., 133.],\n",
       "         ...,\n",
       "         [196., 178., 151.],\n",
       "         [206., 185., 153.],\n",
       "         [217., 198., 165.]],\n",
       "\n",
       "        ...,\n",
       "\n",
       "        [[151., 131., 113.],\n",
       "         [184., 159., 143.],\n",
       "         [161., 132., 111.],\n",
       "         ...,\n",
       "         [115.,  92.,  83.],\n",
       "         [ 94.,  74.,  64.],\n",
       "         [147., 130., 114.]],\n",
       "\n",
       "        [[124., 104.,  89.],\n",
       "         [151., 127., 119.],\n",
       "         [171., 146., 135.],\n",
       "         ...,\n",
       "         [ 99.,  72.,  44.],\n",
       "         [104.,  83.,  58.],\n",
       "         [143., 124., 100.]],\n",
       "\n",
       "        [[107.,  86.,  78.],\n",
       "         [107.,  86.,  82.],\n",
       "         [132., 111., 102.],\n",
       "         ...,\n",
       "         [140., 118.,  83.],\n",
       "         [172., 156., 129.],\n",
       "         [146., 126.,  99.]]],\n",
       "\n",
       "\n",
       "       [[[248., 244., 242.],\n",
       "         [240., 232., 223.],\n",
       "         [236., 232., 223.],\n",
       "         ...,\n",
       "         [233., 229., 222.],\n",
       "         [230., 228., 222.],\n",
       "         [238., 237., 233.]],\n",
       "\n",
       "        [[225., 213., 204.],\n",
       "         [186., 167., 149.],\n",
       "         [175., 159., 140.],\n",
       "         ...,\n",
       "         [163., 148., 134.],\n",
       "         [156., 144., 133.],\n",
       "         [192., 184., 176.]],\n",
       "\n",
       "        [[209., 194., 179.],\n",
       "         [144., 120.,  95.],\n",
       "         [139., 115.,  87.],\n",
       "         ...,\n",
       "         [109.,  86.,  67.],\n",
       "         [109.,  90.,  76.],\n",
       "         [157., 145., 135.]],\n",
       "\n",
       "        ...,\n",
       "\n",
       "        [[161., 159., 153.],\n",
       "         [ 39.,  34.,  28.],\n",
       "         [ 28.,  20.,  14.],\n",
       "         ...,\n",
       "         [ 93.,  72.,  53.],\n",
       "         [ 85.,  67.,  50.],\n",
       "         [136., 126., 115.]],\n",
       "\n",
       "        [[181., 179., 172.],\n",
       "         [ 86.,  83.,  77.],\n",
       "         [ 71.,  68.,  62.],\n",
       "         ...,\n",
       "         [122., 103.,  89.],\n",
       "         [105.,  92.,  82.],\n",
       "         [151., 145., 141.]],\n",
       "\n",
       "        [[224., 223., 218.],\n",
       "         [180., 180., 175.],\n",
       "         [173., 172., 167.],\n",
       "         ...,\n",
       "         [196., 187., 180.],\n",
       "         [183., 178., 174.],\n",
       "         [204., 205., 205.]]],\n",
       "\n",
       "\n",
       "       [[[156., 154., 137.],\n",
       "         [151., 146., 123.],\n",
       "         [151., 144., 125.],\n",
       "         ...,\n",
       "         [155., 150., 129.],\n",
       "         [152., 148., 125.],\n",
       "         [186., 184., 163.]],\n",
       "\n",
       "        [[110., 106.,  77.],\n",
       "         [116., 108.,  62.],\n",
       "         [114., 101.,  57.],\n",
       "         ...,\n",
       "         [116., 106.,  61.],\n",
       "         [111., 103.,  56.],\n",
       "         [134., 129.,  92.]],\n",
       "\n",
       "        [[116., 112.,  82.],\n",
       "         [124., 118.,  66.],\n",
       "         [128., 118.,  67.],\n",
       "         ...,\n",
       "         [ 99.,  84.,  43.],\n",
       "         [101.,  87.,  43.],\n",
       "         [129., 118.,  86.]],\n",
       "\n",
       "        ...,\n",
       "\n",
       "        [[109., 101.,  74.],\n",
       "         [112., 100.,  54.],\n",
       "         [118., 105.,  62.],\n",
       "         ...,\n",
       "         [126., 113.,  65.],\n",
       "         [126., 111.,  61.],\n",
       "         [138., 124.,  89.]],\n",
       "\n",
       "        [[ 98.,  92.,  63.],\n",
       "         [ 93.,  82.,  35.],\n",
       "         [ 96.,  83.,  38.],\n",
       "         ...,\n",
       "         [112.,  96.,  47.],\n",
       "         [109.,  92.,  45.],\n",
       "         [127., 113.,  80.]],\n",
       "\n",
       "        [[170., 167., 145.],\n",
       "         [160., 153., 118.],\n",
       "         [163., 152., 119.],\n",
       "         ...,\n",
       "         [161., 151., 114.],\n",
       "         [156., 144., 107.],\n",
       "         [163., 154., 126.]]]], dtype=float32)"
      ]
     },
     "execution_count": 38,
     "metadata": {},
     "output_type": "execute_result"
    }
   ],
   "source": [
    "sub_X_train"
   ]
  },
  {
   "cell_type": "code",
   "execution_count": 39,
   "metadata": {
    "colab": {
     "base_uri": "https://localhost:8080/"
    },
    "id": "UzMMB0HBQIoT",
    "outputId": "6f031e75-5863-4952-fbdd-effc19ca4f9a"
   },
   "outputs": [
    {
     "name": "stdout",
     "output_type": "stream",
     "text": [
      "24500 train samples\n",
      "4900 test samples\n"
     ]
    }
   ],
   "source": [
    "print(sub_X_train.shape[0], 'train samples')\n",
    "print(sub_X_test.shape[0], 'test samples')"
   ]
  },
  {
   "cell_type": "code",
   "execution_count": 40,
   "metadata": {
    "id": "I9Xd6zqgQIoT"
   },
   "outputs": [],
   "source": [
    "# fit a RandomForest model to the data\n",
    "model = RandomForestClassifier(n_estimators = 10)"
   ]
  },
  {
   "cell_type": "code",
   "execution_count": 41,
   "metadata": {
    "colab": {
     "base_uri": "https://localhost:8080/"
    },
    "id": "BWjsuYW2QIoT",
    "outputId": "fc6f4d40-9809-46cb-d8eb-d7545357ac24"
   },
   "outputs": [
    {
     "name": "stderr",
     "output_type": "stream",
     "text": [
      "/tmp/ipykernel_10249/736908470.py:1: DataConversionWarning: A column-vector y was passed when a 1d array was expected. Please change the shape of y to (n_samples,), for example using ravel().\n",
      "  model.fit(sub_X_train_rshp, sub_Y_train)\n"
     ]
    },
    {
     "name": "stdout",
     "output_type": "stream",
     "text": [
      "RandomForestClassifier(n_estimators=10)\n"
     ]
    }
   ],
   "source": [
    "model.fit(sub_X_train_rshp, sub_Y_train)\n",
    "print(model)"
   ]
  },
  {
   "cell_type": "code",
   "execution_count": 42,
   "metadata": {
    "colab": {
     "base_uri": "https://localhost:8080/"
    },
    "id": "x03DF0gkQIoT",
    "outputId": "03d57b0c-dc84-462f-bb36-9fe8eac166b8"
   },
   "outputs": [
    {
     "name": "stderr",
     "output_type": "stream",
     "text": [
      "[Parallel(n_jobs=-1)]: Using backend LokyBackend with 8 concurrent workers.\n",
      "/home/daniel/anaconda3/lib/python3.9/site-packages/sklearn/model_selection/_validation.py:680: DataConversionWarning: A column-vector y was passed when a 1d array was expected. Please change the shape of y to (n_samples,), for example using ravel().\n",
      "  estimator.fit(X_train, y_train, **fit_params)\n",
      "/home/daniel/anaconda3/lib/python3.9/site-packages/sklearn/model_selection/_validation.py:680: DataConversionWarning: A column-vector y was passed when a 1d array was expected. Please change the shape of y to (n_samples,), for example using ravel().\n",
      "  estimator.fit(X_train, y_train, **fit_params)\n"
     ]
    },
    {
     "name": "stdout",
     "output_type": "stream",
     "text": [
      "\n",
      "[0.16138776 0.15591837]\n"
     ]
    },
    {
     "name": "stderr",
     "output_type": "stream",
     "text": [
      "[Parallel(n_jobs=-1)]: Done   2 out of   2 | elapsed:   22.3s remaining:    0.0s\n",
      "[Parallel(n_jobs=-1)]: Done   2 out of   2 | elapsed:   22.3s finished\n"
     ]
    }
   ],
   "source": [
    "cv_results = cross_val_score(model, sub_X_train_rshp, sub_Y_train,\n",
    "                cv = 2, scoring='accuracy', n_jobs = -1, verbose = 1)\n",
    "\n",
    "#model.fit(sub_X_train, sub_Y_train)\n",
    "\n",
    "print(); print(cv_results)\n",
    "#print(); print(model)"
   ]
  },
  {
   "cell_type": "code",
   "execution_count": 43,
   "metadata": {
    "id": "jdDGmspnQIoT"
   },
   "outputs": [],
   "source": [
    "# make predictions\n",
    "expected_y  = sub_Y_test\n",
    "predicted_y = model.predict(sub_X_test_rshp)"
   ]
  },
  {
   "cell_type": "code",
   "execution_count": 44,
   "metadata": {},
   "outputs": [
    {
     "data": {
      "text/plain": [
       "array([[199, 215, 249, ..., 176, 164, 183],\n",
       "       [113, 130,  98, ...,  84,  92,  67],\n",
       "       [ 37,  48,  31, ..., 107,  95,  86],\n",
       "       ...,\n",
       "       [ 24,  24,  24, ...,  28,  28,  26],\n",
       "       [ 59,  95, 129, ...,  52,  97, 135],\n",
       "       [ 86,  90,  80, ..., 120, 117, 109]], dtype=uint8)"
      ]
     },
     "execution_count": 44,
     "metadata": {},
     "output_type": "execute_result"
    }
   ],
   "source": [
    "sub_X_test_rshp"
   ]
  },
  {
   "cell_type": "code",
   "execution_count": 45,
   "metadata": {},
   "outputs": [
    {
     "data": {
      "text/plain": [
       "(4900, 3072)"
      ]
     },
     "execution_count": 45,
     "metadata": {},
     "output_type": "execute_result"
    }
   ],
   "source": [
    "sub_X_test_rshp.shape"
   ]
  },
  {
   "cell_type": "code",
   "execution_count": 46,
   "metadata": {
    "colab": {
     "base_uri": "https://localhost:8080/"
    },
    "id": "KoY8EhXtQIoT",
    "outputId": "a203eb8f-c269-46b1-a489-d49b57490ba3"
   },
   "outputs": [
    {
     "name": "stdout",
     "output_type": "stream",
     "text": [
      "[30  4  3]\n"
     ]
    }
   ],
   "source": [
    "print(predicted_y[0:3])"
   ]
  },
  {
   "cell_type": "markdown",
   "metadata": {},
   "source": [
    "#### Table for classification report and confusion"
   ]
  },
  {
   "cell_type": "code",
   "execution_count": 47,
   "metadata": {
    "colab": {
     "base_uri": "https://localhost:8080/"
    },
    "id": "CNrKwEfVQIoT",
    "outputId": "86ff2b51-0a0b-4f38-b1df-b5540ca590c4"
   },
   "outputs": [
    {
     "name": "stdout",
     "output_type": "stream",
     "text": [
      "\n",
      "              precision    recall  f1-score   support\n",
      "\n",
      "           0       0.21      0.51      0.29       100\n",
      "           1       0.17      0.47      0.25       100\n",
      "           2       0.05      0.11      0.07       100\n",
      "           3       0.10      0.22      0.14       100\n",
      "           4       0.08      0.17      0.11       100\n",
      "           5       0.09      0.12      0.10       100\n",
      "           6       0.15      0.23      0.18       100\n",
      "           7       0.11      0.15      0.13       100\n",
      "           8       0.11      0.16      0.13       100\n",
      "           9       0.23      0.25      0.24       100\n",
      "          10       0.04      0.04      0.04       100\n",
      "          11       0.12      0.10      0.11       100\n",
      "          12       0.17      0.20      0.18       100\n",
      "          13       0.07      0.06      0.06       100\n",
      "          15       0.08      0.07      0.07       100\n",
      "          16       0.27      0.23      0.25       100\n",
      "          17       0.26      0.35      0.30       100\n",
      "          18       0.15      0.13      0.14       100\n",
      "          19       0.11      0.08      0.09       100\n",
      "          20       0.42      0.52      0.47       100\n",
      "          21       0.18      0.16      0.17       100\n",
      "          22       0.28      0.21      0.24       100\n",
      "          23       0.40      0.45      0.42       100\n",
      "          24       0.42      0.45      0.44       100\n",
      "          25       0.08      0.05      0.06       100\n",
      "          26       0.13      0.07      0.09       100\n",
      "          27       0.13      0.08      0.10       100\n",
      "          28       0.26      0.23      0.24       100\n",
      "          29       0.19      0.13      0.15       100\n",
      "          30       0.49      0.51      0.50       100\n",
      "          31       0.07      0.05      0.06       100\n",
      "          32       0.11      0.07      0.08       100\n",
      "          33       0.17      0.15      0.16       100\n",
      "          34       0.04      0.03      0.03       100\n",
      "          35       0.12      0.09      0.10       100\n",
      "          36       0.22      0.16      0.18       100\n",
      "          37       0.09      0.07      0.08       100\n",
      "          38       0.11      0.09      0.10       100\n",
      "          39       0.24      0.12      0.16       100\n",
      "          40       0.21      0.10      0.14       100\n",
      "          41       0.65      0.39      0.49       100\n",
      "          42       0.17      0.09      0.12       100\n",
      "          43       0.10      0.07      0.08       100\n",
      "          44       0.03      0.02      0.02       100\n",
      "          45       0.12      0.07      0.09       100\n",
      "          46       0.13      0.06      0.08       100\n",
      "          47       0.43      0.37      0.40       100\n",
      "          48       0.38      0.18      0.24       100\n",
      "          49       0.36      0.27      0.31       100\n",
      "\n",
      "    accuracy                           0.18      4900\n",
      "   macro avg       0.19      0.18      0.18      4900\n",
      "weighted avg       0.19      0.18      0.18      4900\n",
      "\n",
      "\n",
      "Execution Time 46.04238724708557 seconds: \n"
     ]
    }
   ],
   "source": [
    "# summarize the fit of the model\n",
    "print(); print(classification_report(expected_y, predicted_y))\n",
    "#print(); print(metrics.confusion_matrix(expected_y, predicted_y))\n",
    "\n",
    "print()\n",
    "print(\"Execution Time %s seconds: \" % (time.time() - rf_start_time))   "
   ]
  },
  {
   "cell_type": "code",
   "execution_count": 48,
   "metadata": {
    "colab": {
     "base_uri": "https://localhost:8080/"
    },
    "id": "9-qCrHEKQIoT",
    "outputId": "ffce2ed9-efa7-4485-de4a-17524398651b"
   },
   "outputs": [
    {
     "data": {
      "text/plain": [
       "array([[51, 10,  6, ...,  1,  4,  2],\n",
       "       [ 5, 47,  1, ...,  5,  7,  7],\n",
       "       [ 5,  1, 11, ...,  2,  2,  1],\n",
       "       ...,\n",
       "       [ 1,  0,  0, ..., 37,  0,  1],\n",
       "       [ 0,  0,  0, ...,  0, 18,  0],\n",
       "       [ 0,  0,  0, ...,  0,  0, 27]])"
      ]
     },
     "execution_count": 48,
     "metadata": {},
     "output_type": "execute_result"
    }
   ],
   "source": [
    "rf_cm=confusion_matrix(predicted_y,sub_Y_test) ## To obtain the confusion matrix\n",
    "rf_cm"
   ]
  },
  {
   "cell_type": "code",
   "execution_count": 49,
   "metadata": {
    "colab": {
     "base_uri": "https://localhost:8080/"
    },
    "id": "WVMHRMgwQIoT",
    "outputId": "f580fd5e-89be-4b9d-c343-e277d0adea49"
   },
   "outputs": [
    {
     "data": {
      "text/plain": [
       "array([30,  4,  3, ...,  1, 27,  8])"
      ]
     },
     "execution_count": 49,
     "metadata": {},
     "output_type": "execute_result"
    }
   ],
   "source": [
    "predicted_y"
   ]
  }
 ],
 "metadata": {
  "colab": {
   "name": "10-Comparison.ipynb",
   "provenance": []
  },
  "kernelspec": {
   "display_name": "Python 3 (ipykernel)",
   "language": "python",
   "name": "python3"
  },
  "language_info": {
   "codemirror_mode": {
    "name": "ipython",
    "version": 3
   },
   "file_extension": ".py",
   "mimetype": "text/x-python",
   "name": "python",
   "nbconvert_exporter": "python",
   "pygments_lexer": "ipython3",
   "version": "3.9.12"
  },
  "toc": {
   "base_numbering": 1,
   "nav_menu": {},
   "number_sections": true,
   "sideBar": true,
   "skip_h1_title": false,
   "title_cell": "Table of Contents",
   "title_sidebar": "Contents",
   "toc_cell": false,
   "toc_position": {},
   "toc_section_display": true,
   "toc_window_display": false
  },
  "vscode": {
   "interpreter": {
    "hash": "0ad57050c77180dc9ed5ccc7774a474d285089782a3b5193155c6c81d567ba30"
   }
  }
 },
 "nbformat": 4,
 "nbformat_minor": 4
}
