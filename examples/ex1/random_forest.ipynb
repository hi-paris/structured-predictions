{
 "cells": [
  {
   "cell_type": "code",
   "execution_count": 1,
   "metadata": {},
   "outputs": [
    {
     "name": "stdout",
     "output_type": "stream",
     "text": [
      "\n",
      "**Image classification using RandomForest: An example in Python using CIFAR10 Dataset***\n"
     ]
    },
    {
     "name": "stderr",
     "output_type": "stream",
     "text": [
      "2022-09-27 22:20:41.877503: I tensorflow/core/platform/cpu_feature_guard.cc:193] This TensorFlow binary is optimized with oneAPI Deep Neural Network Library (oneDNN) to use the following CPU instructions in performance-critical operations:  AVX2 FMA\n",
      "To enable them in other operations, rebuild TensorFlow with the appropriate compiler flags.\n"
     ]
    },
    {
     "name": "stdout",
     "output_type": "stream",
     "text": [
      "Downloading data from https://www.cs.toronto.edu/~kriz/cifar-10-python.tar.gz\n",
      "170498071/170498071 [==============================] - 7s 0us/step\n",
      "50000 train samples\n",
      "10000 test samples\n"
     ]
    },
    {
     "name": "stderr",
     "output_type": "stream",
     "text": [
      "[Parallel(n_jobs=-1)]: Using backend LokyBackend with 8 concurrent workers.\n",
      "[Parallel(n_jobs=-1)]: Done   2 out of   2 | elapsed:   15.9s finished\n",
      "[Parallel(n_jobs=-1)]: Done   2 out of   2 | elapsed:   15.8s remaining:    0.0s\n"
     ]
    },
    {
     "name": "stdout",
     "output_type": "stream",
     "text": [
      "\n",
      "[0.339   0.33756]\n",
      "\n",
      "RandomForestClassifier(n_estimators=10)\n",
      "\n",
      "              precision    recall  f1-score   support\n",
      "\n",
      "           0       0.40      0.56      0.46      1000\n",
      "           1       0.37      0.46      0.41      1000\n",
      "           2       0.25      0.31      0.28      1000\n",
      "           3       0.23      0.23      0.23      1000\n",
      "           4       0.30      0.31      0.31      1000\n",
      "           5       0.33      0.28      0.30      1000\n",
      "           6       0.39      0.33      0.36      1000\n",
      "           7       0.44      0.31      0.36      1000\n",
      "           8       0.55      0.50      0.53      1000\n",
      "           9       0.44      0.35      0.39      1000\n",
      "\n",
      "    accuracy                           0.36     10000\n",
      "   macro avg       0.37      0.36      0.36     10000\n",
      "weighted avg       0.37      0.36      0.36     10000\n",
      "\n",
      "\n",
      "[[558  60  68  37  33  24  20  25 134  41]\n",
      " [ 90 455  55  65  29  44  37  28  52 145]\n",
      " [134  71 312  96 143  73  81  45  22  23]\n",
      " [ 89  77 127 234  90 154  90  56  31  52]\n",
      " [ 67  44 213  84 313  55 115  69  20  20]\n",
      " [ 67  61 131 174  99 278  81  56  25  28]\n",
      " [ 43  57 142 139 163  65 330  26  13  22]\n",
      " [104  67 111  89 107  78  42 309  26  67]\n",
      " [150 109  35  42  28  25  20  31 502  58]\n",
      " [104 225  32  49  36  41  22  50  87 354]]\n",
      "\n",
      "Execution Time 47.19136619567871 seconds: \n"
     ]
    }
   ],
   "source": [
    "## Image classification using RandomForest: An example in Python using CIFAR10 Dataset\n",
    "\n",
    "def Snippet_349(): \n",
    "\n",
    "    print()\n",
    "    print(format('Image classification using RandomForest: An example in Python using CIFAR10 Dataset','*^88'))\n",
    "\n",
    "    import warnings\n",
    "    warnings.filterwarnings(\"ignore\")    \n",
    "    \n",
    "    # load libraries\n",
    "    from keras.datasets import cifar10\n",
    "    from sklearn import metrics\n",
    "    from sklearn.ensemble import RandomForestClassifier\n",
    "    from sklearn.model_selection import cross_val_score    \n",
    "\n",
    "    import time\n",
    "    start_time = time.time()\n",
    "\n",
    "    # data: shuffled and split between train and test sets\n",
    "    (X_train, y_train), (X_test, y_test) = cifar10.load_data()\n",
    "\n",
    "    # X_train is 50000 rows of 3x32x32 values --> reshaped in 50000 x 3072\n",
    "    RESHAPED = 3072\n",
    "\n",
    "    X_train = X_train.reshape(50000, RESHAPED)\n",
    "    X_test = X_test.reshape(10000, RESHAPED)\n",
    "    X_train = X_train.astype('float32')\n",
    "    X_test = X_test.astype('float32')\n",
    "\n",
    "    y_train = y_train.flatten()\n",
    "    y_test = y_test.flatten()\n",
    "\n",
    "    # normalize the datasets\n",
    "    X_train /= 255.\n",
    "    X_test /= 255.\n",
    "\n",
    "    print(X_train.shape[0], 'train samples')\n",
    "    print(X_test.shape[0], 'test samples')\n",
    "    \n",
    "    # fit a RandomForest model to the data\n",
    "    model = RandomForestClassifier(n_estimators = 10)\n",
    "\n",
    "    cv_results = cross_val_score(model, X_train, y_train, \n",
    "                   cv = 2, scoring='accuracy', n_jobs = -1, verbose = 1)    \n",
    "\n",
    "    model.fit(X_train, y_train)\n",
    "    \n",
    "    print(); print(cv_results)    \n",
    "    print(); print(model)\n",
    "\n",
    "    # make predictions\n",
    "    expected_y  = y_test\n",
    "    predicted_y = model.predict(X_test)\n",
    "\n",
    "    # summarize the fit of the model\n",
    "    print(); print(metrics.classification_report(expected_y, predicted_y))\n",
    "    print(); print(metrics.confusion_matrix(expected_y, predicted_y))\n",
    "\n",
    "    print()\n",
    "    print(\"Execution Time %s seconds: \" % (time.time() - start_time))    \n",
    "\n",
    "Snippet_349()"
   ]
  }
 ],
 "metadata": {
  "kernelspec": {
   "display_name": "Python 3 (ipykernel)",
   "language": "python",
   "name": "python3"
  },
  "language_info": {
   "codemirror_mode": {
    "name": "ipython",
    "version": 3
   },
   "file_extension": ".py",
   "mimetype": "text/x-python",
   "name": "python",
   "nbconvert_exporter": "python",
   "pygments_lexer": "ipython3",
   "version": "3.9.12"
  },
  "vscode": {
   "interpreter": {
    "hash": "0ad57050c77180dc9ed5ccc7774a474d285089782a3b5193155c6c81d567ba30"
   }
  }
 },
 "nbformat": 4,
 "nbformat_minor": 4
}
