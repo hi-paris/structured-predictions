{
 "cells": [
  {
   "cell_type": "markdown",
   "metadata": {
    "id": "psZRdVZsQIoJ"
   },
   "source": [
    "## METHODS COMPARISON USING CIFAR100 WITH 100 CLASSES"
   ]
  },
  {
   "cell_type": "markdown",
   "metadata": {},
   "source": [
    "#### ENCODED DATA"
   ]
  },
  {
   "cell_type": "markdown",
   "metadata": {
    "id": "HQJCf_NuQIoL"
   },
   "source": [
    "On this file, the logistic regression proccess is done in order to compare it with the results of the Structure Predictions package. \\\n",
    "We find out that there are some considerable differences. "
   ]
  },
  {
   "cell_type": "markdown",
   "metadata": {
    "id": "PKUuPFyzQIoM"
   },
   "source": [
    "For this exercice we use the CIFAR100 dataset provided by Keras. This is a dataset of 50,000 32x32 color training images and 10,000 test images, labeled over 100 fine-grained classes that are grouped into 20 coarse-grained classes. "
   ]
  },
  {
   "cell_type": "code",
   "execution_count": 2,
   "metadata": {},
   "outputs": [],
   "source": [
    "import arff\n",
    "import numpy as np\n",
    "import os\n",
    "from os.path import join\n",
    "from scipy import sparse\n",
    "from stpredictions.models.DIOKR.utils import project_root\n",
    "\n",
    "# bibtex\n",
    "# files (sparse): Train and test sets along with their union and the XML header [bibtex.rar]\n",
    "# source: I. Katakis, G. Tsoumakas, I. Vlahavas, \"Multilabel Text Classification for Automated Tag Suggestion\",\n",
    "# Proceedings of the ECML/PKDD 2008 Discovery Challenge, Antwerp, Belgium, 2008.\n",
    "\n",
    "\n",
    "# split dataset using\n",
    "#\n",
    "# dir_path = os.path.dirname(os.path.realpath(__file__))\n",
    "\n",
    "\n",
    "# @profile\n",
    "\n",
    "def load_bibtex():\n",
    "    \"\"\"\n",
    "    Load the bibtex dataset for IOKR.\n",
    "    __author__ = \"Michael Gygli, ETH Zurich\"\n",
    "    from https://github.com/gyglim/dvn/blob/master/mlc_datasets/__init__.py\n",
    "\n",
    "    Parameters\n",
    "    ----------\n",
    "    dir_path : string - containing location of bibtex.arff\n",
    "\n",
    "\n",
    "    Returns\n",
    "    -------\n",
    "    X : np.array\n",
    "        Explanatory variables - N * 1836 array variables in one vector - e.g. 'dependent', 'always'\n",
    "\n",
    "    Y : np.array\n",
    "        Target variables - N * 159 array variables in one vector - e.g. 'TAG_system', 'TAG_social_nets'\n",
    "\n",
    "    X_txt : list\n",
    "            Explanatory variables - N * 1836 list variables in one vector - e.g. 'dependent', 'always'\n",
    "\n",
    "    Y_txt : list\n",
    "            Target variables - N * 159 list variables in one vector - e.g. 'TAG_system', 'TAG_social_nets'\n",
    "\n",
    "    \"\"\"\n",
    "\n",
    "    #this_dir, this_filename = os.path.split(__file__)\n",
    "    #DATA_PATH = os.path.join(this_dir, \"bibtex\", \"bibtex.arff\")\n",
    "\n",
    "    feature_idx = 1836\n",
    "\n",
    "    dataset = arff.load(open(\"bibtex.arff\"))\n",
    "    data = np.array(dataset['data'], np.int64)\n",
    "\n",
    "    X = data[:, 0:feature_idx]\n",
    "    Y = data[:, feature_idx:]\n",
    "\n",
    "    return X, Y"
   ]
  },
  {
   "cell_type": "code",
   "execution_count": 3,
   "metadata": {},
   "outputs": [],
   "source": [
    "X, Y= load_bibtex()"
   ]
  },
  {
   "cell_type": "code",
   "execution_count": 4,
   "metadata": {},
   "outputs": [
    {
     "data": {
      "text/plain": [
       "(7395, 1836)"
      ]
     },
     "execution_count": 4,
     "metadata": {},
     "output_type": "execute_result"
    }
   ],
   "source": [
    "X.shape"
   ]
  },
  {
   "cell_type": "code",
   "execution_count": 5,
   "metadata": {
    "id": "EUFbm0flQIoM"
   },
   "outputs": [
    {
     "name": "stderr",
     "output_type": "stream",
     "text": [
      "2022-09-06 10:50:49.290634: I tensorflow/core/util/util.cc:169] oneDNN custom operations are on. You may see slightly different numerical results due to floating-point round-off errors from different computation orders. To turn them off, set the environment variable `TF_ENABLE_ONEDNN_OPTS=0`.\n",
      "2022-09-06 10:50:50.306979: W tensorflow/stream_executor/platform/default/dso_loader.cc:64] Could not load dynamic library 'libcudart.so.11.0'; dlerror: libcudart.so.11.0: cannot open shared object file: No such file or directory\n",
      "2022-09-06 10:50:50.307010: I tensorflow/stream_executor/cuda/cudart_stub.cc:29] Ignore above cudart dlerror if you do not have a GPU set up on your machine.\n"
     ]
    }
   ],
   "source": [
    "from sklearn import metrics\n",
    "from sklearn.model_selection import train_test_split\n",
    "from keras.datasets import cifar100\n",
    "import matplotlib.pyplot as plt\n",
    "import numpy as np\n",
    "\n",
    "import time\n"
   ]
  },
  {
   "cell_type": "code",
   "execution_count": 6,
   "metadata": {},
   "outputs": [
    {
     "name": "stdout",
     "output_type": "stream",
     "text": [
      "                                                       X  \\\n",
      "0      b'iVBORw0KGgoAAAANSUhEUgAAACAAAAAgCAIAAAD8GO2j...   \n",
      "1      b'iVBORw0KGgoAAAANSUhEUgAAACAAAAAgCAIAAAD8GO2j...   \n",
      "2      b'iVBORw0KGgoAAAANSUhEUgAAACAAAAAgCAIAAAD8GO2j...   \n",
      "3      b'iVBORw0KGgoAAAANSUhEUgAAACAAAAAgCAIAAAD8GO2j...   \n",
      "4      b'iVBORw0KGgoAAAANSUhEUgAAACAAAAAgCAIAAAD8GO2j...   \n",
      "...                                                  ...   \n",
      "59995  b'iVBORw0KGgoAAAANSUhEUgAAACAAAAAgCAIAAAD8GO2j...   \n",
      "59996  b'iVBORw0KGgoAAAANSUhEUgAAACAAAAAgCAIAAAD8GO2j...   \n",
      "59997  b'iVBORw0KGgoAAAANSUhEUgAAACAAAAAgCAIAAAD8GO2j...   \n",
      "59998  b'iVBORw0KGgoAAAANSUhEUgAAACAAAAAgCAIAAAD8GO2j...   \n",
      "59999  b'iVBORw0KGgoAAAANSUhEUgAAACAAAAAgCAIAAAD8GO2j...   \n",
      "\n",
      "                                         Y  \n",
      "0              b'cG9wcHlfc18wMDAxMjgucG5n'  \n",
      "1              b'cG9wcHlfc18wMDE3ODEucG5n'  \n",
      "2              b'cG9wcHlfc18wMDE0NzIucG5n'  \n",
      "3              b'cG9wcHlfc18wMDE5NjAucG5n'  \n",
      "4              b'cG9wcHlfc18wMDE3MTcucG5n'  \n",
      "...                                    ...  \n",
      "59995          b'd3RjX3NfMDAxNjEzLnBuZw=='  \n",
      "59996  b'c2t5c2NyYXBlcl9zXzAwMTQ5NC5wbmc='  \n",
      "59997  b'c2t5c2NyYXBlcl9zXzAwMTY3NS5wbmc='  \n",
      "59998  b'c2t5c2NyYXBlcl9zXzAwMDYwMi5wbmc='  \n",
      "59999  b'dHdpbl90b3dlcnNfc18wMDIwMTAucG5n'  \n",
      "\n",
      "[60000 rows x 2 columns]\n"
     ]
    }
   ],
   "source": [
    "import pandas as pd\n",
    "\n",
    "data = pd.read_csv (r'encoded_data.csv')\n",
    "print (data)\n"
   ]
  },
  {
   "cell_type": "code",
   "execution_count": 7,
   "metadata": {},
   "outputs": [],
   "source": [
    "#data.columns = data.iloc[0] "
   ]
  },
  {
   "cell_type": "code",
   "execution_count": 8,
   "metadata": {},
   "outputs": [
    {
     "name": "stdout",
     "output_type": "stream",
     "text": [
      "                                                       X\n",
      "0      b'iVBORw0KGgoAAAANSUhEUgAAACAAAAAgCAIAAAD8GO2j...\n",
      "1      b'iVBORw0KGgoAAAANSUhEUgAAACAAAAAgCAIAAAD8GO2j...\n",
      "2      b'iVBORw0KGgoAAAANSUhEUgAAACAAAAAgCAIAAAD8GO2j...\n",
      "3      b'iVBORw0KGgoAAAANSUhEUgAAACAAAAAgCAIAAAD8GO2j...\n",
      "4      b'iVBORw0KGgoAAAANSUhEUgAAACAAAAAgCAIAAAD8GO2j...\n",
      "...                                                  ...\n",
      "59995  b'iVBORw0KGgoAAAANSUhEUgAAACAAAAAgCAIAAAD8GO2j...\n",
      "59996  b'iVBORw0KGgoAAAANSUhEUgAAACAAAAAgCAIAAAD8GO2j...\n",
      "59997  b'iVBORw0KGgoAAAANSUhEUgAAACAAAAAgCAIAAAD8GO2j...\n",
      "59998  b'iVBORw0KGgoAAAANSUhEUgAAACAAAAAgCAIAAAD8GO2j...\n",
      "59999  b'iVBORw0KGgoAAAANSUhEUgAAACAAAAAgCAIAAAD8GO2j...\n",
      "\n",
      "[60000 rows x 1 columns]\n"
     ]
    }
   ],
   "source": [
    "X_data = pd.DataFrame(data, columns= [\"X\"])\n",
    "print (X_data)"
   ]
  },
  {
   "cell_type": "code",
   "execution_count": 9,
   "metadata": {},
   "outputs": [
    {
     "name": "stdout",
     "output_type": "stream",
     "text": [
      "                                         Y\n",
      "0              b'cG9wcHlfc18wMDAxMjgucG5n'\n",
      "1              b'cG9wcHlfc18wMDE3ODEucG5n'\n",
      "2              b'cG9wcHlfc18wMDE0NzIucG5n'\n",
      "3              b'cG9wcHlfc18wMDE5NjAucG5n'\n",
      "4              b'cG9wcHlfc18wMDE3MTcucG5n'\n",
      "...                                    ...\n",
      "59995          b'd3RjX3NfMDAxNjEzLnBuZw=='\n",
      "59996  b'c2t5c2NyYXBlcl9zXzAwMTQ5NC5wbmc='\n",
      "59997  b'c2t5c2NyYXBlcl9zXzAwMTY3NS5wbmc='\n",
      "59998  b'c2t5c2NyYXBlcl9zXzAwMDYwMi5wbmc='\n",
      "59999  b'dHdpbl90b3dlcnNfc18wMDIwMTAucG5n'\n",
      "\n",
      "[60000 rows x 1 columns]\n"
     ]
    }
   ],
   "source": [
    "Y_data = pd.DataFrame(data, columns= [\"Y\"])\n",
    "print (Y_data)"
   ]
  },
  {
   "cell_type": "code",
   "execution_count": 10,
   "metadata": {},
   "outputs": [],
   "source": [
    "X_train, X_test, Y_train, Y_test = train_test_split(\n",
    "    X_data.values, Y_data.values, test_size=0.166666666, random_state=0)"
   ]
  },
  {
   "cell_type": "code",
   "execution_count": 11,
   "metadata": {},
   "outputs": [
    {
     "name": "stdout",
     "output_type": "stream",
     "text": [
      "<class 'numpy.ndarray'>\n"
     ]
    }
   ],
   "source": [
    "print(type(X_train))"
   ]
  },
  {
   "cell_type": "code",
   "execution_count": 12,
   "metadata": {
    "colab": {
     "base_uri": "https://localhost:8080/"
    },
    "id": "V_lE4u3WQIoN",
    "outputId": "b1651737-c783-42cd-86f3-7ab2afe895aa"
   },
   "outputs": [
    {
     "name": "stdout",
     "output_type": "stream",
     "text": [
      "x_train shape: (50000, 1)\n",
      "x_test shape: (10000, 1)\n",
      "y_train shape: (50000, 1)\n",
      "y_test shape: (10000, 1)\n",
      "50000 train samples\n",
      "10000 test samples\n"
     ]
    }
   ],
   "source": [
    "# Check the shape of the array\n",
    "print('x_train shape:', X_train.shape)\n",
    "print('x_test shape:', X_test.shape)\n",
    "print('y_train shape:', Y_train.shape)\n",
    "print('y_test shape:', Y_test.shape)\n",
    " \n",
    "# Number of data set samples \n",
    "print(X_train.shape[0], 'train samples')\n",
    "print(X_test.shape[0], 'test samples')\n",
    " \n",
    "# Data format confirmation\n",
    "#print(type(X_test))\n",
    "#print(type(Y_test[0]))"
   ]
  },
  {
   "cell_type": "markdown",
   "metadata": {
    "id": "PDWZvWVYQIoO"
   },
   "source": [
    "### Organizing data"
   ]
  },
  {
   "cell_type": "markdown",
   "metadata": {
    "id": "jf4f3pzWQIoO"
   },
   "source": [
    "We just want the first 10 categories of the dataset, so that's why we create a new train dataset and test dataset with those labels as below"
   ]
  },
  {
   "cell_type": "code",
   "execution_count": 13,
   "metadata": {
    "colab": {
     "base_uri": "https://localhost:8080/"
    },
    "id": "V3qya57zQIoP",
    "outputId": "e7e2e995-501b-455b-df6e-553ca5f4093b"
   },
   "outputs": [
    {
     "name": "stdout",
     "output_type": "stream",
     "text": [
      "Number of records for 100 classes X train (50000, 1)\n",
      "Number of records for 100 classes X test (10000, 1)\n",
      "Number of records for 100 classes Y train (50000, 1)\n",
      "Number of records for 100 classes Y test (10000, 1)\n"
     ]
    }
   ],
   "source": [
    "print('Number of records for 100 classes X train',X_train.shape)\n",
    "print('Number of records for 100 classes X test',X_test.shape)\n",
    "print('Number of records for 100 classes Y train',Y_train.shape)\n",
    "print('Number of records for 100 classes Y test',Y_test.shape)"
   ]
  },
  {
   "cell_type": "code",
   "execution_count": 14,
   "metadata": {
    "colab": {
     "base_uri": "https://localhost:8080/"
    },
    "id": "6QjHfIUTQIoP",
    "outputId": "21bc43ec-e2ba-4dd9-d137-48943db46be4"
   },
   "outputs": [
    {
     "name": "stdout",
     "output_type": "stream",
     "text": [
      "First 5 entries of X_train [[\"b'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'\"]\n",
      " [\"b'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'\"]\n",
      " [\"b'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'\"]\n",
      " [\"b'iVBORw0KGgoAAAANSUhEUgAAACAAAAAgCAIAAAD8GO2jAAAAB3RJTUUH4wkTDhwU5Yv9pgAAB3xJREFUSImNVltvXdUR/mbWWnuffW6+32MnMcEQCA0XUaDqhRbRUvWlqE/8gz73H/Sp75XaF9SL1Ide1KqqWpUWhADREmgohIRAbHAcjB1ix8fH577P3mvN9OHY4FQ47TxtLc3M982srfV9pKGNQRCBCKpQVYLSwbGqgnIy/fq1c3/+5elHnjx254PKCauSCm4TJIDy7TI+RVZjIdfXV7O03d5eh++QBv0fRQplqPt/AJiE4fP3L19od5ud+o08bRL8oM0RJQooQADzgOL+hwhUD6epqoiEkDYbO2vXrtZarVZzr1HbJijRoMvn8z+AkQMA3JKsqhIkSICqqBfKNjavekiIklq79/HmDR88EI4cAIPlB9X00IpIP2VNRMYYa6xhZ61Rk587/2qt1WxmtLa1t1lr9LJMVfTISyaAFUGpZw9hEqAwhkCA393b3d3drdV21jeubdXXVq5czPOs633VlYcnpuJiwmCQBVRFAdAt6yIokaEPli+QhAZgAFJ14P6N7bXVD1dXP7ryyc7VWq3W66VEwtZbw8ZayzbvyMTk7PDw+Nz03MnFuxcWTlWSCSASbRNSqCpAcITKlTf/+uKffkQizRDE2mi3vv3a689fuvxGu9XLtVOsahzHWZYRtBC7EAIzhSDwodloigTnYnbFcnlsZGiGKXnqiadnphahaowFsn+8+sJLf/zpVHzZCgAOr73x4ksv/35z88rc3PTszKS11aRoVBG8z7I+Q60xQYQZhvvjVc59KpqR6Xe71z7ZWN3ZbkxUq09980ScFFv1+m9+++w7l/42amuFMlGjc+N3f/jVuTderhYblRLPziyUSxPDpdHYRIVCnOU5A6RKRAC8z3xoWidpfw+cg4L30m6l3lO3Fw8Pnzx+8sTylSvr6x9uba+V9eZ9C2p/9vNnX3n1uYUTk2PDI9ViUk2mQ+YCItgSJI4A55w1PACAIQmBOK+6DqjPLkjwoQIJlEq/0WtsrL85MhydWPjCCy80qNM2xtrX//nyaLVSjgtTI0MRJ8ZXk6hs4YwWNDcA5TmEYJittVCCxkFyY8tkPHwv5CmziVzESF15tFAoxHHc6bSryWSW7Rk2dnF+utHYNZ4jKpaiochUoQTkxpooLgBCIM29c5ExpAoJxKzETOSYRDgYYyJrJU+YyyGVRsuHQAgUQi4Ke/+Z0xcvXjp1/NT4SJT3xBoKkoJ7YrpiYoAYzMxCDDYAhMHEShZEPvSiREUDrIkdkzV5loP6Tsn7HnEG4y0ku+/MXQiFOCrl/VazvZskNiqyuH6OroOAhCxDSTiCiVQUzNDIUEU5AgVm600kCEZEiQvFUpamyHPKPIVgZ44d63abeVr0nru9vX4/hYl6LakORy6ysQmSd4l95BIfoMQKWMviEdkimWLWbztjunDGFQrOSZDt7S2fpT7rSppp1rMPP/b4ysp7711av/HxBjQ/Nj+zu3vz3+9caHdb95468dTXv5wk8OKhzpIVNUa9BmG2bJOgapzppu2tVnduYenUvWeJyF+69K9z7+foR7EiZLZQGj1z9tFyZfHC+fO9dnNoZKw6Mv7u8kfLyxtDhVar4wpjI4aQeWGwJVKfwRi2nKvp9jv1nY1rayu5cbPH74KJRfWesw95Sff2rvV39tJe2waNwO6OU6fvWFza3d7avP5RrbZ9/wMPjY6N3bN0pyuVu7nkuXoYhxDDM5dFDbPlgh0bqSyvvLO6dtWVysVSEeyIiAgPfPGr1aHSX3794/r1tgU5QHMNFjQ6PTM6Nd5q1hfvXKzXt9NeV4NP01RhbKnc3NmsrS8/9pWnR6fnbcGZAruIVpYvBzlfiuJqtcrG7L/3Yu9YeuS7z/zg77/4iWUlgABVgmpQDaVqpTxUnJufy7J+8EFFjHEmLq9cOrd68ZX3l9/+1t2nTZIIchE5+9CXXnr+ucnxmWpliDTsi5kagZm/68Fnvv9Du+8MSJRIB54CgYQNlQtxhRKjIiLBc1SqjOV9v7z85sO7XxubOZmTEKLp6YVvPPHtRrPORED4TBIpZCFUZhYtHcie7jsVIhgiq2oVLEoEECmDq5VRGMcu8iEDiQGDmG3y5He+d3X1AxeVgAN9JAKEmMWSBQ1OmQ/JtaoqBSAwkVAOBBdoqFIan5nJpVwqjZDAkBGokuXCyNKZR0VFDjSaCIbYADB6SDL/S1MVAIkoiEFQGBeV5o8vdXqUlCpErCDaJ0dB9t/zQ/X7YT+b63CoAkoD90RGdJAZL937cK+XOVcAW4IZWBwCEQ/sjh5sm+gAw36+eSIaqGueZcRsbUygTicdHT/mg4eJ6vVmP8unpqZFAjETgP2KT/kfrEs1fA7A/hj61ltvr6wsG46SpDQ7PbX58ar3aSEpHju+WNtr7tZ2Hv/a46OjI7fu51aqqkeaTFW9eXO7VtuNooiIkqSY9jqkIfd+ana+3mjm/XRudjaOY+YjLejtAESk10vfffeic8ZFLu3n42MTW9c3ypVqmkkAFk8sjI0M0+B9OCKO+IsG4ETMPDk55X2a+3x4uErMExNTUVxwaR/GqshtWg/iPzlLBIQU9OBeAAAAAElFTkSuQmCC'\"]\n",
      " [\"b'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'\"]]\n",
      "First 5 entries of X_test [[\"b'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'\"]\n",
      " [\"b'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'\"]\n",
      " [\"b'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'\"]\n",
      " [\"b'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'\"]\n",
      " [\"b'iVBORw0KGgoAAAANSUhEUgAAACAAAAAgCAIAAAD8GO2jAAAAB3RJTUUH4wkTDhol4g9aGgAACRhJREFUSImNlkmMnMUVx9+rqm/rr/v7uqe36Z599TIejI3xAgQGMEmQEkQCUoKSE5ccOSTKCSkOSo455JIrkaJcwoFwCREQ2+wmmHiwPcbj2T1rb9N7f3u9HMaQUxI/6anqVL+q+r+n90ciIgoliogkJ8lIInIJACARGEQgw7DVrrScIPRJDR3GoC+bV80YMc4YZ8hDhgjAJQBGgADAABAAiAgRkYhCIkJsNVtetycUIRgyIowo8kO33W0067ollJjJQPDA3S9v3bxxPZvLHTv+YLowDEYyZIAAgiBCAAAEQJAMkAgQESOigEggQRD6AbWcHqNQIYKIyTAwDMPQtSjqRFKqsXi7Wr76yQdB5Hf266sLtx45/+wjz/8oJEIEBhAAAgACIUgOCISIiAERyVCJOuCFkpuBpgskFoUhIEeq7mzdXbqzv7spA//c3NzqnTukGSfOnkPPK62uzM/feOCJ84XhAQpd4EyiTsgAiVByEIwYIGBEhJFTuf7h5vz1w099XxueBGBMBgGEELhvv/lGQhEPHju+s7rUaeynB4ZHj58m4J9d+ocGcmhsdHN9Y6A/221V7f5MduQoNyzinDgDEEgMEQQDIKdTuvp+sLLcnZzUhkYBVSTikduu7VnkF614aWW5sr5Sr5eT+TwE3ueXP4DQIfJvf7TUKlU+vnmdmGdm7URm4ujZuWPfmuMJGxEQAAAEAFSXv+qtLuQVHlZ3WORJrrRLpb+98afG7ubtq1fsmFZteSiD7d3txDsXZw7Ntit7wyPFbEq/de1Lv9LMmRrXJWv7n3+xcPWTK9+tVZ988SeqqRERAoqoVV1484/x2v5ipIvcjlFe31rdvn7x0pefXgx7vhr5fRkTVIDQuLO+0VjeMHy5vr373nvvjxWs2YlBK8b8sD3YP9VDYeF6t7r47uu/z/SlHvrejwMgFULhNqsWOmPjE9Wyv7a2evN3v91a29L8IGViqr8oA1fViUhRMS50Vfoyle7bKFdQKJ1u1Kq1p/tTji/zh48WZk40ypu57n7Ta3761z+PzT5sjY5KIP7aqz93V67dXdvY9EJV5ztffRV1G5lMbGJ8oF6rMvBNk0NA4IYekhRCJTRU1YrFTIFT/fnJYpHHYm1VMQoDTi9IiWAgqelmolSpDB06jEaKv/LyC3fef6vZ9ra9wNJY3PcKuUQ8aRiMS9djURBTwBb8zJHDxeFcp9eZyKbycUOR4XQxk4wpjpRHTp+RqjF67OTgoRONtVuKU4lb1u7GCnGtcPQh/vILz3SWruYKwzyd1ZnU/FAYmjAN2Qktw67t1Ru1aoLCLHOdXqXdqHS371qKzCfNoqVbfXE/m545+1gmM+DX3eGHHgt7+73SBnKGbvvmreXM9En+q1/8jG3e0PT44k7N0LWOK5ndF0vlEYyYlQehgeAGC4eTmkBXZajIIJ1JDQwOrS8v9iCKTU07HmTTxdpWOTEymSwObK2vra+t9Kns7sZuW+oinkj2FCyVt91W6CTswqmzuaGpkakjgedpui19p1m7u/rR3xul5XiMj2jJRCKn9w82uqFWGB6ZngxMe3VtU4ba2NAw52jkj5566ZXoL3/I9naLVbd66yp/5acvRktXOLBKB4/PnZ9+4nwsPUqKxbJZzc4Y6bTDUahmMh5vtxqbd0t73WjssadGzzzZ9oCIQy8cmTkxO/e4mU8ZyaynmCKRMTBorN1Wo9DxQ8FV3XUj0+kcyaaFkF0XFS0mFWxXS8IN0kkrrijNSGozpxOFQUP7jO9s15vdYm7s9A8mb3/87ub6atZUosjRrRRTDYWBZCx/Yq6ydsN0nXxH8l+/+sve4j+TLAx1O3XyXP/h00Y8qca1vkRMR3T2a516bXf5trDsVkC5XKFdrde3tz7+8EoY8Vwhc+qpObdTn//XNd3O2P2DgIwRKophp8z69ppp5YSeKRhD43IvUqxRszApgSMCEjCuNJvtRqM1cWRiZ3lh8caXkdD0KOj0oLO6Hgae218wc8fn33vb893Zhx/tHxuPwAWKBGkYsHhh6tDTL3TLDQFMb0q1TUpyfFbtG5JMcAmICCCyxUHf9ea/mHdcT9G0k2cedbs9dvjhz15fS8tGc29pe1UpbSzZ+X47bvb29xW3G7NsAAkiFoEZHz9hDUX8wmu/Cb1muV4bPv0sSw0QIQeSCEicc2FnMolkImlbhqbXG42W402eONMurST0wFNYu1mrb6yUtzdXllfbzXZzabG5uaLFNWHZPtMYU5ke4xcuXDD77IGjs8IeipiCAAxAIiIyBAaIiqEn0jlN1/d3tlGI/NSMUGFp8frmztZQX3wql67tbjm9rmWYVC5VlxfWV24lcmkrNyyRcYZCAoCSABEDNBgQAhEgAYOD+YosQlUCCi0eRVHc1nyQqfFjxZlHKfg04beiIDDCrhXTasvXNMUczloiaJUuv9M/cJRbOQBgEiBCzUcjAmAgESIAIrgXBEwChsAcx1M4l9KPgiDWNzB96pm8XQjLVRH6R0YH0xpYIkgW7WZzr718CxZuelsbHAAAmABgyBWuMIaIiMgRUcA9/4EICpHiNPfWl1LFQQRVBD6gsEcOTT/+HcUewJYLAeNmwpH+7vKC29hrdOrrzX3SjYMrsoNkAAy/3iLeczYAACCD4IsPLtUq5fzoOCoGQyIAyUTy0APFx77t54ZW29H1xe2VOzsbKzube80dj4xDM2ZxiL4Zmf87GBd2rhCL6WrMSmYLQtMBiBB4vK/wzHN9p0/CxUsbb75VWW1sN3pGDCdmR59/7iXQ43BgjIjowIL9NwBJKaMAgRAgDEOhKcSUkJiIJIEfskA4vdL8tfnLl++s39Ut4+kfvjh+bg5Q5wD3BQAAKSUQEBAAAIUSWcSEACSgCFElyaRPvuN1fEVT0DRdrgpAlQgQ//8XAYAElEBEwBhDYADAAQiBEQoJxFjANTKEpgICRpzRfxS8Dw0IiDFyut1ut+t6nqEbqqokEnGGAgCQEAkkIgAHHh4UhwrEv2bc1wsQQEZBubzXbDYjYvlsJmGOsINSYwiAQiLAQVMRA+JAAJyA4f0AEFBKGYWUsvvy2f5QSo5MSgbA78HvLQenfSMmAhAA/htZO5Ge2Y8SOAAAAABJRU5ErkJggg=='\"]]\n",
      "First 5 entries of Y_train [[\"b'Z3JlZW5sYW5kX3doYWxlX3NfMDAwMDY5LnBuZw=='\"]\n",
      " [\"b'aW5mYW50X3NfMDAwODYyLnBuZw=='\"]\n",
      " [\"b'Y291Y2hfc18wMDE2ODIucG5n'\"]\n",
      " [\"b'dHJvdXRfc18wMDE1NzMucG5n'\"]\n",
      " [\"b'aGVkZ2Vob2dfc18wMDEwNTUucG5n'\"]]\n",
      "First 5 entries of Y_test [[\"b'YmFieV9zXzAwMDAzMC5wbmc='\"]\n",
      " [\"b'aG91c2Vfc18wMDA1MTIucG5n'\"]\n",
      " [\"b'd2hhbGVfc18wMDExNjAucG5n'\"]\n",
      " [\"b'bmF2ZWxfb3JhbmdlX3NfMDAwNDYwLnBuZw=='\"]\n",
      " [\"b'YW1lcmljYW5fbG9ic3Rlcl9zXzAwMDExNy5wbmc='\"]]\n"
     ]
    }
   ],
   "source": [
    "print(\"First 5 entries of X_train\",X_train[0:5])\n",
    "print(\"First 5 entries of X_test\",X_test[0:5])\n",
    "print(\"First 5 entries of Y_train\",Y_train[0:5])\n",
    "print(\"First 5 entries of Y_test\",Y_test[0:5])"
   ]
  },
  {
   "cell_type": "code",
   "execution_count": 15,
   "metadata": {
    "id": "x_mQGOqSQIoP"
   },
   "outputs": [],
   "source": [
    "from sklearn.linear_model import LogisticRegression\n"
   ]
  },
  {
   "cell_type": "markdown",
   "metadata": {
    "id": "EiqxueIMQIoP"
   },
   "source": [
    "For the Logistic Regression implementation, it's needed an X array with dimension <= 2. In this case, we have a dimension of 4, that's why we have to do a reshape as below"
   ]
  },
  {
   "cell_type": "markdown",
   "metadata": {},
   "source": [
    "The same process has to be done for the other methods "
   ]
  },
  {
   "cell_type": "code",
   "execution_count": 19,
   "metadata": {},
   "outputs": [
    {
     "data": {
      "text/plain": [
       "(50000, 1)"
      ]
     },
     "execution_count": 19,
     "metadata": {},
     "output_type": "execute_result"
    }
   ],
   "source": [
    "X_train.shape"
   ]
  },
  {
   "cell_type": "code",
   "execution_count": 32,
   "metadata": {
    "colab": {
     "base_uri": "https://localhost:8080/"
    },
    "id": "cRijErVCQIoQ",
    "outputId": "1bead46b-84a7-4061-cbca-2a740fef7481"
   },
   "outputs": [
    {
     "name": "stdout",
     "output_type": "stream",
     "text": [
      "[\"b'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'\"]\n"
     ]
    }
   ],
   "source": [
    "print(X_train_rshp[0])"
   ]
  },
  {
   "cell_type": "markdown",
   "metadata": {},
   "source": [
    "There's a problem with the prediction Methods. Mainly in the fact that the Base64 format is from a different type, and it's not possible to convert it to string. For these reasons, it was decided to continue working in a different way to get the predictions from an encoded format. In other files, we'll be working with a binary format conversion."
   ]
  },
  {
   "cell_type": "markdown",
   "metadata": {
    "id": "_kdZgW4-QIoP"
   },
   "source": [
    "### Logistic Regression method"
   ]
  },
  {
   "cell_type": "code",
   "execution_count": 33,
   "metadata": {
    "id": "p0lctqPgQIoQ"
   },
   "outputs": [],
   "source": [
    "lr_start_time=time.time()"
   ]
  },
  {
   "cell_type": "code",
   "execution_count": 20,
   "metadata": {
    "colab": {
     "base_uri": "https://localhost:8080/"
    },
    "id": "PLy4q4IhQIoQ",
    "outputId": "459d0504-16c4-45e1-fdb5-3d13f87a46a8"
   },
   "outputs": [
    {
     "ename": "ValueError",
     "evalue": "could not convert string to float: \"b'iVBORw0KGgoAAAANSUhEUgAAACAAAAAgCAIAAAD8GO2jAAAAB3RJTUUH4wkTDh0BkU0oDAAACJlJREFUSIk1zkmTXNdxBeDMvPdN9aqqu6onNAACICgwNFikaNkSvbA3XjgcWmipX6iNI/wH7JV3XtEyKYLREJpkA40eUN01vPFOmekF5IgTcXbfOfi7P35LuTV5ZibGZgYBkNAQagRgFO+xD9HHgiC5EDWVk3x+uCCLMcYgfhj9dDatZuXffrT88iA/MDpDyJEVcoe4UbVMYDJrqsIWpKCibA0BkSZRSTnxYmGPl3t1kYXgmqZxHQzdpvchhgCFNTYXz1JqTnhoaR9ZhBnUomaCU0QLmVGDCSEzRoURCRCBUAmNoZP9+XFtCwt1YQxWT49muWbbrtvumndXV9frjs0kiZFJmUCsqhB2BiswiAoshtWaojRVjtYwirUkikqUABQgRzUgTdtlkHmbGYyl4aqImNGT06OfnB78cHn/p9dXu80OLO76RbMEQN6wetDMsAHDgJaqAgpShAgJEUVIWSnLLIENzu1il8aCTDLTvu9Y/P68znMEwAf7sxdPlkcH5auL9k3Tvl21/7Owz0vwYu+YjTWZQWa0mjOTEJEqOZ+UxVhrSYwPqR170RjGQKbjMTn39Nn+rx4vq4n587ubb84u1ofLJ4+mP//0aG9TXTr/ctW1y3lGIixFQgQREYsIwKgCwCBeNXGSSMbj0PvVmtEYgt0wkoVPPz198nwhpV27/uF8v6Pxf7958347++LnTx8ezmpHr69W5z1mNSJAmedEqCyWR5TEyqoxEQuJ+GGs9yZxt3PrdTI4nZRu13z2219OF/urTbpNDWia5faTFwdvzl76m8N39f6zF0c2jROQ78/Py73aWGtyU5WVJLTD+3sKkGJETSgiQ7AGq7psdgOPY0D1ykcfHZuqvLlcA4pFcL47PN5PYL74u08uX91e/vBmeTJPIHuziTv7oVvtyllJVdEVOYGx8cd3rBJjBARiJaLFoxP1Lg0+DKNA3DtazI+Pr6/vKUQyak02jEO3ywnq4+WxrTfXF2/r88XywWFRFccHi9dnP7L3WGaaGUNoebeNySVOQEWOdvbwxJbZZn3nxl6VMYPF49O2i24zlhMDKXHCPKvu7xtRrcrl889efP/28uL8Ip8dsNXD04OX33wXnMMcTZGLijn4zb9aFqtKilhkp88eu74d7tax7xD14ccfY5b7MUwm1Xx/WtUloeY5IkJdl3uL2Wxif/bo8Oy78wR5NqlUaXV13axu2DsOIXpvuWmlKA0ZY3DvyQM2yv3AwwAqi9MHaqvQx3palbO6Kou8IKwzosSprusCib2X3/7s2fZu+1/fXuZ1haaYT+dXw5+rfNYPPWbWBhfIEEBWnx5PphW7UdwIyVez+fzho+BjUWVmkgEEoBzR2Dyb1XlV1sPQbnfbbFrlmf3dP/zy1bu7IfYUxrrc05gS9KLkhw2xRBD1GdX7c4gc+iF6j2V29PFHOCkOH5/Uy3k5KVWSzWRwW8UUg67vt96H+bQax/7ibj0v8Q//9DnfXXFIBLqYz7b3K9fvXLMliU5SrI+XhJqGIfSDxJTNJuXBXjGvsSCwUFb53v7UWBH102l5c/P+7dur25vV2LW7XfNm5xzS588Of/3Rsl1dd+328emRpOC2d7FvSJIX5umkjsOQghPnU4jzxX41m+aZFY5FbgEkppBYU9LgRTUZou22uXpz3ezC+86eNzwg/vOXv8jdnR/648XcgohrxQ2kksgYZNGQQt9LCoS6f3ScIve7Ng4Dp2gtuW64eXM5ncy6btzc35LJlgfHk2J6f9uenf341euL6xAfHS9/9fR4t12XGcTgkRMEZ1VQgZwPxC66HqLPi8LM90QVE3NyWth245rVJnbNpqiyDLbXK8K9jz95lhof/Xjz3Vf+Npva38w/+5vf/8s/fn31b6QKrKAGGMzei7/PqmleTySMYeg1pfLwsNxf+O0u9t2w2fAQN6v3SOSGMSlBiH7Xd9sVxt6Pm+XB3nS/fPnV199+fXHV9rOT2Zef//S///T27OVLiT7FYObPf51NpkVVgneub4Bl/vhpGAO37bBdDZv7fvU+9rvohszY5OPm9tow3F+fb99f9V1zcDR/9pOT6MeLs7+8Pr9++apbHB/9+3/853C74uATRzN7/gUUVZ4XPPTJjSwyP3mijVM/Ds19aO+GzUVotu5uxSDjrlm/vySl5Hd921pb3t5d+qiT/QdDO7TrXde6b179ZfX9uYxBomdJFkQlxnEcTRyAErOJ48jNNrl27LeUxtj10cXCZM3QowJobGMcdnddu222G8qp24otZ6pZfbJcX75Z34wweNUkoKpiRRQ4RT+y2wnHLN8LrvPDetyuSbkk9B3H6KDQsbkPwRvkNO3ExX632TX3VTV3HedFmQgCc9x2MIysAiAKCqCWU2DXW2ti3/lhmCwz12xC34NKGPsY3NhuELgdmhgHliQS+6bJTRVCUIIutXkQoFZFvHMG0CiqiiiriipYiS52QiIAEUCINDQbP7QgKfnBb+/BjyEMnJJoFFUFBRFGNRZQRIWTOgAAFgNKxgKAiLAwAIiylZRIwbcN1VBOS4Y47rbMPkUvrg9DD65nCSIKSoSkSIAWQYUjIBCCpgigKiqgDFplVUpRRQBRmK0kRUOmLmLyzAEDhjSghMghjh0PLUoEFRFRAWsysEYkKSgoIJKgAKGAIgACAIsYERFUFUnAyapyStFAmRnbb9dZnosyRAecNEWQJBxVgYiQUEGYkyogIgAAqKoCogAgACmASkoJVEFVRVTEKscEYpwxhiTFEEeBhNEbERVVTsAsgIgIhkQ+HEdV/cADAAIiIACIKgCwBAVRFVVVVQvMYAmFR9dr8iaxYFJOwCAqKhGVRUnhry59wP7/PwBAUkIERAEFAOYIqiogoiJqQRMnlUgoIiykAAIqmERUBUU+cMICyAAIkIhI/zrwoUDhQ5QQVEQVUAFUAOT/AALkitgydftzAAAAAElFTkSuQmCC'\"",
     "output_type": "error",
     "traceback": [
      "\u001b[0;31m---------------------------------------------------------------------------\u001b[0m",
      "\u001b[0;31mValueError\u001b[0m                                Traceback (most recent call last)",
      "\u001b[1;32m/home/daniel/Documents/AA_Télécom/HiParis/Project/PROJECT/structured-predictions/stpredictions/datasets/100-EnComparison.ipynb Cell 27\u001b[0m in \u001b[0;36m<cell line: 2>\u001b[0;34m()\u001b[0m\n\u001b[1;32m      <a href='vscode-notebook-cell:/home/daniel/Documents/AA_T%C3%A9l%C3%A9com/HiParis/Project/PROJECT/structured-predictions/stpredictions/datasets/100-EnComparison.ipynb#X36sZmlsZQ%3D%3D?line=0'>1</a>\u001b[0m logreg \u001b[39m=\u001b[39m  LogisticRegression()\n\u001b[0;32m----> <a href='vscode-notebook-cell:/home/daniel/Documents/AA_T%C3%A9l%C3%A9com/HiParis/Project/PROJECT/structured-predictions/stpredictions/datasets/100-EnComparison.ipynb#X36sZmlsZQ%3D%3D?line=1'>2</a>\u001b[0m logreg\u001b[39m.\u001b[39;49mfit(X_train,Y_train)\n",
      "File \u001b[0;32m~/anaconda3/lib/python3.9/site-packages/sklearn/linear_model/_logistic.py:1508\u001b[0m, in \u001b[0;36mLogisticRegression.fit\u001b[0;34m(self, X, y, sample_weight)\u001b[0m\n\u001b[1;32m   1505\u001b[0m \u001b[39melse\u001b[39;00m:\n\u001b[1;32m   1506\u001b[0m     _dtype \u001b[39m=\u001b[39m [np\u001b[39m.\u001b[39mfloat64, np\u001b[39m.\u001b[39mfloat32]\n\u001b[0;32m-> 1508\u001b[0m X, y \u001b[39m=\u001b[39m \u001b[39mself\u001b[39;49m\u001b[39m.\u001b[39;49m_validate_data(\n\u001b[1;32m   1509\u001b[0m     X,\n\u001b[1;32m   1510\u001b[0m     y,\n\u001b[1;32m   1511\u001b[0m     accept_sparse\u001b[39m=\u001b[39;49m\u001b[39m\"\u001b[39;49m\u001b[39mcsr\u001b[39;49m\u001b[39m\"\u001b[39;49m,\n\u001b[1;32m   1512\u001b[0m     dtype\u001b[39m=\u001b[39;49m_dtype,\n\u001b[1;32m   1513\u001b[0m     order\u001b[39m=\u001b[39;49m\u001b[39m\"\u001b[39;49m\u001b[39mC\u001b[39;49m\u001b[39m\"\u001b[39;49m,\n\u001b[1;32m   1514\u001b[0m     accept_large_sparse\u001b[39m=\u001b[39;49msolver \u001b[39mnot\u001b[39;49;00m \u001b[39min\u001b[39;49;00m [\u001b[39m\"\u001b[39;49m\u001b[39mliblinear\u001b[39;49m\u001b[39m\"\u001b[39;49m, \u001b[39m\"\u001b[39;49m\u001b[39msag\u001b[39;49m\u001b[39m\"\u001b[39;49m, \u001b[39m\"\u001b[39;49m\u001b[39msaga\u001b[39;49m\u001b[39m\"\u001b[39;49m],\n\u001b[1;32m   1515\u001b[0m )\n\u001b[1;32m   1516\u001b[0m check_classification_targets(y)\n\u001b[1;32m   1517\u001b[0m \u001b[39mself\u001b[39m\u001b[39m.\u001b[39mclasses_ \u001b[39m=\u001b[39m np\u001b[39m.\u001b[39munique(y)\n",
      "File \u001b[0;32m~/anaconda3/lib/python3.9/site-packages/sklearn/base.py:581\u001b[0m, in \u001b[0;36mBaseEstimator._validate_data\u001b[0;34m(self, X, y, reset, validate_separately, **check_params)\u001b[0m\n\u001b[1;32m    579\u001b[0m         y \u001b[39m=\u001b[39m check_array(y, \u001b[39m*\u001b[39m\u001b[39m*\u001b[39mcheck_y_params)\n\u001b[1;32m    580\u001b[0m     \u001b[39melse\u001b[39;00m:\n\u001b[0;32m--> 581\u001b[0m         X, y \u001b[39m=\u001b[39m check_X_y(X, y, \u001b[39m*\u001b[39;49m\u001b[39m*\u001b[39;49mcheck_params)\n\u001b[1;32m    582\u001b[0m     out \u001b[39m=\u001b[39m X, y\n\u001b[1;32m    584\u001b[0m \u001b[39mif\u001b[39;00m \u001b[39mnot\u001b[39;00m no_val_X \u001b[39mand\u001b[39;00m check_params\u001b[39m.\u001b[39mget(\u001b[39m\"\u001b[39m\u001b[39mensure_2d\u001b[39m\u001b[39m\"\u001b[39m, \u001b[39mTrue\u001b[39;00m):\n",
      "File \u001b[0;32m~/anaconda3/lib/python3.9/site-packages/sklearn/utils/validation.py:964\u001b[0m, in \u001b[0;36mcheck_X_y\u001b[0;34m(X, y, accept_sparse, accept_large_sparse, dtype, order, copy, force_all_finite, ensure_2d, allow_nd, multi_output, ensure_min_samples, ensure_min_features, y_numeric, estimator)\u001b[0m\n\u001b[1;32m    961\u001b[0m \u001b[39mif\u001b[39;00m y \u001b[39mis\u001b[39;00m \u001b[39mNone\u001b[39;00m:\n\u001b[1;32m    962\u001b[0m     \u001b[39mraise\u001b[39;00m \u001b[39mValueError\u001b[39;00m(\u001b[39m\"\u001b[39m\u001b[39my cannot be None\u001b[39m\u001b[39m\"\u001b[39m)\n\u001b[0;32m--> 964\u001b[0m X \u001b[39m=\u001b[39m check_array(\n\u001b[1;32m    965\u001b[0m     X,\n\u001b[1;32m    966\u001b[0m     accept_sparse\u001b[39m=\u001b[39;49maccept_sparse,\n\u001b[1;32m    967\u001b[0m     accept_large_sparse\u001b[39m=\u001b[39;49maccept_large_sparse,\n\u001b[1;32m    968\u001b[0m     dtype\u001b[39m=\u001b[39;49mdtype,\n\u001b[1;32m    969\u001b[0m     order\u001b[39m=\u001b[39;49morder,\n\u001b[1;32m    970\u001b[0m     copy\u001b[39m=\u001b[39;49mcopy,\n\u001b[1;32m    971\u001b[0m     force_all_finite\u001b[39m=\u001b[39;49mforce_all_finite,\n\u001b[1;32m    972\u001b[0m     ensure_2d\u001b[39m=\u001b[39;49mensure_2d,\n\u001b[1;32m    973\u001b[0m     allow_nd\u001b[39m=\u001b[39;49mallow_nd,\n\u001b[1;32m    974\u001b[0m     ensure_min_samples\u001b[39m=\u001b[39;49mensure_min_samples,\n\u001b[1;32m    975\u001b[0m     ensure_min_features\u001b[39m=\u001b[39;49mensure_min_features,\n\u001b[1;32m    976\u001b[0m     estimator\u001b[39m=\u001b[39;49mestimator,\n\u001b[1;32m    977\u001b[0m )\n\u001b[1;32m    979\u001b[0m y \u001b[39m=\u001b[39m _check_y(y, multi_output\u001b[39m=\u001b[39mmulti_output, y_numeric\u001b[39m=\u001b[39my_numeric)\n\u001b[1;32m    981\u001b[0m check_consistent_length(X, y)\n",
      "File \u001b[0;32m~/anaconda3/lib/python3.9/site-packages/sklearn/utils/validation.py:746\u001b[0m, in \u001b[0;36mcheck_array\u001b[0;34m(array, accept_sparse, accept_large_sparse, dtype, order, copy, force_all_finite, ensure_2d, allow_nd, ensure_min_samples, ensure_min_features, estimator)\u001b[0m\n\u001b[1;32m    744\u001b[0m         array \u001b[39m=\u001b[39m array\u001b[39m.\u001b[39mastype(dtype, casting\u001b[39m=\u001b[39m\u001b[39m\"\u001b[39m\u001b[39munsafe\u001b[39m\u001b[39m\"\u001b[39m, copy\u001b[39m=\u001b[39m\u001b[39mFalse\u001b[39;00m)\n\u001b[1;32m    745\u001b[0m     \u001b[39melse\u001b[39;00m:\n\u001b[0;32m--> 746\u001b[0m         array \u001b[39m=\u001b[39m np\u001b[39m.\u001b[39;49masarray(array, order\u001b[39m=\u001b[39;49morder, dtype\u001b[39m=\u001b[39;49mdtype)\n\u001b[1;32m    747\u001b[0m \u001b[39mexcept\u001b[39;00m ComplexWarning \u001b[39mas\u001b[39;00m complex_warning:\n\u001b[1;32m    748\u001b[0m     \u001b[39mraise\u001b[39;00m \u001b[39mValueError\u001b[39;00m(\n\u001b[1;32m    749\u001b[0m         \u001b[39m\"\u001b[39m\u001b[39mComplex data not supported\u001b[39m\u001b[39m\\n\u001b[39;00m\u001b[39m{}\u001b[39;00m\u001b[39m\\n\u001b[39;00m\u001b[39m\"\u001b[39m\u001b[39m.\u001b[39mformat(array)\n\u001b[1;32m    750\u001b[0m     ) \u001b[39mfrom\u001b[39;00m \u001b[39mcomplex_warning\u001b[39;00m\n",
      "\u001b[0;31mValueError\u001b[0m: could not convert string to float: \"b'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'\""
     ]
    }
   ],
   "source": [
    "logreg =  LogisticRegression()\n",
    "logreg.fit(X_train,Y_train) ## fitting the logistic regression model"
   ]
  },
  {
   "cell_type": "code",
   "execution_count": 12,
   "metadata": {
    "colab": {
     "base_uri": "https://localhost:8080/"
    },
    "id": "IjWh7d0AQIoQ",
    "outputId": "c3b0c611-f4aa-4e48-a8c3-ab6701399be4"
   },
   "outputs": [
    {
     "data": {
      "text/plain": [
       "array([49, 27, 15, ..., 18, 20, 92])"
      ]
     },
     "execution_count": 12,
     "metadata": {},
     "output_type": "execute_result"
    }
   ],
   "source": [
    "y_pred=logreg.predict(X_test_rshp)\n",
    "y_pred"
   ]
  },
  {
   "cell_type": "code",
   "execution_count": 13,
   "metadata": {
    "colab": {
     "base_uri": "https://localhost:8080/"
    },
    "id": "xPH3FzbzQIoQ",
    "outputId": "f94f8c32-213a-40d7-9d58-f42aebae8363"
   },
   "outputs": [
    {
     "data": {
      "text/plain": [
       "10000"
      ]
     },
     "execution_count": 13,
     "metadata": {},
     "output_type": "execute_result"
    }
   ],
   "source": [
    "len(y_pred)"
   ]
  },
  {
   "cell_type": "code",
   "execution_count": 14,
   "metadata": {
    "colab": {
     "base_uri": "https://localhost:8080/"
    },
    "id": "R0Xc8VdbQIoQ",
    "outputId": "478662de-35e2-44f4-ec43-80aaf27683b8"
   },
   "outputs": [
    {
     "data": {
      "text/plain": [
       "10000"
      ]
     },
     "execution_count": 14,
     "metadata": {},
     "output_type": "execute_result"
    }
   ],
   "source": [
    "len(X_test)"
   ]
  },
  {
   "cell_type": "code",
   "execution_count": 15,
   "metadata": {
    "colab": {
     "base_uri": "https://localhost:8080/",
     "height": 250
    },
    "id": "otTxHX3tQIoR",
    "outputId": "ca98686b-3909-4be9-86d6-4c036cacd206"
   },
   "outputs": [
    {
     "data": {
      "image/png": "[encoded data removed]",
      "text/plain": [
       "<Figure size 1080x360 with 5 Axes>"
      ]
     },
     "metadata": {
      "needs_background": "light"
     },
     "output_type": "display_data"
    }
   ],
   "source": [
    "plt.figure(figsize=(15,5))\n",
    "for i in range(1,6):\n",
    "  plt.subplot(1,5,i)\n",
    "  plt.imshow(X_test[i,:,:],cmap='gray')\n",
    "  plt.title('Sign language of {}'.format(Y_train[i]))\n",
    "  plt.axis('off')\n",
    "  plt.tight_layout()\n",
    "plt.show()"
   ]
  },
  {
   "cell_type": "markdown",
   "metadata": {
    "id": "rqXbemGfQIoR"
   },
   "source": [
    "#### Table for classification report and confusion"
   ]
  },
  {
   "cell_type": "code",
   "execution_count": 16,
   "metadata": {
    "id": "gUPt1O1CQIoR"
   },
   "outputs": [],
   "source": [
    "from sklearn.metrics import confusion_matrix,classification_report\n",
    "from sklearn.metrics import f1_score"
   ]
  },
  {
   "cell_type": "code",
   "execution_count": 17,
   "metadata": {
    "colab": {
     "base_uri": "https://localhost:8080/"
    },
    "id": "9qhmOYF_QIoR",
    "outputId": "189fee6a-022a-4c66-dc51-79fb6730ed62"
   },
   "outputs": [
    {
     "data": {
      "text/plain": [
       "0.1733"
      ]
     },
     "execution_count": 17,
     "metadata": {},
     "output_type": "execute_result"
    }
   ],
   "source": [
    "logreg.score(X_test_rshp[0:100],Y_test) ## Overall accuracy score of the logistic regression model"
   ]
  },
  {
   "cell_type": "code",
   "execution_count": 18,
   "metadata": {
    "colab": {
     "base_uri": "https://localhost:8080/"
    },
    "id": "-uB7RULuQIoR",
    "outputId": "37efbcad-830e-428f-c84a-577aff362bd1"
   },
   "outputs": [
    {
     "name": "stdout",
     "output_type": "stream",
     "text": [
      "              precision    recall  f1-score   support\n",
      "\n",
      "           0       0.32      0.31      0.32       103\n",
      "           1       0.20      0.14      0.17       142\n",
      "           2       0.08      0.10      0.09        82\n",
      "           3       0.06      0.11      0.08        54\n",
      "           4       0.03      0.06      0.04        53\n",
      "           5       0.11      0.07      0.09       150\n",
      "           6       0.16      0.13      0.14       123\n",
      "           7       0.27      0.21      0.24       126\n",
      "           8       0.15      0.16      0.15        95\n",
      "           9       0.27      0.23      0.25       119\n",
      "          10       0.08      0.09      0.08        90\n",
      "          11       0.11      0.12      0.12        89\n",
      "          12       0.17      0.17      0.17        99\n",
      "          13       0.12      0.11      0.12       106\n",
      "          14       0.11      0.10      0.11       107\n",
      "          15       0.12      0.18      0.14        68\n",
      "          16       0.18      0.17      0.18       105\n",
      "          17       0.34      0.26      0.29       133\n",
      "          18       0.22      0.19      0.21       114\n",
      "          19       0.09      0.11      0.10        83\n",
      "          20       0.29      0.20      0.23       148\n",
      "          21       0.17      0.17      0.17       103\n",
      "          22       0.21      0.17      0.19       127\n",
      "          23       0.31      0.19      0.24       161\n",
      "          24       0.36      0.22      0.27       167\n",
      "          25       0.04      0.07      0.05        57\n",
      "          26       0.07      0.09      0.08        78\n",
      "          27       0.05      0.06      0.05        85\n",
      "          28       0.17      0.14      0.16       119\n",
      "          29       0.09      0.10      0.09        92\n",
      "          30       0.29      0.35      0.32        82\n",
      "          31       0.11      0.12      0.12        90\n",
      "          32       0.12      0.19      0.15        64\n",
      "          33       0.11      0.17      0.13        64\n",
      "          34       0.15      0.17      0.16        86\n",
      "          35       0.10      0.10      0.10       105\n",
      "          36       0.06      0.18      0.09        33\n",
      "          37       0.11      0.11      0.11        99\n",
      "          38       0.12      0.13      0.12        95\n",
      "          39       0.06      0.05      0.05       120\n",
      "          40       0.11      0.13      0.12        86\n",
      "          41       0.44      0.32      0.37       139\n",
      "          42       0.02      0.05      0.03        39\n",
      "          43       0.15      0.15      0.15        99\n",
      "          44       0.06      0.10      0.07        61\n",
      "          45       0.11      0.14      0.12        80\n",
      "          46       0.09      0.10      0.09        91\n",
      "          47       0.29      0.25      0.27       116\n",
      "          48       0.31      0.21      0.25       147\n",
      "          49       0.23      0.21      0.22       107\n",
      "          50       0.03      0.03      0.03        87\n",
      "          51       0.11      0.09      0.10       124\n",
      "          52       0.45      0.38      0.41       119\n",
      "          53       0.28      0.32      0.30        88\n",
      "          54       0.29      0.21      0.24       139\n",
      "          55       0.03      0.05      0.04        63\n",
      "          56       0.20      0.19      0.20       105\n",
      "          57       0.23      0.16      0.19       141\n",
      "          58       0.26      0.24      0.25       109\n",
      "          59       0.18      0.17      0.17       108\n",
      "          60       0.57      0.45      0.50       128\n",
      "          61       0.18      0.24      0.20        76\n",
      "          62       0.27      0.20      0.23       132\n",
      "          63       0.17      0.18      0.18        93\n",
      "          64       0.03      0.04      0.03        80\n",
      "          65       0.02      0.03      0.02        62\n",
      "          66       0.04      0.06      0.05        67\n",
      "          67       0.25      0.25      0.25        99\n",
      "          68       0.58      0.36      0.45       160\n",
      "          69       0.37      0.27      0.31       137\n",
      "          70       0.20      0.20      0.20        99\n",
      "          71       0.27      0.24      0.25       112\n",
      "          72       0.04      0.07      0.05        54\n",
      "          73       0.28      0.26      0.27       106\n",
      "          74       0.08      0.09      0.09        88\n",
      "          75       0.26      0.18      0.21       146\n",
      "          76       0.28      0.23      0.25       122\n",
      "          77       0.03      0.05      0.04        57\n",
      "          78       0.03      0.05      0.04        60\n",
      "          79       0.04      0.07      0.05        56\n",
      "          80       0.05      0.12      0.07        43\n",
      "          81       0.12      0.11      0.11       110\n",
      "          82       0.41      0.36      0.38       114\n",
      "          83       0.14      0.16      0.15        88\n",
      "          84       0.06      0.08      0.07        75\n",
      "          85       0.30      0.25      0.27       122\n",
      "          86       0.22      0.20      0.21       108\n",
      "          87       0.17      0.14      0.15       123\n",
      "          88       0.04      0.04      0.04       103\n",
      "          89       0.16      0.19      0.17        83\n",
      "          90       0.13      0.16      0.14        83\n",
      "          91       0.28      0.20      0.23       140\n",
      "          92       0.12      0.12      0.12        96\n",
      "          93       0.08      0.11      0.09        75\n",
      "          94       0.32      0.31      0.32       102\n",
      "          95       0.30      0.25      0.27       119\n",
      "          96       0.15      0.15      0.15       100\n",
      "          97       0.10      0.08      0.09       126\n",
      "          98       0.08      0.08      0.08        96\n",
      "          99       0.06      0.06      0.06        96\n",
      "\n",
      "    accuracy                           0.17     10000\n",
      "   macro avg       0.17      0.16      0.16     10000\n",
      "weighted avg       0.20      0.17      0.18     10000\n",
      "\n",
      "\n",
      "Execution Time 124.32136297225952 seconds: \n"
     ]
    }
   ],
   "source": [
    "lr_cm=confusion_matrix(y_pred,Y_test) ## To obtain the confusion matrix\n",
    "print(classification_report(y_pred,Y_test))\n",
    "\n",
    "print()\n",
    "print(\"Execution Time %s seconds: \" % (time.time() - lr_start_time))"
   ]
  },
  {
   "cell_type": "code",
   "execution_count": 19,
   "metadata": {
    "colab": {
     "base_uri": "https://localhost:8080/"
    },
    "id": "D2qakHNYQIoR",
    "outputId": "6c7e3782-910f-4c37-cce4-8a912acd4871"
   },
   "outputs": [
    {
     "data": {
      "text/plain": [
       "array([[32,  1,  1, ...,  0,  1,  0],\n",
       "       [ 2, 20,  2, ...,  2,  1,  0],\n",
       "       [ 0,  1,  8, ...,  2,  3,  1],\n",
       "       ...,\n",
       "       [ 0,  1,  3, ..., 10,  1,  1],\n",
       "       [ 0,  1,  4, ...,  0,  8,  0],\n",
       "       [ 0,  0,  1, ...,  1,  0,  6]])"
      ]
     },
     "execution_count": 19,
     "metadata": {},
     "output_type": "execute_result"
    }
   ],
   "source": [
    "lr_cm"
   ]
  },
  {
   "cell_type": "code",
   "execution_count": 20,
   "metadata": {
    "colab": {
     "base_uri": "https://localhost:8080/"
    },
    "id": "VSbXuDlZQIoR",
    "outputId": "c2553bdd-746f-4b75-815b-c6f9a4bf59b8"
   },
   "outputs": [
    {
     "name": "stdout",
     "output_type": "stream",
     "text": [
      "Test f1 score: 0.18212089754251432\n"
     ]
    }
   ],
   "source": [
    "f1_test = f1_score(y_pred, Y_test, average='weighted')\n",
    "print( \"Test f1 score:\", f1_test)"
   ]
  },
  {
   "cell_type": "code",
   "execution_count": 21,
   "metadata": {
    "colab": {
     "base_uri": "https://localhost:8080/"
    },
    "id": "G1shMVO7QIoR",
    "outputId": "4bdea35a-fcc1-4cb0-e2e9-a2b530a4e43a"
   },
   "outputs": [
    {
     "data": {
      "text/plain": [
       "array([49, 27, 15, ..., 18, 20, 92])"
      ]
     },
     "execution_count": 21,
     "metadata": {},
     "output_type": "execute_result"
    }
   ],
   "source": [
    "y_pred"
   ]
  },
  {
   "cell_type": "code",
   "execution_count": 22,
   "metadata": {},
   "outputs": [
    {
     "data": {
      "text/plain": [
       "array([[[[255, 255, 255],\n",
       "         [255, 255, 255],\n",
       "         [255, 255, 255],\n",
       "         ...,\n",
       "         [195, 205, 193],\n",
       "         [212, 224, 204],\n",
       "         [182, 194, 167]],\n",
       "\n",
       "        [[255, 255, 255],\n",
       "         [254, 254, 254],\n",
       "         [254, 254, 254],\n",
       "         ...,\n",
       "         [170, 176, 150],\n",
       "         [161, 168, 130],\n",
       "         [146, 154, 113]],\n",
       "\n",
       "        [[255, 255, 255],\n",
       "         [254, 254, 254],\n",
       "         [255, 255, 255],\n",
       "         ...,\n",
       "         [189, 199, 169],\n",
       "         [166, 178, 130],\n",
       "         [121, 133,  87]],\n",
       "\n",
       "        ...,\n",
       "\n",
       "        [[148, 185,  79],\n",
       "         [142, 182,  57],\n",
       "         [140, 179,  60],\n",
       "         ...,\n",
       "         [ 30,  17,   1],\n",
       "         [ 65,  62,  15],\n",
       "         [ 76,  77,  20]],\n",
       "\n",
       "        [[122, 157,  66],\n",
       "         [120, 155,  58],\n",
       "         [126, 160,  71],\n",
       "         ...,\n",
       "         [ 22,  16,   3],\n",
       "         [ 97, 112,  56],\n",
       "         [141, 161,  87]],\n",
       "\n",
       "        [[ 87, 122,  41],\n",
       "         [ 88, 122,  39],\n",
       "         [101, 134,  56],\n",
       "         ...,\n",
       "         [ 34,  36,  10],\n",
       "         [105, 133,  59],\n",
       "         [138, 173,  79]]],\n",
       "\n",
       "\n",
       "       [[[255, 255, 255],\n",
       "         [253, 253, 253],\n",
       "         [253, 253, 253],\n",
       "         ...,\n",
       "         [253, 253, 253],\n",
       "         [253, 253, 253],\n",
       "         [255, 255, 255]],\n",
       "\n",
       "        [[255, 255, 255],\n",
       "         [255, 255, 255],\n",
       "         [255, 255, 255],\n",
       "         ...,\n",
       "         [255, 255, 255],\n",
       "         [255, 255, 255],\n",
       "         [255, 255, 255]],\n",
       "\n",
       "        [[255, 255, 255],\n",
       "         [255, 255, 255],\n",
       "         [255, 255, 255],\n",
       "         ...,\n",
       "         [255, 255, 255],\n",
       "         [255, 255, 255],\n",
       "         [255, 255, 255]],\n",
       "\n",
       "        ...,\n",
       "\n",
       "        [[255, 255, 255],\n",
       "         [255, 255, 255],\n",
       "         [255, 255, 255],\n",
       "         ...,\n",
       "         [255, 255, 255],\n",
       "         [255, 255, 255],\n",
       "         [255, 255, 255]],\n",
       "\n",
       "        [[255, 255, 255],\n",
       "         [255, 255, 255],\n",
       "         [255, 255, 255],\n",
       "         ...,\n",
       "         [255, 255, 255],\n",
       "         [255, 255, 255],\n",
       "         [255, 255, 255]],\n",
       "\n",
       "        [[255, 255, 255],\n",
       "         [253, 253, 253],\n",
       "         [253, 253, 253],\n",
       "         ...,\n",
       "         [253, 253, 253],\n",
       "         [253, 253, 253],\n",
       "         [255, 255, 255]]],\n",
       "\n",
       "\n",
       "       [[[250, 250, 248],\n",
       "         [248, 249, 243],\n",
       "         [247, 248, 239],\n",
       "         ...,\n",
       "         [250, 250, 246],\n",
       "         [250, 250, 246],\n",
       "         [249, 250, 246]],\n",
       "\n",
       "        [[250, 251, 245],\n",
       "         [248, 249, 238],\n",
       "         [247, 247, 234],\n",
       "         ...,\n",
       "         [251, 251, 242],\n",
       "         [251, 252, 243],\n",
       "         [250, 251, 243]],\n",
       "\n",
       "        [[251, 251, 244],\n",
       "         [250, 248, 237],\n",
       "         [250, 245, 233],\n",
       "         ...,\n",
       "         [250, 249, 238],\n",
       "         [250, 249, 240],\n",
       "         [250, 249, 242]],\n",
       "\n",
       "        ...,\n",
       "\n",
       "        [[221, 213, 191],\n",
       "         [221, 206, 176],\n",
       "         [225, 207, 181],\n",
       "         ...,\n",
       "         [199, 176, 134],\n",
       "         [207, 193, 165],\n",
       "         [233, 229, 226]],\n",
       "\n",
       "        [[225, 223, 204],\n",
       "         [227, 219, 196],\n",
       "         [229, 216, 200],\n",
       "         ...,\n",
       "         [204, 185, 151],\n",
       "         [212, 201, 180],\n",
       "         [234, 232, 228]],\n",
       "\n",
       "        [[233, 233, 226],\n",
       "         [234, 232, 224],\n",
       "         [235, 230, 225],\n",
       "         ...,\n",
       "         [219, 209, 194],\n",
       "         [223, 216, 207],\n",
       "         [232, 230, 228]]],\n",
       "\n",
       "\n",
       "       ...,\n",
       "\n",
       "\n",
       "       [[[248, 244, 242],\n",
       "         [240, 232, 223],\n",
       "         [236, 232, 223],\n",
       "         ...,\n",
       "         [233, 229, 222],\n",
       "         [230, 228, 222],\n",
       "         [238, 237, 233]],\n",
       "\n",
       "        [[225, 213, 204],\n",
       "         [186, 167, 149],\n",
       "         [175, 159, 140],\n",
       "         ...,\n",
       "         [163, 148, 134],\n",
       "         [156, 144, 133],\n",
       "         [192, 184, 176]],\n",
       "\n",
       "        [[209, 194, 179],\n",
       "         [144, 120,  95],\n",
       "         [139, 115,  87],\n",
       "         ...,\n",
       "         [109,  86,  67],\n",
       "         [109,  90,  76],\n",
       "         [157, 145, 135]],\n",
       "\n",
       "        ...,\n",
       "\n",
       "        [[161, 159, 153],\n",
       "         [ 39,  34,  28],\n",
       "         [ 28,  20,  14],\n",
       "         ...,\n",
       "         [ 93,  72,  53],\n",
       "         [ 85,  67,  50],\n",
       "         [136, 126, 115]],\n",
       "\n",
       "        [[181, 179, 172],\n",
       "         [ 86,  83,  77],\n",
       "         [ 71,  68,  62],\n",
       "         ...,\n",
       "         [122, 103,  89],\n",
       "         [105,  92,  82],\n",
       "         [151, 145, 141]],\n",
       "\n",
       "        [[224, 223, 218],\n",
       "         [180, 180, 175],\n",
       "         [173, 172, 167],\n",
       "         ...,\n",
       "         [196, 187, 180],\n",
       "         [183, 178, 174],\n",
       "         [204, 205, 205]]],\n",
       "\n",
       "\n",
       "       [[[156, 154, 137],\n",
       "         [151, 146, 123],\n",
       "         [151, 144, 125],\n",
       "         ...,\n",
       "         [155, 150, 129],\n",
       "         [152, 148, 125],\n",
       "         [186, 184, 163]],\n",
       "\n",
       "        [[110, 106,  77],\n",
       "         [116, 108,  62],\n",
       "         [114, 101,  57],\n",
       "         ...,\n",
       "         [116, 106,  61],\n",
       "         [111, 103,  56],\n",
       "         [134, 129,  92]],\n",
       "\n",
       "        [[116, 112,  82],\n",
       "         [124, 118,  66],\n",
       "         [128, 118,  67],\n",
       "         ...,\n",
       "         [ 99,  84,  43],\n",
       "         [101,  87,  43],\n",
       "         [129, 118,  86]],\n",
       "\n",
       "        ...,\n",
       "\n",
       "        [[109, 101,  74],\n",
       "         [112, 100,  54],\n",
       "         [118, 105,  62],\n",
       "         ...,\n",
       "         [126, 113,  65],\n",
       "         [126, 111,  61],\n",
       "         [138, 124,  89]],\n",
       "\n",
       "        [[ 98,  92,  63],\n",
       "         [ 93,  82,  35],\n",
       "         [ 96,  83,  38],\n",
       "         ...,\n",
       "         [112,  96,  47],\n",
       "         [109,  92,  45],\n",
       "         [127, 113,  80]],\n",
       "\n",
       "        [[170, 167, 145],\n",
       "         [160, 153, 118],\n",
       "         [163, 152, 119],\n",
       "         ...,\n",
       "         [161, 151, 114],\n",
       "         [156, 144, 107],\n",
       "         [163, 154, 126]]],\n",
       "\n",
       "\n",
       "       [[[ 31,  67, 122],\n",
       "         [ 30,  68, 124],\n",
       "         [ 31,  69, 126],\n",
       "         ...,\n",
       "         [ 32,  70, 129],\n",
       "         [ 32,  70, 125],\n",
       "         [ 32,  69, 122]],\n",
       "\n",
       "        [[ 29,  68, 126],\n",
       "         [ 28,  69, 128],\n",
       "         [ 30,  69, 130],\n",
       "         ...,\n",
       "         [ 32,  70, 131],\n",
       "         [ 32,  69, 127],\n",
       "         [ 31,  69, 124]],\n",
       "\n",
       "        [[ 30,  67, 126],\n",
       "         [ 29,  68, 128],\n",
       "         [ 30,  69, 130],\n",
       "         ...,\n",
       "         [ 32,  72, 132],\n",
       "         [ 31,  70, 130],\n",
       "         [ 30,  69, 127]],\n",
       "\n",
       "        ...,\n",
       "\n",
       "        [[ 39,  41,  76],\n",
       "         [ 38,  42,  76],\n",
       "         [ 38,  44,  78],\n",
       "         ...,\n",
       "         [ 39,  44,  79],\n",
       "         [ 38,  42,  77],\n",
       "         [ 39,  41,  76]],\n",
       "\n",
       "        [[ 40,  39,  73],\n",
       "         [ 39,  40,  74],\n",
       "         [ 39,  41,  76],\n",
       "         ...,\n",
       "         [ 39,  41,  76],\n",
       "         [ 40,  41,  74],\n",
       "         [ 40,  39,  73]],\n",
       "\n",
       "        [[ 40,  39,  70],\n",
       "         [ 40,  39,  71],\n",
       "         [ 40,  39,  72],\n",
       "         ...,\n",
       "         [ 41,  38,  72],\n",
       "         [ 39,  38,  69],\n",
       "         [ 40,  37,  67]]]], dtype=uint8)"
      ]
     },
     "execution_count": 22,
     "metadata": {},
     "output_type": "execute_result"
    }
   ],
   "source": [
    "X_train"
   ]
  },
  {
   "cell_type": "markdown",
   "metadata": {
    "id": "fXqz6xijQIoR"
   },
   "source": [
    "### Structure Predictions method"
   ]
  },
  {
   "cell_type": "markdown",
   "metadata": {
    "id": "jNsSBqkXQIoS"
   },
   "source": [
    "We procceed to create execute the Structure predictions method in order to identify differences and get some conclusions."
   ]
  },
  {
   "cell_type": "code",
   "execution_count": 11,
   "metadata": {
    "id": "s-hlhI_4QIoS"
   },
   "outputs": [],
   "source": [
    "from stpredictions.models.IOKR.model import IOKR\n"
   ]
  },
  {
   "cell_type": "markdown",
   "metadata": {},
   "source": [
    "Here we implement the class IOKR2 due to some issues:"
   ]
  },
  {
   "cell_type": "code",
   "execution_count": 36,
   "metadata": {
    "id": "kTQRbhPHo23E"
   },
   "outputs": [],
   "source": [
    "# Implementation\n",
    "import time\n",
    "# from sklearn.model_selection import KFold\n",
    "from sklearn.metrics.pairwise import linear_kernel, polynomial_kernel, rbf_kernel\n",
    "# from sklearn.metrics import f1_score\n",
    "import numpy as np\n",
    "# import pandas as pd\n",
    "# from stpredictions.datasets.load_data import load_bibtex\n",
    "# from sklearn.model_selection import train_test_split\n",
    "# import arff\n",
    "from numpy.linalg import inv\n",
    "# import os\n",
    "\n",
    "# from line_profiler import LineProfiler\n",
    "\n",
    "\"\"\"\n",
    "Created on December 12, 2021\n",
    "\"\"\"\n",
    "\n",
    "\n",
    "class IOKR2:\n",
    "    \"\"\"\n",
    "    Class used to apply Input and Output Kernel Regression\n",
    "    \"\"\"\n",
    "\n",
    "    \n",
    "    def __init__(self):\n",
    "        \"\"\"\n",
    "        Initialization of the below parameters.\n",
    "        Parameters\n",
    "        ----------\n",
    "        X_train :  sparse matrix - containing explanatory variables of the train set\n",
    "        Y_train: sparse matrix - containing target variable of the train set\n",
    "        Ky: output scalar kernel\n",
    "        M: gram matrix on training set\n",
    "        verbose: binary - display more parameters\n",
    "        linear:\n",
    "        \"\"\"\n",
    "        self.X_train = None\n",
    "        self.Y_train = None\n",
    "        self.Ky = None\n",
    "        self.M = None\n",
    "        self.verbose = 0\n",
    "        self.input_kernel = None\n",
    "        self.output_kernel = None\n",
    "\n",
    "  \n",
    "    def fit(self, X, Y, L, input_kernel='linear', input_kernel_param=None):\n",
    "        \"\"\"\n",
    "        Model Fitting\n",
    "        \"\"\"\n",
    "\n",
    "        # save input and output training data\n",
    "        self.X_train, self.Y_train = X, Y\n",
    "\n",
    "        # instantiate input kernel parameter when not given\n",
    "        if input_kernel_param is None:\n",
    "            if input_kernel == 'rbf':\n",
    "                input_kernel_param = 1.\n",
    "            elif input_kernel == 'polynomial':\n",
    "                input_kernel_param = [3, None, 1]\n",
    "\n",
    "        # define input kernel\n",
    "        if input_kernel == 'linear':\n",
    "            self.input_kernel = lambda A, B: linear_kernel(A, B)\n",
    "        elif input_kernel == 'polynomial':\n",
    "            self.input_kernel = lambda A, B: polynomial_kernel(A, B, degree=input_kernel_param[0],\n",
    "                                                               gamma=input_kernel_param[1], coef0=input_kernel_param[2])\n",
    "        elif input_kernel == 'rbf':\n",
    "            self.input_kernel = lambda A, B: rbf_kernel(A, B, gamma=input_kernel_param)\n",
    "        else:\n",
    "            self.input_kernel = input_kernel\n",
    "\n",
    "        # compute input gram matrix\n",
    "        Kx = self.input_kernel(X, X)\n",
    "\n",
    "        # kernel ridge regression training computation: n x n matrix inversion\n",
    "        t0 = time.time()\n",
    "        n = Kx.shape[0]\n",
    "        self.M = np.linalg.inv(Kx + n * L * np.eye(n))\n",
    "        if self.verbose > 0:\n",
    "            print(f'Fitting time: {time.time() - t0} in s')\n",
    "\n",
    "    def alpha(self, X_test):\n",
    "\n",
    "        Kx = self.input_kernel(self.X_train, X_test)\n",
    "        A = self.M.dot(Kx)\n",
    "\n",
    "        return A\n",
    "\n",
    "\n",
    "    def predict(self, X_test, Y_candidates, output_kernel='linear', output_kernel_param=None):\n",
    "\n",
    "        \"\"\"\n",
    "        Model Prediction\n",
    "        \"\"\"\n",
    "\n",
    "        # instantiate output kernel parameter when not given\n",
    "        if output_kernel_param is None:\n",
    "            if output_kernel == 'rbf':\n",
    "                output_kernel_param = 1.\n",
    "            elif output_kernel == 'polynomial':\n",
    "                output_kernel_param = [3, None, 1]\n",
    "\n",
    "        # define output kernel\n",
    "        if output_kernel == 'linear':\n",
    "            self.output_kernel = lambda A, B: linear_kernel(A, B)\n",
    "        elif output_kernel == 'polynomial':\n",
    "            self.output_kernel = lambda A, B: polynomial_kernel(A, B, degree=output_kernel_param[0],\n",
    "                                                                gamma=output_kernel_param[1],\n",
    "                                                                coef0=output_kernel_param[2])\n",
    "        elif output_kernel == 'rbf':\n",
    "            self.output_kernel = lambda A, B: rbf_kernel(A, B, gamma=output_kernel_param)\n",
    "        else:\n",
    "            self.output_kernel = output_kernel\n",
    "\n",
    "        # compute output gram matrix\n",
    "        Ky = self.output_kernel(self.Y_train, Y_candidates)\n",
    "\n",
    "        # compute prediction\n",
    "        t0 = time.time()\n",
    "        Alpha = self.alpha(X_test)\n",
    "        scores = Ky.transpose().dot(Alpha)\n",
    "        idx_pred = np.argmax(scores, axis=0)\n",
    "        Y_pred = Y_candidates[idx_pred]\n",
    "        if self.verbose > 0:\n",
    "            print(f'Decoding time: {time.time() - t0} in s')\n",
    "\n",
    "        return Ky,Alpha,scores,idx_pred,Y_pred\n",
    "\n",
    "\n"
   ]
  },
  {
   "cell_type": "code",
   "execution_count": 39,
   "metadata": {
    "id": "fwbTG1P7H_r1"
   },
   "outputs": [],
   "source": [
    "nb_class=100"
   ]
  },
  {
   "cell_type": "code",
   "execution_count": 25,
   "metadata": {
    "id": "f9sGKI98QIoS"
   },
   "outputs": [],
   "source": [
    "sp_start_time= time.time()"
   ]
  },
  {
   "cell_type": "code",
   "execution_count": 37,
   "metadata": {
    "colab": {
     "base_uri": "https://localhost:8080/"
    },
    "id": "_IIIQniUfvC-",
    "outputId": "4a648a55-5586-4f76-ad1d-8ca73f73ba93",
    "scrolled": true
   },
   "outputs": [
    {
     "name": "stdout",
     "output_type": "stream",
     "text": [
      "(50000, 1)\n",
      "(10000, 1)\n",
      "(50000, 1)\n",
      "(10000, 1)\n"
     ]
    }
   ],
   "source": [
    "print(X_train_rshp.shape)\n",
    "print(X_test_rshp.shape)\n",
    "print(Y_train.shape)\n",
    "print(Y_test.shape)"
   ]
  },
  {
   "cell_type": "code",
   "execution_count": 40,
   "metadata": {
    "id": "qGwFASlOIEbr"
   },
   "outputs": [
    {
     "ename": "IndexError",
     "evalue": "only integers, slices (`:`), ellipsis (`...`), numpy.newaxis (`None`) and integer or boolean arrays are valid indices",
     "output_type": "error",
     "traceback": [
      "\u001b[0;31m---------------------------------------------------------------------------\u001b[0m",
      "\u001b[0;31mIndexError\u001b[0m                                Traceback (most recent call last)",
      "\u001b[1;32m/home/daniel/Documents/AA_Télécom/HiParis/Project/PROJECT/structured-predictions/stpredictions/datasets/100-EnComparison.ipynb Cell 46\u001b[0m in \u001b[0;36m<cell line: 3>\u001b[0;34m()\u001b[0m\n\u001b[1;32m      <a href='vscode-notebook-cell:/home/daniel/Documents/AA_T%C3%A9l%C3%A9com/HiParis/Project/PROJECT/structured-predictions/stpredictions/datasets/100-EnComparison.ipynb#X64sZmlsZQ%3D%3D?line=1'>2</a>\u001b[0m Y_tes\u001b[39m=\u001b[39mnp\u001b[39m.\u001b[39mzeros([\u001b[39mlen\u001b[39m(Y_test),nb_class])\n\u001b[1;32m      <a href='vscode-notebook-cell:/home/daniel/Documents/AA_T%C3%A9l%C3%A9com/HiParis/Project/PROJECT/structured-predictions/stpredictions/datasets/100-EnComparison.ipynb#X64sZmlsZQ%3D%3D?line=2'>3</a>\u001b[0m \u001b[39mfor\u001b[39;00m t \u001b[39min\u001b[39;00m \u001b[39mrange\u001b[39m(\u001b[39mlen\u001b[39m(Y_train)):\n\u001b[0;32m----> <a href='vscode-notebook-cell:/home/daniel/Documents/AA_T%C3%A9l%C3%A9com/HiParis/Project/PROJECT/structured-predictions/stpredictions/datasets/100-EnComparison.ipynb#X64sZmlsZQ%3D%3D?line=3'>4</a>\u001b[0m   Y_tra[t][Y_train[t][\u001b[39m0\u001b[39m]]\u001b[39m=\u001b[39m\u001b[39m1\u001b[39m\n\u001b[1;32m      <a href='vscode-notebook-cell:/home/daniel/Documents/AA_T%C3%A9l%C3%A9com/HiParis/Project/PROJECT/structured-predictions/stpredictions/datasets/100-EnComparison.ipynb#X64sZmlsZQ%3D%3D?line=4'>5</a>\u001b[0m \u001b[39mfor\u001b[39;00m t \u001b[39min\u001b[39;00m \u001b[39mrange\u001b[39m(\u001b[39mlen\u001b[39m(Y_test)):\n\u001b[1;32m      <a href='vscode-notebook-cell:/home/daniel/Documents/AA_T%C3%A9l%C3%A9com/HiParis/Project/PROJECT/structured-predictions/stpredictions/datasets/100-EnComparison.ipynb#X64sZmlsZQ%3D%3D?line=5'>6</a>\u001b[0m   Y_tes[t][Y_test[t][\u001b[39m0\u001b[39m]]\u001b[39m=\u001b[39m\u001b[39m1\u001b[39m\n",
      "\u001b[0;31mIndexError\u001b[0m: only integers, slices (`:`), ellipsis (`...`), numpy.newaxis (`None`) and integer or boolean arrays are valid indices"
     ]
    }
   ],
   "source": [
    "Y_tra=np.zeros([len(Y_train),nb_class])\n",
    "Y_tes=np.zeros([len(Y_test),nb_class])\n",
    "for t in range(len(Y_train)):\n",
    "  Y_tra[t][Y_train[t][0]]=1\n",
    "for t in range(len(Y_test)):\n",
    "  Y_tes[t][Y_test[t][0]]=1"
   ]
  },
  {
   "cell_type": "code",
   "execution_count": 41,
   "metadata": {
    "colab": {
     "base_uri": "https://localhost:8080/"
    },
    "id": "tQQREqnlQIoS",
    "outputId": "77f2058a-5485-42f6-afd3-2f9e489df5e8"
   },
   "outputs": [
    {
     "ename": "ValueError",
     "evalue": "could not convert string to float: \"b'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'\"",
     "output_type": "error",
     "traceback": [
      "\u001b[0;31m---------------------------------------------------------------------------\u001b[0m",
      "\u001b[0;31mValueError\u001b[0m                                Traceback (most recent call last)",
      "\u001b[1;32m/home/daniel/Documents/AA_Télécom/HiParis/Project/PROJECT/structured-predictions/stpredictions/datasets/100-EnComparison.ipynb Cell 47\u001b[0m in \u001b[0;36m<cell line: 5>\u001b[0;34m()\u001b[0m\n\u001b[1;32m      <a href='vscode-notebook-cell:/home/daniel/Documents/AA_T%C3%A9l%C3%A9com/HiParis/Project/PROJECT/structured-predictions/stpredictions/datasets/100-EnComparison.ipynb#X65sZmlsZQ%3D%3D?line=2'>3</a>\u001b[0m L \u001b[39m=\u001b[39m\u001b[39m1e-6\u001b[39m\n\u001b[1;32m      <a href='vscode-notebook-cell:/home/daniel/Documents/AA_T%C3%A9l%C3%A9com/HiParis/Project/PROJECT/structured-predictions/stpredictions/datasets/100-EnComparison.ipynb#X65sZmlsZQ%3D%3D?line=3'>4</a>\u001b[0m \u001b[39m#Just using a quantity of 100 due to a shape problem \u001b[39;00m\n\u001b[0;32m----> <a href='vscode-notebook-cell:/home/daniel/Documents/AA_T%C3%A9l%C3%A9com/HiParis/Project/PROJECT/structured-predictions/stpredictions/datasets/100-EnComparison.ipynb#X65sZmlsZQ%3D%3D?line=4'>5</a>\u001b[0m clf\u001b[39m.\u001b[39;49mfit(X\u001b[39m=\u001b[39;49mX_train_rshp[\u001b[39m0\u001b[39;49m:\u001b[39m100\u001b[39;49m], Y\u001b[39m=\u001b[39;49mY_tra[\u001b[39m0\u001b[39;49m:\u001b[39m100\u001b[39;49m], L\u001b[39m=\u001b[39;49mL, input_kernel\u001b[39m=\u001b[39;49m\u001b[39m'\u001b[39;49m\u001b[39mlinear\u001b[39;49m\u001b[39m'\u001b[39;49m)\n\u001b[1;32m      <a href='vscode-notebook-cell:/home/daniel/Documents/AA_T%C3%A9l%C3%A9com/HiParis/Project/PROJECT/structured-predictions/stpredictions/datasets/100-EnComparison.ipynb#X65sZmlsZQ%3D%3D?line=5'>6</a>\u001b[0m Ky,Alpha,scores,idx_pred,Y_pred_test \u001b[39m=\u001b[39m clf\u001b[39m.\u001b[39mpredict(X_test\u001b[39m=\u001b[39mX_test_rshp, Y_candidates\u001b[39m=\u001b[39mnp\u001b[39m.\u001b[39meye(\u001b[39m100\u001b[39m))\n\u001b[1;32m      <a href='vscode-notebook-cell:/home/daniel/Documents/AA_T%C3%A9l%C3%A9com/HiParis/Project/PROJECT/structured-predictions/stpredictions/datasets/100-EnComparison.ipynb#X65sZmlsZQ%3D%3D?line=6'>7</a>\u001b[0m \u001b[39m#f1_test_st = f1_score(Y_pred_test, Y_test, average='weighted')\u001b[39;00m\n\u001b[1;32m      <a href='vscode-notebook-cell:/home/daniel/Documents/AA_T%C3%A9l%C3%A9com/HiParis/Project/PROJECT/structured-predictions/stpredictions/datasets/100-EnComparison.ipynb#X65sZmlsZQ%3D%3D?line=7'>8</a>\u001b[0m \u001b[39m#print( \"Test f1 score:\", f1_test_st)\u001b[39;00m\n",
      "\u001b[1;32m/home/daniel/Documents/AA_Télécom/HiParis/Project/PROJECT/structured-predictions/stpredictions/datasets/100-EnComparison.ipynb Cell 47\u001b[0m in \u001b[0;36mIOKR2.fit\u001b[0;34m(self, X, Y, L, input_kernel, input_kernel_param)\u001b[0m\n\u001b[1;32m     <a href='vscode-notebook-cell:/home/daniel/Documents/AA_T%C3%A9l%C3%A9com/HiParis/Project/PROJECT/structured-predictions/stpredictions/datasets/100-EnComparison.ipynb#X65sZmlsZQ%3D%3D?line=71'>72</a>\u001b[0m     \u001b[39mself\u001b[39m\u001b[39m.\u001b[39minput_kernel \u001b[39m=\u001b[39m input_kernel\n\u001b[1;32m     <a href='vscode-notebook-cell:/home/daniel/Documents/AA_T%C3%A9l%C3%A9com/HiParis/Project/PROJECT/structured-predictions/stpredictions/datasets/100-EnComparison.ipynb#X65sZmlsZQ%3D%3D?line=73'>74</a>\u001b[0m \u001b[39m# compute input gram matrix\u001b[39;00m\n\u001b[0;32m---> <a href='vscode-notebook-cell:/home/daniel/Documents/AA_T%C3%A9l%C3%A9com/HiParis/Project/PROJECT/structured-predictions/stpredictions/datasets/100-EnComparison.ipynb#X65sZmlsZQ%3D%3D?line=74'>75</a>\u001b[0m Kx \u001b[39m=\u001b[39m \u001b[39mself\u001b[39;49m\u001b[39m.\u001b[39;49minput_kernel(X, X)\n\u001b[1;32m     <a href='vscode-notebook-cell:/home/daniel/Documents/AA_T%C3%A9l%C3%A9com/HiParis/Project/PROJECT/structured-predictions/stpredictions/datasets/100-EnComparison.ipynb#X65sZmlsZQ%3D%3D?line=76'>77</a>\u001b[0m \u001b[39m# kernel ridge regression training computation: n x n matrix inversion\u001b[39;00m\n\u001b[1;32m     <a href='vscode-notebook-cell:/home/daniel/Documents/AA_T%C3%A9l%C3%A9com/HiParis/Project/PROJECT/structured-predictions/stpredictions/datasets/100-EnComparison.ipynb#X65sZmlsZQ%3D%3D?line=77'>78</a>\u001b[0m t0 \u001b[39m=\u001b[39m time\u001b[39m.\u001b[39mtime()\n",
      "\u001b[1;32m/home/daniel/Documents/AA_Télécom/HiParis/Project/PROJECT/structured-predictions/stpredictions/datasets/100-EnComparison.ipynb Cell 47\u001b[0m in \u001b[0;36mIOKR2.fit.<locals>.<lambda>\u001b[0;34m(A, B)\u001b[0m\n\u001b[1;32m     <a href='vscode-notebook-cell:/home/daniel/Documents/AA_T%C3%A9l%C3%A9com/HiParis/Project/PROJECT/structured-predictions/stpredictions/datasets/100-EnComparison.ipynb#X65sZmlsZQ%3D%3D?line=62'>63</a>\u001b[0m \u001b[39m# define input kernel\u001b[39;00m\n\u001b[1;32m     <a href='vscode-notebook-cell:/home/daniel/Documents/AA_T%C3%A9l%C3%A9com/HiParis/Project/PROJECT/structured-predictions/stpredictions/datasets/100-EnComparison.ipynb#X65sZmlsZQ%3D%3D?line=63'>64</a>\u001b[0m \u001b[39mif\u001b[39;00m input_kernel \u001b[39m==\u001b[39m \u001b[39m'\u001b[39m\u001b[39mlinear\u001b[39m\u001b[39m'\u001b[39m:\n\u001b[0;32m---> <a href='vscode-notebook-cell:/home/daniel/Documents/AA_T%C3%A9l%C3%A9com/HiParis/Project/PROJECT/structured-predictions/stpredictions/datasets/100-EnComparison.ipynb#X65sZmlsZQ%3D%3D?line=64'>65</a>\u001b[0m     \u001b[39mself\u001b[39m\u001b[39m.\u001b[39minput_kernel \u001b[39m=\u001b[39m \u001b[39mlambda\u001b[39;00m A, B: linear_kernel(A, B)\n\u001b[1;32m     <a href='vscode-notebook-cell:/home/daniel/Documents/AA_T%C3%A9l%C3%A9com/HiParis/Project/PROJECT/structured-predictions/stpredictions/datasets/100-EnComparison.ipynb#X65sZmlsZQ%3D%3D?line=65'>66</a>\u001b[0m \u001b[39melif\u001b[39;00m input_kernel \u001b[39m==\u001b[39m \u001b[39m'\u001b[39m\u001b[39mpolynomial\u001b[39m\u001b[39m'\u001b[39m:\n\u001b[1;32m     <a href='vscode-notebook-cell:/home/daniel/Documents/AA_T%C3%A9l%C3%A9com/HiParis/Project/PROJECT/structured-predictions/stpredictions/datasets/100-EnComparison.ipynb#X65sZmlsZQ%3D%3D?line=66'>67</a>\u001b[0m     \u001b[39mself\u001b[39m\u001b[39m.\u001b[39minput_kernel \u001b[39m=\u001b[39m \u001b[39mlambda\u001b[39;00m A, B: polynomial_kernel(A, B, degree\u001b[39m=\u001b[39minput_kernel_param[\u001b[39m0\u001b[39m],\n\u001b[1;32m     <a href='vscode-notebook-cell:/home/daniel/Documents/AA_T%C3%A9l%C3%A9com/HiParis/Project/PROJECT/structured-predictions/stpredictions/datasets/100-EnComparison.ipynb#X65sZmlsZQ%3D%3D?line=67'>68</a>\u001b[0m                                                        gamma\u001b[39m=\u001b[39minput_kernel_param[\u001b[39m1\u001b[39m], coef0\u001b[39m=\u001b[39minput_kernel_param[\u001b[39m2\u001b[39m])\n",
      "File \u001b[0;32m~/anaconda3/lib/python3.9/site-packages/sklearn/metrics/pairwise.py:1072\u001b[0m, in \u001b[0;36mlinear_kernel\u001b[0;34m(X, Y, dense_output)\u001b[0m\n\u001b[1;32m   1047\u001b[0m \u001b[39mdef\u001b[39;00m \u001b[39mlinear_kernel\u001b[39m(X, Y\u001b[39m=\u001b[39m\u001b[39mNone\u001b[39;00m, dense_output\u001b[39m=\u001b[39m\u001b[39mTrue\u001b[39;00m):\n\u001b[1;32m   1048\u001b[0m     \u001b[39m\"\"\"\u001b[39;00m\n\u001b[1;32m   1049\u001b[0m \u001b[39m    Compute the linear kernel between X and Y.\u001b[39;00m\n\u001b[1;32m   1050\u001b[0m \n\u001b[0;32m   (...)\u001b[0m\n\u001b[1;32m   1070\u001b[0m \u001b[39m        The Gram matrix of the linear kernel, i.e. `X @ Y.T`.\u001b[39;00m\n\u001b[1;32m   1071\u001b[0m \u001b[39m    \"\"\"\u001b[39;00m\n\u001b[0;32m-> 1072\u001b[0m     X, Y \u001b[39m=\u001b[39m check_pairwise_arrays(X, Y)\n\u001b[1;32m   1073\u001b[0m     \u001b[39mreturn\u001b[39;00m safe_sparse_dot(X, Y\u001b[39m.\u001b[39mT, dense_output\u001b[39m=\u001b[39mdense_output)\n",
      "File \u001b[0;32m~/anaconda3/lib/python3.9/site-packages/sklearn/metrics/pairwise.py:147\u001b[0m, in \u001b[0;36mcheck_pairwise_arrays\u001b[0;34m(X, Y, precomputed, dtype, accept_sparse, force_all_finite, copy)\u001b[0m\n\u001b[1;32m    144\u001b[0m     dtype \u001b[39m=\u001b[39m dtype_float\n\u001b[1;32m    146\u001b[0m \u001b[39mif\u001b[39;00m Y \u001b[39mis\u001b[39;00m X \u001b[39mor\u001b[39;00m Y \u001b[39mis\u001b[39;00m \u001b[39mNone\u001b[39;00m:\n\u001b[0;32m--> 147\u001b[0m     X \u001b[39m=\u001b[39m Y \u001b[39m=\u001b[39m check_array(\n\u001b[1;32m    148\u001b[0m         X,\n\u001b[1;32m    149\u001b[0m         accept_sparse\u001b[39m=\u001b[39;49maccept_sparse,\n\u001b[1;32m    150\u001b[0m         dtype\u001b[39m=\u001b[39;49mdtype,\n\u001b[1;32m    151\u001b[0m         copy\u001b[39m=\u001b[39;49mcopy,\n\u001b[1;32m    152\u001b[0m         force_all_finite\u001b[39m=\u001b[39;49mforce_all_finite,\n\u001b[1;32m    153\u001b[0m         estimator\u001b[39m=\u001b[39;49mestimator,\n\u001b[1;32m    154\u001b[0m     )\n\u001b[1;32m    155\u001b[0m \u001b[39melse\u001b[39;00m:\n\u001b[1;32m    156\u001b[0m     X \u001b[39m=\u001b[39m check_array(\n\u001b[1;32m    157\u001b[0m         X,\n\u001b[1;32m    158\u001b[0m         accept_sparse\u001b[39m=\u001b[39maccept_sparse,\n\u001b[0;32m   (...)\u001b[0m\n\u001b[1;32m    162\u001b[0m         estimator\u001b[39m=\u001b[39mestimator,\n\u001b[1;32m    163\u001b[0m     )\n",
      "File \u001b[0;32m~/anaconda3/lib/python3.9/site-packages/sklearn/utils/validation.py:746\u001b[0m, in \u001b[0;36mcheck_array\u001b[0;34m(array, accept_sparse, accept_large_sparse, dtype, order, copy, force_all_finite, ensure_2d, allow_nd, ensure_min_samples, ensure_min_features, estimator)\u001b[0m\n\u001b[1;32m    744\u001b[0m         array \u001b[39m=\u001b[39m array\u001b[39m.\u001b[39mastype(dtype, casting\u001b[39m=\u001b[39m\u001b[39m\"\u001b[39m\u001b[39munsafe\u001b[39m\u001b[39m\"\u001b[39m, copy\u001b[39m=\u001b[39m\u001b[39mFalse\u001b[39;00m)\n\u001b[1;32m    745\u001b[0m     \u001b[39melse\u001b[39;00m:\n\u001b[0;32m--> 746\u001b[0m         array \u001b[39m=\u001b[39m np\u001b[39m.\u001b[39;49masarray(array, order\u001b[39m=\u001b[39;49morder, dtype\u001b[39m=\u001b[39;49mdtype)\n\u001b[1;32m    747\u001b[0m \u001b[39mexcept\u001b[39;00m ComplexWarning \u001b[39mas\u001b[39;00m complex_warning:\n\u001b[1;32m    748\u001b[0m     \u001b[39mraise\u001b[39;00m \u001b[39mValueError\u001b[39;00m(\n\u001b[1;32m    749\u001b[0m         \u001b[39m\"\u001b[39m\u001b[39mComplex data not supported\u001b[39m\u001b[39m\\n\u001b[39;00m\u001b[39m{}\u001b[39;00m\u001b[39m\\n\u001b[39;00m\u001b[39m\"\u001b[39m\u001b[39m.\u001b[39mformat(array)\n\u001b[1;32m    750\u001b[0m     ) \u001b[39mfrom\u001b[39;00m \u001b[39mcomplex_warning\u001b[39;00m\n",
      "\u001b[0;31mValueError\u001b[0m: could not convert string to float: \"b'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'\""
     ]
    }
   ],
   "source": [
    "clf = IOKR2()\n",
    "clf.verbose = 1\n",
    "L =1e-6\n",
    "#Just using a quantity of 100 due to a shape problem \n",
    "clf.fit(X=X_train_rshp[0:100], Y=Y_tra[0:100], L=L, input_kernel='linear')\n",
    "Ky,Alpha,scores,idx_pred,Y_pred_test = clf.predict(X_test=X_test_rshp, Y_candidates=np.eye(100))\n",
    "#f1_test_st = f1_score(Y_pred_test, Y_test, average='weighted')\n",
    "#print( \"Test f1 score:\", f1_test_st)\n",
    "print(Y_pred_test[1])"
   ]
  },
  {
   "cell_type": "code",
   "execution_count": 44,
   "metadata": {},
   "outputs": [
    {
     "data": {
      "text/plain": [
       "array([[0., 0., 0., ..., 0., 0., 0.],\n",
       "       [0., 0., 0., ..., 0., 0., 0.],\n",
       "       [0., 0., 0., ..., 0., 0., 0.],\n",
       "       ...,\n",
       "       [0., 0., 0., ..., 0., 0., 0.],\n",
       "       [0., 0., 0., ..., 0., 0., 0.],\n",
       "       [0., 0., 0., ..., 0., 0., 0.]])"
      ]
     },
     "execution_count": 44,
     "metadata": {},
     "output_type": "execute_result"
    }
   ],
   "source": [
    "Y_pred_test"
   ]
  },
  {
   "cell_type": "code",
   "execution_count": 45,
   "metadata": {
    "id": "jIKtM_VQLme_"
   },
   "outputs": [],
   "source": [
    "y_res_fin=np.argmax(Y_tes,axis=1)"
   ]
  },
  {
   "cell_type": "code",
   "execution_count": 46,
   "metadata": {
    "id": "7apeKdynLq3f"
   },
   "outputs": [],
   "source": [
    "y_test_fin=np.argmax(Y_pred_test,axis=1)"
   ]
  },
  {
   "cell_type": "code",
   "execution_count": 47,
   "metadata": {},
   "outputs": [
    {
     "data": {
      "text/plain": [
       "array([[[[255, 255, 255],\n",
       "         [255, 255, 255],\n",
       "         [255, 255, 255],\n",
       "         ...,\n",
       "         [195, 205, 193],\n",
       "         [212, 224, 204],\n",
       "         [182, 194, 167]],\n",
       "\n",
       "        [[255, 255, 255],\n",
       "         [254, 254, 254],\n",
       "         [254, 254, 254],\n",
       "         ...,\n",
       "         [170, 176, 150],\n",
       "         [161, 168, 130],\n",
       "         [146, 154, 113]],\n",
       "\n",
       "        [[255, 255, 255],\n",
       "         [254, 254, 254],\n",
       "         [255, 255, 255],\n",
       "         ...,\n",
       "         [189, 199, 169],\n",
       "         [166, 178, 130],\n",
       "         [121, 133,  87]],\n",
       "\n",
       "        ...,\n",
       "\n",
       "        [[148, 185,  79],\n",
       "         [142, 182,  57],\n",
       "         [140, 179,  60],\n",
       "         ...,\n",
       "         [ 30,  17,   1],\n",
       "         [ 65,  62,  15],\n",
       "         [ 76,  77,  20]],\n",
       "\n",
       "        [[122, 157,  66],\n",
       "         [120, 155,  58],\n",
       "         [126, 160,  71],\n",
       "         ...,\n",
       "         [ 22,  16,   3],\n",
       "         [ 97, 112,  56],\n",
       "         [141, 161,  87]],\n",
       "\n",
       "        [[ 87, 122,  41],\n",
       "         [ 88, 122,  39],\n",
       "         [101, 134,  56],\n",
       "         ...,\n",
       "         [ 34,  36,  10],\n",
       "         [105, 133,  59],\n",
       "         [138, 173,  79]]],\n",
       "\n",
       "\n",
       "       [[[255, 255, 255],\n",
       "         [253, 253, 253],\n",
       "         [253, 253, 253],\n",
       "         ...,\n",
       "         [253, 253, 253],\n",
       "         [253, 253, 253],\n",
       "         [255, 255, 255]],\n",
       "\n",
       "        [[255, 255, 255],\n",
       "         [255, 255, 255],\n",
       "         [255, 255, 255],\n",
       "         ...,\n",
       "         [255, 255, 255],\n",
       "         [255, 255, 255],\n",
       "         [255, 255, 255]],\n",
       "\n",
       "        [[255, 255, 255],\n",
       "         [255, 255, 255],\n",
       "         [255, 255, 255],\n",
       "         ...,\n",
       "         [255, 255, 255],\n",
       "         [255, 255, 255],\n",
       "         [255, 255, 255]],\n",
       "\n",
       "        ...,\n",
       "\n",
       "        [[255, 255, 255],\n",
       "         [255, 255, 255],\n",
       "         [255, 255, 255],\n",
       "         ...,\n",
       "         [255, 255, 255],\n",
       "         [255, 255, 255],\n",
       "         [255, 255, 255]],\n",
       "\n",
       "        [[255, 255, 255],\n",
       "         [255, 255, 255],\n",
       "         [255, 255, 255],\n",
       "         ...,\n",
       "         [255, 255, 255],\n",
       "         [255, 255, 255],\n",
       "         [255, 255, 255]],\n",
       "\n",
       "        [[255, 255, 255],\n",
       "         [253, 253, 253],\n",
       "         [253, 253, 253],\n",
       "         ...,\n",
       "         [253, 253, 253],\n",
       "         [253, 253, 253],\n",
       "         [255, 255, 255]]],\n",
       "\n",
       "\n",
       "       [[[250, 250, 248],\n",
       "         [248, 249, 243],\n",
       "         [247, 248, 239],\n",
       "         ...,\n",
       "         [250, 250, 246],\n",
       "         [250, 250, 246],\n",
       "         [249, 250, 246]],\n",
       "\n",
       "        [[250, 251, 245],\n",
       "         [248, 249, 238],\n",
       "         [247, 247, 234],\n",
       "         ...,\n",
       "         [251, 251, 242],\n",
       "         [251, 252, 243],\n",
       "         [250, 251, 243]],\n",
       "\n",
       "        [[251, 251, 244],\n",
       "         [250, 248, 237],\n",
       "         [250, 245, 233],\n",
       "         ...,\n",
       "         [250, 249, 238],\n",
       "         [250, 249, 240],\n",
       "         [250, 249, 242]],\n",
       "\n",
       "        ...,\n",
       "\n",
       "        [[221, 213, 191],\n",
       "         [221, 206, 176],\n",
       "         [225, 207, 181],\n",
       "         ...,\n",
       "         [199, 176, 134],\n",
       "         [207, 193, 165],\n",
       "         [233, 229, 226]],\n",
       "\n",
       "        [[225, 223, 204],\n",
       "         [227, 219, 196],\n",
       "         [229, 216, 200],\n",
       "         ...,\n",
       "         [204, 185, 151],\n",
       "         [212, 201, 180],\n",
       "         [234, 232, 228]],\n",
       "\n",
       "        [[233, 233, 226],\n",
       "         [234, 232, 224],\n",
       "         [235, 230, 225],\n",
       "         ...,\n",
       "         [219, 209, 194],\n",
       "         [223, 216, 207],\n",
       "         [232, 230, 228]]],\n",
       "\n",
       "\n",
       "       ...,\n",
       "\n",
       "\n",
       "       [[[248, 244, 242],\n",
       "         [240, 232, 223],\n",
       "         [236, 232, 223],\n",
       "         ...,\n",
       "         [233, 229, 222],\n",
       "         [230, 228, 222],\n",
       "         [238, 237, 233]],\n",
       "\n",
       "        [[225, 213, 204],\n",
       "         [186, 167, 149],\n",
       "         [175, 159, 140],\n",
       "         ...,\n",
       "         [163, 148, 134],\n",
       "         [156, 144, 133],\n",
       "         [192, 184, 176]],\n",
       "\n",
       "        [[209, 194, 179],\n",
       "         [144, 120,  95],\n",
       "         [139, 115,  87],\n",
       "         ...,\n",
       "         [109,  86,  67],\n",
       "         [109,  90,  76],\n",
       "         [157, 145, 135]],\n",
       "\n",
       "        ...,\n",
       "\n",
       "        [[161, 159, 153],\n",
       "         [ 39,  34,  28],\n",
       "         [ 28,  20,  14],\n",
       "         ...,\n",
       "         [ 93,  72,  53],\n",
       "         [ 85,  67,  50],\n",
       "         [136, 126, 115]],\n",
       "\n",
       "        [[181, 179, 172],\n",
       "         [ 86,  83,  77],\n",
       "         [ 71,  68,  62],\n",
       "         ...,\n",
       "         [122, 103,  89],\n",
       "         [105,  92,  82],\n",
       "         [151, 145, 141]],\n",
       "\n",
       "        [[224, 223, 218],\n",
       "         [180, 180, 175],\n",
       "         [173, 172, 167],\n",
       "         ...,\n",
       "         [196, 187, 180],\n",
       "         [183, 178, 174],\n",
       "         [204, 205, 205]]],\n",
       "\n",
       "\n",
       "       [[[156, 154, 137],\n",
       "         [151, 146, 123],\n",
       "         [151, 144, 125],\n",
       "         ...,\n",
       "         [155, 150, 129],\n",
       "         [152, 148, 125],\n",
       "         [186, 184, 163]],\n",
       "\n",
       "        [[110, 106,  77],\n",
       "         [116, 108,  62],\n",
       "         [114, 101,  57],\n",
       "         ...,\n",
       "         [116, 106,  61],\n",
       "         [111, 103,  56],\n",
       "         [134, 129,  92]],\n",
       "\n",
       "        [[116, 112,  82],\n",
       "         [124, 118,  66],\n",
       "         [128, 118,  67],\n",
       "         ...,\n",
       "         [ 99,  84,  43],\n",
       "         [101,  87,  43],\n",
       "         [129, 118,  86]],\n",
       "\n",
       "        ...,\n",
       "\n",
       "        [[109, 101,  74],\n",
       "         [112, 100,  54],\n",
       "         [118, 105,  62],\n",
       "         ...,\n",
       "         [126, 113,  65],\n",
       "         [126, 111,  61],\n",
       "         [138, 124,  89]],\n",
       "\n",
       "        [[ 98,  92,  63],\n",
       "         [ 93,  82,  35],\n",
       "         [ 96,  83,  38],\n",
       "         ...,\n",
       "         [112,  96,  47],\n",
       "         [109,  92,  45],\n",
       "         [127, 113,  80]],\n",
       "\n",
       "        [[170, 167, 145],\n",
       "         [160, 153, 118],\n",
       "         [163, 152, 119],\n",
       "         ...,\n",
       "         [161, 151, 114],\n",
       "         [156, 144, 107],\n",
       "         [163, 154, 126]]],\n",
       "\n",
       "\n",
       "       [[[ 31,  67, 122],\n",
       "         [ 30,  68, 124],\n",
       "         [ 31,  69, 126],\n",
       "         ...,\n",
       "         [ 32,  70, 129],\n",
       "         [ 32,  70, 125],\n",
       "         [ 32,  69, 122]],\n",
       "\n",
       "        [[ 29,  68, 126],\n",
       "         [ 28,  69, 128],\n",
       "         [ 30,  69, 130],\n",
       "         ...,\n",
       "         [ 32,  70, 131],\n",
       "         [ 32,  69, 127],\n",
       "         [ 31,  69, 124]],\n",
       "\n",
       "        [[ 30,  67, 126],\n",
       "         [ 29,  68, 128],\n",
       "         [ 30,  69, 130],\n",
       "         ...,\n",
       "         [ 32,  72, 132],\n",
       "         [ 31,  70, 130],\n",
       "         [ 30,  69, 127]],\n",
       "\n",
       "        ...,\n",
       "\n",
       "        [[ 39,  41,  76],\n",
       "         [ 38,  42,  76],\n",
       "         [ 38,  44,  78],\n",
       "         ...,\n",
       "         [ 39,  44,  79],\n",
       "         [ 38,  42,  77],\n",
       "         [ 39,  41,  76]],\n",
       "\n",
       "        [[ 40,  39,  73],\n",
       "         [ 39,  40,  74],\n",
       "         [ 39,  41,  76],\n",
       "         ...,\n",
       "         [ 39,  41,  76],\n",
       "         [ 40,  41,  74],\n",
       "         [ 40,  39,  73]],\n",
       "\n",
       "        [[ 40,  39,  70],\n",
       "         [ 40,  39,  71],\n",
       "         [ 40,  39,  72],\n",
       "         ...,\n",
       "         [ 41,  38,  72],\n",
       "         [ 39,  38,  69],\n",
       "         [ 40,  37,  67]]]], dtype=uint8)"
      ]
     },
     "execution_count": 47,
     "metadata": {},
     "output_type": "execute_result"
    }
   ],
   "source": [
    "X_train"
   ]
  },
  {
   "cell_type": "code",
   "execution_count": 48,
   "metadata": {},
   "outputs": [
    {
     "data": {
      "text/plain": [
       "array([28, 18, 71, ..., 28, 23, 36])"
      ]
     },
     "execution_count": 48,
     "metadata": {},
     "output_type": "execute_result"
    }
   ],
   "source": [
    "idx_pred"
   ]
  },
  {
   "cell_type": "markdown",
   "metadata": {},
   "source": [
    "#### Table for classification report and confusion"
   ]
  },
  {
   "cell_type": "code",
   "execution_count": 49,
   "metadata": {
    "colab": {
     "base_uri": "https://localhost:8080/"
    },
    "id": "syeVCARcQIoS",
    "outputId": "49634a4a-0ba7-4956-9f07-c8454d7a472f"
   },
   "outputs": [
    {
     "name": "stdout",
     "output_type": "stream",
     "text": [
      "              precision    recall  f1-score   support\n",
      "\n",
      "           0       0.06      0.05      0.05       125\n",
      "           1       0.01      0.11      0.02         9\n",
      "           2       0.00      0.00      0.00         0\n",
      "           3       0.00      0.00      0.00         0\n",
      "           4       0.00      0.00      0.00         0\n",
      "           5       0.00      0.00      0.00         0\n",
      "           6       0.02      0.03      0.02        63\n",
      "           7       0.00      0.00      0.00         0\n",
      "           8       0.01      0.03      0.02        31\n",
      "           9       0.02      0.03      0.02        65\n",
      "          10       0.00      0.00      0.00         0\n",
      "          11       0.10      0.03      0.04       374\n",
      "          12       0.00      0.00      0.00         0\n",
      "          13       0.00      0.00      0.00         0\n",
      "          14       0.00      0.00      0.00         0\n",
      "          15       0.11      0.02      0.04       501\n",
      "          16       0.00      0.00      0.00         0\n",
      "          17       0.01      0.02      0.01        54\n",
      "          18       0.02      0.03      0.02        66\n",
      "          19       0.00      0.00      0.00         1\n",
      "          20       0.02      1.00      0.04         2\n",
      "          21       0.00      0.00      0.00         5\n",
      "          22       0.00      0.00      0.00         0\n",
      "          23       0.11      0.01      0.02      1071\n",
      "          24       0.02      0.29      0.04         7\n",
      "          25       0.00      0.00      0.00         0\n",
      "          26       0.00      0.00      0.00         0\n",
      "          27       0.00      0.00      0.00        58\n",
      "          28       0.28      0.02      0.04      1259\n",
      "          29       0.01      0.20      0.02         5\n",
      "          30       0.00      0.00      0.00         0\n",
      "          31       0.00      0.00      0.00         0\n",
      "          32       0.00      0.00      0.00         0\n",
      "          33       0.05      0.05      0.05        98\n",
      "          34       0.00      0.00      0.00         0\n",
      "          35       0.01      0.02      0.01        43\n",
      "          36       0.01      0.01      0.01       147\n",
      "          37       0.00      0.00      0.00         0\n",
      "          38       0.00      0.00      0.00         0\n",
      "          39       0.04      0.01      0.01       435\n",
      "          40       0.00      0.00      0.00         0\n",
      "          41       0.00      0.00      0.00         0\n",
      "          42       0.04      0.02      0.03       211\n",
      "          43       0.02      0.02      0.02        81\n",
      "          44       0.00      0.00      0.00         0\n",
      "          45       0.00      0.00      0.00         0\n",
      "          46       0.01      0.02      0.01        63\n",
      "          47       0.08      0.06      0.07       145\n",
      "          48       0.00      0.00      0.00         0\n",
      "          49       0.03      0.01      0.01       431\n",
      "          50       0.01      0.01      0.01       134\n",
      "          51       0.00      0.00      0.00         1\n",
      "          52       0.06      0.14      0.08        44\n",
      "          53       0.00      0.00      0.00         3\n",
      "          54       0.00      0.00      0.00         0\n",
      "          55       0.00      0.00      0.00        25\n",
      "          56       0.01      0.04      0.02        28\n",
      "          57       0.00      0.00      0.00         0\n",
      "          58       0.00      0.00      0.00         0\n",
      "          59       0.00      0.00      0.00        26\n",
      "          60       0.00      0.00      0.00         0\n",
      "          61       0.00      0.00      0.00         0\n",
      "          62       0.00      0.00      0.00         0\n",
      "          63       0.00      0.00      0.00         0\n",
      "          64       0.00      0.00      0.00       175\n",
      "          65       0.00      0.00      0.00         8\n",
      "          66       0.01      0.12      0.02         8\n",
      "          67       0.00      0.00      0.00         0\n",
      "          68       0.00      0.00      0.00         0\n",
      "          69       0.00      0.00      0.00         5\n",
      "          70       0.00      0.00      0.00         4\n",
      "          71       0.69      0.03      0.05      2640\n",
      "          72       0.00      0.00      0.00        17\n",
      "          73       0.17      0.10      0.13       167\n",
      "          74       0.00      0.00      0.00        47\n",
      "          75       0.06      0.09      0.07        64\n",
      "          76       0.00      0.00      0.00        80\n",
      "          77       0.00      0.00      0.00         5\n",
      "          78       0.00      0.00      0.00        21\n",
      "          79       0.00      0.00      0.00         0\n",
      "          80       0.00      0.00      0.00        28\n",
      "          81       0.00      0.00      0.00         0\n",
      "          82       0.02      0.40      0.04         5\n",
      "          83       0.01      0.02      0.01        44\n",
      "          84       0.00      0.00      0.00        39\n",
      "          85       0.00      0.00      0.00         0\n",
      "          86       0.00      0.00      0.00         0\n",
      "          87       0.02      0.01      0.01       180\n",
      "          88       0.00      0.00      0.00         0\n",
      "          89       0.01      0.01      0.01        81\n",
      "          90       0.04      0.03      0.03       150\n",
      "          91       0.00      0.00      0.00         0\n",
      "          92       0.00      0.00      0.00         0\n",
      "          93       0.00      0.00      0.00         0\n",
      "          94       0.00      0.00      0.00         0\n",
      "          95       0.04      0.01      0.01       524\n",
      "          96       0.01      0.04      0.02        23\n",
      "          97       0.05      0.08      0.06        64\n",
      "          98       0.00      0.00      0.00         8\n",
      "          99       0.00      0.00      0.00         2\n",
      "\n",
      "    accuracy                           0.02     10000\n",
      "   macro avg       0.02      0.03      0.01     10000\n",
      "weighted avg       0.25      0.02      0.03     10000\n",
      "\n",
      "\n",
      "Execution Time 236.49190950393677 seconds: \n"
     ]
    },
    {
     "name": "stderr",
     "output_type": "stream",
     "text": [
      "/home/daniel/anaconda3/lib/python3.9/site-packages/sklearn/metrics/_classification.py:1318: UndefinedMetricWarning: Recall and F-score are ill-defined and being set to 0.0 in labels with no true samples. Use `zero_division` parameter to control this behavior.\n",
      "  _warn_prf(average, modifier, msg_start, len(result))\n",
      "/home/daniel/anaconda3/lib/python3.9/site-packages/sklearn/metrics/_classification.py:1318: UndefinedMetricWarning: Recall and F-score are ill-defined and being set to 0.0 in labels with no true samples. Use `zero_division` parameter to control this behavior.\n",
      "  _warn_prf(average, modifier, msg_start, len(result))\n",
      "/home/daniel/anaconda3/lib/python3.9/site-packages/sklearn/metrics/_classification.py:1318: UndefinedMetricWarning: Recall and F-score are ill-defined and being set to 0.0 in labels with no true samples. Use `zero_division` parameter to control this behavior.\n",
      "  _warn_prf(average, modifier, msg_start, len(result))\n"
     ]
    }
   ],
   "source": [
    "sp_cm=confusion_matrix(idx_pred,y_res_fin) ## To obtain the confusion matrix\n",
    "print(classification_report(idx_pred,y_res_fin))\n",
    "\n",
    "print()\n",
    "print(\"Execution Time %s seconds: \" % (time.time() - sp_start_time))"
   ]
  },
  {
   "cell_type": "markdown",
   "metadata": {
    "id": "39Og-GN1QIoS"
   },
   "source": [
    "### Random Forest method"
   ]
  },
  {
   "cell_type": "code",
   "execution_count": 50,
   "metadata": {
    "id": "t3kCns5rQIoS"
   },
   "outputs": [],
   "source": [
    "from sklearn.ensemble import RandomForestClassifier\n",
    "from sklearn.model_selection import cross_val_score\n",
    "\n",
    "rf_start_time = time.time()"
   ]
  },
  {
   "cell_type": "code",
   "execution_count": 51,
   "metadata": {
    "id": "4b3jpDzHQIoS"
   },
   "outputs": [],
   "source": [
    "X_train = X_train.astype('float32')\n",
    "X_test = X_test.astype('float32')"
   ]
  },
  {
   "cell_type": "code",
   "execution_count": 52,
   "metadata": {},
   "outputs": [
    {
     "data": {
      "text/plain": [
       "array([[[[255., 255., 255.],\n",
       "         [255., 255., 255.],\n",
       "         [255., 255., 255.],\n",
       "         ...,\n",
       "         [195., 205., 193.],\n",
       "         [212., 224., 204.],\n",
       "         [182., 194., 167.]],\n",
       "\n",
       "        [[255., 255., 255.],\n",
       "         [254., 254., 254.],\n",
       "         [254., 254., 254.],\n",
       "         ...,\n",
       "         [170., 176., 150.],\n",
       "         [161., 168., 130.],\n",
       "         [146., 154., 113.]],\n",
       "\n",
       "        [[255., 255., 255.],\n",
       "         [254., 254., 254.],\n",
       "         [255., 255., 255.],\n",
       "         ...,\n",
       "         [189., 199., 169.],\n",
       "         [166., 178., 130.],\n",
       "         [121., 133.,  87.]],\n",
       "\n",
       "        ...,\n",
       "\n",
       "        [[148., 185.,  79.],\n",
       "         [142., 182.,  57.],\n",
       "         [140., 179.,  60.],\n",
       "         ...,\n",
       "         [ 30.,  17.,   1.],\n",
       "         [ 65.,  62.,  15.],\n",
       "         [ 76.,  77.,  20.]],\n",
       "\n",
       "        [[122., 157.,  66.],\n",
       "         [120., 155.,  58.],\n",
       "         [126., 160.,  71.],\n",
       "         ...,\n",
       "         [ 22.,  16.,   3.],\n",
       "         [ 97., 112.,  56.],\n",
       "         [141., 161.,  87.]],\n",
       "\n",
       "        [[ 87., 122.,  41.],\n",
       "         [ 88., 122.,  39.],\n",
       "         [101., 134.,  56.],\n",
       "         ...,\n",
       "         [ 34.,  36.,  10.],\n",
       "         [105., 133.,  59.],\n",
       "         [138., 173.,  79.]]],\n",
       "\n",
       "\n",
       "       [[[255., 255., 255.],\n",
       "         [253., 253., 253.],\n",
       "         [253., 253., 253.],\n",
       "         ...,\n",
       "         [253., 253., 253.],\n",
       "         [253., 253., 253.],\n",
       "         [255., 255., 255.]],\n",
       "\n",
       "        [[255., 255., 255.],\n",
       "         [255., 255., 255.],\n",
       "         [255., 255., 255.],\n",
       "         ...,\n",
       "         [255., 255., 255.],\n",
       "         [255., 255., 255.],\n",
       "         [255., 255., 255.]],\n",
       "\n",
       "        [[255., 255., 255.],\n",
       "         [255., 255., 255.],\n",
       "         [255., 255., 255.],\n",
       "         ...,\n",
       "         [255., 255., 255.],\n",
       "         [255., 255., 255.],\n",
       "         [255., 255., 255.]],\n",
       "\n",
       "        ...,\n",
       "\n",
       "        [[255., 255., 255.],\n",
       "         [255., 255., 255.],\n",
       "         [255., 255., 255.],\n",
       "         ...,\n",
       "         [255., 255., 255.],\n",
       "         [255., 255., 255.],\n",
       "         [255., 255., 255.]],\n",
       "\n",
       "        [[255., 255., 255.],\n",
       "         [255., 255., 255.],\n",
       "         [255., 255., 255.],\n",
       "         ...,\n",
       "         [255., 255., 255.],\n",
       "         [255., 255., 255.],\n",
       "         [255., 255., 255.]],\n",
       "\n",
       "        [[255., 255., 255.],\n",
       "         [253., 253., 253.],\n",
       "         [253., 253., 253.],\n",
       "         ...,\n",
       "         [253., 253., 253.],\n",
       "         [253., 253., 253.],\n",
       "         [255., 255., 255.]]],\n",
       "\n",
       "\n",
       "       [[[250., 250., 248.],\n",
       "         [248., 249., 243.],\n",
       "         [247., 248., 239.],\n",
       "         ...,\n",
       "         [250., 250., 246.],\n",
       "         [250., 250., 246.],\n",
       "         [249., 250., 246.]],\n",
       "\n",
       "        [[250., 251., 245.],\n",
       "         [248., 249., 238.],\n",
       "         [247., 247., 234.],\n",
       "         ...,\n",
       "         [251., 251., 242.],\n",
       "         [251., 252., 243.],\n",
       "         [250., 251., 243.]],\n",
       "\n",
       "        [[251., 251., 244.],\n",
       "         [250., 248., 237.],\n",
       "         [250., 245., 233.],\n",
       "         ...,\n",
       "         [250., 249., 238.],\n",
       "         [250., 249., 240.],\n",
       "         [250., 249., 242.]],\n",
       "\n",
       "        ...,\n",
       "\n",
       "        [[221., 213., 191.],\n",
       "         [221., 206., 176.],\n",
       "         [225., 207., 181.],\n",
       "         ...,\n",
       "         [199., 176., 134.],\n",
       "         [207., 193., 165.],\n",
       "         [233., 229., 226.]],\n",
       "\n",
       "        [[225., 223., 204.],\n",
       "         [227., 219., 196.],\n",
       "         [229., 216., 200.],\n",
       "         ...,\n",
       "         [204., 185., 151.],\n",
       "         [212., 201., 180.],\n",
       "         [234., 232., 228.]],\n",
       "\n",
       "        [[233., 233., 226.],\n",
       "         [234., 232., 224.],\n",
       "         [235., 230., 225.],\n",
       "         ...,\n",
       "         [219., 209., 194.],\n",
       "         [223., 216., 207.],\n",
       "         [232., 230., 228.]]],\n",
       "\n",
       "\n",
       "       ...,\n",
       "\n",
       "\n",
       "       [[[248., 244., 242.],\n",
       "         [240., 232., 223.],\n",
       "         [236., 232., 223.],\n",
       "         ...,\n",
       "         [233., 229., 222.],\n",
       "         [230., 228., 222.],\n",
       "         [238., 237., 233.]],\n",
       "\n",
       "        [[225., 213., 204.],\n",
       "         [186., 167., 149.],\n",
       "         [175., 159., 140.],\n",
       "         ...,\n",
       "         [163., 148., 134.],\n",
       "         [156., 144., 133.],\n",
       "         [192., 184., 176.]],\n",
       "\n",
       "        [[209., 194., 179.],\n",
       "         [144., 120.,  95.],\n",
       "         [139., 115.,  87.],\n",
       "         ...,\n",
       "         [109.,  86.,  67.],\n",
       "         [109.,  90.,  76.],\n",
       "         [157., 145., 135.]],\n",
       "\n",
       "        ...,\n",
       "\n",
       "        [[161., 159., 153.],\n",
       "         [ 39.,  34.,  28.],\n",
       "         [ 28.,  20.,  14.],\n",
       "         ...,\n",
       "         [ 93.,  72.,  53.],\n",
       "         [ 85.,  67.,  50.],\n",
       "         [136., 126., 115.]],\n",
       "\n",
       "        [[181., 179., 172.],\n",
       "         [ 86.,  83.,  77.],\n",
       "         [ 71.,  68.,  62.],\n",
       "         ...,\n",
       "         [122., 103.,  89.],\n",
       "         [105.,  92.,  82.],\n",
       "         [151., 145., 141.]],\n",
       "\n",
       "        [[224., 223., 218.],\n",
       "         [180., 180., 175.],\n",
       "         [173., 172., 167.],\n",
       "         ...,\n",
       "         [196., 187., 180.],\n",
       "         [183., 178., 174.],\n",
       "         [204., 205., 205.]]],\n",
       "\n",
       "\n",
       "       [[[156., 154., 137.],\n",
       "         [151., 146., 123.],\n",
       "         [151., 144., 125.],\n",
       "         ...,\n",
       "         [155., 150., 129.],\n",
       "         [152., 148., 125.],\n",
       "         [186., 184., 163.]],\n",
       "\n",
       "        [[110., 106.,  77.],\n",
       "         [116., 108.,  62.],\n",
       "         [114., 101.,  57.],\n",
       "         ...,\n",
       "         [116., 106.,  61.],\n",
       "         [111., 103.,  56.],\n",
       "         [134., 129.,  92.]],\n",
       "\n",
       "        [[116., 112.,  82.],\n",
       "         [124., 118.,  66.],\n",
       "         [128., 118.,  67.],\n",
       "         ...,\n",
       "         [ 99.,  84.,  43.],\n",
       "         [101.,  87.,  43.],\n",
       "         [129., 118.,  86.]],\n",
       "\n",
       "        ...,\n",
       "\n",
       "        [[109., 101.,  74.],\n",
       "         [112., 100.,  54.],\n",
       "         [118., 105.,  62.],\n",
       "         ...,\n",
       "         [126., 113.,  65.],\n",
       "         [126., 111.,  61.],\n",
       "         [138., 124.,  89.]],\n",
       "\n",
       "        [[ 98.,  92.,  63.],\n",
       "         [ 93.,  82.,  35.],\n",
       "         [ 96.,  83.,  38.],\n",
       "         ...,\n",
       "         [112.,  96.,  47.],\n",
       "         [109.,  92.,  45.],\n",
       "         [127., 113.,  80.]],\n",
       "\n",
       "        [[170., 167., 145.],\n",
       "         [160., 153., 118.],\n",
       "         [163., 152., 119.],\n",
       "         ...,\n",
       "         [161., 151., 114.],\n",
       "         [156., 144., 107.],\n",
       "         [163., 154., 126.]]],\n",
       "\n",
       "\n",
       "       [[[ 31.,  67., 122.],\n",
       "         [ 30.,  68., 124.],\n",
       "         [ 31.,  69., 126.],\n",
       "         ...,\n",
       "         [ 32.,  70., 129.],\n",
       "         [ 32.,  70., 125.],\n",
       "         [ 32.,  69., 122.]],\n",
       "\n",
       "        [[ 29.,  68., 126.],\n",
       "         [ 28.,  69., 128.],\n",
       "         [ 30.,  69., 130.],\n",
       "         ...,\n",
       "         [ 32.,  70., 131.],\n",
       "         [ 32.,  69., 127.],\n",
       "         [ 31.,  69., 124.]],\n",
       "\n",
       "        [[ 30.,  67., 126.],\n",
       "         [ 29.,  68., 128.],\n",
       "         [ 30.,  69., 130.],\n",
       "         ...,\n",
       "         [ 32.,  72., 132.],\n",
       "         [ 31.,  70., 130.],\n",
       "         [ 30.,  69., 127.]],\n",
       "\n",
       "        ...,\n",
       "\n",
       "        [[ 39.,  41.,  76.],\n",
       "         [ 38.,  42.,  76.],\n",
       "         [ 38.,  44.,  78.],\n",
       "         ...,\n",
       "         [ 39.,  44.,  79.],\n",
       "         [ 38.,  42.,  77.],\n",
       "         [ 39.,  41.,  76.]],\n",
       "\n",
       "        [[ 40.,  39.,  73.],\n",
       "         [ 39.,  40.,  74.],\n",
       "         [ 39.,  41.,  76.],\n",
       "         ...,\n",
       "         [ 39.,  41.,  76.],\n",
       "         [ 40.,  41.,  74.],\n",
       "         [ 40.,  39.,  73.]],\n",
       "\n",
       "        [[ 40.,  39.,  70.],\n",
       "         [ 40.,  39.,  71.],\n",
       "         [ 40.,  39.,  72.],\n",
       "         ...,\n",
       "         [ 41.,  38.,  72.],\n",
       "         [ 39.,  38.,  69.],\n",
       "         [ 40.,  37.,  67.]]]], dtype=float32)"
      ]
     },
     "execution_count": 52,
     "metadata": {},
     "output_type": "execute_result"
    }
   ],
   "source": [
    "X_train"
   ]
  },
  {
   "cell_type": "code",
   "execution_count": 53,
   "metadata": {
    "colab": {
     "base_uri": "https://localhost:8080/"
    },
    "id": "UzMMB0HBQIoT",
    "outputId": "6f031e75-5863-4952-fbdd-effc19ca4f9a"
   },
   "outputs": [
    {
     "name": "stdout",
     "output_type": "stream",
     "text": [
      "50000 train samples\n",
      "10000 test samples\n"
     ]
    }
   ],
   "source": [
    "print(X_train.shape[0], 'train samples')\n",
    "print(X_test.shape[0], 'test samples')"
   ]
  },
  {
   "cell_type": "code",
   "execution_count": 54,
   "metadata": {
    "id": "I9Xd6zqgQIoT"
   },
   "outputs": [],
   "source": [
    "# fit a RandomForest model to the data\n",
    "model = RandomForestClassifier(n_estimators = 10)"
   ]
  },
  {
   "cell_type": "code",
   "execution_count": 55,
   "metadata": {
    "colab": {
     "base_uri": "https://localhost:8080/"
    },
    "id": "BWjsuYW2QIoT",
    "outputId": "fc6f4d40-9809-46cb-d8eb-d7545357ac24"
   },
   "outputs": [
    {
     "name": "stderr",
     "output_type": "stream",
     "text": [
      "/tmp/ipykernel_6792/1871835677.py:1: DataConversionWarning: A column-vector y was passed when a 1d array was expected. Please change the shape of y to (n_samples,), for example using ravel().\n",
      "  model.fit(X_train_rshp, Y_train)\n"
     ]
    },
    {
     "name": "stdout",
     "output_type": "stream",
     "text": [
      "RandomForestClassifier(n_estimators=10)\n"
     ]
    }
   ],
   "source": [
    "model.fit(X_train_rshp, Y_train)\n",
    "print(model)"
   ]
  },
  {
   "cell_type": "code",
   "execution_count": 56,
   "metadata": {
    "colab": {
     "base_uri": "https://localhost:8080/"
    },
    "id": "x03DF0gkQIoT",
    "outputId": "03d57b0c-dc84-462f-bb36-9fe8eac166b8"
   },
   "outputs": [
    {
     "name": "stderr",
     "output_type": "stream",
     "text": [
      "[Parallel(n_jobs=-1)]: Using backend LokyBackend with 8 concurrent workers.\n",
      "/home/daniel/anaconda3/lib/python3.9/site-packages/sklearn/model_selection/_validation.py:680: DataConversionWarning: A column-vector y was passed when a 1d array was expected. Please change the shape of y to (n_samples,), for example using ravel().\n",
      "  estimator.fit(X_train, y_train, **fit_params)\n",
      "/home/daniel/anaconda3/lib/python3.9/site-packages/sklearn/model_selection/_validation.py:680: DataConversionWarning: A column-vector y was passed when a 1d array was expected. Please change the shape of y to (n_samples,), for example using ravel().\n",
      "  estimator.fit(X_train, y_train, **fit_params)\n"
     ]
    },
    {
     "name": "stdout",
     "output_type": "stream",
     "text": [
      "\n",
      "[0.10508 0.10592]\n"
     ]
    },
    {
     "name": "stderr",
     "output_type": "stream",
     "text": [
      "[Parallel(n_jobs=-1)]: Done   2 out of   2 | elapsed:   30.0s remaining:    0.0s\n",
      "[Parallel(n_jobs=-1)]: Done   2 out of   2 | elapsed:   30.0s finished\n"
     ]
    }
   ],
   "source": [
    "cv_results = cross_val_score(model, X_train_rshp, Y_train,\n",
    "                cv = 2, scoring='accuracy', n_jobs = -1, verbose = 1)\n",
    "\n",
    "#model.fit(X_train, Y_train)\n",
    "\n",
    "print(); print(cv_results)\n",
    "#print(); print(model)"
   ]
  },
  {
   "cell_type": "code",
   "execution_count": 57,
   "metadata": {
    "id": "jdDGmspnQIoT"
   },
   "outputs": [],
   "source": [
    "# make predictions\n",
    "expected_y  = Y_test\n",
    "predicted_y = model.predict(X_test_rshp)"
   ]
  },
  {
   "cell_type": "code",
   "execution_count": 58,
   "metadata": {},
   "outputs": [
    {
     "data": {
      "text/plain": [
       "array([[199, 215, 249, ..., 176, 164, 183],\n",
       "       [113, 130,  98, ...,  84,  92,  67],\n",
       "       [ 61,  90, 120, ..., 134,  98,  89],\n",
       "       ...,\n",
       "       [ 24,  38,  31, ...,  60,  94,  54],\n",
       "       [ 86,  90,  80, ..., 120, 117, 109],\n",
       "       [246, 246, 242, ..., 146, 182, 118]], dtype=uint8)"
      ]
     },
     "execution_count": 58,
     "metadata": {},
     "output_type": "execute_result"
    }
   ],
   "source": [
    "X_test_rshp"
   ]
  },
  {
   "cell_type": "code",
   "execution_count": 59,
   "metadata": {},
   "outputs": [
    {
     "data": {
      "text/plain": [
       "(10000, 3072)"
      ]
     },
     "execution_count": 59,
     "metadata": {},
     "output_type": "execute_result"
    }
   ],
   "source": [
    "X_test_rshp.shape"
   ]
  },
  {
   "cell_type": "code",
   "execution_count": 60,
   "metadata": {
    "colab": {
     "base_uri": "https://localhost:8080/"
    },
    "id": "KoY8EhXtQIoT",
    "outputId": "a203eb8f-c269-46b1-a489-d49b57490ba3"
   },
   "outputs": [
    {
     "name": "stdout",
     "output_type": "stream",
     "text": [
      "[17 27  1]\n"
     ]
    }
   ],
   "source": [
    "print(predicted_y[0:3])"
   ]
  },
  {
   "cell_type": "markdown",
   "metadata": {},
   "source": [
    "#### Table for classification report and confusion"
   ]
  },
  {
   "cell_type": "code",
   "execution_count": 61,
   "metadata": {
    "colab": {
     "base_uri": "https://localhost:8080/"
    },
    "id": "CNrKwEfVQIoT",
    "outputId": "86ff2b51-0a0b-4f38-b1df-b5540ca590c4"
   },
   "outputs": [
    {
     "name": "stdout",
     "output_type": "stream",
     "text": [
      "\n",
      "              precision    recall  f1-score   support\n",
      "\n",
      "           0       0.12      0.45      0.18       100\n",
      "           1       0.08      0.33      0.13       100\n",
      "           2       0.03      0.13      0.05       100\n",
      "           3       0.04      0.15      0.06       100\n",
      "           4       0.03      0.10      0.05       100\n",
      "           5       0.02      0.06      0.03       100\n",
      "           6       0.04      0.11      0.05       100\n",
      "           7       0.04      0.10      0.06       100\n",
      "           8       0.06      0.17      0.09       100\n",
      "           9       0.17      0.34      0.22       100\n",
      "          10       0.02      0.04      0.03       100\n",
      "          11       0.05      0.09      0.07       100\n",
      "          12       0.07      0.15      0.10       100\n",
      "          13       0.01      0.02      0.02       100\n",
      "          14       0.06      0.07      0.06       100\n",
      "          15       0.01      0.01      0.01       100\n",
      "          16       0.16      0.21      0.18       100\n",
      "          17       0.15      0.24      0.18       100\n",
      "          18       0.05      0.05      0.05       100\n",
      "          19       0.04      0.04      0.04       100\n",
      "          20       0.27      0.40      0.32       100\n",
      "          21       0.10      0.10      0.10       100\n",
      "          22       0.18      0.19      0.19       100\n",
      "          23       0.24      0.34      0.28       100\n",
      "          24       0.35      0.42      0.38       100\n",
      "          25       0.11      0.08      0.09       100\n",
      "          26       0.12      0.09      0.10       100\n",
      "          27       0.07      0.07      0.07       100\n",
      "          28       0.24      0.17      0.20       100\n",
      "          29       0.17      0.11      0.13       100\n",
      "          30       0.17      0.19      0.18       100\n",
      "          31       0.06      0.04      0.05       100\n",
      "          32       0.12      0.08      0.10       100\n",
      "          33       0.09      0.07      0.08       100\n",
      "          34       0.09      0.05      0.06       100\n",
      "          35       0.00      0.00      0.00       100\n",
      "          36       0.15      0.10      0.12       100\n",
      "          37       0.07      0.04      0.05       100\n",
      "          38       0.05      0.04      0.04       100\n",
      "          39       0.23      0.14      0.18       100\n",
      "          40       0.23      0.13      0.17       100\n",
      "          41       0.59      0.38      0.46       100\n",
      "          42       0.09      0.06      0.07       100\n",
      "          43       0.09      0.05      0.06       100\n",
      "          44       0.05      0.03      0.04       100\n",
      "          45       0.04      0.02      0.03       100\n",
      "          46       0.05      0.02      0.03       100\n",
      "          47       0.21      0.23      0.22       100\n",
      "          48       0.27      0.12      0.17       100\n",
      "          49       0.14      0.13      0.14       100\n",
      "          50       0.02      0.01      0.01       100\n",
      "          51       0.12      0.07      0.09       100\n",
      "          52       0.35      0.47      0.40       100\n",
      "          53       0.42      0.41      0.41       100\n",
      "          54       0.11      0.04      0.06       100\n",
      "          55       0.04      0.03      0.04       100\n",
      "          56       0.18      0.10      0.13       100\n",
      "          57       0.14      0.08      0.10       100\n",
      "          58       0.02      0.01      0.01       100\n",
      "          59       0.13      0.09      0.11       100\n",
      "          60       0.47      0.53      0.50       100\n",
      "          61       0.32      0.30      0.31       100\n",
      "          62       0.32      0.28      0.30       100\n",
      "          63       0.20      0.14      0.16       100\n",
      "          64       0.05      0.03      0.04       100\n",
      "          65       0.04      0.02      0.03       100\n",
      "          66       0.05      0.02      0.03       100\n",
      "          67       0.15      0.11      0.13       100\n",
      "          68       0.31      0.27      0.29       100\n",
      "          69       0.21      0.14      0.17       100\n",
      "          70       0.22      0.17      0.19       100\n",
      "          71       0.27      0.25      0.26       100\n",
      "          72       0.07      0.03      0.04       100\n",
      "          73       0.28      0.24      0.26       100\n",
      "          74       0.06      0.03      0.04       100\n",
      "          75       0.38      0.20      0.26       100\n",
      "          76       0.23      0.17      0.20       100\n",
      "          77       0.03      0.01      0.01       100\n",
      "          78       0.03      0.01      0.01       100\n",
      "          79       0.05      0.02      0.03       100\n",
      "          80       0.08      0.05      0.06       100\n",
      "          81       0.10      0.04      0.06       100\n",
      "          82       0.41      0.29      0.34       100\n",
      "          83       0.21      0.08      0.12       100\n",
      "          84       0.18      0.06      0.09       100\n",
      "          85       0.21      0.10      0.14       100\n",
      "          86       0.33      0.19      0.24       100\n",
      "          87       0.21      0.08      0.12       100\n",
      "          88       0.07      0.03      0.04       100\n",
      "          89       0.06      0.02      0.03       100\n",
      "          90       0.06      0.03      0.04       100\n",
      "          91       0.33      0.22      0.27       100\n",
      "          92       0.12      0.07      0.09       100\n",
      "          93       0.08      0.04      0.05       100\n",
      "          94       0.25      0.11      0.15       100\n",
      "          95       0.31      0.23      0.26       100\n",
      "          96       0.11      0.06      0.08       100\n",
      "          97       0.07      0.03      0.04       100\n",
      "          98       0.06      0.02      0.03       100\n",
      "          99       0.18      0.11      0.14       100\n",
      "\n",
      "    accuracy                           0.13     10000\n",
      "   macro avg       0.15      0.13      0.13     10000\n",
      "weighted avg       0.15      0.13      0.13     10000\n",
      "\n",
      "\n",
      "Execution Time 88.24213671684265 seconds: \n"
     ]
    }
   ],
   "source": [
    "# summarize the fit of the model\n",
    "print(); print(classification_report(expected_y, predicted_y))\n",
    "#print(); print(metrics.confusion_matrix(expected_y, predicted_y))\n",
    "\n",
    "print()\n",
    "print(\"Execution Time %s seconds: \" % (time.time() - rf_start_time))   "
   ]
  },
  {
   "cell_type": "code",
   "execution_count": 62,
   "metadata": {
    "colab": {
     "base_uri": "https://localhost:8080/"
    },
    "id": "9-qCrHEKQIoT",
    "outputId": "ffce2ed9-efa7-4485-de4a-17524398651b"
   },
   "outputs": [
    {
     "data": {
      "text/plain": [
       "array([[45,  1,  6, ...,  3,  7,  2],\n",
       "       [ 1, 33,  6, ...,  4,  3,  2],\n",
       "       [ 2,  2, 13, ...,  5,  5,  6],\n",
       "       ...,\n",
       "       [ 0,  0,  0, ...,  3,  1,  0],\n",
       "       [ 0,  0,  1, ...,  0,  2,  0],\n",
       "       [ 0,  0,  2, ...,  0,  0, 11]])"
      ]
     },
     "execution_count": 62,
     "metadata": {},
     "output_type": "execute_result"
    }
   ],
   "source": [
    "rf_cm=confusion_matrix(predicted_y,Y_test) ## To obtain the confusion matrix\n",
    "rf_cm"
   ]
  },
  {
   "cell_type": "code",
   "execution_count": 63,
   "metadata": {
    "colab": {
     "base_uri": "https://localhost:8080/"
    },
    "id": "WVMHRMgwQIoT",
    "outputId": "f580fd5e-89be-4b9d-c343-e277d0adea49"
   },
   "outputs": [
    {
     "data": {
      "text/plain": [
       "array([17, 27,  1, ..., 51,  5, 41])"
      ]
     },
     "execution_count": 63,
     "metadata": {},
     "output_type": "execute_result"
    }
   ],
   "source": [
    "predicted_y"
   ]
  }
 ],
 "metadata": {
  "colab": {
   "name": "10-Comparison.ipynb",
   "provenance": []
  },
  "kernelspec": {
   "display_name": "Python 3 (ipykernel)",
   "language": "python",
   "name": "python3"
  },
  "language_info": {
   "codemirror_mode": {
    "name": "ipython",
    "version": 3
   },
   "file_extension": ".py",
   "mimetype": "text/x-python",
   "name": "python",
   "nbconvert_exporter": "python",
   "pygments_lexer": "ipython3",
   "version": "3.9.12"
  },
  "toc": {
   "base_numbering": 1,
   "nav_menu": {},
   "number_sections": true,
   "sideBar": true,
   "skip_h1_title": false,
   "title_cell": "Table of Contents",
   "title_sidebar": "Contents",
   "toc_cell": false,
   "toc_position": {},
   "toc_section_display": true,
   "toc_window_display": false
  },
  "vscode": {
   "interpreter": {
    "hash": "0ad57050c77180dc9ed5ccc7774a474d285089782a3b5193155c6c81d567ba30"
   }
  }
 },
 "nbformat": 4,
 "nbformat_minor": 1
}
