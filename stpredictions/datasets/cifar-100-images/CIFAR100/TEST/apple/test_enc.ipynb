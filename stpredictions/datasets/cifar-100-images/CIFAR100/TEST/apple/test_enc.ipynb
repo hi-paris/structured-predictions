{
 "cells": [
  {
   "cell_type": "code",
   "execution_count": 1,
   "metadata": {},
   "outputs": [
    {
     "name": "stdout",
     "output_type": "stream",
     "text": [
      "b'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'\n"
     ]
    }
   ],
   "source": [
    "import base64\n",
    "\n",
    "with open(\"apple_s_000022.png\", \"rb\") as img_file:\n",
    "    b64_string = base64.b64encode(img_file.read())\n",
    "print(b64_string)"
   ]
  }
 ],
 "metadata": {
  "kernelspec": {
   "display_name": "Python 3.8.10 64-bit",
   "language": "python",
   "name": "python3"
  },
  "language_info": {
   "codemirror_mode": {
    "name": "ipython",
    "version": 3
   },
   "file_extension": ".py",
   "mimetype": "text/x-python",
   "name": "python",
   "nbconvert_exporter": "python",
   "pygments_lexer": "ipython3",
   "version": "3.8.10"
  },
  "orig_nbformat": 4,
  "vscode": {
   "interpreter": {
    "hash": "916dbcbb3f70747c44a77c7bcd40155683ae19c65e1c03b4aa3499c5328201f1"
   }
  }
 },
 "nbformat": 4,
 "nbformat_minor": 2
}
